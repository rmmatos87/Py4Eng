{
 "cells": [
  {
   "cell_type": "markdown",
   "metadata": {
    "id": "qYVkFxCejXyC"
   },
   "source": [
    "<img src='https://camo.githubusercontent.com/175fa296ff3ddb5a764a788aee45420ba6189ff2dfa28076122797af89599599/68747470733a2f2f64726976652e676f6f676c652e636f6d2f75633f6578706f72743d766965772669643d3153415142706f71477a42354354396c77786a3154306830715655357036736457' width=200 style=\"float:center\">\n",
    "\n",
    "# Pandas\n",
    "---\n",
    "**Índice:**\n",
    "1. [Introdução](#I.-Introdução)\n",
    "2. [Objetos](#II.-Objetos)\n",
    "3. [Seleção](#III.-Seleção)\n",
    "4. [Operações](#IV.-Operações)\n",
    "5. [Junção de dados](#V.-Junção-de-dados)\n",
    "6. [Agrupamento](#VI.-Agrupamento)\n",
    "7. [Reformatando](#VII.-Reformatando)\n",
    "8. [Séries temporais](#VIII.-Séries-temporais)\n",
    "9. [Categorização](#IX.-Categorização)\n",
    "10. [Gráficos](#X.-Gráficos)\n",
    "11. [Entrada e saída de dados](#XI.-Entrada-e-saída-de-dados)\n",
    "12. [Outros problemas](#XII.-Outros-problemas)\n",
    "\n",
    "<img src=\"https://images.all-free-download.com/images/graphiclarge/laurent_panda_point_d_interrogation_clip_art_19227.jpg\" style=\"float:left\" width=100pt></img>\n",
    "**Fontes:**\n",
    "* [Pandas Documentation](https://pandas.pydata.org/docs/)\n",
    "* [Pandas User Guide](https://pandas.pydata.org/docs/user_guide/index.html)\n",
    "* [Pandas Getting Started](https://pandas.pydata.org/docs/getting_started/index.html)\n",
    "* [10 minutes to pandas](https://pandas.pydata.org/docs/user_guide/10min.html)\n",
    "* [Bancos de dados](https://pt.wikipedia.org/wiki/Banco_de_dados) (para aprimorar os conhecimentos)\n",
    "    * [SQL](https://www.w3schools.com/sql/default.asp)"
   ]
  },
  {
   "cell_type": "code",
   "execution_count": 1,
   "metadata": {},
   "outputs": [
    {
     "data": {
      "text/html": [
       "<iframe width=\"560\" height=\"315\" src=\"https://www.youtube.com/embed/videoseries?list=PLdI5ScTnQlX_giV-8vTYgMrZ7JdFBRFeD\" title=\"YouTube video player\" frameborder=\"0\" allow=\"accelerometer; autoplay; clipboard-write; encrypted-media; gyroscope; picture-in-picture\" allowfullscreen></iframe>\n"
      ],
      "text/plain": [
       "<IPython.core.display.HTML object>"
      ]
     },
     "metadata": {},
     "output_type": "display_data"
    }
   ],
   "source": [
    "%%HTML\n",
    "<iframe width=\"560\" height=\"315\" src=\"https://www.youtube.com/embed/videoseries?list=PLdI5ScTnQlX_giV-8vTYgMrZ7JdFBRFeD\" title=\"YouTube video player\" frameborder=\"0\" allow=\"accelerometer; autoplay; clipboard-write; encrypted-media; gyroscope; picture-in-picture\" allowfullscreen></iframe>"
   ]
  },
  {
   "cell_type": "markdown",
   "metadata": {
    "id": "XWkVDWC16w4e"
   },
   "source": [
    "## I. Introdução\n",
    "---\n",
    "**Vídeo:** https://youtu.be/0nF8mkVdc1c\n",
    "\n",
    "A ideia da biblioteca Pandas é realizar operações rápidas em um uma estrutura de dados como um banco de dados ou uma planilha.\n",
    "\n",
    "O Pandas utiliza muito do processamento e das características do NumPy.\n",
    "\n",
    "> **Dicas:**\n",
    "* Biblioteca é exetremamente vasta, sempre estude um pouco mais para conhecer novos métodos.\n",
    "* *Não se deixe empacar por algum método do Pandas que você não está conseguindo utilizar*, existirá outras *N* formas de resolver o mesmo problema utilizando outros métodos.\n",
    "* É interessante começar a estudar um pouco sobre **banco de dados**, pois muito  do que o Pandas é capaz de fazer está relacionado com operações que são realizadas nessas estruturas."
   ]
  },
  {
   "cell_type": "markdown",
   "metadata": {
    "id": "8rECpkFU6Uz_"
   },
   "source": [
    "Importação de bibliotecas."
   ]
  },
  {
   "cell_type": "code",
   "execution_count": null,
   "metadata": {
    "id": "AvYyRMWH6w4h"
   },
   "outputs": [],
   "source": [
    "import matplotlib.pyplot as plt\n",
    "import numpy as np\n",
    "import pandas as pd"
   ]
  },
  {
   "cell_type": "markdown",
   "metadata": {
    "id": "a-xtrJg_6w4-"
   },
   "source": [
    "## II. Objetos\n",
    "---\n",
    "**Índice**\n",
    "1. [Series](#1-Series)\n",
    "2. [DataFrame](#2-DataFrame)\n",
    "3. [Index](#3-Index)\n",
    "\n",
    "**Fontes:**\n",
    "* [Data Structure Intro section](https://pandas.pydata.org/docs/user_guide/dsintro.html#dsintro).\n"
   ]
  },
  {
   "cell_type": "markdown",
   "metadata": {
    "id": "qhVzd0Rn6w4_"
   },
   "source": [
    "### 1 Series\n",
    "**Vídeo:** https://youtu.be/KJS8gNM8yV4\n",
    "\n",
    "Um objeto `pd.Series` retrata um np.ndarray 1-D com índices nomeados.\n",
    "\n",
    "```python\n",
    "pd.Series(\n",
    "    data=None,     # Dados de entrada: array-like, Iterable, dict ou scalar value\n",
    "    index=None,    # Índice: array-like ou Index (1-D)\n",
    "    dtype=None,    # Tipo dos dados, opcional: str, np.dtype ou ExtentionDtype\n",
    "    name=None,     # Nome da série, opcional: str\n",
    "    copy=False,    # Se deve copiar os dados de \"data\": bool\n",
    ")\n",
    "```"
   ]
  },
  {
   "cell_type": "markdown",
   "metadata": {
    "id": "Dx9a1rWJ2GV1"
   },
   "source": [
    "Criando um [`pd.Series`](https://pandas.pydata.org/pandas-docs/stable/reference/api/pandas.Series.html#pandas.Series) com uma lista de valores. O pandas criará o índice com inteiros:"
   ]
  },
  {
   "cell_type": "code",
   "execution_count": null,
   "metadata": {
    "id": "Mwe0gsqa6w5A"
   },
   "outputs": [],
   "source": [
    "s = pd.Series([1, 3, 5, np.nan, 6, 8], index=list('abcdef'), name='Serie1')\n",
    "s"
   ]
  },
  {
   "cell_type": "markdown",
   "metadata": {
    "id": "1nMkKeSxQkUX"
   },
   "source": [
    "#### Exercício 1\n",
    "Crie dois objeto Series distintos:\n",
    "* nome das variáveis: `s1_ex01` e `s2_ex01`\n",
    "* nomeados,\n",
    "* com valores inteiros aleatórios de distribuição uniforme,\n",
    "* tamanho 10\n",
    "* índice 0 a 9"
   ]
  },
  {
   "cell_type": "code",
   "execution_count": null,
   "metadata": {
    "id": "BBypeRdGRUBF"
   },
   "outputs": [],
   "source": []
  },
  {
   "cell_type": "markdown",
   "metadata": {
    "id": "a4CAXLgG6w5T"
   },
   "source": [
    "### 2 DataFrame\n",
    "**Vídeo:** https://youtu.be/KJS8gNM8yV4\n",
    "\n",
    "* Dados tabelados em duas dimensões,\n",
    "* possivelmente heterogêneos,\n",
    "* linhas e colunas nomeadas,\n",
    "* operações aritméticas em linhas ou colunas\n",
    "* Pode ser imaginado como um `dict` de `pd.Series`.\n",
    "\n",
    "```python\n",
    "pd.DataFrame(\n",
    "    data=None,    # ndarray (structured or homogeneous), Iterable, dict, or DataFrame\n",
    "    index=None,   # Index ou array-like, padrão: RangeIndex\n",
    "                  # Índice das linhas\n",
    "    columns=None, # Index ou array-like\n",
    "                  # Cabeçalho (índice) das colunas\n",
    "    dtype=None,   # dtype\n",
    "                  # Força o tipo de dado. Se None, infere.\n",
    ")\n",
    "```"
   ]
  },
  {
   "cell_type": "markdown",
   "metadata": {
    "id": "_MJdq5lR6w5I"
   },
   "source": [
    "#### Criando um [`DataFrame`](https://pandas.pydata.org/pandas-docs/stable/reference/api/pandas.DataFrame.html#pandas.DataFrame)\n"
   ]
  },
  {
   "cell_type": "markdown",
   "metadata": {
    "id": "OFhU10Ay5Wii"
   },
   "source": [
    "Com colunas nomeadas e índice definido:\n",
    "\n",
    "Entradas:\n",
    "* NumPy array (np.array),\n",
    "* datetime (será o índice)."
   ]
  },
  {
   "cell_type": "code",
   "execution_count": null,
   "metadata": {
    "id": "3ixEZMjn6w5a"
   },
   "outputs": [],
   "source": [
    "df = pd.DataFrame(np.random.randn(6, 4), columns=list('ABCD'))\n",
    "df"
   ]
  },
  {
   "cell_type": "markdown",
   "metadata": {
    "id": "H-Hetq2Y6w5j"
   },
   "source": [
    "`pd.DataFrame` de um `dict`\n",
    "\n",
    "*O `dict` deve conter objetos que podem ser convertidos em series-like*."
   ]
  },
  {
   "cell_type": "code",
   "execution_count": null,
   "metadata": {
    "id": "j_L5IU7a6w5k"
   },
   "outputs": [],
   "source": [
    "df2 = pd.DataFrame(\n",
    "    {'A': 1.,\n",
    "     'B': pd.Timestamp('20130102'),\n",
    "     'C': pd.Series(1, index=list(range(4)), dtype='float32'),\n",
    "     'D': np.array([3] * 4, dtype='int32'),\n",
    "     'E': pd.Categorical([\"test\", \"train\", \"test\", \"train\"]),\n",
    "     'F': 'foo'})\n",
    "df2"
   ]
  },
  {
   "cell_type": "markdown",
   "metadata": {
    "id": "eZL-YPd96w5t"
   },
   "source": [
    "O `DataFrame` resulante possui colunas de diferentes [dtypes](https://pandas.pydata.org/docs/user_guide/basics.html#basics-dtypes)."
   ]
  },
  {
   "cell_type": "code",
   "execution_count": null,
   "metadata": {
    "id": "EORm8TCv6w5v"
   },
   "outputs": [],
   "source": [
    "df2.dtypes"
   ]
  },
  {
   "cell_type": "markdown",
   "metadata": {
    "id": "iNX6cLuD6w54"
   },
   "source": [
    "Existem inúmeros métodos para um `DataFrame`:\n",
    "```\n",
    "df2.<TAB>\n",
    "df2.A              df2.append(          df2.boxplot(\n",
    "df2.B              df2.apply(           df2.clip(\n",
    "df2.C              df2.applymap(        df2.clip_lower(\n",
    "df2.D              df2.as_blocks(       df2.clip_upper(\n",
    "df2.E              df2.as_matrix(       df2.columns\n",
    "df2.F              df2.asfreq(          df2.combine(\n",
    "df2.T              df2.asof(            df2.combine_first(\n",
    "df2.abs(           df2.assign(          df2.compound(\n",
    "df2.add(           df2.astype(          df2.copy(\n",
    "df2.add_prefix(    df2.at(              df2.corr(\n",
    "df2.add_suffix(    df2.at_time(         df2.corrwith(\n",
    "df2.agg(           df2.axes             df2.count(\n",
    "df2.aggregate(     df2.between_time(\tdf2.cov(\n",
    "df2.align(         df2.bfill(           df2.cummax(\n",
    "df2.all(\t\t   df2.blocks           ...\n",
    "df2.any(\t\t   df2.bool(\n",
    "```"
   ]
  },
  {
   "cell_type": "markdown",
   "metadata": {
    "id": "aVvzDClE6w55"
   },
   "source": [
    "Tente aqui:"
   ]
  },
  {
   "cell_type": "code",
   "execution_count": null,
   "metadata": {
    "id": "3AyQ0r9l6w57",
    "scrolled": true
   },
   "outputs": [],
   "source": [
    "# df2. # Coloque o cursor depois do \".\" e aperte o TAB do teclado (ou CTRL + Espaço caso esteja usando outra plataforma que não o Jupyter Notebook)"
   ]
  },
  {
   "cell_type": "markdown",
   "metadata": {
    "id": "UM09macDRaEh"
   },
   "source": [
    "#### Exercício 2\n",
    "Junte as Series criadas no [Exercício 1](#Exercício-1), `s1_ex01` e `s2_ex01` em um `DataFrame`:\n",
    "* nome da variável: `df1_ex02`\n",
    "* dtype: ponto flutuante\n",
    "* acrescente mais uma coluna `'s03'` com valores `np.nan`"
   ]
  },
  {
   "cell_type": "code",
   "execution_count": null,
   "metadata": {
    "id": "_-a4ZdvPRdGV"
   },
   "outputs": [],
   "source": []
  },
  {
   "cell_type": "markdown",
   "metadata": {
    "id": "tLouhH6w6w6m"
   },
   "source": [
    "#### Atributos `indices` & `columns`\n",
    "**Vídeo:** https://youtu.be/QWB_JuL4QlI"
   ]
  },
  {
   "cell_type": "code",
   "execution_count": null,
   "metadata": {
    "id": "X33Y4wzg6w6v"
   },
   "outputs": [],
   "source": [
    "df.index"
   ]
  },
  {
   "cell_type": "code",
   "execution_count": null,
   "metadata": {
    "id": "3b8WXA026w64"
   },
   "outputs": [],
   "source": [
    "df.columns"
   ]
  },
  {
   "cell_type": "markdown",
   "metadata": {
    "id": "prBr609kMHve"
   },
   "source": [
    "#### Atributos `shape`& `size`"
   ]
  },
  {
   "cell_type": "code",
   "execution_count": null,
   "metadata": {
    "id": "n2GcXUfQLfgp"
   },
   "outputs": [],
   "source": [
    "df.shape"
   ]
  },
  {
   "cell_type": "code",
   "execution_count": null,
   "metadata": {
    "id": "7N3Dca7-MEdO"
   },
   "outputs": [],
   "source": [
    "df.size"
   ]
  },
  {
   "cell_type": "markdown",
   "metadata": {
    "id": "5yXQ4Raa6w6E"
   },
   "source": [
    "#### Métodos `head()` & `tail()`\n",
    "```python\n",
    "df.head(\n",
    "    n=5 # Mostra as n primeiras linhas: int\n",
    ") \n",
    "df.tail(\n",
    "    n=5 # Mostra as n (5) últimas linhas: int\n",
    ")\n",
    "```\n",
    "\n",
    "**Fontes:**\n",
    "* [Basics](https://pandas.pydata.org/docs/user_guide/basics.html#basics)."
   ]
  },
  {
   "cell_type": "code",
   "execution_count": null,
   "metadata": {
    "id": "Tbra38x56w6V",
    "scrolled": true
   },
   "outputs": [],
   "source": [
    "df.head(3)"
   ]
  },
  {
   "cell_type": "code",
   "execution_count": null,
   "metadata": {
    "id": "OGRUDQH66w6n"
   },
   "outputs": [],
   "source": [
    "df.tail() # default de 5 linhas"
   ]
  },
  {
   "cell_type": "markdown",
   "metadata": {
    "id": "cklXzve-6w6-"
   },
   "source": [
    "#### Método `to_numpy()`\n",
    "\n",
    "Retorna uma representação do Numpy dos dados com `dtype` comum a todos os valores no `DataFrame`.\n",
    "\n",
    "**Obs:** Há custo computacional para avaliar cada `dtype` de cada valor no `DataFrame` e realizar cópias e conversões, isso o torna um método possivelmente lento.\n",
    "\n",
    "```python\n",
    "to_numpy(\n",
    "    dtype=None, # str or numpy.dtype¹\n",
    "                # dtype para passar para o método \"numpy.asarray\"²\n",
    "    copy=False # bool, padrão: False\n",
    "               # True -> Garante que a aída é uma cópia e não\n",
    "               # uma visualização de um outro array.\n",
    "               # **False não garante que não será feita uma cópia\n",
    ")\n",
    "```\n",
    "\n",
    "**Fontes:**\n",
    "* [`to_numpy`](https://pandas.pydata.org/pandas-docs/stable/reference/api/pandas.DataFrame.to_numpy.html#pandas.DataFrame.to_numpy)\n",
    "* [`numpy.dtype`](https://numpy.org/doc/stable/reference/generated/numpy.dtype.html)\n",
    "* [`numpy.asarray()`](https://numpy.org/doc/stable/reference/generated/numpy.asarray.html)"
   ]
  },
  {
   "cell_type": "markdown",
   "metadata": {
    "id": "kpPnqdEr6w7A"
   },
   "source": [
    "Para `df`, composto por valores `float`, `to_numpy()` retorna rapidamente o resultado, sem necessidade de cópia dos dados."
   ]
  },
  {
   "cell_type": "code",
   "execution_count": null,
   "metadata": {
    "id": "hV5jOjrOLGrI"
   },
   "outputs": [],
   "source": [
    "df"
   ]
  },
  {
   "cell_type": "code",
   "execution_count": null,
   "metadata": {
    "id": "wVNj6GeN6w7D"
   },
   "outputs": [],
   "source": [
    "%%time\n",
    "df.to_numpy()"
   ]
  },
  {
   "cell_type": "markdown",
   "metadata": {
    "id": "qPf0jOC46w7J"
   },
   "source": [
    "Como o `DataFrame` `df2` possui múltiplos **dtypes**, o método se torna relativamente custoso."
   ]
  },
  {
   "cell_type": "code",
   "execution_count": null,
   "metadata": {
    "id": "U736CTg6LOwn"
   },
   "outputs": [],
   "source": [
    "df2"
   ]
  },
  {
   "cell_type": "code",
   "execution_count": null,
   "metadata": {
    "id": "HvrKN_7x6w7K"
   },
   "outputs": [],
   "source": [
    "%%time\n",
    "df2.to_numpy()"
   ]
  },
  {
   "cell_type": "markdown",
   "metadata": {
    "id": "Tqkdsvd_6w7S"
   },
   "source": [
    ">**Nota:**\n",
    "* `DataFrame.to_numpy()` não inclui os rótulos (linhas ou colunas) na saída."
   ]
  },
  {
   "cell_type": "markdown",
   "metadata": {
    "id": "jVoeIEZ56w7U"
   },
   "source": [
    "#### Método `describe()`\n",
    "Estatística rápida dos dados."
   ]
  },
  {
   "cell_type": "code",
   "execution_count": null,
   "metadata": {
    "id": "Z6D0dnnf6w7W"
   },
   "outputs": [],
   "source": [
    "df.describe()"
   ]
  },
  {
   "cell_type": "markdown",
   "metadata": {
    "id": "xsnrODUN6w7d"
   },
   "source": [
    "#### Método `T`\n",
    "Transposição dos dados:"
   ]
  },
  {
   "cell_type": "code",
   "execution_count": null,
   "metadata": {
    "id": "wybaBWyg6w7h"
   },
   "outputs": [],
   "source": [
    "df.T"
   ]
  },
  {
   "cell_type": "markdown",
   "metadata": {
    "id": "MJ5depX16w7o"
   },
   "source": [
    "#### Método `sort_index()`\n",
    "Ordenando na direção do rótulo."
   ]
  },
  {
   "cell_type": "code",
   "execution_count": null,
   "metadata": {
    "id": "jKmTQZkT6w7s"
   },
   "outputs": [],
   "source": [
    "df.sort_index(axis=0, ascending=False)"
   ]
  },
  {
   "cell_type": "code",
   "execution_count": null,
   "metadata": {
    "id": "Qy5UXyI5MJEG"
   },
   "outputs": [],
   "source": [
    "df.sort_index(axis=1, ascending=False)"
   ]
  },
  {
   "cell_type": "markdown",
   "metadata": {
    "id": "v8VFoI7A6w7y"
   },
   "source": [
    "#### Método `sort_values()`\n",
    "Ordenando pelos valores:"
   ]
  },
  {
   "cell_type": "code",
   "execution_count": null,
   "metadata": {
    "id": "dt4y1Agh6w76"
   },
   "outputs": [],
   "source": [
    "df.sort_values(by='B')"
   ]
  },
  {
   "cell_type": "markdown",
   "metadata": {
    "id": "qHYucNwWTL4V"
   },
   "source": [
    "#### Exercício 3\n",
    "Com o `DataFrame` `df1_ex02` criado no [Exercício 2](#Exercício-2):\n",
    "* nome da variável: `df1_ex03`\n",
    "* ordene de forma decrescente o `df1_ex02` pela coluna de `s1_ex01`;\n",
    "* verifique o que faz e aplique o método `reset_index` nos dados resultantes;\n",
    "* faça a estatística básica dos seus dados.\n"
   ]
  },
  {
   "cell_type": "code",
   "execution_count": null,
   "metadata": {
    "id": "tQVyZoSnU_vV"
   },
   "outputs": [],
   "source": []
  },
  {
   "cell_type": "markdown",
   "metadata": {
    "id": "UDVGG73R6w5J"
   },
   "source": [
    "### 3 Index\n",
    "Como vimos, os índices são um diferencial para as estruturas do Pandas, vamos dar uma olhada no que são capazes.\n",
    "\n",
    "**Vídeo:** https://youtu.be/9Sn2QpPawwI\n",
    "\n",
    "**Fontes:**\n",
    "* [Indexing](https://pandas.pydata.org/pandas-docs/stable/reference/indexing.html)\n"
   ]
  },
  {
   "cell_type": "markdown",
   "metadata": {
    "id": "vYTdCof7BAGy"
   },
   "source": [
    "\n",
    "#### Numeric Index\n",
    "```python\n",
    "RangeIndex([start, stop, step, dtype, copy, …]) # Immutable Index implementing a monotonic integer range.\n",
    "Int64Index([data, dtype, copy, name])           # Immutable sequence used for indexing and alignment.\n",
    "UInt64Index([data, dtype, copy, name])          # Immutable sequence used for indexing and alignment.\n",
    "Float64Index([data, dtype, copy, name])         # Immutable sequence used for indexing and alignment.\n",
    "```\n",
    "Quando não informamos o índice de uma serie ou tabela ao Pandas, ele automaticamente cria um índice `pd.RangeIndex` com tamanho igual ao número de dados."
   ]
  },
  {
   "cell_type": "code",
   "execution_count": null,
   "metadata": {
    "id": "qtKvK-MXFMke"
   },
   "outputs": [],
   "source": [
    "pd.Series(range(100)).index"
   ]
  },
  {
   "cell_type": "markdown",
   "metadata": {
    "id": "YIlatvlpGi4m"
   },
   "source": [
    "Semelhante a `range`e `np.arange`."
   ]
  },
  {
   "cell_type": "code",
   "execution_count": null,
   "metadata": {
    "id": "5hCeA5dGAjkw"
   },
   "outputs": [],
   "source": [
    "pd.RangeIndex(start=1, stop=10., step=2)"
   ]
  },
  {
   "cell_type": "markdown",
   "metadata": {
    "id": "szY1I7LWDaXz"
   },
   "source": [
    "O que tem dentro dessa caixa preta?"
   ]
  },
  {
   "cell_type": "code",
   "execution_count": null,
   "metadata": {
    "id": "tDeujNR6_4P3"
   },
   "outputs": [],
   "source": [
    "[i for i in pd.RangeIndex(start=1, stop=10., step=2)]"
   ]
  },
  {
   "cell_type": "code",
   "execution_count": null,
   "metadata": {
    "id": "RryFwzolC9zv"
   },
   "outputs": [],
   "source": [
    "pd.Series(np.random.rand(10), index=pd.RangeIndex(1, 20, 2), name='RangeIndex')"
   ]
  },
  {
   "cell_type": "markdown",
   "metadata": {
    "id": "69Zbc8-KCs-u"
   },
   "source": [
    "#### CategoricalIndex\n",
    "```python\n",
    "CategoricalIndex([data, categories, …]) # Index based on an underlying Categorical.\n",
    "```\n",
    "Um índice categórico pode ser imaginado como por exemplo uma linha nomeada por uma palavra em uma planilha. Serão mais explorados em [9. Categorização](#9.-Categorização)."
   ]
  },
  {
   "cell_type": "code",
   "execution_count": null,
   "metadata": {
    "id": "1YCiPnGNDoTg"
   },
   "outputs": [],
   "source": [
    "pd.CategoricalIndex(list('abcdacb'))"
   ]
  },
  {
   "cell_type": "code",
   "execution_count": null,
   "metadata": {
    "id": "1jFzaRR_ECm7"
   },
   "outputs": [],
   "source": [
    "idx = pd.CategoricalIndex(list('cdacb'), ordered=True, categories=list('dbac'))\n",
    "print('Agora temos um mínimo \"%s\" e um máximo \"%s\" definidos.'%(idx.min(), idx.max()))"
   ]
  },
  {
   "cell_type": "markdown",
   "metadata": {
    "id": "6piYo7oiDnXF"
   },
   "source": [
    "#### IntervalIndex\n",
    "```python\n",
    "IntervalIndex(data[, closed, dtype, copy, …]) # Immutable index of intervals that are closed on the same side.\n",
    "```\n",
    "Este é um tipo de índice com intervalos, normalmente construído com o método `pd.interval_range`."
   ]
  },
  {
   "cell_type": "code",
   "execution_count": null,
   "metadata": {
    "id": "GnDOU2LTSd_v"
   },
   "outputs": [],
   "source": [
    "i_idx = pd.interval_range(start=15, end=25, periods=5, closed='right')\n",
    "i_idx"
   ]
  },
  {
   "cell_type": "code",
   "execution_count": null,
   "metadata": {
    "id": "FJgj3KRoTlhp"
   },
   "outputs": [],
   "source": [
    "pd.DataFrame([10, 50, 30, 10, 5], index=i_idx, columns=['Contagem de alunos pela idade'])"
   ]
  },
  {
   "cell_type": "markdown",
   "metadata": {
    "id": "jZbjA8ekE7U4"
   },
   "source": [
    "#### DatetimeIndex\n",
    "```python\n",
    "DatetimeIndex([data, freq, tz, normalize, …]) # Immutable ndarray-like of datetime64 data.\n",
    "```\n",
    "Este é um índice para séries temporais com data e hora. Um jeito fácil de criar um `DatetimeIndex` é utilizando o `pd.date_range`."
   ]
  },
  {
   "cell_type": "code",
   "execution_count": null,
   "metadata": {
    "id": "IFDu-MyB6w5L",
    "scrolled": true
   },
   "outputs": [],
   "source": [
    "pd.date_range(\n",
    "    start='20200101',\n",
    "    end='20210301',\n",
    "    periods=6,\n",
    ")"
   ]
  },
  {
   "cell_type": "code",
   "execution_count": null,
   "metadata": {
    "id": "9hszEAnVTXeV"
   },
   "outputs": [],
   "source": []
  },
  {
   "cell_type": "code",
   "execution_count": null,
   "metadata": {
    "id": "zBPqTo3eWBPt"
   },
   "outputs": [],
   "source": [
    "pd.date_range(\n",
    "    start='20200101',\n",
    "    end='20200101 00:59:59',\n",
    "    freq='s',\n",
    ")"
   ]
  },
  {
   "cell_type": "markdown",
   "metadata": {
    "id": "me23saFjVNQc"
   },
   "source": [
    "#### Exercício 4\n",
    "Faça o que se pede:\n",
    "* crie um `DatetimeIndex`:\n",
    "    * nome da variável: `dates1_ex04`\n",
    "    * começando em *01/01/2021*,\n",
    "    * com frequência de amostragem de *1 h*,\n",
    "    * com *10 períodos*,\n",
    "    * **dica:** utilize o método `date_range()`;\n",
    "* crie um `DataFrame`:\n",
    "    * nome da variável: `df1_ex04`,\n",
    "    * índice: `dates_ex04`,\n",
    "    * valores e nomes das colunas idênticos ao `df1_ex03` do [Exercício 3](#Exercício-3)."
   ]
  },
  {
   "cell_type": "code",
   "execution_count": null,
   "metadata": {
    "id": "g-E6-0Rl4yRj"
   },
   "outputs": [],
   "source": []
  },
  {
   "cell_type": "markdown",
   "metadata": {
    "id": "TE2ZU5Jq6w8H"
   },
   "source": [
    "## III. Seleção\n",
    "---\n",
    "**Vídeo:** https://youtu.be/HyddRgytuuQ\n",
    "\n",
    "**Índice:**\n",
    "1. [Seleção](#1-Seleção)\n",
    "2. [Seleção por rótulo](#2-Seleção-por-rótulo)\n",
    "3. [Seleção multi-eixo](#3-Seleção-multi-eixo)\n",
    "4. [Seleção pela posição](#4-Seleção-pela-posição)\n",
    "5. [Indexação por Booleano](#5-Indexação-por-Booleano)\n",
    "6. [Configurando](#6-Configurando)\n",
    "7. [Reindexar](#7-Reindexar)\n",
    "7. [Dados Faltantes](#8-Dados-Faltantes)\n",
    "\n",
    "A *seleção* é um método de bancos de dados onde a massa de dados é filtrada através de alguma especificação do usuário e é gerada uma visualozação dos dados filtrados.\n",
    "\n",
    "Enquanto as expressões padrão Python/Numpy para seleção e alteração são intuitivas, no trabalho com o pandas existem métodos otimizados de acesso aos dados: ``.at``, ``.iat``, `.loc` e `.iloc`.\n",
    "\n",
    "**Fontes:**\n",
    "* [Bancos de dados: SELECT](https://pt.wikipedia.org/wiki/Select_(SQL))\n",
    "* [Indexing](https://pandas.pydata.org/pandas-docs/stable/user_guide/indexing.html#indexing)\n",
    "* [Advanced](https://pandas.pydata.org/pandas-docs/stable/user_guide/advanced.html#advanced)."
   ]
  },
  {
   "cell_type": "markdown",
   "metadata": {
    "id": "VyeACTSy6w8J"
   },
   "source": [
    "### 1 Seleção"
   ]
  },
  {
   "cell_type": "markdown",
   "metadata": {
    "id": "90adaplo6w8K"
   },
   "source": [
    "Selecionando uma coluna para produzir uma `Series`"
   ]
  },
  {
   "cell_type": "code",
   "execution_count": null,
   "metadata": {
    "id": "7ZO2Cg4o6w8O"
   },
   "outputs": [],
   "source": [
    "df['A']"
   ]
  },
  {
   "cell_type": "markdown",
   "metadata": {
    "id": "C-Gzo3qXFiwq"
   },
   "source": [
    "Selecionando uma coluna para produzir um `DataFrame`."
   ]
  },
  {
   "cell_type": "code",
   "execution_count": null,
   "metadata": {
    "id": "zaiVhWAlFqO5"
   },
   "outputs": [],
   "source": [
    "df[['A']]"
   ]
  },
  {
   "cell_type": "markdown",
   "metadata": {
    "id": "h4SxAhEK6w8U"
   },
   "source": [
    "Seleção de linhas por `[ ]`:"
   ]
  },
  {
   "cell_type": "code",
   "execution_count": null,
   "metadata": {
    "id": "pNJVNOIC6w8Y"
   },
   "outputs": [],
   "source": [
    "df[0:3] # índices inteiros"
   ]
  },
  {
   "cell_type": "markdown",
   "metadata": {
    "id": "ZUSTd6dAGAC4"
   },
   "source": [
    "Quando temos um índice do tipo `DatetimeIndex`."
   ]
  },
  {
   "cell_type": "code",
   "execution_count": null,
   "metadata": {
    "id": "ZmnwZEqZGKVn"
   },
   "outputs": [],
   "source": [
    "dates = pd.date_range('20130101', periods=6)\n",
    "df.index = dates\n",
    "df"
   ]
  },
  {
   "cell_type": "code",
   "execution_count": null,
   "metadata": {
    "id": "UyYEd8DJ6w8h"
   },
   "outputs": [],
   "source": [
    "df['20130102':'20130104'] # Índices com os nomes das linhas"
   ]
  },
  {
   "cell_type": "markdown",
   "metadata": {
    "id": "jyVvtqU_6w8o"
   },
   "source": [
    "### 2 Seleção por rótulo\n",
    "**Fonte:**\n",
    "* [Indexing by Label](https://pandas.pydata.org/pandas-docs/stable/user_guide/indexing.html#indexing-label)."
   ]
  },
  {
   "cell_type": "markdown",
   "metadata": {
    "id": "j0BobSsV6w8q"
   },
   "source": [
    "Seleção de linha por rótulo:"
   ]
  },
  {
   "cell_type": "code",
   "execution_count": null,
   "metadata": {
    "id": "rgebte1y6w8r"
   },
   "outputs": [],
   "source": [
    "df.loc[dates[0]]"
   ]
  },
  {
   "cell_type": "markdown",
   "metadata": {
    "id": "aFiR_S7H6w8z"
   },
   "source": [
    "### 3 Seleção multi-eixo"
   ]
  },
  {
   "cell_type": "markdown",
   "metadata": {
    "id": "DF7GXkjp6w80"
   },
   "source": [
    "Por rótulo de coluna:"
   ]
  },
  {
   "cell_type": "code",
   "execution_count": null,
   "metadata": {
    "id": "YO38zI-p6w81"
   },
   "outputs": [],
   "source": [
    "df.loc[:, ['A', 'B']]"
   ]
  },
  {
   "cell_type": "markdown",
   "metadata": {
    "id": "FDPi3RaD6w88"
   },
   "source": [
    "*Slicing* de linhas e por rótulo de coluna. **O intervalo é fechado**"
   ]
  },
  {
   "cell_type": "code",
   "execution_count": null,
   "metadata": {
    "id": "p7ZxIcLT6w8-"
   },
   "outputs": [],
   "source": [
    "df.loc['20130102':'20130104', ['A', 'B']]"
   ]
  },
  {
   "cell_type": "markdown",
   "metadata": {
    "id": "1PxbCjNt6w9F"
   },
   "source": [
    "Especificação de colunas e linhas:"
   ]
  },
  {
   "cell_type": "code",
   "execution_count": null,
   "metadata": {
    "id": "by6GoSU26w9G"
   },
   "outputs": [],
   "source": [
    "df.loc['20130102', ['A', 'B']]"
   ]
  },
  {
   "cell_type": "markdown",
   "metadata": {
    "id": "T_e59wd-6w9Y"
   },
   "source": [
    "Obtendo um único valor:"
   ]
  },
  {
   "cell_type": "code",
   "execution_count": null,
   "metadata": {
    "id": "eYeN2E-_6w9Z"
   },
   "outputs": [],
   "source": [
    "df.loc[dates[0], 'A']"
   ]
  },
  {
   "cell_type": "markdown",
   "metadata": {
    "id": "BriLgXCG6w9j"
   },
   "source": [
    "Acesso rápido à um valor:"
   ]
  },
  {
   "cell_type": "code",
   "execution_count": null,
   "metadata": {
    "id": "EWUIiT1c6w9l"
   },
   "outputs": [],
   "source": [
    "df.at[dates[0], 'A']"
   ]
  },
  {
   "cell_type": "markdown",
   "metadata": {
    "id": "vwHReZQB6w9r"
   },
   "source": [
    "### 4 Seleção pela posição\n",
    "**Fontes:**\n",
    "* [Selection by Position](https://pandas.pydata.org/pandas-docs/stable/user_guide/indexing.html#indexing-integer)."
   ]
  },
  {
   "cell_type": "markdown",
   "metadata": {
    "id": "ZjtQmRRQ6w9u"
   },
   "source": [
    "Seleção com entrada de índice inteiro:"
   ]
  },
  {
   "cell_type": "code",
   "execution_count": null,
   "metadata": {
    "id": "56xajKF16w9v"
   },
   "outputs": [],
   "source": [
    "df.iloc[3]"
   ]
  },
  {
   "cell_type": "markdown",
   "metadata": {
    "id": "o3-4wTo46w95"
   },
   "source": [
    "Slicing multi-eixo com inteiros, similar ao Numpy/Python:"
   ]
  },
  {
   "cell_type": "code",
   "execution_count": null,
   "metadata": {
    "id": "qBHv4BO-6w96"
   },
   "outputs": [],
   "source": [
    "df.iloc[3:5, 0:2]"
   ]
  },
  {
   "cell_type": "markdown",
   "metadata": {
    "id": "A9sxE5JG6w-Q"
   },
   "source": [
    "Seleção com inteiros, similar ao Numpy/Python:"
   ]
  },
  {
   "cell_type": "code",
   "execution_count": null,
   "metadata": {
    "id": "_b9JmhyG6w-U"
   },
   "outputs": [],
   "source": [
    "df.iloc[[1, 2, 4], [0, 2]]"
   ]
  },
  {
   "cell_type": "markdown",
   "metadata": {
    "id": "p43JWWz46w-b"
   },
   "source": [
    "Slicing linhas:"
   ]
  },
  {
   "cell_type": "code",
   "execution_count": null,
   "metadata": {
    "id": "NaDc_JX06w-d"
   },
   "outputs": [],
   "source": [
    "df.iloc[1:3, :]"
   ]
  },
  {
   "cell_type": "markdown",
   "metadata": {
    "id": "SLFfqPXF6w-n"
   },
   "source": [
    "Slicing colunas:"
   ]
  },
  {
   "cell_type": "code",
   "execution_count": null,
   "metadata": {
    "id": "sikwsG9K6w-o"
   },
   "outputs": [],
   "source": [
    "df.iloc[:, 1:3]"
   ]
  },
  {
   "cell_type": "markdown",
   "metadata": {
    "id": "n1hsFG3-6w-t"
   },
   "source": [
    "Obter um valor:"
   ]
  },
  {
   "cell_type": "code",
   "execution_count": null,
   "metadata": {
    "id": "3PGfFkd-6w-u"
   },
   "outputs": [],
   "source": [
    "df.iloc[1, 1]"
   ]
  },
  {
   "cell_type": "markdown",
   "metadata": {
    "id": "vSwaCmBC6w-5"
   },
   "source": [
    "Acesso rápido (equivalente a `.at`):"
   ]
  },
  {
   "cell_type": "code",
   "execution_count": null,
   "metadata": {
    "id": "QxRaYH766w-6"
   },
   "outputs": [],
   "source": [
    "df.iat[1, 1]"
   ]
  },
  {
   "cell_type": "markdown",
   "metadata": {
    "id": "vAlZ_jBC6w_C"
   },
   "source": [
    "### 5 Indexação por Booleano"
   ]
  },
  {
   "cell_type": "markdown",
   "metadata": {
    "id": "raZA3uJU6w_D"
   },
   "source": [
    "Condicional em determinada coluna, utilizando rótulo:"
   ]
  },
  {
   "cell_type": "code",
   "execution_count": null,
   "metadata": {
    "id": "KVoKH5eIHwUv"
   },
   "outputs": [],
   "source": [
    "df['A'] > 0"
   ]
  },
  {
   "cell_type": "code",
   "execution_count": null,
   "metadata": {
    "id": "UCwG8MwY6w_E"
   },
   "outputs": [],
   "source": [
    "df.loc[df['A'] > 0]"
   ]
  },
  {
   "cell_type": "markdown",
   "metadata": {
    "id": "lJ4bGk5r6w_J"
   },
   "source": [
    "Condicional de `DataFrame` inteiro:"
   ]
  },
  {
   "cell_type": "code",
   "execution_count": null,
   "metadata": {
    "id": "8U7fCwq76w_K"
   },
   "outputs": [],
   "source": [
    "df[df > 0]"
   ]
  },
  {
   "cell_type": "markdown",
   "metadata": {
    "id": "bJPNlSQI6w_O"
   },
   "source": [
    "Usando o método [isin()](https://pandas.pydata.org/pandas-docs/stable/reference/api/pandas.Series.isin.html#pandas.Series.isin) para filtrar:"
   ]
  },
  {
   "cell_type": "code",
   "execution_count": null,
   "metadata": {
    "id": "Mn2Loc9S6w_P"
   },
   "outputs": [],
   "source": [
    "df2 = df.copy()\n",
    "df2['E'] = ['one', 'one', 'two', 'three', 'four', 'three']\n",
    "df2"
   ]
  },
  {
   "cell_type": "code",
   "execution_count": null,
   "metadata": {
    "id": "SloHZ2sl6w_c"
   },
   "outputs": [],
   "source": [
    "df2[df2['E'].isin(['one', 'four'])]"
   ]
  },
  {
   "cell_type": "markdown",
   "metadata": {
    "id": "7zb6BS8w6w_h"
   },
   "source": [
    "### 6 Configurando\n",
    "**Vídeo:** https://youtu.be/8r4AHIhiC-I\n",
    "\n",
    "Configurando uma nova coluna alinhando automaticamente aos índices das linhas."
   ]
  },
  {
   "cell_type": "code",
   "execution_count": null,
   "metadata": {
    "id": "ZXHfoS1b6w_j"
   },
   "outputs": [],
   "source": [
    "# Criando o índice de datas\n",
    "dates = pd.date_range('20130102', periods=5)\n",
    "dates"
   ]
  },
  {
   "cell_type": "code",
   "execution_count": null,
   "metadata": {
    "id": "sgr7PvV-6w_y"
   },
   "outputs": [],
   "source": [
    "# Criando o objeto do tipo Series\n",
    "s1 = pd.Series([1, 2, 3, 4, 5], index=dates)\n",
    "s1"
   ]
  },
  {
   "cell_type": "code",
   "execution_count": null,
   "metadata": {
    "id": "nTSg6LWK6w_3"
   },
   "outputs": [],
   "source": [
    "# Alinhando o Series s1 ao df através de uma nova coluna 'F'\n",
    "df['F'] = s1\n",
    "df"
   ]
  },
  {
   "cell_type": "code",
   "execution_count": null,
   "metadata": {
    "id": "mTWAGuzB6w_8"
   },
   "outputs": [],
   "source": [
    "# Configurando valores por rótulo\n",
    "df.at['20130102', 'A'] = 0\n",
    "df"
   ]
  },
  {
   "cell_type": "code",
   "execution_count": null,
   "metadata": {
    "id": "NMkqzHO66xAE"
   },
   "outputs": [],
   "source": [
    "# Configurando valores por posição\n",
    "df.iat[0, 1] = 0\n",
    "df"
   ]
  },
  {
   "cell_type": "code",
   "execution_count": null,
   "metadata": {
    "id": "5Z6H6jq06xAc"
   },
   "outputs": [],
   "source": [
    "# Configurando com um array Numpy\n",
    "df.loc[:, 'D'] = np.array([5] * len(df))\n",
    "df"
   ]
  },
  {
   "cell_type": "markdown",
   "metadata": {
    "id": "VlevIbKa6xAi"
   },
   "source": [
    "Operação de seleção com configuração."
   ]
  },
  {
   "cell_type": "code",
   "execution_count": null,
   "metadata": {
    "id": "Sxgz-bq06xAi"
   },
   "outputs": [],
   "source": [
    "df2 = df.copy()\n",
    "\n",
    "# Invertendo o sinal de todos os valores de df2 para negativo\n",
    "df2[df2 > 0] = -df2\n",
    "\n",
    "df2"
   ]
  },
  {
   "cell_type": "markdown",
   "metadata": {
    "id": "DR8CxHUm6xA9"
   },
   "source": [
    "### 7 Reindexar\n",
    "Permite trocar/adicionar/deletar o índice em um eixo específico.\n",
    "\n",
    "Retorna uma cópia dos dados"
   ]
  },
  {
   "cell_type": "code",
   "execution_count": null,
   "metadata": {
    "id": "3M8DZqoJJXRj"
   },
   "outputs": [],
   "source": [
    "df"
   ]
  },
  {
   "cell_type": "code",
   "execution_count": null,
   "metadata": {
    "id": "CdZMRwh86xA_"
   },
   "outputs": [],
   "source": [
    "# Adiciona uma nova coluna com os índices já existentes\n",
    "df1 = df.reindex(index=dates[0:4], columns=list(df.columns) + ['E'])\n",
    "df1"
   ]
  },
  {
   "cell_type": "code",
   "execution_count": null,
   "metadata": {
    "id": "Xr6neEio6xBE"
   },
   "outputs": [],
   "source": [
    "# Insere o valor 1 nas duas primeiras linhas de 'E'\n",
    "df1.loc[dates[0]:dates[1], 'E'] = 1\n",
    "df1"
   ]
  },
  {
   "cell_type": "markdown",
   "metadata": {
    "id": "PYdtQIbA6xBt"
   },
   "source": [
    "## IV. Operações\n",
    "---\n",
    "**Vídeo:** https://youtu.be/nhcP3oY9ry8\n",
    "\n",
    "**Índice:**\n",
    "1. [Estatística](#1-Estatística)\n",
    "2. [Broadcasting](#2-Broadcasting)\n",
    "3. [Aplicação de funções](#3-Aplicação-de-funções)\n",
    "4. [Histogramas](#4-Histogramas)\n",
    "5. [Métodos de String](#5-Métodos-de-String)\n",
    "6. [Dados Faltantes](#6-Dados-Faltantes)\n",
    "7. [Janela Móvel](#7-Janela-Móvel)\n",
    "\n",
    "Obviamente desejamos realizar operações com os dados que possuímos, portanto veremos como operar com os dados com auxílio dos métodos do Pandas.\n",
    "\n",
    "**Fontes:**\n",
    "* [Basic section on Binary Ops](https://pandas.pydata.org/docs/user_guide/basics.html#basics-binop)."
   ]
  },
  {
   "cell_type": "markdown",
   "metadata": {
    "id": "0_AILDFN6xBx"
   },
   "source": [
    "### 1 Estatística\n",
    "No geral, excluem os dados faltantes (NaN)."
   ]
  },
  {
   "cell_type": "markdown",
   "metadata": {
    "id": "ZvCOBHtL6xBz"
   },
   "source": [
    "Estatística descritiva:"
   ]
  },
  {
   "cell_type": "code",
   "execution_count": null,
   "metadata": {
    "id": "Ov7Q0oDV6xB0"
   },
   "outputs": [],
   "source": [
    "df.mean()"
   ]
  },
  {
   "cell_type": "markdown",
   "metadata": {
    "id": "BP6boghh6xB5"
   },
   "source": [
    "Agora no eixo das linhas:"
   ]
  },
  {
   "cell_type": "code",
   "execution_count": null,
   "metadata": {
    "id": "iLPHhkNG6xB5"
   },
   "outputs": [],
   "source": [
    "df.mean(axis=1)"
   ]
  },
  {
   "cell_type": "markdown",
   "metadata": {
    "id": "20cC4EqQNV0u"
   },
   "source": [
    "Criando um `DataFrame` com as estatísticas."
   ]
  },
  {
   "cell_type": "code",
   "execution_count": null,
   "metadata": {
    "id": "DzCIvzqQMyB0"
   },
   "outputs": [],
   "source": [
    "pd.DataFrame([df.mean(), df.std(), df.var(), df.min(), df.max()],\n",
    "             index=['mean', 'std', 'var', 'min', 'max'])"
   ]
  },
  {
   "cell_type": "code",
   "execution_count": null,
   "metadata": {
    "id": "efYr2imdM4Yx"
   },
   "outputs": [],
   "source": [
    "df.corr()"
   ]
  },
  {
   "cell_type": "code",
   "execution_count": null,
   "metadata": {
    "id": "9G3PDsTHM7yg"
   },
   "outputs": [],
   "source": [
    "df.cov()"
   ]
  },
  {
   "cell_type": "markdown",
   "metadata": {
    "id": "HPJePxKx6xCC"
   },
   "source": [
    "### 2 Broadcasting"
   ]
  },
  {
   "cell_type": "markdown",
   "metadata": {
    "id": "C0l4TI9R6xCD"
   },
   "source": [
    "Operando com objetos de dimensões diferentes, o Pandas automaticamente realiza o Broadcasting na dimensão que necessita de alinhamento."
   ]
  },
  {
   "cell_type": "code",
   "execution_count": null,
   "metadata": {
    "id": "NWeB3Rv16xCE"
   },
   "outputs": [],
   "source": [
    "# Cria uma série em Pandas com os valores inseridos.\n",
    "# Desloca os dados em duas linhas para baixo\n",
    "dates = pd.date_range('20130101', periods=6)\n",
    "s = pd.Series([1, 3, 5, np.nan, 6, 8], index=dates).shift(2)\n",
    "s"
   ]
  },
  {
   "cell_type": "code",
   "execution_count": null,
   "metadata": {
    "id": "CupIzffq6xCO",
    "scrolled": true
   },
   "outputs": [],
   "source": [
    "# Subtrai df de s através da direção index (linha)\n",
    "# Mesmo efeito de `DataFrame` - other, porém é possível especificar o eixo da operação e como preencher os NaN's\n",
    "df.sub(s, axis='index')"
   ]
  },
  {
   "cell_type": "markdown",
   "metadata": {
    "id": "qLAJc_tq6xCS"
   },
   "source": [
    "De forma equivalente:\n",
    "\n",
    "|Função|Operação|\n",
    "|-|-|\n",
    "|`add`|`+`|\n",
    "|`sub`|`-`|\n",
    "|`mul`|`*`|\n",
    "|`div`|`/`,`//`|\n",
    "|`mod`|`%`|\n",
    "|`pow`|`**`|"
   ]
  },
  {
   "cell_type": "markdown",
   "metadata": {
    "id": "dUMdI5b06xCT"
   },
   "source": [
    "### 3 Aplicação de funções\n",
    "Aplicar funções aos dados:"
   ]
  },
  {
   "cell_type": "code",
   "execution_count": null,
   "metadata": {
    "id": "bkZBT2ztM3oe"
   },
   "outputs": [],
   "source": [
    "df"
   ]
  },
  {
   "cell_type": "code",
   "execution_count": null,
   "metadata": {
    "id": "v2taWoHP6xCU"
   },
   "outputs": [],
   "source": [
    "df.apply(np.cumsum)"
   ]
  },
  {
   "cell_type": "code",
   "execution_count": null,
   "metadata": {
    "id": "DbG8u0pG6xCm"
   },
   "outputs": [],
   "source": [
    "# Criar uma função lambda, função rápida\n",
    "foo = lambda x: x.max() - x.min()\n",
    "# def foo(x):\n",
    "#     return x.max() - x.min()\n",
    "df.apply(foo, axis=1)"
   ]
  },
  {
   "cell_type": "markdown",
   "metadata": {
    "id": "9Ljxfi3F6xCp"
   },
   "source": [
    "#### Lambdas\n",
    "Expressões/Fórmulas são usadas para friar funções anônimas\n",
    "```python\n",
    "def <lambda>(parameters):\n",
    "    return expression\n",
    "\n",
    "# lambda equivalente\n",
    "lambda parameters: expression\n",
    "```"
   ]
  },
  {
   "cell_type": "markdown",
   "metadata": {
    "id": "kvCqSEuB6xCq"
   },
   "source": [
    "### 4 Histogramas\n",
    "**Fontes:**\n",
    "* [Histogramming and Discretization](https://pandas.pydata.org/docs/user_guide/basics.html#basics-discretization)."
   ]
  },
  {
   "cell_type": "markdown",
   "metadata": {
    "id": "qOjaxkXw5zQh"
   },
   "source": [
    "Contagem de valores."
   ]
  },
  {
   "cell_type": "code",
   "execution_count": null,
   "metadata": {
    "id": "2H1rUW7M6xCr"
   },
   "outputs": [],
   "source": [
    "s = pd.Series(np.random.randint(0, 7, size=10))\n",
    "s"
   ]
  },
  {
   "cell_type": "code",
   "execution_count": null,
   "metadata": {
    "id": "Kh9srBJt6xC_"
   },
   "outputs": [],
   "source": [
    "s.value_counts()"
   ]
  },
  {
   "cell_type": "code",
   "execution_count": null,
   "metadata": {
    "id": "5UsfK-Em6OGW"
   },
   "outputs": [],
   "source": [
    "hist = pd.Series(np.random.randn(200)).value_counts(bins=10, sort=False)\n",
    "hist"
   ]
  },
  {
   "cell_type": "markdown",
   "metadata": {
    "id": "VNLidkSY_uFI"
   },
   "source": [
    "Calculando as probabilidades de cada intervalo."
   ]
  },
  {
   "cell_type": "code",
   "execution_count": null,
   "metadata": {
    "id": "i7AfAwHL9tjO"
   },
   "outputs": [],
   "source": [
    "P = hist/hist.sum()\n",
    "P"
   ]
  },
  {
   "cell_type": "markdown",
   "metadata": {
    "id": "tcVohsOgA6uX"
   },
   "source": [
    "Plotando."
   ]
  },
  {
   "cell_type": "code",
   "execution_count": null,
   "metadata": {
    "id": "IDTaVjLV9g8G"
   },
   "outputs": [],
   "source": [
    "# Criando figura e eixos\n",
    "fig, ax = plt.subplots(figsize=(15,5))\n",
    "ax2 = ax.twinx()\n",
    "# Gráfico de barras\n",
    "ax.bar(range(hist.shape[0]), hist, facecolor='k')\n",
    "ax.legend(['Frequência'], loc=1)\n",
    "# Gráficos de linhas\n",
    "ax2.plot(range(hist.shape[0]), P, 'r',\n",
    "         range(hist.shape[0]), P.cumsum(), 'g')\n",
    "ax2.legend(['Probabilidade', 'Probabilidade Acumulada'], loc=2)\n",
    "# Ajustes finais\n",
    "ax.set_xticks(range(hist.shape[0]))\n",
    "ax.set_xticklabels(labels=hist.index, rotation=90)\n",
    "plt.show()"
   ]
  },
  {
   "cell_type": "markdown",
   "metadata": {
    "id": "8rgREsw2B18K"
   },
   "source": [
    "#### Exercício 5\n",
    "Transforme o código acima em uma função `plot_hist(s, bins=20)` que possua como entrada somente o objeto `Series` e o número de `bins`, plote o histograma e retorne uma `Series` com as frequências dos dados nos intervalos dos bins, conforme exemplificado na variável `hist` acima.\n",
    "Faça também:\n",
    "* entenda como foi gerado o gráfico do plot acima recorrendo às documentações das bibliotecas;\n",
    "* busque uma forma de juntar as legendas dos gráficos de linhas e de barras;\n",
    "    * **dica:** pesquise no google com a busca em inglês;\n",
    "* aplique a função às `Series` `s1_ex01` e `s2_ex01` do [Exercício 1](#Exercício-1), variando o `bins`;\n",
    "* utilizando o exemplo que gerou a variável `hist`, crie um objeto `Series` de *50* números aleatórios com distribuição normal, média *5* e variância *25*;\n",
    "* aplique a função criada para gerar o gráfico."
   ]
  },
  {
   "cell_type": "code",
   "execution_count": null,
   "metadata": {
    "id": "RbQ_V0JkD70j"
   },
   "outputs": [],
   "source": []
  },
  {
   "cell_type": "markdown",
   "metadata": {
    "id": "A9-SZphw6xDD"
   },
   "source": [
    "### 5 Métodos de String\n",
    "\n",
    "É possível utilizar métodos de processamento de `str` para tratar `Series`.\n",
    "\n",
    "**Fontes:**\n",
    "* Regular Expressions\n",
    "    * [Teste e aprenda](https://regexr.com/)\n",
    "    * [Python - RE](https://docs.python.org/3/library/re.html)\n",
    "* [Vectorized String Methods](https://pandas.pydata.org/pandas-docs/stable/user_guide/text.html#text-string-methods)."
   ]
  },
  {
   "cell_type": "code",
   "execution_count": null,
   "metadata": {
    "id": "BO5IUNhe6xDJ"
   },
   "outputs": [],
   "source": [
    "s = pd.Series(['A', 'B', 'C', 'Aaba', 'Baca', np.nan, 'CABA', 'tdog0', 'cat'])\n",
    "s.str.lower()"
   ]
  },
  {
   "cell_type": "markdown",
   "metadata": {
    "id": "0FGa_BlR6xDM"
   },
   "source": [
    "Exemplo de `replace` utilizando RE.\n",
    "Substituir a `str` (iniciada por 1 caractere qualquer + `a`) OU possuir `dog`) por `XX- `\n",
    "* `^` -> começado por\n",
    "* `.` -> qualquer caractere\n",
    "* `a|dog`"
   ]
  },
  {
   "cell_type": "code",
   "execution_count": null,
   "metadata": {
    "id": "nScPs-IPOHuB"
   },
   "outputs": [],
   "source": [
    "s.str.replace('^.a|dog', 'XX- ', case=False)"
   ]
  },
  {
   "cell_type": "markdown",
   "metadata": {
    "id": "T6PadpsQ6xAo"
   },
   "source": [
    "### 6 Dados Faltantes\n",
    "\n",
    "Pandas usa por padrão `np.nan` para representação de dados faltantes.\n",
    "\n",
    "Esses dados não são incluídos em cálculos.\n",
    "\n",
    "**Fonte:**\n",
    "* [Missing Data section](https://pandas.pydata.org/pandas-docs/stable/user_guide/missing_data.html#missing-data)."
   ]
  },
  {
   "cell_type": "markdown",
   "metadata": {
    "id": "uiiPojMj6xBT"
   },
   "source": [
    "Remover as linhas que possuem dados faltantes (NaN):"
   ]
  },
  {
   "cell_type": "code",
   "execution_count": null,
   "metadata": {
    "id": "g8PiEWwGW7Gm"
   },
   "outputs": [],
   "source": [
    "df1"
   ]
  },
  {
   "cell_type": "code",
   "execution_count": null,
   "metadata": {
    "id": "l-B2t-Gi6xBU"
   },
   "outputs": [],
   "source": [
    "df1.dropna(how='any') # axis=0"
   ]
  },
  {
   "cell_type": "markdown",
   "metadata": {
    "id": "qzT_9CaX6xBY"
   },
   "source": [
    "Populando dados faltantes (NaN):"
   ]
  },
  {
   "cell_type": "code",
   "execution_count": null,
   "metadata": {
    "id": "nHh19V776xBb"
   },
   "outputs": [],
   "source": [
    "df1.fillna(value=5)"
   ]
  },
  {
   "cell_type": "markdown",
   "metadata": {
    "id": "iZHwk6sxVO_p"
   },
   "source": [
    "Preencher `nan` com os métodos `df.bfill()`, `df.ffill()`."
   ]
  },
  {
   "cell_type": "code",
   "execution_count": null,
   "metadata": {
    "id": "LKVT19qzWDf0"
   },
   "outputs": [],
   "source": [
    "df"
   ]
  },
  {
   "cell_type": "code",
   "execution_count": null,
   "metadata": {
    "id": "cyt69Zu1VUJL"
   },
   "outputs": [],
   "source": [
    "df.bfill()"
   ]
  },
  {
   "cell_type": "code",
   "execution_count": null,
   "metadata": {
    "id": "FjHykOoIV4V5"
   },
   "outputs": [],
   "source": [
    "df.ffill(axis=1)"
   ]
  },
  {
   "cell_type": "markdown",
   "metadata": {
    "id": "r7WNhzsF6xBj"
   },
   "source": [
    "Obter a boolean-mask das posições dos NaN's."
   ]
  },
  {
   "cell_type": "code",
   "execution_count": null,
   "metadata": {
    "id": "RHmDeucx6xBk"
   },
   "outputs": [],
   "source": [
    "pd.isna(df)"
   ]
  },
  {
   "cell_type": "markdown",
   "metadata": {
    "id": "B5BW22FyVihI"
   },
   "source": [
    "#### Exercício 6\n",
    "Simulando a coleta de dados no PI ou em algum outro banco de dados, vamos criar um `Dataframe` com *10000* pontos e dados de *3* sensores. É pedido que:\n",
    "* crie um `Dataframe` com os dados de *3* sensores:\n",
    "    * nome da variável: `df1_ex06`\n",
    "    * colunas: `['PT_01', 'PT_02', 'PT_03']`\n",
    "    * índice: `DatetimeIndex`\n",
    "        * start: *01/01/2021*\n",
    "        * freq: *1 min*\n",
    "    * sensores:\n",
    "\n",
    "|PT|`bias`<br>`[bar]`|`erro`<br>`[%]`|\n",
    "|-|-|-|\n",
    "|`PT-01`|*2*|*6*|\n",
    "|`PT-02`|*0*|*5*|\n",
    "|`PT-03`|*-3*|*3*|\n",
    "\n",
    "Os valores obedecem a equação $PT = 300 + 10\\bigg(1-e^{-t/1440}\\bigg)$\n",
    "\n",
    ">Onde:\n",
    "1. $PT$ : pressão em *bar* que o sensor está medindo,\n",
    "2. $t$ : tempo em *min*;\n",
    "\n",
    "* aplique o `nan_generator` ao `DataFrame` criado,\n",
    "    * esta função retornará alguns pontos como `np.nan` e outros como uma `str` `'nan'`.\n",
    "    * utilize o método `df1_ex06.apply()` com a função `to_numeric` para transformar as *strings* em valores numéricos;\n",
    "* utilize o método `df1_ex06.plot(figsize=(15, 5), alpha=.6, grid=True, xlabel='t [dias]', ylabel='P [bar]')` para plotar os dados gerados e visualise seus resultados;\n",
    "* teste também uma das funções para lidar com dados faltantes `fillna` ou `dropna`.\n",
    "\n",
    "**Notas:**\n",
    "* a distribuição Normal $N(\\mu, \\sigma)$ indica que:\n",
    "    * os dados estão centrados em $\\mu$,\n",
    "    * *99,8 %* dos dados está concentrado entre $[\\mu - 3\\sigma, \\mu + 3\\sigma]$;\n",
    "* a média ($\\mu$) dos dados é o `bias`;\n",
    "* $3\\sigma$ é o `erro` $(\\varepsilon)$;\n",
    "    * o erro está relacionado à faixa de medição, portanto, por conveniência, pode-se considerar uma porcentagem do valor inicial *300 bar*:\n",
    "\n",
    "$$[PT - \\varepsilon, PT + \\varepsilon] = PT + N(\\mu = bias, \\sigma = 300 \\times \\varepsilon/3) $$"
   ]
  },
  {
   "cell_type": "code",
   "execution_count": null,
   "metadata": {
    "id": "qWt_kOidnoGW"
   },
   "outputs": [],
   "source": [
    "def nan_generator(df):\n",
    "    df1 = df.copy()\n",
    "    for column in df.columns:\n",
    "        n_data = df.shape[0]\n",
    "        \n",
    "        nans = [.3, .5] # % de np.nan\n",
    "        errors = [.1, .2] # % de 'nan'\n",
    "\n",
    "        n_nan = np.random.randint(int(nans[0]*n_data),\n",
    "                                  int(nans[1]*n_data))\n",
    "        n_errors = np.random.randint(int(errors[0]*n_data),\n",
    "                                     int(errors[1]*n_data))\n",
    "\n",
    "        pos = np.random.choice(df.index, size=n_nan, replace=False)\n",
    "        df1.at[pos, column] = np.nan\n",
    "        \n",
    "        pos = np.random.choice(df.index, size=n_errors, replace=False)\n",
    "        df1.at[pos, column] = 'nan'\n",
    "    return df1"
   ]
  },
  {
   "cell_type": "code",
   "execution_count": null,
   "metadata": {
    "id": "UU4XYGunvraa"
   },
   "outputs": [],
   "source": []
  },
  {
   "cell_type": "markdown",
   "metadata": {
    "id": "0Z098bP7ysxB"
   },
   "source": [
    "### 7 Janela Móvel\n",
    "Utilizando-se o método `rolling` podemos analisar uma janela móvel dos dados.\n",
    "```python\n",
    "df.rolling(\n",
    "    window,           # Tamanho da janela: int, offset\n",
    "    min_periods=None, # Número mínimo de observações em uma janela, c.c. retorna NA: int\n",
    "    center=False,     # Configura o índice da resposta para o centro da janela: bool\n",
    "    axis=0,           # Eixo para aplicar a janela: int\n",
    "    closed=None       # Onde o intervalo é fechado: {'right', 'left', 'both', 'neither'}\n",
    "                      # Default janelas de offset: 'right'.\n",
    "                      # Default janelas fixas: 'both'.\n",
    ")\n",
    "```"
   ]
  },
  {
   "cell_type": "code",
   "execution_count": null,
   "metadata": {
    "id": "r6OdyAgB4JvC"
   },
   "outputs": [],
   "source": [
    "df"
   ]
  },
  {
   "cell_type": "code",
   "execution_count": null,
   "metadata": {
    "id": "uTqeRSqJy6eH"
   },
   "outputs": [],
   "source": [
    "dfr = df.rolling(3)\n",
    "dfr"
   ]
  },
  {
   "cell_type": "code",
   "execution_count": null,
   "metadata": {
    "id": "KecZxLTl4OcJ"
   },
   "outputs": [],
   "source": [
    "dfr.sum() # default: closed='right'"
   ]
  },
  {
   "cell_type": "markdown",
   "metadata": {
    "id": "iTzcYMaX5R6q"
   },
   "source": [
    "A janela por [`offset`](https://pandas.pydata.org/pandas-docs/stable/user_guide/timeseries.html#offset-aliases) rolará uma janela variável de acordo com o tempo especificado."
   ]
  },
  {
   "cell_type": "code",
   "execution_count": null,
   "metadata": {
    "id": "m6IgfI_t6maU"
   },
   "outputs": [],
   "source": [
    "df0 = pd.DataFrame({'B': [0, 1, 2, np.nan, 4]},\n",
    "                   index = [pd.Timestamp('20130101 09:00:00'),\n",
    "                            pd.Timestamp('20130101 09:00:02'),\n",
    "                            pd.Timestamp('20130101 09:00:03'),\n",
    "                            pd.Timestamp('20130101 09:00:05'),\n",
    "                            pd.Timestamp('20130101 09:00:06')])\n",
    "df0"
   ]
  },
  {
   "cell_type": "code",
   "execution_count": null,
   "metadata": {
    "id": "hvhNM3om61OR"
   },
   "outputs": [],
   "source": [
    "df0.rolling('2s').sum() # default: closed='both'"
   ]
  },
  {
   "cell_type": "markdown",
   "metadata": {
    "id": "lPW7lFwP6xDQ"
   },
   "source": [
    "## V. Junção de dados\n",
    "---\n",
    "**Índice:**\n",
    "1. [Concat](#1-Concat)\n",
    "2. [Merge](#2-Merge)\n",
    "\n",
    "**Vídeo:** https://youtu.be/u1v0JTomz9g\n",
    "\n",
    "Combinação de objetos `Series` e `DataFrame`.\n",
    "\n",
    "Utiliza vários tipos de lógica de conjuntos para indexação e álgebra relacional para operações de inclusão e união.\n",
    "\n",
    "**Fontes:**\n",
    "* [Merging section](https://pandas.pydata.org/pandas-docs/stable/user_guide/merging.html#merging)."
   ]
  },
  {
   "cell_type": "markdown",
   "metadata": {
    "id": "G8yIZG_h6xDR"
   },
   "source": [
    "### 1 Concat\n",
    "```python\n",
    "pd.concat(\n",
    "    objs: Union[Iterable[~FrameOrSeries], Mapping[Union[Hashable, NoneType], ~FrameOrSeries]],\n",
    "    axis=0,\n",
    "    join='outer',\n",
    "    ignore_index: bool = False,\n",
    "    keys=None,\n",
    "    levels=None,\n",
    "    names=None,\n",
    "    verify_integrity: bool = False,\n",
    "    sort: bool = False,\n",
    "    copy: bool = True\n",
    ")\n",
    "```\n",
    "\n",
    "Concatenação de objetos Pandas com [`pd.concat()`](https://pandas.pydata.org/pandas-docs/stable/reference/api/pandas.concat.html#pandas.concat):"
   ]
  },
  {
   "cell_type": "code",
   "execution_count": null,
   "metadata": {
    "id": "I0p5jDIS6xDS"
   },
   "outputs": [],
   "source": [
    "# Cria um `DataFrame` com números aleatórios com distribuição normal\n",
    "df1 = pd.DataFrame(np.random.randn(3, 1))\n",
    "df2 = pd.DataFrame(np.random.randn(4, 1))"
   ]
  },
  {
   "cell_type": "code",
   "execution_count": null,
   "metadata": {
    "id": "Jmn_ky6K6xDr"
   },
   "outputs": [],
   "source": [
    "pd.concat([df1, df2])"
   ]
  },
  {
   "cell_type": "code",
   "execution_count": null,
   "metadata": {
    "id": "LbVQQ5ZJTzIy"
   },
   "outputs": [],
   "source": [
    "pd.concat([df1, df2], ignore_index=True)"
   ]
  },
  {
   "cell_type": "code",
   "execution_count": null,
   "metadata": {
    "id": "jdCIRjkJT8Jw"
   },
   "outputs": [],
   "source": [
    "pd.concat([df1, df2], axis=1)"
   ]
  },
  {
   "cell_type": "markdown",
   "metadata": {
    "id": "QWvP0HAv6xDw"
   },
   "source": [
    "**Nota**\n",
    "1. Adicionar uma coluna a um `DataFrame` é rápido.\n",
    "2. Adicionar uma linha requer cópias e é mais demorado.\n",
    "3. É recomendável passar a lista de dados na hora de construir o `DataFrame` ao invés de incrementá-lo de forma iterativa.\n",
    "**Fonte:**\n",
    "* [Appending to `DataFrame`](https://pandas.pydata.org/pandas-docs/stable/user_guide/merging.html#merging-concatenation)."
   ]
  },
  {
   "cell_type": "markdown",
   "metadata": {
    "id": "u10r1vfX6xDx"
   },
   "source": [
    "### 2 Merge\n",
    "Merge no estilo SQL.\n",
    "\n",
    "**Fontes:**\n",
    "* [Database style joining](https://pandas.pydata.org/pandas-docs/stable/user_guide/merging.html#merging-join)."
   ]
  },
  {
   "cell_type": "code",
   "execution_count": null,
   "metadata": {
    "id": "yiFOGiTs6xDy"
   },
   "outputs": [],
   "source": [
    "left = pd.DataFrame({'key': ['foo', 'foo'], 'lval': [1, 2]})\n",
    "left"
   ]
  },
  {
   "cell_type": "code",
   "execution_count": null,
   "metadata": {
    "id": "qCWTsxP36xD5"
   },
   "outputs": [],
   "source": [
    "right = pd.DataFrame({'key': ['foo', 'foo'], 'rval': [4, 5]})\n",
    "right"
   ]
  },
  {
   "cell_type": "markdown",
   "metadata": {
    "id": "Eol7-J396xD-"
   },
   "source": [
    "Junta os `Dataframes` quando possuírem a chave *key* iguais."
   ]
  },
  {
   "cell_type": "code",
   "execution_count": null,
   "metadata": {
    "id": "-wjL_aqH6xD-"
   },
   "outputs": [],
   "source": [
    "pd.merge(left, right, on='key')"
   ]
  },
  {
   "cell_type": "markdown",
   "metadata": {
    "id": "OvcprSfB6xEE"
   },
   "source": [
    "Outro exemplo"
   ]
  },
  {
   "cell_type": "code",
   "execution_count": null,
   "metadata": {
    "id": "FHLwYj2b6xEG"
   },
   "outputs": [],
   "source": [
    "left = pd.DataFrame({'key': ['foo', 'bar'], 'lval': [1, 2]})\n",
    "left"
   ]
  },
  {
   "cell_type": "code",
   "execution_count": null,
   "metadata": {
    "id": "Fq6NutVY6xEJ"
   },
   "outputs": [],
   "source": [
    "right = pd.DataFrame({'key': ['foo', 'bar'], 'rval': [4, 5]})\n",
    "right"
   ]
  },
  {
   "cell_type": "code",
   "execution_count": null,
   "metadata": {
    "id": "k3dpnQbb6xEL"
   },
   "outputs": [],
   "source": [
    "pd.merge(left, right, on='key')"
   ]
  },
  {
   "cell_type": "markdown",
   "metadata": {
    "id": "7o3E5M5wVYIe"
   },
   "source": [
    "#### Exercício 7\n",
    "Utilizando o `df1_ex06` do [Exercício 6](#Exercício-6), faça duas janelas móveis: uma que verifique o desvio padrão e a outra que verifique a média dos sensores em uma janela de $30$ *minutos*. Essa análise indicará se o sensor está com muito ruído, indicando que pode precisar de manutenção.\n",
    "\n",
    "Crie um novo `DataFrame` com as seguintes características:\n",
    "* nome da variável: `df1_ex07`;\n",
    "* colunas: `['PT_01_AL', 'PT_02_AL', 'PT_03_AL']`\n",
    "* valores:\n",
    "$\\cfrac{std(window=30\\ min)}{mean(window=30\\ min)} > 2 \\% \\rightarrow$ *Alarme ativado*;\n",
    "    * ou seja, se a *divisão* do desvio padrão `std` pela média `mean` da janela for superior a *2%* o alarme deve ser ativado;\n",
    "* analise qual dos três sensores mais teve alarmes de desvio padrão;\n",
    "* Crie um `DataFrame` `df2_ex07` com a união de`df1_ex06` e `df1_ex07`."
   ]
  },
  {
   "cell_type": "code",
   "execution_count": null,
   "metadata": {
    "id": "BQlaj-q69odu"
   },
   "outputs": [],
   "source": []
  },
  {
   "cell_type": "markdown",
   "metadata": {
    "id": "Ai8PZ_wE6xEO"
   },
   "source": [
    "## VI. Agrupamento\n",
    "---\n",
    "O agrupamento se refere a:\n",
    "* **Splitting**: Segregar dados em grupos através de algum critério e/ou\n",
    "* **Applying**: Aplicar uma função à grupos de forma independente e/ou\n",
    "* **Combining**: Combinar os resultados em uma estrutura.\n",
    "\n",
    "**Fonte:**\n",
    "* [Grouping](https://pandas.pydata.org/pandas-docs/stable/user_guide/groupby.html#groupby)."
   ]
  },
  {
   "cell_type": "code",
   "execution_count": null,
   "metadata": {
    "id": "fMtY6FWQ6xEP"
   },
   "outputs": [],
   "source": [
    "df = pd.DataFrame({'A': ['foo', 'bar', 'foo', 'bar',\n",
    "                         'foo', 'bar', 'foo', 'foo'],\n",
    "                   'B': ['one', 'one', 'two', 'three',\n",
    "                         'two', 'two', 'one', 'three'],\n",
    "                   'C': np.random.randn(8),\n",
    "                   'D': np.random.randn(8)})\n",
    "df"
   ]
  },
  {
   "cell_type": "markdown",
   "metadata": {
    "id": "a2_AXnSx6xET"
   },
   "source": [
    "Agrupando e aplicando o método [`DataFrame.sum()`](https://pandas.pydata.org/pandas-docs/stable/reference/api/pandas.DataFrame.sum.html#pandas.DataFrame.sum)."
   ]
  },
  {
   "cell_type": "code",
   "execution_count": null,
   "metadata": {
    "id": "lESQ2OLW6xET"
   },
   "outputs": [],
   "source": [
    "df.groupby('A').sum()"
   ]
  },
  {
   "cell_type": "markdown",
   "metadata": {
    "id": "5XmPl47g6xEX"
   },
   "source": [
    "Indexando de forma hierárquica (agrupando por múltiplas colunas):"
   ]
  },
  {
   "cell_type": "code",
   "execution_count": null,
   "metadata": {
    "id": "6bZ8a9gV6xEY"
   },
   "outputs": [],
   "source": [
    "df.groupby(['A', 'B']).sum()"
   ]
  },
  {
   "cell_type": "markdown",
   "metadata": {
    "id": "FGGWQrzK6xEb"
   },
   "source": [
    "## VII. Reformatando\n",
    "---\n",
    "**Índice:**\n",
    "1. [Tabelas dinâmicas](#1-Tabelas-dinâmicas)\n",
    "\n",
    "**Fontes:**\n",
    "* [Hierarchical Indexing](https://pandas.pydata.org/pandas-docs/stable/user_guide/advanced.html#advanced-hierarchical)\n",
    "* [Reshaping](https://pandas.pydata.org/pandas-docs/stable/user_guide/reshaping.html#reshaping-stacking)."
   ]
  },
  {
   "cell_type": "markdown",
   "metadata": {
    "id": "zpLfWJv86xFP"
   },
   "source": [
    "### 1 Tabelas dinâmicas"
   ]
  },
  {
   "cell_type": "markdown",
   "metadata": {
    "id": "gdW-OGBR6xFP"
   },
   "source": [
    "**Fontes:**\n",
    "* [Pivot Tables](https://pandas.pydata.org/pandas-docs/stable/user_guide/reshaping.html#reshaping-pivot)."
   ]
  },
  {
   "cell_type": "code",
   "execution_count": null,
   "metadata": {
    "id": "OBQTJMFD6xFQ"
   },
   "outputs": [],
   "source": [
    "df = pd.DataFrame({'A': ['one', 'one', 'two', 'three'] * 3,\n",
    "                   'B': ['A', 'B', 'C'] * 4,\n",
    "                   'C': ['foo', 'foo', 'foo', 'bar', 'bar', 'bar'] * 2,\n",
    "                   'D': np.random.randn(12),\n",
    "                   'E': np.random.randn(12)})\n",
    "df"
   ]
  },
  {
   "cell_type": "code",
   "execution_count": null,
   "metadata": {
    "id": "OFZUKlMn6xFT"
   },
   "outputs": [],
   "source": [
    "pd.pivot_table(df, values='D', index=['C', 'B'], columns=['A'])"
   ]
  },
  {
   "cell_type": "markdown",
   "metadata": {
    "id": "8wSYj5mE6xFZ"
   },
   "source": [
    "## VIII. Séries temporais\n",
    "---\n",
    "O Pandas trabalha com operações simples de reamostragem durante conversões de frequência (ex: amostragem em segundos para 5 minutos).\n",
    "\n",
    "**Fontes**\n",
    "* [Time Series section](https://pandas.pydata.org/pandas-docs/stable/user_guide/timeseries.html#timeseries)."
   ]
  },
  {
   "cell_type": "markdown",
   "metadata": {
    "id": "0F-eqnHC6xFa"
   },
   "source": [
    "#### Criando uma Time Serie\n",
    "Criando a função $y = A\\sin{(\\omega t)}$ com $n$ pontos de amostragem. Onde:\n",
    "- $\\omega = 2\\pi f$"
   ]
  },
  {
   "cell_type": "code",
   "execution_count": null,
   "metadata": {
    "id": "EaidF29dK0--"
   },
   "outputs": [],
   "source": [
    "sin = lambda A, f, t_max: A*np.sin(2*np.pi*f*(np.linspace(0, t_max, t_max)))\n",
    "n = 10000\n",
    "ts = pd.Series(sin(1, 3, n), index=pd.date_range('20200101', periods=n, freq='1S'))\n",
    "ts.plot();"
   ]
  },
  {
   "cell_type": "markdown",
   "metadata": {
    "id": "fgFFA7yn6DNR"
   },
   "source": [
    "#### Reamostrando"
   ]
  },
  {
   "cell_type": "code",
   "execution_count": null,
   "metadata": {
    "id": "MdyCxugq6xFn"
   },
   "outputs": [],
   "source": [
    "ts.plot()\n",
    "ts.resample('30S').sum().plot()\n",
    "ts.resample('1Min').sum().plot()\n",
    "plt.legend(['1S', '30S', '60S'])"
   ]
  },
  {
   "cell_type": "code",
   "execution_count": null,
   "metadata": {
    "id": "vBnprtAm6xFq"
   },
   "outputs": [],
   "source": [
    "pd.DataFrame({'ts': ts,\n",
    "              'ts_5s': ts.resample('5S').mean(),\n",
    "              'ts_10s': ts.resample('10S').mean()}).head(21)"
   ]
  },
  {
   "cell_type": "code",
   "execution_count": null,
   "metadata": {
    "id": "Dy47pyQeQX35"
   },
   "outputs": [],
   "source": [
    "pd.DataFrame(\n",
    "    {'ts': ts,\n",
    "     'ts_1min': ts.resample('1Min').mean()-.5,\n",
    "     'ts_5min': ts.resample('5Min').mean()+.5}\n",
    ").plot(style='o', figsize=(15,5), grid=True)"
   ]
  },
  {
   "cell_type": "markdown",
   "metadata": {
    "id": "qc3UApM1GVPp"
   },
   "source": [
    "#### Exercício 8\n",
    "Utilizando o `DataFrame` `df1_ex06`, reamostre a cada 5 min e a cada 10 min, criando respectivamente os `DataFrames` `df1_ex08` e `df2_ex08`. Visualize o resultado com o código:\n",
    "```python\n",
    "df1_ex06.plot(style='--', alpha=.5)\n",
    "df1_ex08.plot(style='--', alpha=.5)\n",
    "df2_ex08.plot(style='--', alpha=.5)\n",
    "```"
   ]
  },
  {
   "cell_type": "code",
   "execution_count": null,
   "metadata": {
    "id": "AfnAe-RQHXTU"
   },
   "outputs": [],
   "source": []
  },
  {
   "cell_type": "markdown",
   "metadata": {
    "id": "JxyqP8B56xFt"
   },
   "source": [
    "#### Fuso horário\n",
    "Representação de Fuso horário (Time zone):"
   ]
  },
  {
   "cell_type": "code",
   "execution_count": null,
   "metadata": {
    "id": "CdzP67Fs6xFu"
   },
   "outputs": [],
   "source": [
    "rng = pd.date_range('3/6/2012 00:00', periods=5, freq='D')\n",
    "ts = pd.Series(np.random.randn(len(rng)), rng)\n",
    "ts"
   ]
  },
  {
   "cell_type": "code",
   "execution_count": null,
   "metadata": {
    "id": "UiXVuki06xFx"
   },
   "outputs": [],
   "source": [
    "ts_utc = ts.tz_localize('UTC')\n",
    "ts_utc"
   ]
  },
  {
   "cell_type": "markdown",
   "metadata": {
    "id": "LZEHENvB6xF_"
   },
   "source": [
    "Conversão para outro fuso:"
   ]
  },
  {
   "cell_type": "code",
   "execution_count": null,
   "metadata": {
    "id": "1z9Z3Fsu6xF_"
   },
   "outputs": [],
   "source": [
    "ts_utc.tz_convert('US/Eastern')"
   ]
  },
  {
   "cell_type": "markdown",
   "metadata": {
    "id": "ENuTChOd6xGR"
   },
   "source": [
    "#### Conversões\n",
    "Conversão entre períodos de tempo:"
   ]
  },
  {
   "cell_type": "code",
   "execution_count": null,
   "metadata": {
    "id": "VgBiJbHO6xGS"
   },
   "outputs": [],
   "source": [
    "rng = pd.date_range('1/1/2012', periods=5, freq='M')\n",
    "ts = pd.Series(np.random.randn(len(rng)), index=rng)\n",
    "ts"
   ]
  },
  {
   "cell_type": "markdown",
   "metadata": {
    "id": "kSKjp7kF6xGX"
   },
   "source": [
    "Conversão de `DatetimeIndex` para `PeriodIndex`."
   ]
  },
  {
   "cell_type": "code",
   "execution_count": null,
   "metadata": {
    "id": "yPJN2IIf51gv"
   },
   "outputs": [],
   "source": [
    "ps = ts.to_period()\n",
    "ps"
   ]
  },
  {
   "cell_type": "markdown",
   "metadata": {
    "id": "qrTXrRvY6xGa"
   },
   "source": [
    "Retorna para `DatetimeIndex`."
   ]
  },
  {
   "cell_type": "code",
   "execution_count": null,
   "metadata": {
    "id": "qVi2DA-75vUY"
   },
   "outputs": [],
   "source": [
    "ps.to_timestamp()"
   ]
  },
  {
   "cell_type": "markdown",
   "metadata": {
    "id": "z5RvUwq16xGw"
   },
   "source": [
    "## IX. Categorização\n",
    "---\n",
    "Uma categoria é capaz de expressar uma característica qualitativa do dado, o que pode facilitar o entendimento do problema e auxiliar na sua solução.\n",
    "\n",
    "**Índice:**\n",
    "1. [Criando categorias](#1-Criando-categorias)\n",
    "2. [Agrupando dados](#2-Agrupando-dados)\n",
    "\n",
    "**Vídeo:** https://youtu.be/xLg4FBweiKk\n",
    "\n",
    "**Fontes:**\n",
    "* [categorical introduction](https://pandas.pydata.org/pandas-docs/stable/user_guide/categorical.html#categorical)\n",
    "* [API documentation](https://pandas.pydata.org/pandas-docs/stable/reference/arrays.html#api-arrays-categorical)."
   ]
  },
  {
   "cell_type": "markdown",
   "metadata": {
    "id": "PpmDUB_e6xGz"
   },
   "source": [
    "### 1 Criando categorias\n",
    "Criando um `DataFrame` com notas categóricas:\n",
    "\n",
    "|Nota|Categoria|\n",
    "|:---:|:---:|\n",
    "|**a**|muito bom|\n",
    "|**b**|bom|\n",
    "|**c**|regular|\n",
    "|**d**|ruim|\n",
    "|**e**|muito ruim|"
   ]
  },
  {
   "cell_type": "code",
   "execution_count": null,
   "metadata": {
    "id": "NvybZIO56xG0"
   },
   "outputs": [],
   "source": [
    "df = pd.DataFrame({\"id\": [1, 2, 3, 4, 5, 6],\n",
    "                   \"nota_str\": ['a', 'e', 'b', 'a', 'a', 'e']})\n",
    "df"
   ]
  },
  {
   "cell_type": "markdown",
   "metadata": {
    "id": "DVbgfm7t6xG3"
   },
   "source": [
    "Convertendo em categorias:"
   ]
  },
  {
   "cell_type": "code",
   "execution_count": null,
   "metadata": {
    "id": "76431COw6xG4"
   },
   "outputs": [],
   "source": [
    "df[\"nota\"] = df[\"nota_str\"].astype(\"category\")\n",
    "df"
   ]
  },
  {
   "cell_type": "markdown",
   "metadata": {
    "id": "HtL3nJZs6xHA"
   },
   "source": [
    "Renomeando as categorias (diretamente em `Series.cat.categories`)."
   ]
  },
  {
   "cell_type": "code",
   "execution_count": null,
   "metadata": {
    "id": "QiTmHu98nLTV"
   },
   "outputs": [],
   "source": [
    "df.nota.cat.categories"
   ]
  },
  {
   "cell_type": "code",
   "execution_count": null,
   "metadata": {
    "id": "NDmr0ECh6xHB"
   },
   "outputs": [],
   "source": [
    "df[\"nota\"].cat.categories = [\"muito bom\", \"bom\", \"muito ruim\"]\n",
    "df"
   ]
  },
  {
   "cell_type": "markdown",
   "metadata": {
    "id": "_tDi_Kkz6xHE"
   },
   "source": [
    "Reordenar e inserir todas as categorias:"
   ]
  },
  {
   "cell_type": "code",
   "execution_count": null,
   "metadata": {
    "id": "o5skNyzZ6xHE"
   },
   "outputs": [],
   "source": [
    "df[\"nota1\"] = df[\"nota\"].cat.set_categories([\"muito ruim\", \"ruim\", \"regular\",\n",
    "                                              \"bom\", \"muito bom\"])\n",
    "df"
   ]
  },
  {
   "cell_type": "markdown",
   "metadata": {
    "id": "uix2YyoP6xHL"
   },
   "source": [
    "Ordenando pela categoria, não por ordem alfabética:"
   ]
  },
  {
   "cell_type": "code",
   "execution_count": null,
   "metadata": {
    "id": "VT8TN-qd6xHM"
   },
   "outputs": [],
   "source": [
    "df.sort_values(by=\"nota1\")"
   ]
  },
  {
   "cell_type": "markdown",
   "metadata": {
    "id": "MfrJYR76Lhak"
   },
   "source": [
    "### 2 Agrupando dados\n",
    "Mostrando os dados agrupando pela categoria:"
   ]
  },
  {
   "cell_type": "code",
   "execution_count": null,
   "metadata": {
    "id": "ZtXNCkJG6xHT"
   },
   "outputs": [],
   "source": [
    "df.groupby(\"nota1\").size()"
   ]
  },
  {
   "cell_type": "markdown",
   "metadata": {
    "id": "TGkbKkIjLORM"
   },
   "source": [
    "#### Exercício 9\n",
    "Crie as categorias dos sensores do [Exercício 8](#Exercício-8), que representam estados **mutuamente exclusivos** conforme segue:\n",
    "* `N`: estado normal do sistema;\n",
    "* `H`: alarme *High* (alto: $std/mean \\ge 1,5\\%$) - estado de atenção naquele ponto;\n",
    "* `HH`: alarme *High High* (muito alto: $std/mean \\ge 2,5\\%$) - estado que indica um problema no sensor.\n",
    "\n",
    "Agrupe os dados e faça a contagem de pontos em cada estado."
   ]
  },
  {
   "cell_type": "code",
   "execution_count": null,
   "metadata": {
    "id": "fFlvabZ2wORa"
   },
   "outputs": [],
   "source": []
  },
  {
   "cell_type": "markdown",
   "metadata": {
    "id": "YNTiOQz46xHW"
   },
   "source": [
    "## XI. Gráficos\n",
    "---\n",
    "O Pandas permite gerar visualizações muito úteis com comandos simples, o que mostra o potencial de se utilizar essa biblioteca.\n",
    "\n",
    "**Índice:**\n",
    "1. [MatplotLib](#1-MatplotLib)\n",
    "2. [Método `plot`](#2-Método-plot)\n",
    "\n",
    "**Fontes:**\n",
    "* [Plotting](https://pandas.pydata.org/pandas-docs/stable/user_guide/visualization.html#visualization)."
   ]
  },
  {
   "cell_type": "markdown",
   "metadata": {
    "id": "3fO5bQlASFO1"
   },
   "source": [
    "### 1 MatplotLib"
   ]
  },
  {
   "cell_type": "code",
   "execution_count": null,
   "metadata": {
    "id": "9X1Blxib6xHX"
   },
   "outputs": [],
   "source": [
    "import matplotlib.pyplot as plt"
   ]
  },
  {
   "cell_type": "code",
   "execution_count": null,
   "metadata": {
    "id": "OSlmmyJTSVpm"
   },
   "outputs": [],
   "source": [
    "ts = pd.Series(np.random.randn(1000),\n",
    "               index=pd.date_range('1/1/2000', periods=1000))\n",
    "\n",
    "ts_cs = ts.cumsum()"
   ]
  },
  {
   "cell_type": "code",
   "execution_count": null,
   "metadata": {
    "id": "WYX_QcUhVx4Z"
   },
   "outputs": [],
   "source": [
    "fig, ax = plt.subplots()\n",
    "\n",
    "ax.plot(ts, label='Time Serie')\n",
    "ax.plot(ts_cs, label='Acc Time Serie')\n",
    "\n",
    "ax.set_xlabel('Tempo')\n",
    "ax.set_ylabel('Valor')\n",
    "ax.legend()\n",
    "plt.xticks(rotation=30)\n",
    "\n",
    "plt.show()\n"
   ]
  },
  {
   "cell_type": "markdown",
   "metadata": {
    "id": "n04wqWyA6xHb"
   },
   "source": [
    "### 2 Método `plot`\n",
    "**Fontes:**\n",
    "* [`DataFrame.plot()`](https://pandas.pydata.org/pandas-docs/stable/reference/api/pandas.DataFrame.plot.html#pandas.DataFrame.plot)\n",
    "\n",
    "Este método simplifica a geração da visualização."
   ]
  },
  {
   "cell_type": "code",
   "execution_count": null,
   "metadata": {
    "id": "f8K3kkmT6xHb"
   },
   "outputs": [],
   "source": [
    "df = pd.DataFrame({'Time Serie': ts,\n",
    "                   'Acc Time Serie': ts_cs})\n",
    "ax = df.plot(xlabel='Tempo',\n",
    "             ylabel='Valor');"
   ]
  },
  {
   "cell_type": "markdown",
   "metadata": {
    "id": "jX7usC9JaqnQ"
   },
   "source": [
    "Gerando subplots."
   ]
  },
  {
   "cell_type": "code",
   "execution_count": null,
   "metadata": {
    "id": "QCUaxHlOZmvf"
   },
   "outputs": [],
   "source": [
    "ax = df.plot(subplots=True)"
   ]
  },
  {
   "cell_type": "markdown",
   "metadata": {
    "id": "Ars4uHX3cpSu"
   },
   "source": [
    "Explorando alguns parâmetros:"
   ]
  },
  {
   "cell_type": "code",
   "execution_count": null,
   "metadata": {
    "id": "fjLEkUmDcQld"
   },
   "outputs": [],
   "source": [
    "ax = df.plot(\n",
    "    figsize=(15, 5),    # tamanho da figura\n",
    "    alpha=.6,          # transparência\n",
    "    title='Gráfico 1', # título\n",
    "    grid=True,         # grade\n",
    "    style='--x',       # estilo da linha\n",
    ")"
   ]
  },
  {
   "cell_type": "markdown",
   "metadata": {
    "id": "pfwM15gaZc1h"
   },
   "source": [
    "### 3 Outras visualizações"
   ]
  },
  {
   "cell_type": "code",
   "execution_count": null,
   "metadata": {
    "id": "EMljN7VhZibY"
   },
   "outputs": [],
   "source": [
    "h = df.hist()"
   ]
  },
  {
   "cell_type": "code",
   "execution_count": null,
   "metadata": {
    "id": "uJWSQ_y2Z0oX"
   },
   "outputs": [],
   "source": [
    "b = df.boxplot()"
   ]
  },
  {
   "cell_type": "markdown",
   "metadata": {
    "id": "ob_3bGQ7Z5Bw"
   },
   "source": [
    "Dentre outras possibilidades!"
   ]
  },
  {
   "cell_type": "markdown",
   "metadata": {
    "id": "ThhYTVHdb_hl"
   },
   "source": [
    "#### Exercício 10\n",
    "Utilize os valores de `df1_ex06` para gerar algumas visualizações. Explore a documentação do método `plot()` para fazer os gráficos.\n",
    "\n",
    "Gere um histograma de $std/mean$ na janela móvel de *30 min* e observe como o sinal se comporta ao longo do tempo."
   ]
  },
  {
   "cell_type": "code",
   "execution_count": null,
   "metadata": {
    "id": "cDP8z2fjwQD1"
   },
   "outputs": [],
   "source": []
  },
  {
   "cell_type": "markdown",
   "metadata": {
    "id": "4xGF7Qpu6xHe"
   },
   "source": [
    "## XI. Entrada e saída de dados\n",
    "---\n",
    "**Índice:**\n",
    "1. [CSV](#11.1-CSV)\n",
    "2. [HDF5](#11.2-HDF5)\n",
    "3. [Excel](#11.3-Excel)\n",
    "4. [HTML](#4-HTML)\n",
    "**Vídeo:** https://youtu.be/5DY3Rmfb-uI"
   ]
  },
  {
   "cell_type": "markdown",
   "metadata": {
    "id": "B4NE6KjA6xHe"
   },
   "source": [
    "### 1 CSV"
   ]
  },
  {
   "cell_type": "markdown",
   "metadata": {
    "id": "ozXrsmMU6xHo"
   },
   "source": [
    "Escrita ([store in csv](https://pandas.pydata.org/pandas-docs/stable/user_guide/io.html#io-store-in-csv)):"
   ]
  },
  {
   "cell_type": "code",
   "execution_count": null,
   "metadata": {
    "id": "mofADIoO6xHq"
   },
   "outputs": [],
   "source": [
    "df.to_csv('foo.csv')"
   ]
  },
  {
   "cell_type": "markdown",
   "metadata": {
    "id": "h1Hrk8616xHs"
   },
   "source": [
    "Leitura ([read csv table](https://pandas.pydata.org/pandas-docs/stable/user_guide/io.html#io-read-csv-table)):"
   ]
  },
  {
   "cell_type": "code",
   "execution_count": null,
   "metadata": {
    "id": "F7BKV09t6xHs"
   },
   "outputs": [],
   "source": [
    "pd.read_csv('foo.csv', index_col=0)"
   ]
  },
  {
   "cell_type": "markdown",
   "metadata": {
    "id": "IiOrwKOH6xHw"
   },
   "source": [
    "### 2 HDF5\n",
    "`HDF5` é a biblioteca que possui funções de escrita e leitura rápida para trabalhar com um arquivo na memória.\n",
    "\n",
    "`HDFStore` é um objeto estruturado como um `dict` quer realiza leitura e gravação de dados do pandas com o formato de alta eficiência `HDF5` utilizando PyTables.\n",
    "\n",
    "\n",
    "**Fontes:**\n",
    "* [HDFStores](https://pandas.pydata.org/pandas-docs/stable/user_guide/io.html#io-hdf5).\n",
    "* [PyTables](https://www.pytables.org/)\n",
    "* [HDF Cookbook](https://pandas.pydata.org/pandas-docs/stable/user_guide/cookbook.html#cookbook-hdf)."
   ]
  },
  {
   "cell_type": "markdown",
   "metadata": {
    "id": "A1KTrPcD6xHy"
   },
   "source": [
    "Escrita:"
   ]
  },
  {
   "cell_type": "code",
   "execution_count": null,
   "metadata": {
    "id": "s4_f4Im36xHz"
   },
   "outputs": [],
   "source": [
    "df.to_hdf('foo.h5', 'df')"
   ]
  },
  {
   "cell_type": "markdown",
   "metadata": {
    "id": "G2E1qLN16xH5"
   },
   "source": [
    "Leitura:"
   ]
  },
  {
   "cell_type": "code",
   "execution_count": null,
   "metadata": {
    "id": "0kmT8_xd6xH6"
   },
   "outputs": [],
   "source": [
    "pd.read_hdf('foo.h5', 'df')"
   ]
  },
  {
   "cell_type": "markdown",
   "metadata": {
    "id": "e8gW0AfL6xIF"
   },
   "source": [
    "### 3 Excel\n",
    "**Fontes:**\n",
    "* [Pandas IO Excel](https://pandas.pydata.org/pandas-docs/stable/user_guide/io.html#io-excel)."
   ]
  },
  {
   "cell_type": "markdown",
   "metadata": {
    "id": "icbfQV0R6xIG"
   },
   "source": [
    "Escrita:"
   ]
  },
  {
   "cell_type": "code",
   "execution_count": null,
   "metadata": {
    "id": "1XaCPHcf6xIG"
   },
   "outputs": [],
   "source": [
    "df.to_excel('foo.xlsx', sheet_name='Sheet1')"
   ]
  },
  {
   "cell_type": "markdown",
   "metadata": {
    "id": "X2JgEKb16xII"
   },
   "source": [
    "Leitura:"
   ]
  },
  {
   "cell_type": "code",
   "execution_count": null,
   "metadata": {
    "id": "1al0hi5S6xIM"
   },
   "outputs": [],
   "source": [
    "pd.read_excel('foo.xlsx', 'Sheet1', index_col=0, na_values=['NA'])"
   ]
  },
  {
   "cell_type": "markdown",
   "metadata": {
    "id": "VptkhOoRi0h_"
   },
   "source": [
    "### 4 HTML\n",
    "É possível buscar dados na internet com o método `read_html()`. O código em HTML da página é percorrido em busca de tabelas no HTML.\n",
    "\n",
    "**Fontes:**\n",
    "* [W3 HTML tables](https://www.w3schools.com/html/html_tables.asp)\n",
    "* [`read_html`](https://pandas.pydata.org/docs/user_guide/io.html#io-read-html)\n",
    "* [HTML Table Parsing gotchas](https://pandas.pydata.org/docs/user_guide/io.html#io-html-gotchas)"
   ]
  },
  {
   "cell_type": "code",
   "execution_count": null,
   "metadata": {
    "id": "FyMzs3oSi4V6"
   },
   "outputs": [],
   "source": [
    "df2 = pd.read_html(\"https://raw.githubusercontent.com/pandas-dev/pandas/master/pandas/tests/io/data/html/spam.html\")[0]\n",
    "df2"
   ]
  },
  {
   "cell_type": "markdown",
   "metadata": {
    "id": "HJViGDU92T7e"
   },
   "source": [
    "Visualizando a tabela original."
   ]
  },
  {
   "cell_type": "code",
   "execution_count": null,
   "metadata": {
    "id": "1xrkmg8Emibf"
   },
   "outputs": [],
   "source": [
    "from IPython.display import display, Markdown\n",
    "display(Markdown(df2.to_html()))"
   ]
  },
  {
   "cell_type": "markdown",
   "metadata": {
    "id": "qEr-GGtVwU6p"
   },
   "source": [
    "#### Exercício 11\n",
    "Leia os dados do link https://pt.wikipedia.org/wiki/Pressão e obtenha a tabela de conversão de unidades de pressão. Faça as correções:\n",
    "* ajuste nomes de índices e colunas para somente a abreviatura da unidade;\n",
    "* transforme todos os dados em dados numéricos;\n",
    "* salve os dados em um arquivo HDF5;\n",
    "* prepare uma função que receba como entradas $(unidade\\ atual,\\ unidade\\ desejada)$ e retorne o $fator\\ de\\ conversao$ para a unidade desejada a partir da leitura do arquivo HDF5 criado."
   ]
  },
  {
   "cell_type": "code",
   "execution_count": null,
   "metadata": {
    "id": "aPY0Z3fvAKak"
   },
   "outputs": [],
   "source": []
  },
  {
   "cell_type": "markdown",
   "metadata": {
    "id": "ubA4Jdgt6xIP"
   },
   "source": [
    "## XII. Outros problemas\n",
    "---\n",
    "Se tentar realizar uma operação que retornar um erro:\n",
    "```python\n",
    "if pd.Series([False, True, False]):\n",
    "    ...\n",
    "    print(\"I was true\")\n",
    "```\n",
    "```\n",
    "Traceback\n",
    "    ...\n",
    "ValueError: The truth value of an array is ambiguous. Use a.empty, a.any() or a.all().\n",
    "```\n",
    "Veja [Comparisons](https://pandas.pydata.org/docs/user_guide/basics.html#basics-compare) para descobrir o que fazer.\n",
    "\n",
    "**Fontes:**\n",
    "* [Gotchas](https://pandas.pydata.org/pandas-docs/stable/user_guide/gotchas.html#gotchas)."
   ]
  },
  {
   "cell_type": "markdown",
   "metadata": {
    "id": "NW8MDhWNAMCF"
   },
   "source": [
    "**Parabéns** por concluir este módulo, até a próxima!\n",
    "\n",
    "![Panda](https://veja.abril.com.br/wp-content/uploads/2016/08/imagens-do-dia-mundo-panda-completa-um-ano-kuala-lumpur-23082016-023.jpg)"
   ]
  }
 ],
 "metadata": {
  "colab": {
   "collapsed_sections": [],
   "name": "3. Pandas.ipynb",
   "provenance": [],
   "toc_visible": true
  },
  "kernelspec": {
   "display_name": "Python 3",
   "language": "python",
   "name": "python3"
  },
  "language_info": {
   "codemirror_mode": {
    "name": "ipython",
    "version": 3
   },
   "file_extension": ".py",
   "mimetype": "text/x-python",
   "name": "python",
   "nbconvert_exporter": "python",
   "pygments_lexer": "ipython3",
   "version": "3.7.9"
  },
  "toc": {
   "base_numbering": 1,
   "nav_menu": {},
   "number_sections": true,
   "sideBar": true,
   "skip_h1_title": false,
   "title_cell": "Table of Contents",
   "title_sidebar": "Contents",
   "toc_cell": false,
   "toc_position": {},
   "toc_section_display": true,
   "toc_window_display": false
  }
 },
 "nbformat": 4,
 "nbformat_minor": 1
}
