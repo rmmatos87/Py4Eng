{
 "cells": [
  {
   "cell_type": "markdown",
   "metadata": {
    "id": "qYVkFxCejXyC"
   },
   "source": [
    "<img src='https://camo.githubusercontent.com/175fa296ff3ddb5a764a788aee45420ba6189ff2dfa28076122797af89599599/68747470733a2f2f64726976652e676f6f676c652e636f6d2f75633f6578706f72743d766965772669643d3153415142706f71477a42354354396c77786a3154306830715655357036736457' width=200 style=\"float:center\">\n",
    "\n",
    "# Pandas\n",
    "---\n",
    "**Índice:**\n",
    "1. [Introdução](#I.-Introdução)\n",
    "2. [Objetos](#II.-Criação-do-objeto)\n",
    "3. [Seleção](#III.-Seleção)\n",
    "4. [Operações](#IV.-Operações)\n",
    "5. [Junção de dados](#V.-Junção-de-dados)\n",
    "6. [Agrupamento](#VI.-Agrupamento)\n",
    "7. [Reformatando](#VII.-Reformatando)\n",
    "8. [Séries temporais](#VIII.-Séries-temporais)\n",
    "9. [Categorização](#IX.-Categorização)\n",
    "10. [Gráficos](#X.-Gráficos)\n",
    "11. [Entrada e saída de dados](#XI.-Entrada-e-saída-de-dados)\n",
    "12. [Outros problemas](#XII.-Outros-problemas)\n",
    "\n",
    "<img src=\"https://freesvg.org/img/laurent_panda_point_d_interrogation.png\" style=\"float:left\" width=100pt></img>\n",
    "**Fontes:**\n",
    "* [Pandas Documentation](https://pandas.pydata.org/docs/)\n",
    "* [Pandas User Guide](https://pandas.pydata.org/docs/user_guide/index.html)\n",
    "* [Pandas Getting Started](https://pandas.pydata.org/docs/getting_started/index.html)\n",
    "* [10 minutes to pandas](https://pandas.pydata.org/docs/user_guide/10min.html)\n",
    "* [Bancos de dados](https://pt.wikipedia.org/wiki/Banco_de_dados) (para aprimorar os conhecimentos)\n",
    "    * [SQL](https://www.w3schools.com/sql/default.asp)"
   ]
  },
  {
   "cell_type": "code",
   "execution_count": 1,
   "metadata": {},
   "outputs": [
    {
     "data": {
      "text/html": [
       "<iframe width=\"560\" height=\"315\" src=\"https://www.youtube.com/embed/videoseries?list=PLdI5ScTnQlX_giV-8vTYgMrZ7JdFBRFeD\" title=\"YouTube video player\" frameborder=\"0\" allow=\"accelerometer; autoplay; clipboard-write; encrypted-media; gyroscope; picture-in-picture\" allowfullscreen></iframe>\n"
      ],
      "text/plain": [
       "<IPython.core.display.HTML object>"
      ]
     },
     "metadata": {},
     "output_type": "display_data"
    }
   ],
   "source": [
    "%%HTML\n",
    "<iframe width=\"560\" height=\"315\" src=\"https://www.youtube.com/embed/videoseries?list=PLdI5ScTnQlX_giV-8vTYgMrZ7JdFBRFeD\" title=\"YouTube video player\" frameborder=\"0\" allow=\"accelerometer; autoplay; clipboard-write; encrypted-media; gyroscope; picture-in-picture\" allowfullscreen></iframe>"
   ]
  },
  {
   "cell_type": "markdown",
   "metadata": {
    "id": "XWkVDWC16w4e"
   },
   "source": [
    "## I. Introdução\n",
    "---\n",
    "**Vídeo:** https://youtu.be/0nF8mkVdc1c\n",
    "\n",
    "A ideia da biblioteca Pandas é realizar operações rápidas em um uma estrutura de dados como um banco de dados ou uma planilha.\n",
    "\n",
    "O Pandas utiliza muito do processamento e das características do NumPy.\n",
    "\n",
    "> **Dicas:**\n",
    "* Biblioteca é exetremamente vasta, sempre estude um pouco mais para conhecer novos métodos.\n",
    "* *Não se deixe empacar por algum método do Pandas que você não está conseguindo utilizar*, existirá outras *N* formas de resolver o mesmo problema utilizando outros métodos.\n",
    "* É interessante começar a estudar um pouco sobre **banco de dados**, pois muito  do que o Pandas é capaz de fazer está relacionado com operações que são realizadas nessas estruturas."
   ]
  },
  {
   "cell_type": "markdown",
   "metadata": {
    "id": "8rECpkFU6Uz_"
   },
   "source": [
    "Importação de bibliotecas."
   ]
  },
  {
   "cell_type": "code",
   "execution_count": null,
   "metadata": {
    "id": "AvYyRMWH6w4h"
   },
   "outputs": [],
   "source": [
    "import matplotlib.pyplot as plt\n",
    "import numpy as np\n",
    "import pandas as pd"
   ]
  },
  {
   "cell_type": "markdown",
   "metadata": {
    "id": "a-xtrJg_6w4-"
   },
   "source": [
    "## II. Objetos\n",
    "---\n",
    "**Índice**\n",
    "1. [Series](#1-Series)\n",
    "2. [DataFrame](#2-DataFrame)\n",
    "3. [Index](#3-Index)\n",
    "\n",
    "**Fontes:**\n",
    "* [Data Structure Intro section](https://pandas.pydata.org/docs/user_guide/dsintro.html#dsintro).\n"
   ]
  },
  {
   "cell_type": "markdown",
   "metadata": {
    "id": "qhVzd0Rn6w4_"
   },
   "source": [
    "### 1 Series\n",
    "**Vídeo:** https://youtu.be/KJS8gNM8yV4\n",
    "\n",
    "Um objeto `pd.Series` retrata um np.ndarray 1-D com índices nomeados.\n",
    "\n",
    "```python\n",
    "pd.Series(\n",
    "    data=None,     # Dados de entrada: array-like, Iterable, dict ou scalar value\n",
    "    index=None,    # Índice: array-like ou Index (1-D)\n",
    "    dtype=None,    # Tipo dos dados, opcional: str, np.dtype ou ExtentionDtype\n",
    "    name=None,     # Nome da série, opcional: str\n",
    "    copy=False,    # Se deve copiar os dados de \"data\": bool\n",
    ")\n",
    "```"
   ]
  },
  {
   "cell_type": "markdown",
   "metadata": {
    "id": "Dx9a1rWJ2GV1"
   },
   "source": [
    "Criando um [`pd.Series`](https://pandas.pydata.org/pandas-docs/stable/reference/api/pandas.Series.html#pandas.Series) com uma lista de valores. O pandas criará o índice com inteiros:"
   ]
  },
  {
   "cell_type": "code",
   "execution_count": null,
   "metadata": {
    "colab": {
     "base_uri": "https://localhost:8080/"
    },
    "executionInfo": {
     "elapsed": 7177,
     "status": "ok",
     "timestamp": 1618935870980,
     "user": {
      "displayName": "Rafael Matos",
      "photoUrl": "https://lh3.googleusercontent.com/a-/AOh14GizvLjQZmGB4-KGWvSOV05hr_lUcZifkDol22tmbQ=s64",
      "userId": "08861151773596892595"
     },
     "user_tz": 180
    },
    "id": "Mwe0gsqa6w5A",
    "outputId": "d7e2b196-6dcf-450e-8873-f24ff858e30f"
   },
   "outputs": [
    {
     "data": {
      "text/plain": [
       "a    1.0\n",
       "b    3.0\n",
       "c    5.0\n",
       "d    NaN\n",
       "e    6.0\n",
       "f    8.0\n",
       "Name: Serie1, dtype: float64"
      ]
     },
     "execution_count": 2,
     "metadata": {
      "tags": []
     },
     "output_type": "execute_result"
    }
   ],
   "source": [
    "s = pd.Series([1, 3, 5, np.nan, 6, 8], index=list('abcdef'), name='Serie1')\n",
    "s"
   ]
  },
  {
   "cell_type": "markdown",
   "metadata": {
    "id": "1nMkKeSxQkUX"
   },
   "source": [
    "#### Exercício 1\n",
    "Crie dois objeto Series distintos:\n",
    "* nome das variáveis: `s1_ex01` e `s2_ex01`\n",
    "* nomeados,\n",
    "* com valores inteiros aleatórios de distribuição uniforme,\n",
    "* tamanho 10\n",
    "* índice 0 a 9"
   ]
  },
  {
   "cell_type": "code",
   "execution_count": null,
   "metadata": {
    "id": "BBypeRdGRUBF"
   },
   "outputs": [],
   "source": []
  },
  {
   "cell_type": "markdown",
   "metadata": {
    "id": "a4CAXLgG6w5T"
   },
   "source": [
    "### 2 DataFrame\n",
    "**Vídeo:** https://youtu.be/KJS8gNM8yV4\n",
    "\n",
    "* Dados tabelados em duas dimensões,\n",
    "* possivelmente heterogêneos,\n",
    "* linhas e colunas nomeadas,\n",
    "* operações aritméticas em linhas ou colunas\n",
    "* Pode ser imaginado como um `dict` de `pd.Series`.\n",
    "\n",
    "```python\n",
    "pd.DataFrame(\n",
    "    data=None,    # ndarray (structured or homogeneous), Iterable, dict, or DataFrame\n",
    "    index=None,   # Index ou array-like, padrão: RangeIndex\n",
    "                  # Índice das linhas\n",
    "    columns=None, # Index ou array-like\n",
    "                  # Cabeçalho (índice) das colunas\n",
    "    dtype=None,   # dtype\n",
    "                  # Força o tipo de dado. Se None, infere.\n",
    ")\n",
    "```"
   ]
  },
  {
   "cell_type": "markdown",
   "metadata": {
    "id": "_MJdq5lR6w5I"
   },
   "source": [
    "#### Criando um [`DataFrame`](https://pandas.pydata.org/pandas-docs/stable/reference/api/pandas.DataFrame.html#pandas.DataFrame)\n"
   ]
  },
  {
   "cell_type": "markdown",
   "metadata": {
    "id": "OFhU10Ay5Wii"
   },
   "source": [
    "Com colunas nomeadas e índice definido:\n",
    "\n",
    "Entradas:\n",
    "* NumPy array (np.array),\n",
    "* datetime (será o índice)."
   ]
  },
  {
   "cell_type": "code",
   "execution_count": null,
   "metadata": {
    "colab": {
     "base_uri": "https://localhost:8080/",
     "height": 238
    },
    "executionInfo": {
     "elapsed": 7116,
     "status": "ok",
     "timestamp": 1618935871056,
     "user": {
      "displayName": "Rafael Matos",
      "photoUrl": "https://lh3.googleusercontent.com/a-/AOh14GizvLjQZmGB4-KGWvSOV05hr_lUcZifkDol22tmbQ=s64",
      "userId": "08861151773596892595"
     },
     "user_tz": 180
    },
    "id": "3ixEZMjn6w5a",
    "outputId": "c7625f89-bc97-41ca-d85f-559cfe59988c"
   },
   "outputs": [
    {
     "data": {
      "text/html": [
       "<div>\n",
       "<style scoped>\n",
       "    .dataframe tbody tr th:only-of-type {\n",
       "        vertical-align: middle;\n",
       "    }\n",
       "\n",
       "    .dataframe tbody tr th {\n",
       "        vertical-align: top;\n",
       "    }\n",
       "\n",
       "    .dataframe thead th {\n",
       "        text-align: right;\n",
       "    }\n",
       "</style>\n",
       "<table border=\"1\" class=\"dataframe\">\n",
       "  <thead>\n",
       "    <tr style=\"text-align: right;\">\n",
       "      <th></th>\n",
       "      <th>A</th>\n",
       "      <th>B</th>\n",
       "      <th>C</th>\n",
       "      <th>D</th>\n",
       "    </tr>\n",
       "  </thead>\n",
       "  <tbody>\n",
       "    <tr>\n",
       "      <th>0</th>\n",
       "      <td>0.762420</td>\n",
       "      <td>1.450398</td>\n",
       "      <td>-1.109476</td>\n",
       "      <td>1.265186</td>\n",
       "    </tr>\n",
       "    <tr>\n",
       "      <th>1</th>\n",
       "      <td>-0.499884</td>\n",
       "      <td>-0.194947</td>\n",
       "      <td>0.724536</td>\n",
       "      <td>-1.161091</td>\n",
       "    </tr>\n",
       "    <tr>\n",
       "      <th>2</th>\n",
       "      <td>-0.529498</td>\n",
       "      <td>0.009551</td>\n",
       "      <td>0.857248</td>\n",
       "      <td>0.733360</td>\n",
       "    </tr>\n",
       "    <tr>\n",
       "      <th>3</th>\n",
       "      <td>-0.988143</td>\n",
       "      <td>-2.679477</td>\n",
       "      <td>1.471886</td>\n",
       "      <td>-1.807367</td>\n",
       "    </tr>\n",
       "    <tr>\n",
       "      <th>4</th>\n",
       "      <td>-0.615046</td>\n",
       "      <td>0.093353</td>\n",
       "      <td>0.487800</td>\n",
       "      <td>0.904304</td>\n",
       "    </tr>\n",
       "    <tr>\n",
       "      <th>5</th>\n",
       "      <td>-0.667708</td>\n",
       "      <td>0.427928</td>\n",
       "      <td>-2.412935</td>\n",
       "      <td>-0.553455</td>\n",
       "    </tr>\n",
       "  </tbody>\n",
       "</table>\n",
       "</div>"
      ],
      "text/plain": [
       "          A         B         C         D\n",
       "0  0.762420  1.450398 -1.109476  1.265186\n",
       "1 -0.499884 -0.194947  0.724536 -1.161091\n",
       "2 -0.529498  0.009551  0.857248  0.733360\n",
       "3 -0.988143 -2.679477  1.471886 -1.807367\n",
       "4 -0.615046  0.093353  0.487800  0.904304\n",
       "5 -0.667708  0.427928 -2.412935 -0.553455"
      ]
     },
     "execution_count": 3,
     "metadata": {
      "tags": []
     },
     "output_type": "execute_result"
    }
   ],
   "source": [
    "df = pd.DataFrame(np.random.randn(6, 4), columns=list('ABCD'))\n",
    "df"
   ]
  },
  {
   "cell_type": "markdown",
   "metadata": {
    "id": "H-Hetq2Y6w5j"
   },
   "source": [
    "`pd.DataFrame` de um `dict`\n",
    "\n",
    "*O `dict` deve conter objetos que podem ser convertidos em series-like*."
   ]
  },
  {
   "cell_type": "code",
   "execution_count": null,
   "metadata": {
    "colab": {
     "base_uri": "https://localhost:8080/",
     "height": 175
    },
    "executionInfo": {
     "elapsed": 6983,
     "status": "ok",
     "timestamp": 1618935871062,
     "user": {
      "displayName": "Rafael Matos",
      "photoUrl": "https://lh3.googleusercontent.com/a-/AOh14GizvLjQZmGB4-KGWvSOV05hr_lUcZifkDol22tmbQ=s64",
      "userId": "08861151773596892595"
     },
     "user_tz": 180
    },
    "id": "j_L5IU7a6w5k",
    "outputId": "b18b01f2-c3b8-4373-aace-7dfab21c47a6"
   },
   "outputs": [
    {
     "data": {
      "text/html": [
       "<div>\n",
       "<style scoped>\n",
       "    .dataframe tbody tr th:only-of-type {\n",
       "        vertical-align: middle;\n",
       "    }\n",
       "\n",
       "    .dataframe tbody tr th {\n",
       "        vertical-align: top;\n",
       "    }\n",
       "\n",
       "    .dataframe thead th {\n",
       "        text-align: right;\n",
       "    }\n",
       "</style>\n",
       "<table border=\"1\" class=\"dataframe\">\n",
       "  <thead>\n",
       "    <tr style=\"text-align: right;\">\n",
       "      <th></th>\n",
       "      <th>A</th>\n",
       "      <th>B</th>\n",
       "      <th>C</th>\n",
       "      <th>D</th>\n",
       "      <th>E</th>\n",
       "      <th>F</th>\n",
       "    </tr>\n",
       "  </thead>\n",
       "  <tbody>\n",
       "    <tr>\n",
       "      <th>0</th>\n",
       "      <td>1.0</td>\n",
       "      <td>2013-01-02</td>\n",
       "      <td>1.0</td>\n",
       "      <td>3</td>\n",
       "      <td>test</td>\n",
       "      <td>foo</td>\n",
       "    </tr>\n",
       "    <tr>\n",
       "      <th>1</th>\n",
       "      <td>1.0</td>\n",
       "      <td>2013-01-02</td>\n",
       "      <td>1.0</td>\n",
       "      <td>3</td>\n",
       "      <td>train</td>\n",
       "      <td>foo</td>\n",
       "    </tr>\n",
       "    <tr>\n",
       "      <th>2</th>\n",
       "      <td>1.0</td>\n",
       "      <td>2013-01-02</td>\n",
       "      <td>1.0</td>\n",
       "      <td>3</td>\n",
       "      <td>test</td>\n",
       "      <td>foo</td>\n",
       "    </tr>\n",
       "    <tr>\n",
       "      <th>3</th>\n",
       "      <td>1.0</td>\n",
       "      <td>2013-01-02</td>\n",
       "      <td>1.0</td>\n",
       "      <td>3</td>\n",
       "      <td>train</td>\n",
       "      <td>foo</td>\n",
       "    </tr>\n",
       "  </tbody>\n",
       "</table>\n",
       "</div>"
      ],
      "text/plain": [
       "     A          B    C  D      E    F\n",
       "0  1.0 2013-01-02  1.0  3   test  foo\n",
       "1  1.0 2013-01-02  1.0  3  train  foo\n",
       "2  1.0 2013-01-02  1.0  3   test  foo\n",
       "3  1.0 2013-01-02  1.0  3  train  foo"
      ]
     },
     "execution_count": 4,
     "metadata": {
      "tags": []
     },
     "output_type": "execute_result"
    }
   ],
   "source": [
    "df2 = pd.DataFrame(\n",
    "    {'A': 1.,\n",
    "     'B': pd.Timestamp('20130102'),\n",
    "     'C': pd.Series(1, index=list(range(4)), dtype='float32'),\n",
    "     'D': np.array([3] * 4, dtype='int32'),\n",
    "     'E': pd.Categorical([\"test\", \"train\", \"test\", \"train\"]),\n",
    "     'F': 'foo'})\n",
    "df2"
   ]
  },
  {
   "cell_type": "markdown",
   "metadata": {
    "id": "eZL-YPd96w5t"
   },
   "source": [
    "O `DataFrame` resulante possui colunas de diferentes [dtypes](https://pandas.pydata.org/docs/user_guide/basics.html#basics-dtypes)."
   ]
  },
  {
   "cell_type": "code",
   "execution_count": null,
   "metadata": {
    "colab": {
     "base_uri": "https://localhost:8080/"
    },
    "executionInfo": {
     "elapsed": 6905,
     "status": "ok",
     "timestamp": 1618935871089,
     "user": {
      "displayName": "Rafael Matos",
      "photoUrl": "https://lh3.googleusercontent.com/a-/AOh14GizvLjQZmGB4-KGWvSOV05hr_lUcZifkDol22tmbQ=s64",
      "userId": "08861151773596892595"
     },
     "user_tz": 180
    },
    "id": "EORm8TCv6w5v",
    "outputId": "9cefb393-292b-475e-beeb-0508099cbdb1"
   },
   "outputs": [
    {
     "data": {
      "text/plain": [
       "A           float64\n",
       "B    datetime64[ns]\n",
       "C           float32\n",
       "D             int32\n",
       "E          category\n",
       "F            object\n",
       "dtype: object"
      ]
     },
     "execution_count": 5,
     "metadata": {
      "tags": []
     },
     "output_type": "execute_result"
    }
   ],
   "source": [
    "df2.dtypes"
   ]
  },
  {
   "cell_type": "markdown",
   "metadata": {
    "id": "iNX6cLuD6w54"
   },
   "source": [
    "Existem inúmeros métodos para um `DataFrame`:\n",
    "```\n",
    "df2.<TAB>\n",
    "df2.A              df2.append(          df2.boxplot(\n",
    "df2.B              df2.apply(           df2.clip(\n",
    "df2.C              df2.applymap(        df2.clip_lower(\n",
    "df2.D              df2.as_blocks(       df2.clip_upper(\n",
    "df2.E              df2.as_matrix(       df2.columns\n",
    "df2.F              df2.asfreq(          df2.combine(\n",
    "df2.T              df2.asof(            df2.combine_first(\n",
    "df2.abs(           df2.assign(          df2.compound(\n",
    "df2.add(           df2.astype(          df2.copy(\n",
    "df2.add_prefix(    df2.at(              df2.corr(\n",
    "df2.add_suffix(    df2.at_time(         df2.corrwith(\n",
    "df2.agg(           df2.axes             df2.count(\n",
    "df2.aggregate(     df2.between_time(\tdf2.cov(\n",
    "df2.align(         df2.bfill(           df2.cummax(\n",
    "df2.all(\t\t   df2.blocks           ...\n",
    "df2.any(\t\t   df2.bool(\n",
    "```"
   ]
  },
  {
   "cell_type": "markdown",
   "metadata": {
    "id": "aVvzDClE6w55"
   },
   "source": [
    "Tente aqui:"
   ]
  },
  {
   "cell_type": "code",
   "execution_count": null,
   "metadata": {
    "id": "3AyQ0r9l6w57",
    "scrolled": true
   },
   "outputs": [],
   "source": [
    "# df2. # Coloque o cursor depois do \".\" e aperte o TAB do teclado (ou CTRL + Espaço caso esteja usando outra plataforma que não o Jupyter Notebook)"
   ]
  },
  {
   "cell_type": "markdown",
   "metadata": {
    "id": "UM09macDRaEh"
   },
   "source": [
    "#### Exercício 2\n",
    "Junte as Series criadas no [Exercício 1](#Exercício-1), `s1_ex01` e `s2_ex01` em um `DataFrame`:\n",
    "* nome da variável: `df1_ex02`\n",
    "* dtype: ponto flutuante\n",
    "* acrescente mais uma coluna `'s03'` com valores `np.nan`"
   ]
  },
  {
   "cell_type": "code",
   "execution_count": null,
   "metadata": {
    "id": "_-a4ZdvPRdGV"
   },
   "outputs": [],
   "source": []
  },
  {
   "cell_type": "markdown",
   "metadata": {
    "id": "tLouhH6w6w6m"
   },
   "source": [
    "#### Atributos `indices` & `columns`\n",
    "**Vídeo:** https://youtu.be/QWB_JuL4QlI"
   ]
  },
  {
   "cell_type": "code",
   "execution_count": null,
   "metadata": {
    "colab": {
     "base_uri": "https://localhost:8080/"
    },
    "executionInfo": {
     "elapsed": 6741,
     "status": "ok",
     "timestamp": 1618935871119,
     "user": {
      "displayName": "Rafael Matos",
      "photoUrl": "https://lh3.googleusercontent.com/a-/AOh14GizvLjQZmGB4-KGWvSOV05hr_lUcZifkDol22tmbQ=s64",
      "userId": "08861151773596892595"
     },
     "user_tz": 180
    },
    "id": "X33Y4wzg6w6v",
    "outputId": "66315292-7008-4d7c-b924-79f66f755401"
   },
   "outputs": [
    {
     "data": {
      "text/plain": [
       "RangeIndex(start=0, stop=6, step=1)"
      ]
     },
     "execution_count": 7,
     "metadata": {
      "tags": []
     },
     "output_type": "execute_result"
    }
   ],
   "source": [
    "df.index"
   ]
  },
  {
   "cell_type": "code",
   "execution_count": null,
   "metadata": {
    "colab": {
     "base_uri": "https://localhost:8080/"
    },
    "executionInfo": {
     "elapsed": 6666,
     "status": "ok",
     "timestamp": 1618935871129,
     "user": {
      "displayName": "Rafael Matos",
      "photoUrl": "https://lh3.googleusercontent.com/a-/AOh14GizvLjQZmGB4-KGWvSOV05hr_lUcZifkDol22tmbQ=s64",
      "userId": "08861151773596892595"
     },
     "user_tz": 180
    },
    "id": "3b8WXA026w64",
    "outputId": "ba30b7d6-468a-4542-d3f9-88737b3afef4"
   },
   "outputs": [
    {
     "data": {
      "text/plain": [
       "Index(['A', 'B', 'C', 'D'], dtype='object')"
      ]
     },
     "execution_count": 8,
     "metadata": {
      "tags": []
     },
     "output_type": "execute_result"
    }
   ],
   "source": [
    "df.columns"
   ]
  },
  {
   "cell_type": "markdown",
   "metadata": {
    "id": "prBr609kMHve"
   },
   "source": [
    "#### Atributos `shape`& `size`"
   ]
  },
  {
   "cell_type": "code",
   "execution_count": null,
   "metadata": {
    "colab": {
     "base_uri": "https://localhost:8080/"
    },
    "executionInfo": {
     "elapsed": 6604,
     "status": "ok",
     "timestamp": 1618935871167,
     "user": {
      "displayName": "Rafael Matos",
      "photoUrl": "https://lh3.googleusercontent.com/a-/AOh14GizvLjQZmGB4-KGWvSOV05hr_lUcZifkDol22tmbQ=s64",
      "userId": "08861151773596892595"
     },
     "user_tz": 180
    },
    "id": "n2GcXUfQLfgp",
    "outputId": "39d151b3-3993-474b-a484-9cd940ebd640"
   },
   "outputs": [
    {
     "data": {
      "text/plain": [
       "(6, 4)"
      ]
     },
     "execution_count": 9,
     "metadata": {
      "tags": []
     },
     "output_type": "execute_result"
    }
   ],
   "source": [
    "df.shape"
   ]
  },
  {
   "cell_type": "code",
   "execution_count": null,
   "metadata": {
    "colab": {
     "base_uri": "https://localhost:8080/"
    },
    "executionInfo": {
     "elapsed": 6491,
     "status": "ok",
     "timestamp": 1618935871172,
     "user": {
      "displayName": "Rafael Matos",
      "photoUrl": "https://lh3.googleusercontent.com/a-/AOh14GizvLjQZmGB4-KGWvSOV05hr_lUcZifkDol22tmbQ=s64",
      "userId": "08861151773596892595"
     },
     "user_tz": 180
    },
    "id": "7N3Dca7-MEdO",
    "outputId": "85e199f0-b7b7-4baa-b262-0f10165216b4"
   },
   "outputs": [
    {
     "data": {
      "text/plain": [
       "24"
      ]
     },
     "execution_count": 10,
     "metadata": {
      "tags": []
     },
     "output_type": "execute_result"
    }
   ],
   "source": [
    "df.size"
   ]
  },
  {
   "cell_type": "markdown",
   "metadata": {
    "id": "5yXQ4Raa6w6E"
   },
   "source": [
    "#### Métodos `head()` & `tail()`\n",
    "```python\n",
    "df.head(\n",
    "    n=5 # Mostra as n primeiras linhas: int\n",
    ") \n",
    "df.tail(\n",
    "    n=5 # Mostra as n (5) últimas linhas: int\n",
    ")\n",
    "```\n",
    "\n",
    "**Fontes:**\n",
    "* [Basics](https://pandas.pydata.org/docs/user_guide/basics.html#basics)."
   ]
  },
  {
   "cell_type": "code",
   "execution_count": null,
   "metadata": {
    "colab": {
     "base_uri": "https://localhost:8080/",
     "height": 143
    },
    "executionInfo": {
     "elapsed": 6390,
     "status": "ok",
     "timestamp": 1618935871197,
     "user": {
      "displayName": "Rafael Matos",
      "photoUrl": "https://lh3.googleusercontent.com/a-/AOh14GizvLjQZmGB4-KGWvSOV05hr_lUcZifkDol22tmbQ=s64",
      "userId": "08861151773596892595"
     },
     "user_tz": 180
    },
    "id": "Tbra38x56w6V",
    "outputId": "ec4c2a8e-74e1-42fd-f4b7-bcd4ba7bba8e",
    "scrolled": true
   },
   "outputs": [
    {
     "data": {
      "text/html": [
       "<div>\n",
       "<style scoped>\n",
       "    .dataframe tbody tr th:only-of-type {\n",
       "        vertical-align: middle;\n",
       "    }\n",
       "\n",
       "    .dataframe tbody tr th {\n",
       "        vertical-align: top;\n",
       "    }\n",
       "\n",
       "    .dataframe thead th {\n",
       "        text-align: right;\n",
       "    }\n",
       "</style>\n",
       "<table border=\"1\" class=\"dataframe\">\n",
       "  <thead>\n",
       "    <tr style=\"text-align: right;\">\n",
       "      <th></th>\n",
       "      <th>A</th>\n",
       "      <th>B</th>\n",
       "      <th>C</th>\n",
       "      <th>D</th>\n",
       "    </tr>\n",
       "  </thead>\n",
       "  <tbody>\n",
       "    <tr>\n",
       "      <th>0</th>\n",
       "      <td>0.762420</td>\n",
       "      <td>1.450398</td>\n",
       "      <td>-1.109476</td>\n",
       "      <td>1.265186</td>\n",
       "    </tr>\n",
       "    <tr>\n",
       "      <th>1</th>\n",
       "      <td>-0.499884</td>\n",
       "      <td>-0.194947</td>\n",
       "      <td>0.724536</td>\n",
       "      <td>-1.161091</td>\n",
       "    </tr>\n",
       "    <tr>\n",
       "      <th>2</th>\n",
       "      <td>-0.529498</td>\n",
       "      <td>0.009551</td>\n",
       "      <td>0.857248</td>\n",
       "      <td>0.733360</td>\n",
       "    </tr>\n",
       "  </tbody>\n",
       "</table>\n",
       "</div>"
      ],
      "text/plain": [
       "          A         B         C         D\n",
       "0  0.762420  1.450398 -1.109476  1.265186\n",
       "1 -0.499884 -0.194947  0.724536 -1.161091\n",
       "2 -0.529498  0.009551  0.857248  0.733360"
      ]
     },
     "execution_count": 11,
     "metadata": {
      "tags": []
     },
     "output_type": "execute_result"
    }
   ],
   "source": [
    "df.head(3)"
   ]
  },
  {
   "cell_type": "code",
   "execution_count": null,
   "metadata": {
    "colab": {
     "base_uri": "https://localhost:8080/",
     "height": 206
    },
    "executionInfo": {
     "elapsed": 6307,
     "status": "ok",
     "timestamp": 1618935871206,
     "user": {
      "displayName": "Rafael Matos",
      "photoUrl": "https://lh3.googleusercontent.com/a-/AOh14GizvLjQZmGB4-KGWvSOV05hr_lUcZifkDol22tmbQ=s64",
      "userId": "08861151773596892595"
     },
     "user_tz": 180
    },
    "id": "OGRUDQH66w6n",
    "outputId": "d1d28a8b-3143-4e34-bf88-c000f41074ac"
   },
   "outputs": [
    {
     "data": {
      "text/html": [
       "<div>\n",
       "<style scoped>\n",
       "    .dataframe tbody tr th:only-of-type {\n",
       "        vertical-align: middle;\n",
       "    }\n",
       "\n",
       "    .dataframe tbody tr th {\n",
       "        vertical-align: top;\n",
       "    }\n",
       "\n",
       "    .dataframe thead th {\n",
       "        text-align: right;\n",
       "    }\n",
       "</style>\n",
       "<table border=\"1\" class=\"dataframe\">\n",
       "  <thead>\n",
       "    <tr style=\"text-align: right;\">\n",
       "      <th></th>\n",
       "      <th>A</th>\n",
       "      <th>B</th>\n",
       "      <th>C</th>\n",
       "      <th>D</th>\n",
       "    </tr>\n",
       "  </thead>\n",
       "  <tbody>\n",
       "    <tr>\n",
       "      <th>1</th>\n",
       "      <td>-0.499884</td>\n",
       "      <td>-0.194947</td>\n",
       "      <td>0.724536</td>\n",
       "      <td>-1.161091</td>\n",
       "    </tr>\n",
       "    <tr>\n",
       "      <th>2</th>\n",
       "      <td>-0.529498</td>\n",
       "      <td>0.009551</td>\n",
       "      <td>0.857248</td>\n",
       "      <td>0.733360</td>\n",
       "    </tr>\n",
       "    <tr>\n",
       "      <th>3</th>\n",
       "      <td>-0.988143</td>\n",
       "      <td>-2.679477</td>\n",
       "      <td>1.471886</td>\n",
       "      <td>-1.807367</td>\n",
       "    </tr>\n",
       "    <tr>\n",
       "      <th>4</th>\n",
       "      <td>-0.615046</td>\n",
       "      <td>0.093353</td>\n",
       "      <td>0.487800</td>\n",
       "      <td>0.904304</td>\n",
       "    </tr>\n",
       "    <tr>\n",
       "      <th>5</th>\n",
       "      <td>-0.667708</td>\n",
       "      <td>0.427928</td>\n",
       "      <td>-2.412935</td>\n",
       "      <td>-0.553455</td>\n",
       "    </tr>\n",
       "  </tbody>\n",
       "</table>\n",
       "</div>"
      ],
      "text/plain": [
       "          A         B         C         D\n",
       "1 -0.499884 -0.194947  0.724536 -1.161091\n",
       "2 -0.529498  0.009551  0.857248  0.733360\n",
       "3 -0.988143 -2.679477  1.471886 -1.807367\n",
       "4 -0.615046  0.093353  0.487800  0.904304\n",
       "5 -0.667708  0.427928 -2.412935 -0.553455"
      ]
     },
     "execution_count": 12,
     "metadata": {
      "tags": []
     },
     "output_type": "execute_result"
    }
   ],
   "source": [
    "df.tail() # default de 5 linhas"
   ]
  },
  {
   "cell_type": "markdown",
   "metadata": {
    "id": "cklXzve-6w6-"
   },
   "source": [
    "#### Método `to_numpy()`\n",
    "\n",
    "Retorna uma representação do Numpy dos dados com `dtype` comum a todos os valores no `DataFrame`.\n",
    "\n",
    "**Obs:** Há custo computacional para avaliar cada `dtype` de cada valor no `DataFrame` e realizar cópias e conversões, isso o torna um método possivelmente lento.\n",
    "\n",
    "```python\n",
    "to_numpy(\n",
    "    dtype=None, # str or numpy.dtype¹\n",
    "                # dtype para passar para o método \"numpy.asarray\"²\n",
    "    copy=False # bool, padrão: False\n",
    "               # True -> Garante que a aída é uma cópia e não\n",
    "               # uma visualização de um outro array.\n",
    "               # **False não garante que não será feita uma cópia\n",
    ")\n",
    "```\n",
    "\n",
    "**Fontes:**\n",
    "* [`to_numpy`](https://pandas.pydata.org/pandas-docs/stable/reference/api/pandas.DataFrame.to_numpy.html#pandas.DataFrame.to_numpy)\n",
    "* [`numpy.dtype`](https://numpy.org/doc/stable/reference/generated/numpy.dtype.html)\n",
    "* [`numpy.asarray()`](https://numpy.org/doc/stable/reference/generated/numpy.asarray.html)"
   ]
  },
  {
   "cell_type": "markdown",
   "metadata": {
    "id": "kpPnqdEr6w7A"
   },
   "source": [
    "Para `df`, composto por valores `float`, `to_numpy()` retorna rapidamente o resultado, sem necessidade de cópia dos dados."
   ]
  },
  {
   "cell_type": "code",
   "execution_count": null,
   "metadata": {
    "colab": {
     "base_uri": "https://localhost:8080/",
     "height": 238
    },
    "executionInfo": {
     "elapsed": 6190,
     "status": "ok",
     "timestamp": 1618935871216,
     "user": {
      "displayName": "Rafael Matos",
      "photoUrl": "https://lh3.googleusercontent.com/a-/AOh14GizvLjQZmGB4-KGWvSOV05hr_lUcZifkDol22tmbQ=s64",
      "userId": "08861151773596892595"
     },
     "user_tz": 180
    },
    "id": "hV5jOjrOLGrI",
    "outputId": "75ac6e31-5918-42d2-b351-ffb4459cf93b"
   },
   "outputs": [
    {
     "data": {
      "text/html": [
       "<div>\n",
       "<style scoped>\n",
       "    .dataframe tbody tr th:only-of-type {\n",
       "        vertical-align: middle;\n",
       "    }\n",
       "\n",
       "    .dataframe tbody tr th {\n",
       "        vertical-align: top;\n",
       "    }\n",
       "\n",
       "    .dataframe thead th {\n",
       "        text-align: right;\n",
       "    }\n",
       "</style>\n",
       "<table border=\"1\" class=\"dataframe\">\n",
       "  <thead>\n",
       "    <tr style=\"text-align: right;\">\n",
       "      <th></th>\n",
       "      <th>A</th>\n",
       "      <th>B</th>\n",
       "      <th>C</th>\n",
       "      <th>D</th>\n",
       "    </tr>\n",
       "  </thead>\n",
       "  <tbody>\n",
       "    <tr>\n",
       "      <th>0</th>\n",
       "      <td>0.762420</td>\n",
       "      <td>1.450398</td>\n",
       "      <td>-1.109476</td>\n",
       "      <td>1.265186</td>\n",
       "    </tr>\n",
       "    <tr>\n",
       "      <th>1</th>\n",
       "      <td>-0.499884</td>\n",
       "      <td>-0.194947</td>\n",
       "      <td>0.724536</td>\n",
       "      <td>-1.161091</td>\n",
       "    </tr>\n",
       "    <tr>\n",
       "      <th>2</th>\n",
       "      <td>-0.529498</td>\n",
       "      <td>0.009551</td>\n",
       "      <td>0.857248</td>\n",
       "      <td>0.733360</td>\n",
       "    </tr>\n",
       "    <tr>\n",
       "      <th>3</th>\n",
       "      <td>-0.988143</td>\n",
       "      <td>-2.679477</td>\n",
       "      <td>1.471886</td>\n",
       "      <td>-1.807367</td>\n",
       "    </tr>\n",
       "    <tr>\n",
       "      <th>4</th>\n",
       "      <td>-0.615046</td>\n",
       "      <td>0.093353</td>\n",
       "      <td>0.487800</td>\n",
       "      <td>0.904304</td>\n",
       "    </tr>\n",
       "    <tr>\n",
       "      <th>5</th>\n",
       "      <td>-0.667708</td>\n",
       "      <td>0.427928</td>\n",
       "      <td>-2.412935</td>\n",
       "      <td>-0.553455</td>\n",
       "    </tr>\n",
       "  </tbody>\n",
       "</table>\n",
       "</div>"
      ],
      "text/plain": [
       "          A         B         C         D\n",
       "0  0.762420  1.450398 -1.109476  1.265186\n",
       "1 -0.499884 -0.194947  0.724536 -1.161091\n",
       "2 -0.529498  0.009551  0.857248  0.733360\n",
       "3 -0.988143 -2.679477  1.471886 -1.807367\n",
       "4 -0.615046  0.093353  0.487800  0.904304\n",
       "5 -0.667708  0.427928 -2.412935 -0.553455"
      ]
     },
     "execution_count": 13,
     "metadata": {
      "tags": []
     },
     "output_type": "execute_result"
    }
   ],
   "source": [
    "df"
   ]
  },
  {
   "cell_type": "code",
   "execution_count": null,
   "metadata": {
    "colab": {
     "base_uri": "https://localhost:8080/"
    },
    "executionInfo": {
     "elapsed": 5984,
     "status": "ok",
     "timestamp": 1618935871221,
     "user": {
      "displayName": "Rafael Matos",
      "photoUrl": "https://lh3.googleusercontent.com/a-/AOh14GizvLjQZmGB4-KGWvSOV05hr_lUcZifkDol22tmbQ=s64",
      "userId": "08861151773596892595"
     },
     "user_tz": 180
    },
    "id": "wVNj6GeN6w7D",
    "outputId": "0a4ff5a5-c6b5-494b-abea-545ca46ebde5"
   },
   "outputs": [
    {
     "name": "stdout",
     "output_type": "stream",
     "text": [
      "CPU times: user 73 µs, sys: 10 µs, total: 83 µs\n",
      "Wall time: 89.2 µs\n"
     ]
    },
    {
     "data": {
      "text/plain": [
       "array([[ 0.76242008,  1.45039779, -1.10947559,  1.26518608],\n",
       "       [-0.49988424, -0.19494734,  0.7245357 , -1.16109059],\n",
       "       [-0.52949849,  0.00955144,  0.85724757,  0.73336002],\n",
       "       [-0.98814333, -2.67947663,  1.4718863 , -1.80736669],\n",
       "       [-0.61504583,  0.09335272,  0.48780044,  0.90430422],\n",
       "       [-0.66770786,  0.42792766, -2.41293505, -0.5534555 ]])"
      ]
     },
     "execution_count": 14,
     "metadata": {
      "tags": []
     },
     "output_type": "execute_result"
    }
   ],
   "source": [
    "%%time\n",
    "df.to_numpy()"
   ]
  },
  {
   "cell_type": "markdown",
   "metadata": {
    "id": "qPf0jOC46w7J"
   },
   "source": [
    "Como o `DataFrame` `df2` possui múltiplos **dtypes**, o método se torna relativamente custoso."
   ]
  },
  {
   "cell_type": "code",
   "execution_count": null,
   "metadata": {
    "colab": {
     "base_uri": "https://localhost:8080/",
     "height": 175
    },
    "executionInfo": {
     "elapsed": 5842,
     "status": "ok",
     "timestamp": 1618935871224,
     "user": {
      "displayName": "Rafael Matos",
      "photoUrl": "https://lh3.googleusercontent.com/a-/AOh14GizvLjQZmGB4-KGWvSOV05hr_lUcZifkDol22tmbQ=s64",
      "userId": "08861151773596892595"
     },
     "user_tz": 180
    },
    "id": "U736CTg6LOwn",
    "outputId": "798120b5-3b26-4cb1-a9e2-709ef556db50"
   },
   "outputs": [
    {
     "data": {
      "text/html": [
       "<div>\n",
       "<style scoped>\n",
       "    .dataframe tbody tr th:only-of-type {\n",
       "        vertical-align: middle;\n",
       "    }\n",
       "\n",
       "    .dataframe tbody tr th {\n",
       "        vertical-align: top;\n",
       "    }\n",
       "\n",
       "    .dataframe thead th {\n",
       "        text-align: right;\n",
       "    }\n",
       "</style>\n",
       "<table border=\"1\" class=\"dataframe\">\n",
       "  <thead>\n",
       "    <tr style=\"text-align: right;\">\n",
       "      <th></th>\n",
       "      <th>A</th>\n",
       "      <th>B</th>\n",
       "      <th>C</th>\n",
       "      <th>D</th>\n",
       "      <th>E</th>\n",
       "      <th>F</th>\n",
       "    </tr>\n",
       "  </thead>\n",
       "  <tbody>\n",
       "    <tr>\n",
       "      <th>0</th>\n",
       "      <td>1.0</td>\n",
       "      <td>2013-01-02</td>\n",
       "      <td>1.0</td>\n",
       "      <td>3</td>\n",
       "      <td>test</td>\n",
       "      <td>foo</td>\n",
       "    </tr>\n",
       "    <tr>\n",
       "      <th>1</th>\n",
       "      <td>1.0</td>\n",
       "      <td>2013-01-02</td>\n",
       "      <td>1.0</td>\n",
       "      <td>3</td>\n",
       "      <td>train</td>\n",
       "      <td>foo</td>\n",
       "    </tr>\n",
       "    <tr>\n",
       "      <th>2</th>\n",
       "      <td>1.0</td>\n",
       "      <td>2013-01-02</td>\n",
       "      <td>1.0</td>\n",
       "      <td>3</td>\n",
       "      <td>test</td>\n",
       "      <td>foo</td>\n",
       "    </tr>\n",
       "    <tr>\n",
       "      <th>3</th>\n",
       "      <td>1.0</td>\n",
       "      <td>2013-01-02</td>\n",
       "      <td>1.0</td>\n",
       "      <td>3</td>\n",
       "      <td>train</td>\n",
       "      <td>foo</td>\n",
       "    </tr>\n",
       "  </tbody>\n",
       "</table>\n",
       "</div>"
      ],
      "text/plain": [
       "     A          B    C  D      E    F\n",
       "0  1.0 2013-01-02  1.0  3   test  foo\n",
       "1  1.0 2013-01-02  1.0  3  train  foo\n",
       "2  1.0 2013-01-02  1.0  3   test  foo\n",
       "3  1.0 2013-01-02  1.0  3  train  foo"
      ]
     },
     "execution_count": 15,
     "metadata": {
      "tags": []
     },
     "output_type": "execute_result"
    }
   ],
   "source": [
    "df2"
   ]
  },
  {
   "cell_type": "code",
   "execution_count": null,
   "metadata": {
    "colab": {
     "base_uri": "https://localhost:8080/"
    },
    "executionInfo": {
     "elapsed": 5744,
     "status": "ok",
     "timestamp": 1618935871226,
     "user": {
      "displayName": "Rafael Matos",
      "photoUrl": "https://lh3.googleusercontent.com/a-/AOh14GizvLjQZmGB4-KGWvSOV05hr_lUcZifkDol22tmbQ=s64",
      "userId": "08861151773596892595"
     },
     "user_tz": 180
    },
    "id": "HvrKN_7x6w7K",
    "outputId": "abc76880-b9ec-411f-901e-bda14136750f"
   },
   "outputs": [
    {
     "name": "stdout",
     "output_type": "stream",
     "text": [
      "CPU times: user 1.36 ms, sys: 41 µs, total: 1.4 ms\n",
      "Wall time: 1.64 ms\n"
     ]
    },
    {
     "data": {
      "text/plain": [
       "array([[1.0, Timestamp('2013-01-02 00:00:00'), 1.0, 3, 'test', 'foo'],\n",
       "       [1.0, Timestamp('2013-01-02 00:00:00'), 1.0, 3, 'train', 'foo'],\n",
       "       [1.0, Timestamp('2013-01-02 00:00:00'), 1.0, 3, 'test', 'foo'],\n",
       "       [1.0, Timestamp('2013-01-02 00:00:00'), 1.0, 3, 'train', 'foo']],\n",
       "      dtype=object)"
      ]
     },
     "execution_count": 16,
     "metadata": {
      "tags": []
     },
     "output_type": "execute_result"
    }
   ],
   "source": [
    "%%time\n",
    "df2.to_numpy()"
   ]
  },
  {
   "cell_type": "markdown",
   "metadata": {
    "id": "Tqkdsvd_6w7S"
   },
   "source": [
    ">**Nota:**\n",
    "* `DataFrame.to_numpy()` não inclui os rótulos (linhas ou colunas) na saída."
   ]
  },
  {
   "cell_type": "markdown",
   "metadata": {
    "id": "jVoeIEZ56w7U"
   },
   "source": [
    "#### Método `describe()`\n",
    "Estatística rápida dos dados."
   ]
  },
  {
   "cell_type": "code",
   "execution_count": null,
   "metadata": {
    "colab": {
     "base_uri": "https://localhost:8080/",
     "height": 300
    },
    "executionInfo": {
     "elapsed": 5563,
     "status": "ok",
     "timestamp": 1618935871229,
     "user": {
      "displayName": "Rafael Matos",
      "photoUrl": "https://lh3.googleusercontent.com/a-/AOh14GizvLjQZmGB4-KGWvSOV05hr_lUcZifkDol22tmbQ=s64",
      "userId": "08861151773596892595"
     },
     "user_tz": 180
    },
    "id": "Z6D0dnnf6w7W",
    "outputId": "d14a9567-23ea-4f57-d77d-756016c7ce94"
   },
   "outputs": [
    {
     "data": {
      "text/html": [
       "<div>\n",
       "<style scoped>\n",
       "    .dataframe tbody tr th:only-of-type {\n",
       "        vertical-align: middle;\n",
       "    }\n",
       "\n",
       "    .dataframe tbody tr th {\n",
       "        vertical-align: top;\n",
       "    }\n",
       "\n",
       "    .dataframe thead th {\n",
       "        text-align: right;\n",
       "    }\n",
       "</style>\n",
       "<table border=\"1\" class=\"dataframe\">\n",
       "  <thead>\n",
       "    <tr style=\"text-align: right;\">\n",
       "      <th></th>\n",
       "      <th>A</th>\n",
       "      <th>B</th>\n",
       "      <th>C</th>\n",
       "      <th>D</th>\n",
       "    </tr>\n",
       "  </thead>\n",
       "  <tbody>\n",
       "    <tr>\n",
       "      <th>count</th>\n",
       "      <td>6.000000</td>\n",
       "      <td>6.000000</td>\n",
       "      <td>6.000000</td>\n",
       "      <td>6.000000</td>\n",
       "    </tr>\n",
       "    <tr>\n",
       "      <th>mean</th>\n",
       "      <td>-0.422977</td>\n",
       "      <td>-0.148866</td>\n",
       "      <td>0.003177</td>\n",
       "      <td>-0.103177</td>\n",
       "    </tr>\n",
       "    <tr>\n",
       "      <th>std</th>\n",
       "      <td>0.606403</td>\n",
       "      <td>1.369687</td>\n",
       "      <td>1.464060</td>\n",
       "      <td>1.250074</td>\n",
       "    </tr>\n",
       "    <tr>\n",
       "      <th>min</th>\n",
       "      <td>-0.988143</td>\n",
       "      <td>-2.679477</td>\n",
       "      <td>-2.412935</td>\n",
       "      <td>-1.807367</td>\n",
       "    </tr>\n",
       "    <tr>\n",
       "      <th>25%</th>\n",
       "      <td>-0.654542</td>\n",
       "      <td>-0.143823</td>\n",
       "      <td>-0.710157</td>\n",
       "      <td>-1.009182</td>\n",
       "    </tr>\n",
       "    <tr>\n",
       "      <th>50%</th>\n",
       "      <td>-0.572272</td>\n",
       "      <td>0.051452</td>\n",
       "      <td>0.606168</td>\n",
       "      <td>0.089952</td>\n",
       "    </tr>\n",
       "    <tr>\n",
       "      <th>75%</th>\n",
       "      <td>-0.507288</td>\n",
       "      <td>0.344284</td>\n",
       "      <td>0.824070</td>\n",
       "      <td>0.861568</td>\n",
       "    </tr>\n",
       "    <tr>\n",
       "      <th>max</th>\n",
       "      <td>0.762420</td>\n",
       "      <td>1.450398</td>\n",
       "      <td>1.471886</td>\n",
       "      <td>1.265186</td>\n",
       "    </tr>\n",
       "  </tbody>\n",
       "</table>\n",
       "</div>"
      ],
      "text/plain": [
       "              A         B         C         D\n",
       "count  6.000000  6.000000  6.000000  6.000000\n",
       "mean  -0.422977 -0.148866  0.003177 -0.103177\n",
       "std    0.606403  1.369687  1.464060  1.250074\n",
       "min   -0.988143 -2.679477 -2.412935 -1.807367\n",
       "25%   -0.654542 -0.143823 -0.710157 -1.009182\n",
       "50%   -0.572272  0.051452  0.606168  0.089952\n",
       "75%   -0.507288  0.344284  0.824070  0.861568\n",
       "max    0.762420  1.450398  1.471886  1.265186"
      ]
     },
     "execution_count": 17,
     "metadata": {
      "tags": []
     },
     "output_type": "execute_result"
    }
   ],
   "source": [
    "df.describe()"
   ]
  },
  {
   "cell_type": "markdown",
   "metadata": {
    "id": "xsnrODUN6w7d"
   },
   "source": [
    "#### Método `T`\n",
    "Transposição dos dados:"
   ]
  },
  {
   "cell_type": "code",
   "execution_count": null,
   "metadata": {
    "colab": {
     "base_uri": "https://localhost:8080/",
     "height": 175
    },
    "executionInfo": {
     "elapsed": 5348,
     "status": "ok",
     "timestamp": 1618935871240,
     "user": {
      "displayName": "Rafael Matos",
      "photoUrl": "https://lh3.googleusercontent.com/a-/AOh14GizvLjQZmGB4-KGWvSOV05hr_lUcZifkDol22tmbQ=s64",
      "userId": "08861151773596892595"
     },
     "user_tz": 180
    },
    "id": "wybaBWyg6w7h",
    "outputId": "15bf8631-21c1-4563-f444-26842bd003c8"
   },
   "outputs": [
    {
     "data": {
      "text/html": [
       "<div>\n",
       "<style scoped>\n",
       "    .dataframe tbody tr th:only-of-type {\n",
       "        vertical-align: middle;\n",
       "    }\n",
       "\n",
       "    .dataframe tbody tr th {\n",
       "        vertical-align: top;\n",
       "    }\n",
       "\n",
       "    .dataframe thead th {\n",
       "        text-align: right;\n",
       "    }\n",
       "</style>\n",
       "<table border=\"1\" class=\"dataframe\">\n",
       "  <thead>\n",
       "    <tr style=\"text-align: right;\">\n",
       "      <th></th>\n",
       "      <th>0</th>\n",
       "      <th>1</th>\n",
       "      <th>2</th>\n",
       "      <th>3</th>\n",
       "      <th>4</th>\n",
       "      <th>5</th>\n",
       "    </tr>\n",
       "  </thead>\n",
       "  <tbody>\n",
       "    <tr>\n",
       "      <th>A</th>\n",
       "      <td>0.762420</td>\n",
       "      <td>-0.499884</td>\n",
       "      <td>-0.529498</td>\n",
       "      <td>-0.988143</td>\n",
       "      <td>-0.615046</td>\n",
       "      <td>-0.667708</td>\n",
       "    </tr>\n",
       "    <tr>\n",
       "      <th>B</th>\n",
       "      <td>1.450398</td>\n",
       "      <td>-0.194947</td>\n",
       "      <td>0.009551</td>\n",
       "      <td>-2.679477</td>\n",
       "      <td>0.093353</td>\n",
       "      <td>0.427928</td>\n",
       "    </tr>\n",
       "    <tr>\n",
       "      <th>C</th>\n",
       "      <td>-1.109476</td>\n",
       "      <td>0.724536</td>\n",
       "      <td>0.857248</td>\n",
       "      <td>1.471886</td>\n",
       "      <td>0.487800</td>\n",
       "      <td>-2.412935</td>\n",
       "    </tr>\n",
       "    <tr>\n",
       "      <th>D</th>\n",
       "      <td>1.265186</td>\n",
       "      <td>-1.161091</td>\n",
       "      <td>0.733360</td>\n",
       "      <td>-1.807367</td>\n",
       "      <td>0.904304</td>\n",
       "      <td>-0.553455</td>\n",
       "    </tr>\n",
       "  </tbody>\n",
       "</table>\n",
       "</div>"
      ],
      "text/plain": [
       "          0         1         2         3         4         5\n",
       "A  0.762420 -0.499884 -0.529498 -0.988143 -0.615046 -0.667708\n",
       "B  1.450398 -0.194947  0.009551 -2.679477  0.093353  0.427928\n",
       "C -1.109476  0.724536  0.857248  1.471886  0.487800 -2.412935\n",
       "D  1.265186 -1.161091  0.733360 -1.807367  0.904304 -0.553455"
      ]
     },
     "execution_count": 18,
     "metadata": {
      "tags": []
     },
     "output_type": "execute_result"
    }
   ],
   "source": [
    "df.T"
   ]
  },
  {
   "cell_type": "markdown",
   "metadata": {
    "id": "MJ5depX16w7o"
   },
   "source": [
    "#### Método `sort_index()`\n",
    "Ordenando na direção do rótulo."
   ]
  },
  {
   "cell_type": "code",
   "execution_count": null,
   "metadata": {
    "colab": {
     "base_uri": "https://localhost:8080/",
     "height": 238
    },
    "executionInfo": {
     "elapsed": 5172,
     "status": "ok",
     "timestamp": 1618935871254,
     "user": {
      "displayName": "Rafael Matos",
      "photoUrl": "https://lh3.googleusercontent.com/a-/AOh14GizvLjQZmGB4-KGWvSOV05hr_lUcZifkDol22tmbQ=s64",
      "userId": "08861151773596892595"
     },
     "user_tz": 180
    },
    "id": "jKmTQZkT6w7s",
    "outputId": "12548509-a9b7-4a36-ba8f-8cf7cd434d5a"
   },
   "outputs": [
    {
     "data": {
      "text/html": [
       "<div>\n",
       "<style scoped>\n",
       "    .dataframe tbody tr th:only-of-type {\n",
       "        vertical-align: middle;\n",
       "    }\n",
       "\n",
       "    .dataframe tbody tr th {\n",
       "        vertical-align: top;\n",
       "    }\n",
       "\n",
       "    .dataframe thead th {\n",
       "        text-align: right;\n",
       "    }\n",
       "</style>\n",
       "<table border=\"1\" class=\"dataframe\">\n",
       "  <thead>\n",
       "    <tr style=\"text-align: right;\">\n",
       "      <th></th>\n",
       "      <th>A</th>\n",
       "      <th>B</th>\n",
       "      <th>C</th>\n",
       "      <th>D</th>\n",
       "    </tr>\n",
       "  </thead>\n",
       "  <tbody>\n",
       "    <tr>\n",
       "      <th>5</th>\n",
       "      <td>-0.667708</td>\n",
       "      <td>0.427928</td>\n",
       "      <td>-2.412935</td>\n",
       "      <td>-0.553455</td>\n",
       "    </tr>\n",
       "    <tr>\n",
       "      <th>4</th>\n",
       "      <td>-0.615046</td>\n",
       "      <td>0.093353</td>\n",
       "      <td>0.487800</td>\n",
       "      <td>0.904304</td>\n",
       "    </tr>\n",
       "    <tr>\n",
       "      <th>3</th>\n",
       "      <td>-0.988143</td>\n",
       "      <td>-2.679477</td>\n",
       "      <td>1.471886</td>\n",
       "      <td>-1.807367</td>\n",
       "    </tr>\n",
       "    <tr>\n",
       "      <th>2</th>\n",
       "      <td>-0.529498</td>\n",
       "      <td>0.009551</td>\n",
       "      <td>0.857248</td>\n",
       "      <td>0.733360</td>\n",
       "    </tr>\n",
       "    <tr>\n",
       "      <th>1</th>\n",
       "      <td>-0.499884</td>\n",
       "      <td>-0.194947</td>\n",
       "      <td>0.724536</td>\n",
       "      <td>-1.161091</td>\n",
       "    </tr>\n",
       "    <tr>\n",
       "      <th>0</th>\n",
       "      <td>0.762420</td>\n",
       "      <td>1.450398</td>\n",
       "      <td>-1.109476</td>\n",
       "      <td>1.265186</td>\n",
       "    </tr>\n",
       "  </tbody>\n",
       "</table>\n",
       "</div>"
      ],
      "text/plain": [
       "          A         B         C         D\n",
       "5 -0.667708  0.427928 -2.412935 -0.553455\n",
       "4 -0.615046  0.093353  0.487800  0.904304\n",
       "3 -0.988143 -2.679477  1.471886 -1.807367\n",
       "2 -0.529498  0.009551  0.857248  0.733360\n",
       "1 -0.499884 -0.194947  0.724536 -1.161091\n",
       "0  0.762420  1.450398 -1.109476  1.265186"
      ]
     },
     "execution_count": 19,
     "metadata": {
      "tags": []
     },
     "output_type": "execute_result"
    }
   ],
   "source": [
    "df.sort_index(axis=0, ascending=False)"
   ]
  },
  {
   "cell_type": "code",
   "execution_count": null,
   "metadata": {
    "colab": {
     "base_uri": "https://localhost:8080/",
     "height": 238
    },
    "executionInfo": {
     "elapsed": 5048,
     "status": "ok",
     "timestamp": 1618935871258,
     "user": {
      "displayName": "Rafael Matos",
      "photoUrl": "https://lh3.googleusercontent.com/a-/AOh14GizvLjQZmGB4-KGWvSOV05hr_lUcZifkDol22tmbQ=s64",
      "userId": "08861151773596892595"
     },
     "user_tz": 180
    },
    "id": "Qy5UXyI5MJEG",
    "outputId": "bc31c0e4-0c65-483e-de93-6371ae77358d"
   },
   "outputs": [
    {
     "data": {
      "text/html": [
       "<div>\n",
       "<style scoped>\n",
       "    .dataframe tbody tr th:only-of-type {\n",
       "        vertical-align: middle;\n",
       "    }\n",
       "\n",
       "    .dataframe tbody tr th {\n",
       "        vertical-align: top;\n",
       "    }\n",
       "\n",
       "    .dataframe thead th {\n",
       "        text-align: right;\n",
       "    }\n",
       "</style>\n",
       "<table border=\"1\" class=\"dataframe\">\n",
       "  <thead>\n",
       "    <tr style=\"text-align: right;\">\n",
       "      <th></th>\n",
       "      <th>D</th>\n",
       "      <th>C</th>\n",
       "      <th>B</th>\n",
       "      <th>A</th>\n",
       "    </tr>\n",
       "  </thead>\n",
       "  <tbody>\n",
       "    <tr>\n",
       "      <th>0</th>\n",
       "      <td>1.265186</td>\n",
       "      <td>-1.109476</td>\n",
       "      <td>1.450398</td>\n",
       "      <td>0.762420</td>\n",
       "    </tr>\n",
       "    <tr>\n",
       "      <th>1</th>\n",
       "      <td>-1.161091</td>\n",
       "      <td>0.724536</td>\n",
       "      <td>-0.194947</td>\n",
       "      <td>-0.499884</td>\n",
       "    </tr>\n",
       "    <tr>\n",
       "      <th>2</th>\n",
       "      <td>0.733360</td>\n",
       "      <td>0.857248</td>\n",
       "      <td>0.009551</td>\n",
       "      <td>-0.529498</td>\n",
       "    </tr>\n",
       "    <tr>\n",
       "      <th>3</th>\n",
       "      <td>-1.807367</td>\n",
       "      <td>1.471886</td>\n",
       "      <td>-2.679477</td>\n",
       "      <td>-0.988143</td>\n",
       "    </tr>\n",
       "    <tr>\n",
       "      <th>4</th>\n",
       "      <td>0.904304</td>\n",
       "      <td>0.487800</td>\n",
       "      <td>0.093353</td>\n",
       "      <td>-0.615046</td>\n",
       "    </tr>\n",
       "    <tr>\n",
       "      <th>5</th>\n",
       "      <td>-0.553455</td>\n",
       "      <td>-2.412935</td>\n",
       "      <td>0.427928</td>\n",
       "      <td>-0.667708</td>\n",
       "    </tr>\n",
       "  </tbody>\n",
       "</table>\n",
       "</div>"
      ],
      "text/plain": [
       "          D         C         B         A\n",
       "0  1.265186 -1.109476  1.450398  0.762420\n",
       "1 -1.161091  0.724536 -0.194947 -0.499884\n",
       "2  0.733360  0.857248  0.009551 -0.529498\n",
       "3 -1.807367  1.471886 -2.679477 -0.988143\n",
       "4  0.904304  0.487800  0.093353 -0.615046\n",
       "5 -0.553455 -2.412935  0.427928 -0.667708"
      ]
     },
     "execution_count": 20,
     "metadata": {
      "tags": []
     },
     "output_type": "execute_result"
    }
   ],
   "source": [
    "df.sort_index(axis=1, ascending=False)"
   ]
  },
  {
   "cell_type": "markdown",
   "metadata": {
    "id": "v8VFoI7A6w7y"
   },
   "source": [
    "#### Método `sort_values()`\n",
    "Ordenando pelos valores:"
   ]
  },
  {
   "cell_type": "code",
   "execution_count": null,
   "metadata": {
    "colab": {
     "base_uri": "https://localhost:8080/",
     "height": 238
    },
    "executionInfo": {
     "elapsed": 4983,
     "status": "ok",
     "timestamp": 1618935871266,
     "user": {
      "displayName": "Rafael Matos",
      "photoUrl": "https://lh3.googleusercontent.com/a-/AOh14GizvLjQZmGB4-KGWvSOV05hr_lUcZifkDol22tmbQ=s64",
      "userId": "08861151773596892595"
     },
     "user_tz": 180
    },
    "id": "dt4y1Agh6w76",
    "outputId": "176f0cc7-2c16-41b9-ecbb-fdd3fb19d105"
   },
   "outputs": [
    {
     "data": {
      "text/html": [
       "<div>\n",
       "<style scoped>\n",
       "    .dataframe tbody tr th:only-of-type {\n",
       "        vertical-align: middle;\n",
       "    }\n",
       "\n",
       "    .dataframe tbody tr th {\n",
       "        vertical-align: top;\n",
       "    }\n",
       "\n",
       "    .dataframe thead th {\n",
       "        text-align: right;\n",
       "    }\n",
       "</style>\n",
       "<table border=\"1\" class=\"dataframe\">\n",
       "  <thead>\n",
       "    <tr style=\"text-align: right;\">\n",
       "      <th></th>\n",
       "      <th>A</th>\n",
       "      <th>B</th>\n",
       "      <th>C</th>\n",
       "      <th>D</th>\n",
       "    </tr>\n",
       "  </thead>\n",
       "  <tbody>\n",
       "    <tr>\n",
       "      <th>3</th>\n",
       "      <td>-0.988143</td>\n",
       "      <td>-2.679477</td>\n",
       "      <td>1.471886</td>\n",
       "      <td>-1.807367</td>\n",
       "    </tr>\n",
       "    <tr>\n",
       "      <th>1</th>\n",
       "      <td>-0.499884</td>\n",
       "      <td>-0.194947</td>\n",
       "      <td>0.724536</td>\n",
       "      <td>-1.161091</td>\n",
       "    </tr>\n",
       "    <tr>\n",
       "      <th>2</th>\n",
       "      <td>-0.529498</td>\n",
       "      <td>0.009551</td>\n",
       "      <td>0.857248</td>\n",
       "      <td>0.733360</td>\n",
       "    </tr>\n",
       "    <tr>\n",
       "      <th>4</th>\n",
       "      <td>-0.615046</td>\n",
       "      <td>0.093353</td>\n",
       "      <td>0.487800</td>\n",
       "      <td>0.904304</td>\n",
       "    </tr>\n",
       "    <tr>\n",
       "      <th>5</th>\n",
       "      <td>-0.667708</td>\n",
       "      <td>0.427928</td>\n",
       "      <td>-2.412935</td>\n",
       "      <td>-0.553455</td>\n",
       "    </tr>\n",
       "    <tr>\n",
       "      <th>0</th>\n",
       "      <td>0.762420</td>\n",
       "      <td>1.450398</td>\n",
       "      <td>-1.109476</td>\n",
       "      <td>1.265186</td>\n",
       "    </tr>\n",
       "  </tbody>\n",
       "</table>\n",
       "</div>"
      ],
      "text/plain": [
       "          A         B         C         D\n",
       "3 -0.988143 -2.679477  1.471886 -1.807367\n",
       "1 -0.499884 -0.194947  0.724536 -1.161091\n",
       "2 -0.529498  0.009551  0.857248  0.733360\n",
       "4 -0.615046  0.093353  0.487800  0.904304\n",
       "5 -0.667708  0.427928 -2.412935 -0.553455\n",
       "0  0.762420  1.450398 -1.109476  1.265186"
      ]
     },
     "execution_count": 21,
     "metadata": {
      "tags": []
     },
     "output_type": "execute_result"
    }
   ],
   "source": [
    "df.sort_values(by='B')"
   ]
  },
  {
   "cell_type": "markdown",
   "metadata": {
    "id": "qHYucNwWTL4V"
   },
   "source": [
    "#### Exercício 3\n",
    "Com o `DataFrame` `df1_ex02` criado no [Exercício 2](#Exercício-2):\n",
    "* nome da variável: `df1_ex03`\n",
    "* ordene de forma decrescente o `df1_ex02` pela coluna de `s1_ex01`;\n",
    "* verifique o que faz e aplique o método `reset_index` nos dados resultantes;\n",
    "* faça a estatística básica dos seus dados.\n"
   ]
  },
  {
   "cell_type": "code",
   "execution_count": null,
   "metadata": {
    "id": "tQVyZoSnU_vV"
   },
   "outputs": [],
   "source": []
  },
  {
   "cell_type": "markdown",
   "metadata": {
    "id": "UDVGG73R6w5J"
   },
   "source": [
    "### 3 Index\n",
    "Como vimos, os índices são um diferencial para as estruturas do Pandas, vamos dar uma olhada no que são capazes.\n",
    "\n",
    "**Vídeo:** https://youtu.be/9Sn2QpPawwI\n",
    "\n",
    "**Fontes:**\n",
    "* [Indexing](https://pandas.pydata.org/pandas-docs/stable/reference/indexing.html)\n"
   ]
  },
  {
   "cell_type": "markdown",
   "metadata": {
    "id": "vYTdCof7BAGy"
   },
   "source": [
    "\n",
    "#### Numeric Index\n",
    "```python\n",
    "RangeIndex([start, stop, step, dtype, copy, …]) # Immutable Index implementing a monotonic integer range.\n",
    "Int64Index([data, dtype, copy, name])           # Immutable sequence used for indexing and alignment.\n",
    "UInt64Index([data, dtype, copy, name])          # Immutable sequence used for indexing and alignment.\n",
    "Float64Index([data, dtype, copy, name])         # Immutable sequence used for indexing and alignment.\n",
    "```\n",
    "Quando não informamos o índice de uma serie ou tabela ao Pandas, ele automaticamente cria um índice `pd.RangeIndex` com tamanho igual ao número de dados."
   ]
  },
  {
   "cell_type": "code",
   "execution_count": null,
   "metadata": {
    "colab": {
     "base_uri": "https://localhost:8080/"
    },
    "executionInfo": {
     "elapsed": 4912,
     "status": "ok",
     "timestamp": 1618935871272,
     "user": {
      "displayName": "Rafael Matos",
      "photoUrl": "https://lh3.googleusercontent.com/a-/AOh14GizvLjQZmGB4-KGWvSOV05hr_lUcZifkDol22tmbQ=s64",
      "userId": "08861151773596892595"
     },
     "user_tz": 180
    },
    "id": "qtKvK-MXFMke",
    "outputId": "fb0736e9-b2b8-4ee1-98ee-c73001bb896d"
   },
   "outputs": [
    {
     "data": {
      "text/plain": [
       "RangeIndex(start=0, stop=100, step=1)"
      ]
     },
     "execution_count": 22,
     "metadata": {
      "tags": []
     },
     "output_type": "execute_result"
    }
   ],
   "source": [
    "pd.Series(range(100)).index"
   ]
  },
  {
   "cell_type": "markdown",
   "metadata": {
    "id": "YIlatvlpGi4m"
   },
   "source": [
    "Semelhante a `range`e `np.arange`."
   ]
  },
  {
   "cell_type": "code",
   "execution_count": null,
   "metadata": {
    "colab": {
     "base_uri": "https://localhost:8080/"
    },
    "executionInfo": {
     "elapsed": 4854,
     "status": "ok",
     "timestamp": 1618935871275,
     "user": {
      "displayName": "Rafael Matos",
      "photoUrl": "https://lh3.googleusercontent.com/a-/AOh14GizvLjQZmGB4-KGWvSOV05hr_lUcZifkDol22tmbQ=s64",
      "userId": "08861151773596892595"
     },
     "user_tz": 180
    },
    "id": "5hCeA5dGAjkw",
    "outputId": "c66a479b-d71c-41a7-a9e8-eb6b55cd2467"
   },
   "outputs": [
    {
     "data": {
      "text/plain": [
       "RangeIndex(start=1, stop=10, step=2)"
      ]
     },
     "execution_count": 23,
     "metadata": {
      "tags": []
     },
     "output_type": "execute_result"
    }
   ],
   "source": [
    "pd.RangeIndex(start=1, stop=10., step=2)"
   ]
  },
  {
   "cell_type": "markdown",
   "metadata": {
    "id": "szY1I7LWDaXz"
   },
   "source": [
    "O que tem dentro dessa caixa preta?"
   ]
  },
  {
   "cell_type": "code",
   "execution_count": null,
   "metadata": {
    "colab": {
     "base_uri": "https://localhost:8080/"
    },
    "executionInfo": {
     "elapsed": 4807,
     "status": "ok",
     "timestamp": 1618935871288,
     "user": {
      "displayName": "Rafael Matos",
      "photoUrl": "https://lh3.googleusercontent.com/a-/AOh14GizvLjQZmGB4-KGWvSOV05hr_lUcZifkDol22tmbQ=s64",
      "userId": "08861151773596892595"
     },
     "user_tz": 180
    },
    "id": "tDeujNR6_4P3",
    "outputId": "0b19f704-886e-44df-9ded-6a3ce6dfaffd"
   },
   "outputs": [
    {
     "data": {
      "text/plain": [
       "[1, 3, 5, 7, 9]"
      ]
     },
     "execution_count": 24,
     "metadata": {
      "tags": []
     },
     "output_type": "execute_result"
    }
   ],
   "source": [
    "[i for i in pd.RangeIndex(start=1, stop=10., step=2)]"
   ]
  },
  {
   "cell_type": "code",
   "execution_count": null,
   "metadata": {
    "colab": {
     "base_uri": "https://localhost:8080/"
    },
    "executionInfo": {
     "elapsed": 4733,
     "status": "ok",
     "timestamp": 1618935871291,
     "user": {
      "displayName": "Rafael Matos",
      "photoUrl": "https://lh3.googleusercontent.com/a-/AOh14GizvLjQZmGB4-KGWvSOV05hr_lUcZifkDol22tmbQ=s64",
      "userId": "08861151773596892595"
     },
     "user_tz": 180
    },
    "id": "RryFwzolC9zv",
    "outputId": "a1e3ba0c-ab6d-48f1-9c39-b581368a645c"
   },
   "outputs": [
    {
     "data": {
      "text/plain": [
       "1     0.850249\n",
       "3     0.167407\n",
       "5     0.934783\n",
       "7     0.958531\n",
       "9     0.398373\n",
       "11    0.899547\n",
       "13    0.575045\n",
       "15    0.383065\n",
       "17    0.679580\n",
       "19    0.739666\n",
       "Name: RangeIndex, dtype: float64"
      ]
     },
     "execution_count": 25,
     "metadata": {
      "tags": []
     },
     "output_type": "execute_result"
    }
   ],
   "source": [
    "pd.Series(np.random.rand(10), index=pd.RangeIndex(1, 20, 2), name='RangeIndex')"
   ]
  },
  {
   "cell_type": "markdown",
   "metadata": {
    "id": "69Zbc8-KCs-u"
   },
   "source": [
    "#### CategoricalIndex\n",
    "```python\n",
    "CategoricalIndex([data, categories, …]) # Index based on an underlying Categorical.\n",
    "```\n",
    "Um índice categórico pode ser imaginado como por exemplo uma linha nomeada por uma palavra em uma planilha. Serão mais explorados em [9. Categorização](#9.-Categorização)."
   ]
  },
  {
   "cell_type": "code",
   "execution_count": null,
   "metadata": {
    "colab": {
     "base_uri": "https://localhost:8080/"
    },
    "executionInfo": {
     "elapsed": 4672,
     "status": "ok",
     "timestamp": 1618935871296,
     "user": {
      "displayName": "Rafael Matos",
      "photoUrl": "https://lh3.googleusercontent.com/a-/AOh14GizvLjQZmGB4-KGWvSOV05hr_lUcZifkDol22tmbQ=s64",
      "userId": "08861151773596892595"
     },
     "user_tz": 180
    },
    "id": "1YCiPnGNDoTg",
    "outputId": "d68dd210-e0fa-4392-d321-3610dbd8ea4a"
   },
   "outputs": [
    {
     "data": {
      "text/plain": [
       "CategoricalIndex(['a', 'b', 'c', 'd', 'a', 'c', 'b'], categories=['a', 'b', 'c', 'd'], ordered=False, dtype='category')"
      ]
     },
     "execution_count": 26,
     "metadata": {
      "tags": []
     },
     "output_type": "execute_result"
    }
   ],
   "source": [
    "pd.CategoricalIndex(list('abcdacb'))"
   ]
  },
  {
   "cell_type": "code",
   "execution_count": null,
   "metadata": {
    "colab": {
     "base_uri": "https://localhost:8080/"
    },
    "executionInfo": {
     "elapsed": 4582,
     "status": "ok",
     "timestamp": 1618935871313,
     "user": {
      "displayName": "Rafael Matos",
      "photoUrl": "https://lh3.googleusercontent.com/a-/AOh14GizvLjQZmGB4-KGWvSOV05hr_lUcZifkDol22tmbQ=s64",
      "userId": "08861151773596892595"
     },
     "user_tz": 180
    },
    "id": "1jFzaRR_ECm7",
    "outputId": "e306b099-5cbe-4245-a5a6-3cb43264528b"
   },
   "outputs": [
    {
     "name": "stdout",
     "output_type": "stream",
     "text": [
      "Agora temos um mínimo \"d\" e um máximo \"c\" definidos.\n"
     ]
    }
   ],
   "source": [
    "idx = pd.CategoricalIndex(list('cdacb'), ordered=True, categories=list('dbac'))\n",
    "print('Agora temos um mínimo \"%s\" e um máximo \"%s\" definidos.'%(idx.min(), idx.max()))"
   ]
  },
  {
   "cell_type": "markdown",
   "metadata": {
    "id": "6piYo7oiDnXF"
   },
   "source": [
    "#### IntervalIndex\n",
    "```python\n",
    "IntervalIndex(data[, closed, dtype, copy, …]) # Immutable index of intervals that are closed on the same side.\n",
    "```\n",
    "Este é um tipo de índice com intervalos, normalmente construído com o método `pd.interval_range`."
   ]
  },
  {
   "cell_type": "code",
   "execution_count": null,
   "metadata": {
    "colab": {
     "base_uri": "https://localhost:8080/"
    },
    "executionInfo": {
     "elapsed": 4515,
     "status": "ok",
     "timestamp": 1618935871317,
     "user": {
      "displayName": "Rafael Matos",
      "photoUrl": "https://lh3.googleusercontent.com/a-/AOh14GizvLjQZmGB4-KGWvSOV05hr_lUcZifkDol22tmbQ=s64",
      "userId": "08861151773596892595"
     },
     "user_tz": 180
    },
    "id": "GnDOU2LTSd_v",
    "outputId": "71202c01-a994-4e74-e740-310165333663"
   },
   "outputs": [
    {
     "data": {
      "text/plain": [
       "IntervalIndex([(15, 17], (17, 19], (19, 21], (21, 23], (23, 25]],\n",
       "              closed='right',\n",
       "              dtype='interval[int64]')"
      ]
     },
     "execution_count": 28,
     "metadata": {
      "tags": []
     },
     "output_type": "execute_result"
    }
   ],
   "source": [
    "i_idx = pd.interval_range(start=15, end=25, periods=5, closed='right')\n",
    "i_idx"
   ]
  },
  {
   "cell_type": "code",
   "execution_count": null,
   "metadata": {
    "colab": {
     "base_uri": "https://localhost:8080/",
     "height": 206
    },
    "executionInfo": {
     "elapsed": 4446,
     "status": "ok",
     "timestamp": 1618935871327,
     "user": {
      "displayName": "Rafael Matos",
      "photoUrl": "https://lh3.googleusercontent.com/a-/AOh14GizvLjQZmGB4-KGWvSOV05hr_lUcZifkDol22tmbQ=s64",
      "userId": "08861151773596892595"
     },
     "user_tz": 180
    },
    "id": "FJgj3KRoTlhp",
    "outputId": "73bb37d5-0ea5-47dd-b3a8-0abb457b6481"
   },
   "outputs": [
    {
     "data": {
      "text/html": [
       "<div>\n",
       "<style scoped>\n",
       "    .dataframe tbody tr th:only-of-type {\n",
       "        vertical-align: middle;\n",
       "    }\n",
       "\n",
       "    .dataframe tbody tr th {\n",
       "        vertical-align: top;\n",
       "    }\n",
       "\n",
       "    .dataframe thead th {\n",
       "        text-align: right;\n",
       "    }\n",
       "</style>\n",
       "<table border=\"1\" class=\"dataframe\">\n",
       "  <thead>\n",
       "    <tr style=\"text-align: right;\">\n",
       "      <th></th>\n",
       "      <th>Contagem de alunos pela idade</th>\n",
       "    </tr>\n",
       "  </thead>\n",
       "  <tbody>\n",
       "    <tr>\n",
       "      <th>(15, 17]</th>\n",
       "      <td>10</td>\n",
       "    </tr>\n",
       "    <tr>\n",
       "      <th>(17, 19]</th>\n",
       "      <td>50</td>\n",
       "    </tr>\n",
       "    <tr>\n",
       "      <th>(19, 21]</th>\n",
       "      <td>30</td>\n",
       "    </tr>\n",
       "    <tr>\n",
       "      <th>(21, 23]</th>\n",
       "      <td>10</td>\n",
       "    </tr>\n",
       "    <tr>\n",
       "      <th>(23, 25]</th>\n",
       "      <td>5</td>\n",
       "    </tr>\n",
       "  </tbody>\n",
       "</table>\n",
       "</div>"
      ],
      "text/plain": [
       "          Contagem de alunos pela idade\n",
       "(15, 17]                             10\n",
       "(17, 19]                             50\n",
       "(19, 21]                             30\n",
       "(21, 23]                             10\n",
       "(23, 25]                              5"
      ]
     },
     "execution_count": 29,
     "metadata": {
      "tags": []
     },
     "output_type": "execute_result"
    }
   ],
   "source": [
    "pd.DataFrame([10, 50, 30, 10, 5], index=i_idx, columns=['Contagem de alunos pela idade'])"
   ]
  },
  {
   "cell_type": "markdown",
   "metadata": {
    "id": "jZbjA8ekE7U4"
   },
   "source": [
    "#### DatetimeIndex\n",
    "```python\n",
    "DatetimeIndex([data, freq, tz, normalize, …]) # Immutable ndarray-like of datetime64 data.\n",
    "```\n",
    "Este é um índice para séries temporais com data e hora. Um jeito fácil de criar um `DatetimeIndex` é utilizando o `pd.date_range`."
   ]
  },
  {
   "cell_type": "code",
   "execution_count": null,
   "metadata": {
    "colab": {
     "base_uri": "https://localhost:8080/"
    },
    "executionInfo": {
     "elapsed": 4403,
     "status": "ok",
     "timestamp": 1618935871329,
     "user": {
      "displayName": "Rafael Matos",
      "photoUrl": "https://lh3.googleusercontent.com/a-/AOh14GizvLjQZmGB4-KGWvSOV05hr_lUcZifkDol22tmbQ=s64",
      "userId": "08861151773596892595"
     },
     "user_tz": 180
    },
    "id": "IFDu-MyB6w5L",
    "outputId": "6f38350b-77ce-4eda-868e-f1e6707e4b48",
    "scrolled": true
   },
   "outputs": [
    {
     "data": {
      "text/plain": [
       "DatetimeIndex(['2020-01-01', '2020-03-26', '2020-06-19', '2020-09-12',\n",
       "               '2020-12-06', '2021-03-01'],\n",
       "              dtype='datetime64[ns]', freq=None)"
      ]
     },
     "execution_count": 30,
     "metadata": {
      "tags": []
     },
     "output_type": "execute_result"
    }
   ],
   "source": [
    "pd.date_range(\n",
    "    start='20200101',\n",
    "    end='20210301',\n",
    "    periods=6,\n",
    ")"
   ]
  },
  {
   "cell_type": "code",
   "execution_count": null,
   "metadata": {
    "id": "9hszEAnVTXeV"
   },
   "outputs": [],
   "source": []
  },
  {
   "cell_type": "code",
   "execution_count": null,
   "metadata": {
    "colab": {
     "base_uri": "https://localhost:8080/"
    },
    "executionInfo": {
     "elapsed": 4356,
     "status": "ok",
     "timestamp": 1618935871336,
     "user": {
      "displayName": "Rafael Matos",
      "photoUrl": "https://lh3.googleusercontent.com/a-/AOh14GizvLjQZmGB4-KGWvSOV05hr_lUcZifkDol22tmbQ=s64",
      "userId": "08861151773596892595"
     },
     "user_tz": 180
    },
    "id": "zBPqTo3eWBPt",
    "outputId": "d572a8ac-31e1-4cfa-cba0-0bed71de43f3"
   },
   "outputs": [
    {
     "data": {
      "text/plain": [
       "DatetimeIndex(['2020-01-01 00:00:00', '2020-01-01 00:00:01',\n",
       "               '2020-01-01 00:00:02', '2020-01-01 00:00:03',\n",
       "               '2020-01-01 00:00:04', '2020-01-01 00:00:05',\n",
       "               '2020-01-01 00:00:06', '2020-01-01 00:00:07',\n",
       "               '2020-01-01 00:00:08', '2020-01-01 00:00:09',\n",
       "               ...\n",
       "               '2020-01-01 00:59:50', '2020-01-01 00:59:51',\n",
       "               '2020-01-01 00:59:52', '2020-01-01 00:59:53',\n",
       "               '2020-01-01 00:59:54', '2020-01-01 00:59:55',\n",
       "               '2020-01-01 00:59:56', '2020-01-01 00:59:57',\n",
       "               '2020-01-01 00:59:58', '2020-01-01 00:59:59'],\n",
       "              dtype='datetime64[ns]', length=3600, freq='S')"
      ]
     },
     "execution_count": 31,
     "metadata": {
      "tags": []
     },
     "output_type": "execute_result"
    }
   ],
   "source": [
    "pd.date_range(\n",
    "    start='20200101',\n",
    "    end='20200101 00:59:59',\n",
    "    freq='s',\n",
    ")"
   ]
  },
  {
   "cell_type": "markdown",
   "metadata": {
    "id": "me23saFjVNQc"
   },
   "source": [
    "#### Exercício 4\n",
    "Faça o que se pede:\n",
    "* crie um `DatetimeIndex`:\n",
    "    * nome da variável: `dates1_ex04`\n",
    "    * começando em *01/01/2021*,\n",
    "    * com frequência de amostragem de *1 h*,\n",
    "    * com *10 períodos*,\n",
    "    * **dica:** utilize o método `date_range()`;\n",
    "* crie um `DataFrame`:\n",
    "    * nome da variável: `df1_ex04`,\n",
    "    * índice: `dates_ex04`,\n",
    "    * valores e nomes das colunas idênticos ao `df1_ex03` do [Exercício 3](#Exercício-3)."
   ]
  },
  {
   "cell_type": "code",
   "execution_count": null,
   "metadata": {
    "id": "g-E6-0Rl4yRj"
   },
   "outputs": [],
   "source": []
  },
  {
   "cell_type": "markdown",
   "metadata": {
    "id": "TE2ZU5Jq6w8H"
   },
   "source": [
    "## III. Seleção\n",
    "---\n",
    "**Vídeo:** https://youtu.be/HyddRgytuuQ\n",
    "\n",
    "**Índice:**\n",
    "1. [Seleção](#1-Seleção)\n",
    "2. [Seleção por rótulo](#2-Seleção-por-rótulo)\n",
    "3. [Seleção multi-eixo](#3-Seleção-multi-eixo)\n",
    "4. [Seleção pela posição](#4-Seleção-pela-posição)\n",
    "5. [Indexação por Booleano](#5-Indexação-por-Booleano)\n",
    "6. [Configurando](#6-Configurando)\n",
    "7. [Reindexar](#7-Reindexar)\n",
    "7. [Dados Faltentes](#8-Dados-Faltantes)\n",
    "\n",
    "A *seleção* é um método de bancos de dados onde a massa de dados é filtrada através de alguma especificação do usuário e é gerada uma visualozação dos dados filtrados.\n",
    "\n",
    "Enquanto as expressões padrão Python/Numpy para seleção e alteração são intuitivas, no trabalho com o pandas existem métodos otimizados de acesso aos dados: ``.at``, ``.iat``, `.loc` e `.iloc`.\n",
    "\n",
    "**Fontes:**\n",
    "* [Bancos de dados: SELECT](https://pt.wikipedia.org/wiki/Select_(SQL))\n",
    "* [Indexing](https://pandas.pydata.org/pandas-docs/stable/user_guide/indexing.html#indexing)\n",
    "* [Advanced](https://pandas.pydata.org/pandas-docs/stable/user_guide/advanced.html#advanced)."
   ]
  },
  {
   "cell_type": "markdown",
   "metadata": {
    "id": "VyeACTSy6w8J"
   },
   "source": [
    "### 1 Seleção"
   ]
  },
  {
   "cell_type": "markdown",
   "metadata": {
    "id": "90adaplo6w8K"
   },
   "source": [
    "Selecionando uma coluna para produzir uma `Series`"
   ]
  },
  {
   "cell_type": "code",
   "execution_count": null,
   "metadata": {
    "colab": {
     "base_uri": "https://localhost:8080/"
    },
    "executionInfo": {
     "elapsed": 953,
     "status": "ok",
     "timestamp": 1618935970439,
     "user": {
      "displayName": "Rafael Matos",
      "photoUrl": "https://lh3.googleusercontent.com/a-/AOh14GizvLjQZmGB4-KGWvSOV05hr_lUcZifkDol22tmbQ=s64",
      "userId": "08861151773596892595"
     },
     "user_tz": 180
    },
    "id": "7ZO2Cg4o6w8O",
    "outputId": "46bec222-f7bb-405f-9c85-913f79f85500"
   },
   "outputs": [
    {
     "data": {
      "text/plain": [
       "0    0.762420\n",
       "1   -0.499884\n",
       "2   -0.529498\n",
       "3   -0.988143\n",
       "4   -0.615046\n",
       "5   -0.667708\n",
       "Name: A, dtype: float64"
      ]
     },
     "execution_count": 32,
     "metadata": {
      "tags": []
     },
     "output_type": "execute_result"
    }
   ],
   "source": [
    "df['A']"
   ]
  },
  {
   "cell_type": "markdown",
   "metadata": {
    "id": "C-Gzo3qXFiwq"
   },
   "source": [
    "Selecionando uma coluna para produzir um `DataFrame`."
   ]
  },
  {
   "cell_type": "code",
   "execution_count": null,
   "metadata": {
    "colab": {
     "base_uri": "https://localhost:8080/",
     "height": 238
    },
    "executionInfo": {
     "elapsed": 1475,
     "status": "ok",
     "timestamp": 1618935989983,
     "user": {
      "displayName": "Rafael Matos",
      "photoUrl": "https://lh3.googleusercontent.com/a-/AOh14GizvLjQZmGB4-KGWvSOV05hr_lUcZifkDol22tmbQ=s64",
      "userId": "08861151773596892595"
     },
     "user_tz": 180
    },
    "id": "zaiVhWAlFqO5",
    "outputId": "5038b160-8398-4717-ff18-8e9751076c67"
   },
   "outputs": [
    {
     "data": {
      "text/html": [
       "<div>\n",
       "<style scoped>\n",
       "    .dataframe tbody tr th:only-of-type {\n",
       "        vertical-align: middle;\n",
       "    }\n",
       "\n",
       "    .dataframe tbody tr th {\n",
       "        vertical-align: top;\n",
       "    }\n",
       "\n",
       "    .dataframe thead th {\n",
       "        text-align: right;\n",
       "    }\n",
       "</style>\n",
       "<table border=\"1\" class=\"dataframe\">\n",
       "  <thead>\n",
       "    <tr style=\"text-align: right;\">\n",
       "      <th></th>\n",
       "      <th>A</th>\n",
       "    </tr>\n",
       "  </thead>\n",
       "  <tbody>\n",
       "    <tr>\n",
       "      <th>0</th>\n",
       "      <td>0.762420</td>\n",
       "    </tr>\n",
       "    <tr>\n",
       "      <th>1</th>\n",
       "      <td>-0.499884</td>\n",
       "    </tr>\n",
       "    <tr>\n",
       "      <th>2</th>\n",
       "      <td>-0.529498</td>\n",
       "    </tr>\n",
       "    <tr>\n",
       "      <th>3</th>\n",
       "      <td>-0.988143</td>\n",
       "    </tr>\n",
       "    <tr>\n",
       "      <th>4</th>\n",
       "      <td>-0.615046</td>\n",
       "    </tr>\n",
       "    <tr>\n",
       "      <th>5</th>\n",
       "      <td>-0.667708</td>\n",
       "    </tr>\n",
       "  </tbody>\n",
       "</table>\n",
       "</div>"
      ],
      "text/plain": [
       "          A\n",
       "0  0.762420\n",
       "1 -0.499884\n",
       "2 -0.529498\n",
       "3 -0.988143\n",
       "4 -0.615046\n",
       "5 -0.667708"
      ]
     },
     "execution_count": 33,
     "metadata": {
      "tags": []
     },
     "output_type": "execute_result"
    }
   ],
   "source": [
    "df[['A']]"
   ]
  },
  {
   "cell_type": "markdown",
   "metadata": {
    "id": "h4SxAhEK6w8U"
   },
   "source": [
    "Seleção de linhas por `[ ]`:"
   ]
  },
  {
   "cell_type": "code",
   "execution_count": null,
   "metadata": {
    "colab": {
     "base_uri": "https://localhost:8080/",
     "height": 143
    },
    "executionInfo": {
     "elapsed": 1217,
     "status": "ok",
     "timestamp": 1618936010946,
     "user": {
      "displayName": "Rafael Matos",
      "photoUrl": "https://lh3.googleusercontent.com/a-/AOh14GizvLjQZmGB4-KGWvSOV05hr_lUcZifkDol22tmbQ=s64",
      "userId": "08861151773596892595"
     },
     "user_tz": 180
    },
    "id": "pNJVNOIC6w8Y",
    "outputId": "37771b56-6c59-443a-ae1a-5159f5fab982"
   },
   "outputs": [
    {
     "data": {
      "text/html": [
       "<div>\n",
       "<style scoped>\n",
       "    .dataframe tbody tr th:only-of-type {\n",
       "        vertical-align: middle;\n",
       "    }\n",
       "\n",
       "    .dataframe tbody tr th {\n",
       "        vertical-align: top;\n",
       "    }\n",
       "\n",
       "    .dataframe thead th {\n",
       "        text-align: right;\n",
       "    }\n",
       "</style>\n",
       "<table border=\"1\" class=\"dataframe\">\n",
       "  <thead>\n",
       "    <tr style=\"text-align: right;\">\n",
       "      <th></th>\n",
       "      <th>A</th>\n",
       "      <th>B</th>\n",
       "      <th>C</th>\n",
       "      <th>D</th>\n",
       "    </tr>\n",
       "  </thead>\n",
       "  <tbody>\n",
       "    <tr>\n",
       "      <th>0</th>\n",
       "      <td>0.762420</td>\n",
       "      <td>1.450398</td>\n",
       "      <td>-1.109476</td>\n",
       "      <td>1.265186</td>\n",
       "    </tr>\n",
       "    <tr>\n",
       "      <th>1</th>\n",
       "      <td>-0.499884</td>\n",
       "      <td>-0.194947</td>\n",
       "      <td>0.724536</td>\n",
       "      <td>-1.161091</td>\n",
       "    </tr>\n",
       "    <tr>\n",
       "      <th>2</th>\n",
       "      <td>-0.529498</td>\n",
       "      <td>0.009551</td>\n",
       "      <td>0.857248</td>\n",
       "      <td>0.733360</td>\n",
       "    </tr>\n",
       "  </tbody>\n",
       "</table>\n",
       "</div>"
      ],
      "text/plain": [
       "          A         B         C         D\n",
       "0  0.762420  1.450398 -1.109476  1.265186\n",
       "1 -0.499884 -0.194947  0.724536 -1.161091\n",
       "2 -0.529498  0.009551  0.857248  0.733360"
      ]
     },
     "execution_count": 34,
     "metadata": {
      "tags": []
     },
     "output_type": "execute_result"
    }
   ],
   "source": [
    "df[0:3] # índices inteiros"
   ]
  },
  {
   "cell_type": "markdown",
   "metadata": {
    "id": "ZUSTd6dAGAC4"
   },
   "source": [
    "Quando temos um índice do tipo `DatetimeIndex`."
   ]
  },
  {
   "cell_type": "code",
   "execution_count": null,
   "metadata": {
    "colab": {
     "base_uri": "https://localhost:8080/",
     "height": 238
    },
    "executionInfo": {
     "elapsed": 1016,
     "status": "ok",
     "timestamp": 1618936055631,
     "user": {
      "displayName": "Rafael Matos",
      "photoUrl": "https://lh3.googleusercontent.com/a-/AOh14GizvLjQZmGB4-KGWvSOV05hr_lUcZifkDol22tmbQ=s64",
      "userId": "08861151773596892595"
     },
     "user_tz": 180
    },
    "id": "ZmnwZEqZGKVn",
    "outputId": "5adac22c-b53e-49f2-93b3-d50213c1b13f"
   },
   "outputs": [
    {
     "data": {
      "text/html": [
       "<div>\n",
       "<style scoped>\n",
       "    .dataframe tbody tr th:only-of-type {\n",
       "        vertical-align: middle;\n",
       "    }\n",
       "\n",
       "    .dataframe tbody tr th {\n",
       "        vertical-align: top;\n",
       "    }\n",
       "\n",
       "    .dataframe thead th {\n",
       "        text-align: right;\n",
       "    }\n",
       "</style>\n",
       "<table border=\"1\" class=\"dataframe\">\n",
       "  <thead>\n",
       "    <tr style=\"text-align: right;\">\n",
       "      <th></th>\n",
       "      <th>A</th>\n",
       "      <th>B</th>\n",
       "      <th>C</th>\n",
       "      <th>D</th>\n",
       "    </tr>\n",
       "  </thead>\n",
       "  <tbody>\n",
       "    <tr>\n",
       "      <th>2013-01-01</th>\n",
       "      <td>0.762420</td>\n",
       "      <td>1.450398</td>\n",
       "      <td>-1.109476</td>\n",
       "      <td>1.265186</td>\n",
       "    </tr>\n",
       "    <tr>\n",
       "      <th>2013-01-02</th>\n",
       "      <td>-0.499884</td>\n",
       "      <td>-0.194947</td>\n",
       "      <td>0.724536</td>\n",
       "      <td>-1.161091</td>\n",
       "    </tr>\n",
       "    <tr>\n",
       "      <th>2013-01-03</th>\n",
       "      <td>-0.529498</td>\n",
       "      <td>0.009551</td>\n",
       "      <td>0.857248</td>\n",
       "      <td>0.733360</td>\n",
       "    </tr>\n",
       "    <tr>\n",
       "      <th>2013-01-04</th>\n",
       "      <td>-0.988143</td>\n",
       "      <td>-2.679477</td>\n",
       "      <td>1.471886</td>\n",
       "      <td>-1.807367</td>\n",
       "    </tr>\n",
       "    <tr>\n",
       "      <th>2013-01-05</th>\n",
       "      <td>-0.615046</td>\n",
       "      <td>0.093353</td>\n",
       "      <td>0.487800</td>\n",
       "      <td>0.904304</td>\n",
       "    </tr>\n",
       "    <tr>\n",
       "      <th>2013-01-06</th>\n",
       "      <td>-0.667708</td>\n",
       "      <td>0.427928</td>\n",
       "      <td>-2.412935</td>\n",
       "      <td>-0.553455</td>\n",
       "    </tr>\n",
       "  </tbody>\n",
       "</table>\n",
       "</div>"
      ],
      "text/plain": [
       "                   A         B         C         D\n",
       "2013-01-01  0.762420  1.450398 -1.109476  1.265186\n",
       "2013-01-02 -0.499884 -0.194947  0.724536 -1.161091\n",
       "2013-01-03 -0.529498  0.009551  0.857248  0.733360\n",
       "2013-01-04 -0.988143 -2.679477  1.471886 -1.807367\n",
       "2013-01-05 -0.615046  0.093353  0.487800  0.904304\n",
       "2013-01-06 -0.667708  0.427928 -2.412935 -0.553455"
      ]
     },
     "execution_count": 35,
     "metadata": {
      "tags": []
     },
     "output_type": "execute_result"
    }
   ],
   "source": [
    "dates = pd.date_range('20130101', periods=6)\n",
    "df.index = dates\n",
    "df"
   ]
  },
  {
   "cell_type": "code",
   "execution_count": null,
   "metadata": {
    "colab": {
     "base_uri": "https://localhost:8080/",
     "height": 143
    },
    "executionInfo": {
     "elapsed": 1102,
     "status": "ok",
     "timestamp": 1618936076773,
     "user": {
      "displayName": "Rafael Matos",
      "photoUrl": "https://lh3.googleusercontent.com/a-/AOh14GizvLjQZmGB4-KGWvSOV05hr_lUcZifkDol22tmbQ=s64",
      "userId": "08861151773596892595"
     },
     "user_tz": 180
    },
    "id": "UyYEd8DJ6w8h",
    "outputId": "11f37461-ea2a-4619-c68f-a93ec66cb51e"
   },
   "outputs": [
    {
     "data": {
      "text/html": [
       "<div>\n",
       "<style scoped>\n",
       "    .dataframe tbody tr th:only-of-type {\n",
       "        vertical-align: middle;\n",
       "    }\n",
       "\n",
       "    .dataframe tbody tr th {\n",
       "        vertical-align: top;\n",
       "    }\n",
       "\n",
       "    .dataframe thead th {\n",
       "        text-align: right;\n",
       "    }\n",
       "</style>\n",
       "<table border=\"1\" class=\"dataframe\">\n",
       "  <thead>\n",
       "    <tr style=\"text-align: right;\">\n",
       "      <th></th>\n",
       "      <th>A</th>\n",
       "      <th>B</th>\n",
       "      <th>C</th>\n",
       "      <th>D</th>\n",
       "    </tr>\n",
       "  </thead>\n",
       "  <tbody>\n",
       "    <tr>\n",
       "      <th>2013-01-02</th>\n",
       "      <td>-0.499884</td>\n",
       "      <td>-0.194947</td>\n",
       "      <td>0.724536</td>\n",
       "      <td>-1.161091</td>\n",
       "    </tr>\n",
       "    <tr>\n",
       "      <th>2013-01-03</th>\n",
       "      <td>-0.529498</td>\n",
       "      <td>0.009551</td>\n",
       "      <td>0.857248</td>\n",
       "      <td>0.733360</td>\n",
       "    </tr>\n",
       "    <tr>\n",
       "      <th>2013-01-04</th>\n",
       "      <td>-0.988143</td>\n",
       "      <td>-2.679477</td>\n",
       "      <td>1.471886</td>\n",
       "      <td>-1.807367</td>\n",
       "    </tr>\n",
       "  </tbody>\n",
       "</table>\n",
       "</div>"
      ],
      "text/plain": [
       "                   A         B         C         D\n",
       "2013-01-02 -0.499884 -0.194947  0.724536 -1.161091\n",
       "2013-01-03 -0.529498  0.009551  0.857248  0.733360\n",
       "2013-01-04 -0.988143 -2.679477  1.471886 -1.807367"
      ]
     },
     "execution_count": 36,
     "metadata": {
      "tags": []
     },
     "output_type": "execute_result"
    }
   ],
   "source": [
    "df['20130102':'20130104'] # Índices com os nomes das linhas"
   ]
  },
  {
   "cell_type": "markdown",
   "metadata": {
    "id": "jyVvtqU_6w8o"
   },
   "source": [
    "### 2 Seleção por rótulo\n",
    "**Fonte:**\n",
    "* [Indexing by Label](https://pandas.pydata.org/pandas-docs/stable/user_guide/indexing.html#indexing-label)."
   ]
  },
  {
   "cell_type": "markdown",
   "metadata": {
    "id": "j0BobSsV6w8q"
   },
   "source": [
    "Seleção de linha por rótulo:"
   ]
  },
  {
   "cell_type": "code",
   "execution_count": null,
   "metadata": {
    "colab": {
     "base_uri": "https://localhost:8080/"
    },
    "executionInfo": {
     "elapsed": 964,
     "status": "ok",
     "timestamp": 1618936130981,
     "user": {
      "displayName": "Rafael Matos",
      "photoUrl": "https://lh3.googleusercontent.com/a-/AOh14GizvLjQZmGB4-KGWvSOV05hr_lUcZifkDol22tmbQ=s64",
      "userId": "08861151773596892595"
     },
     "user_tz": 180
    },
    "id": "rgebte1y6w8r",
    "outputId": "ef415965-5c65-4439-800b-5eb0a812ca90"
   },
   "outputs": [
    {
     "data": {
      "text/plain": [
       "A    0.762420\n",
       "B    1.450398\n",
       "C   -1.109476\n",
       "D    1.265186\n",
       "Name: 2013-01-01 00:00:00, dtype: float64"
      ]
     },
     "execution_count": 37,
     "metadata": {
      "tags": []
     },
     "output_type": "execute_result"
    }
   ],
   "source": [
    "df.loc[dates[0]]"
   ]
  },
  {
   "cell_type": "markdown",
   "metadata": {
    "id": "aFiR_S7H6w8z"
   },
   "source": [
    "### 3 Seleção multi-eixo"
   ]
  },
  {
   "cell_type": "markdown",
   "metadata": {
    "id": "DF7GXkjp6w80"
   },
   "source": [
    "Por rótulo de coluna:"
   ]
  },
  {
   "cell_type": "code",
   "execution_count": null,
   "metadata": {
    "colab": {
     "base_uri": "https://localhost:8080/",
     "height": 238
    },
    "executionInfo": {
     "elapsed": 915,
     "status": "ok",
     "timestamp": 1618936166992,
     "user": {
      "displayName": "Rafael Matos",
      "photoUrl": "https://lh3.googleusercontent.com/a-/AOh14GizvLjQZmGB4-KGWvSOV05hr_lUcZifkDol22tmbQ=s64",
      "userId": "08861151773596892595"
     },
     "user_tz": 180
    },
    "id": "YO38zI-p6w81",
    "outputId": "c6ee99b2-aedb-456b-d384-5503aa64bc65"
   },
   "outputs": [
    {
     "data": {
      "text/html": [
       "<div>\n",
       "<style scoped>\n",
       "    .dataframe tbody tr th:only-of-type {\n",
       "        vertical-align: middle;\n",
       "    }\n",
       "\n",
       "    .dataframe tbody tr th {\n",
       "        vertical-align: top;\n",
       "    }\n",
       "\n",
       "    .dataframe thead th {\n",
       "        text-align: right;\n",
       "    }\n",
       "</style>\n",
       "<table border=\"1\" class=\"dataframe\">\n",
       "  <thead>\n",
       "    <tr style=\"text-align: right;\">\n",
       "      <th></th>\n",
       "      <th>A</th>\n",
       "      <th>B</th>\n",
       "    </tr>\n",
       "  </thead>\n",
       "  <tbody>\n",
       "    <tr>\n",
       "      <th>2013-01-01</th>\n",
       "      <td>0.762420</td>\n",
       "      <td>1.450398</td>\n",
       "    </tr>\n",
       "    <tr>\n",
       "      <th>2013-01-02</th>\n",
       "      <td>-0.499884</td>\n",
       "      <td>-0.194947</td>\n",
       "    </tr>\n",
       "    <tr>\n",
       "      <th>2013-01-03</th>\n",
       "      <td>-0.529498</td>\n",
       "      <td>0.009551</td>\n",
       "    </tr>\n",
       "    <tr>\n",
       "      <th>2013-01-04</th>\n",
       "      <td>-0.988143</td>\n",
       "      <td>-2.679477</td>\n",
       "    </tr>\n",
       "    <tr>\n",
       "      <th>2013-01-05</th>\n",
       "      <td>-0.615046</td>\n",
       "      <td>0.093353</td>\n",
       "    </tr>\n",
       "    <tr>\n",
       "      <th>2013-01-06</th>\n",
       "      <td>-0.667708</td>\n",
       "      <td>0.427928</td>\n",
       "    </tr>\n",
       "  </tbody>\n",
       "</table>\n",
       "</div>"
      ],
      "text/plain": [
       "                   A         B\n",
       "2013-01-01  0.762420  1.450398\n",
       "2013-01-02 -0.499884 -0.194947\n",
       "2013-01-03 -0.529498  0.009551\n",
       "2013-01-04 -0.988143 -2.679477\n",
       "2013-01-05 -0.615046  0.093353\n",
       "2013-01-06 -0.667708  0.427928"
      ]
     },
     "execution_count": 38,
     "metadata": {
      "tags": []
     },
     "output_type": "execute_result"
    }
   ],
   "source": [
    "df.loc[:, ['A', 'B']]"
   ]
  },
  {
   "cell_type": "markdown",
   "metadata": {
    "id": "FDPi3RaD6w88"
   },
   "source": [
    "*Slicing* de linhas e por rótulo de coluna. **O intervalo é fechado**"
   ]
  },
  {
   "cell_type": "code",
   "execution_count": null,
   "metadata": {
    "colab": {
     "base_uri": "https://localhost:8080/",
     "height": 143
    },
    "executionInfo": {
     "elapsed": 990,
     "status": "ok",
     "timestamp": 1618936194592,
     "user": {
      "displayName": "Rafael Matos",
      "photoUrl": "https://lh3.googleusercontent.com/a-/AOh14GizvLjQZmGB4-KGWvSOV05hr_lUcZifkDol22tmbQ=s64",
      "userId": "08861151773596892595"
     },
     "user_tz": 180
    },
    "id": "p7ZxIcLT6w8-",
    "outputId": "e5fe35b1-bc36-4149-ed3c-8bdaaa1e6b6f"
   },
   "outputs": [
    {
     "data": {
      "text/html": [
       "<div>\n",
       "<style scoped>\n",
       "    .dataframe tbody tr th:only-of-type {\n",
       "        vertical-align: middle;\n",
       "    }\n",
       "\n",
       "    .dataframe tbody tr th {\n",
       "        vertical-align: top;\n",
       "    }\n",
       "\n",
       "    .dataframe thead th {\n",
       "        text-align: right;\n",
       "    }\n",
       "</style>\n",
       "<table border=\"1\" class=\"dataframe\">\n",
       "  <thead>\n",
       "    <tr style=\"text-align: right;\">\n",
       "      <th></th>\n",
       "      <th>A</th>\n",
       "      <th>B</th>\n",
       "    </tr>\n",
       "  </thead>\n",
       "  <tbody>\n",
       "    <tr>\n",
       "      <th>2013-01-02</th>\n",
       "      <td>-0.499884</td>\n",
       "      <td>-0.194947</td>\n",
       "    </tr>\n",
       "    <tr>\n",
       "      <th>2013-01-03</th>\n",
       "      <td>-0.529498</td>\n",
       "      <td>0.009551</td>\n",
       "    </tr>\n",
       "    <tr>\n",
       "      <th>2013-01-04</th>\n",
       "      <td>-0.988143</td>\n",
       "      <td>-2.679477</td>\n",
       "    </tr>\n",
       "  </tbody>\n",
       "</table>\n",
       "</div>"
      ],
      "text/plain": [
       "                   A         B\n",
       "2013-01-02 -0.499884 -0.194947\n",
       "2013-01-03 -0.529498  0.009551\n",
       "2013-01-04 -0.988143 -2.679477"
      ]
     },
     "execution_count": 39,
     "metadata": {
      "tags": []
     },
     "output_type": "execute_result"
    }
   ],
   "source": [
    "df.loc['20130102':'20130104', ['A', 'B']]"
   ]
  },
  {
   "cell_type": "markdown",
   "metadata": {
    "id": "1PxbCjNt6w9F"
   },
   "source": [
    "Especificação de colunas e linhas:"
   ]
  },
  {
   "cell_type": "code",
   "execution_count": null,
   "metadata": {
    "colab": {
     "base_uri": "https://localhost:8080/"
    },
    "executionInfo": {
     "elapsed": 1124,
     "status": "ok",
     "timestamp": 1618936211165,
     "user": {
      "displayName": "Rafael Matos",
      "photoUrl": "https://lh3.googleusercontent.com/a-/AOh14GizvLjQZmGB4-KGWvSOV05hr_lUcZifkDol22tmbQ=s64",
      "userId": "08861151773596892595"
     },
     "user_tz": 180
    },
    "id": "by6GoSU26w9G",
    "outputId": "bab37d3d-1486-4f37-f49b-10b5212e7434"
   },
   "outputs": [
    {
     "data": {
      "text/plain": [
       "A   -0.499884\n",
       "B   -0.194947\n",
       "Name: 2013-01-02 00:00:00, dtype: float64"
      ]
     },
     "execution_count": 40,
     "metadata": {
      "tags": []
     },
     "output_type": "execute_result"
    }
   ],
   "source": [
    "df.loc['20130102', ['A', 'B']]"
   ]
  },
  {
   "cell_type": "markdown",
   "metadata": {
    "id": "T_e59wd-6w9Y"
   },
   "source": [
    "Obtendo um único valor:"
   ]
  },
  {
   "cell_type": "code",
   "execution_count": null,
   "metadata": {
    "colab": {
     "base_uri": "https://localhost:8080/"
    },
    "executionInfo": {
     "elapsed": 907,
     "status": "ok",
     "timestamp": 1618936228761,
     "user": {
      "displayName": "Rafael Matos",
      "photoUrl": "https://lh3.googleusercontent.com/a-/AOh14GizvLjQZmGB4-KGWvSOV05hr_lUcZifkDol22tmbQ=s64",
      "userId": "08861151773596892595"
     },
     "user_tz": 180
    },
    "id": "eYeN2E-_6w9Z",
    "outputId": "80ef54f3-6769-4ed8-d9e4-93555fc1418f"
   },
   "outputs": [
    {
     "data": {
      "text/plain": [
       "0.7624200753293203"
      ]
     },
     "execution_count": 41,
     "metadata": {
      "tags": []
     },
     "output_type": "execute_result"
    }
   ],
   "source": [
    "df.loc[dates[0], 'A']"
   ]
  },
  {
   "cell_type": "markdown",
   "metadata": {
    "id": "BriLgXCG6w9j"
   },
   "source": [
    "Acesso rápido à um valor:"
   ]
  },
  {
   "cell_type": "code",
   "execution_count": null,
   "metadata": {
    "colab": {
     "base_uri": "https://localhost:8080/"
    },
    "executionInfo": {
     "elapsed": 1199,
     "status": "ok",
     "timestamp": 1618936243100,
     "user": {
      "displayName": "Rafael Matos",
      "photoUrl": "https://lh3.googleusercontent.com/a-/AOh14GizvLjQZmGB4-KGWvSOV05hr_lUcZifkDol22tmbQ=s64",
      "userId": "08861151773596892595"
     },
     "user_tz": 180
    },
    "id": "EWUIiT1c6w9l",
    "outputId": "15bf8f8d-76a1-47e3-d6c4-7a7f4e2830b4"
   },
   "outputs": [
    {
     "data": {
      "text/plain": [
       "0.7624200753293203"
      ]
     },
     "execution_count": 42,
     "metadata": {
      "tags": []
     },
     "output_type": "execute_result"
    }
   ],
   "source": [
    "df.at[dates[0], 'A']"
   ]
  },
  {
   "cell_type": "markdown",
   "metadata": {
    "id": "vwHReZQB6w9r"
   },
   "source": [
    "### 4 Seleção pela posição\n",
    "**Fontes:**\n",
    "* [Selection by Position](https://pandas.pydata.org/pandas-docs/stable/user_guide/indexing.html#indexing-integer)."
   ]
  },
  {
   "cell_type": "markdown",
   "metadata": {
    "id": "ZjtQmRRQ6w9u"
   },
   "source": [
    "Seleção com entrada de índice inteiro:"
   ]
  },
  {
   "cell_type": "code",
   "execution_count": null,
   "metadata": {
    "colab": {
     "base_uri": "https://localhost:8080/"
    },
    "executionInfo": {
     "elapsed": 680,
     "status": "ok",
     "timestamp": 1618936300784,
     "user": {
      "displayName": "Rafael Matos",
      "photoUrl": "https://lh3.googleusercontent.com/a-/AOh14GizvLjQZmGB4-KGWvSOV05hr_lUcZifkDol22tmbQ=s64",
      "userId": "08861151773596892595"
     },
     "user_tz": 180
    },
    "id": "56xajKF16w9v",
    "outputId": "23633a36-b4bc-434a-9d73-32befadc4bed"
   },
   "outputs": [
    {
     "data": {
      "text/plain": [
       "A   -0.988143\n",
       "B   -2.679477\n",
       "C    1.471886\n",
       "D   -1.807367\n",
       "Name: 2013-01-04 00:00:00, dtype: float64"
      ]
     },
     "execution_count": 43,
     "metadata": {
      "tags": []
     },
     "output_type": "execute_result"
    }
   ],
   "source": [
    "df.iloc[3]"
   ]
  },
  {
   "cell_type": "markdown",
   "metadata": {
    "id": "o3-4wTo46w95"
   },
   "source": [
    "Slicing multi-eixo com inteiros, similar ao Numpy/Python:"
   ]
  },
  {
   "cell_type": "code",
   "execution_count": null,
   "metadata": {
    "colab": {
     "base_uri": "https://localhost:8080/",
     "height": 112
    },
    "executionInfo": {
     "elapsed": 1499,
     "status": "ok",
     "timestamp": 1618936326075,
     "user": {
      "displayName": "Rafael Matos",
      "photoUrl": "https://lh3.googleusercontent.com/a-/AOh14GizvLjQZmGB4-KGWvSOV05hr_lUcZifkDol22tmbQ=s64",
      "userId": "08861151773596892595"
     },
     "user_tz": 180
    },
    "id": "qBHv4BO-6w96",
    "outputId": "ccd4e748-5756-4940-937f-30e289da2e2d"
   },
   "outputs": [
    {
     "data": {
      "text/html": [
       "<div>\n",
       "<style scoped>\n",
       "    .dataframe tbody tr th:only-of-type {\n",
       "        vertical-align: middle;\n",
       "    }\n",
       "\n",
       "    .dataframe tbody tr th {\n",
       "        vertical-align: top;\n",
       "    }\n",
       "\n",
       "    .dataframe thead th {\n",
       "        text-align: right;\n",
       "    }\n",
       "</style>\n",
       "<table border=\"1\" class=\"dataframe\">\n",
       "  <thead>\n",
       "    <tr style=\"text-align: right;\">\n",
       "      <th></th>\n",
       "      <th>A</th>\n",
       "      <th>B</th>\n",
       "    </tr>\n",
       "  </thead>\n",
       "  <tbody>\n",
       "    <tr>\n",
       "      <th>2013-01-04</th>\n",
       "      <td>-0.988143</td>\n",
       "      <td>-2.679477</td>\n",
       "    </tr>\n",
       "    <tr>\n",
       "      <th>2013-01-05</th>\n",
       "      <td>-0.615046</td>\n",
       "      <td>0.093353</td>\n",
       "    </tr>\n",
       "  </tbody>\n",
       "</table>\n",
       "</div>"
      ],
      "text/plain": [
       "                   A         B\n",
       "2013-01-04 -0.988143 -2.679477\n",
       "2013-01-05 -0.615046  0.093353"
      ]
     },
     "execution_count": 44,
     "metadata": {
      "tags": []
     },
     "output_type": "execute_result"
    }
   ],
   "source": [
    "df.iloc[3:5, 0:2]"
   ]
  },
  {
   "cell_type": "markdown",
   "metadata": {
    "id": "A9sxE5JG6w-Q"
   },
   "source": [
    "Seleção com inteiros, similar ao Numpy/Python:"
   ]
  },
  {
   "cell_type": "code",
   "execution_count": null,
   "metadata": {
    "colab": {
     "base_uri": "https://localhost:8080/",
     "height": 143
    },
    "executionInfo": {
     "elapsed": 1017,
     "status": "ok",
     "timestamp": 1618936361899,
     "user": {
      "displayName": "Rafael Matos",
      "photoUrl": "https://lh3.googleusercontent.com/a-/AOh14GizvLjQZmGB4-KGWvSOV05hr_lUcZifkDol22tmbQ=s64",
      "userId": "08861151773596892595"
     },
     "user_tz": 180
    },
    "id": "_b9JmhyG6w-U",
    "outputId": "730481a5-232f-4ad2-fe9d-38f36e777c71"
   },
   "outputs": [
    {
     "data": {
      "text/html": [
       "<div>\n",
       "<style scoped>\n",
       "    .dataframe tbody tr th:only-of-type {\n",
       "        vertical-align: middle;\n",
       "    }\n",
       "\n",
       "    .dataframe tbody tr th {\n",
       "        vertical-align: top;\n",
       "    }\n",
       "\n",
       "    .dataframe thead th {\n",
       "        text-align: right;\n",
       "    }\n",
       "</style>\n",
       "<table border=\"1\" class=\"dataframe\">\n",
       "  <thead>\n",
       "    <tr style=\"text-align: right;\">\n",
       "      <th></th>\n",
       "      <th>A</th>\n",
       "      <th>C</th>\n",
       "    </tr>\n",
       "  </thead>\n",
       "  <tbody>\n",
       "    <tr>\n",
       "      <th>2013-01-02</th>\n",
       "      <td>-0.499884</td>\n",
       "      <td>0.724536</td>\n",
       "    </tr>\n",
       "    <tr>\n",
       "      <th>2013-01-03</th>\n",
       "      <td>-0.529498</td>\n",
       "      <td>0.857248</td>\n",
       "    </tr>\n",
       "    <tr>\n",
       "      <th>2013-01-05</th>\n",
       "      <td>-0.615046</td>\n",
       "      <td>0.487800</td>\n",
       "    </tr>\n",
       "  </tbody>\n",
       "</table>\n",
       "</div>"
      ],
      "text/plain": [
       "                   A         C\n",
       "2013-01-02 -0.499884  0.724536\n",
       "2013-01-03 -0.529498  0.857248\n",
       "2013-01-05 -0.615046  0.487800"
      ]
     },
     "execution_count": 45,
     "metadata": {
      "tags": []
     },
     "output_type": "execute_result"
    }
   ],
   "source": [
    "df.iloc[[1, 2, 4], [0, 2]]"
   ]
  },
  {
   "cell_type": "markdown",
   "metadata": {
    "id": "p43JWWz46w-b"
   },
   "source": [
    "Slicing linhas:"
   ]
  },
  {
   "cell_type": "code",
   "execution_count": null,
   "metadata": {
    "colab": {
     "base_uri": "https://localhost:8080/",
     "height": 112
    },
    "executionInfo": {
     "elapsed": 1030,
     "status": "ok",
     "timestamp": 1618936376967,
     "user": {
      "displayName": "Rafael Matos",
      "photoUrl": "https://lh3.googleusercontent.com/a-/AOh14GizvLjQZmGB4-KGWvSOV05hr_lUcZifkDol22tmbQ=s64",
      "userId": "08861151773596892595"
     },
     "user_tz": 180
    },
    "id": "NaDc_JX06w-d",
    "outputId": "a4b0dd6c-b4be-477d-a092-997e38881269"
   },
   "outputs": [
    {
     "data": {
      "text/html": [
       "<div>\n",
       "<style scoped>\n",
       "    .dataframe tbody tr th:only-of-type {\n",
       "        vertical-align: middle;\n",
       "    }\n",
       "\n",
       "    .dataframe tbody tr th {\n",
       "        vertical-align: top;\n",
       "    }\n",
       "\n",
       "    .dataframe thead th {\n",
       "        text-align: right;\n",
       "    }\n",
       "</style>\n",
       "<table border=\"1\" class=\"dataframe\">\n",
       "  <thead>\n",
       "    <tr style=\"text-align: right;\">\n",
       "      <th></th>\n",
       "      <th>A</th>\n",
       "      <th>B</th>\n",
       "      <th>C</th>\n",
       "      <th>D</th>\n",
       "    </tr>\n",
       "  </thead>\n",
       "  <tbody>\n",
       "    <tr>\n",
       "      <th>2013-01-02</th>\n",
       "      <td>-0.499884</td>\n",
       "      <td>-0.194947</td>\n",
       "      <td>0.724536</td>\n",
       "      <td>-1.161091</td>\n",
       "    </tr>\n",
       "    <tr>\n",
       "      <th>2013-01-03</th>\n",
       "      <td>-0.529498</td>\n",
       "      <td>0.009551</td>\n",
       "      <td>0.857248</td>\n",
       "      <td>0.733360</td>\n",
       "    </tr>\n",
       "  </tbody>\n",
       "</table>\n",
       "</div>"
      ],
      "text/plain": [
       "                   A         B         C         D\n",
       "2013-01-02 -0.499884 -0.194947  0.724536 -1.161091\n",
       "2013-01-03 -0.529498  0.009551  0.857248  0.733360"
      ]
     },
     "execution_count": 46,
     "metadata": {
      "tags": []
     },
     "output_type": "execute_result"
    }
   ],
   "source": [
    "df.iloc[1:3, :]"
   ]
  },
  {
   "cell_type": "markdown",
   "metadata": {
    "id": "SLFfqPXF6w-n"
   },
   "source": [
    "Slicing colunas:"
   ]
  },
  {
   "cell_type": "code",
   "execution_count": null,
   "metadata": {
    "colab": {
     "base_uri": "https://localhost:8080/",
     "height": 238
    },
    "executionInfo": {
     "elapsed": 1535,
     "status": "ok",
     "timestamp": 1618936385406,
     "user": {
      "displayName": "Rafael Matos",
      "photoUrl": "https://lh3.googleusercontent.com/a-/AOh14GizvLjQZmGB4-KGWvSOV05hr_lUcZifkDol22tmbQ=s64",
      "userId": "08861151773596892595"
     },
     "user_tz": 180
    },
    "id": "sikwsG9K6w-o",
    "outputId": "055908e9-c5ce-4264-871d-85f7153e88c9"
   },
   "outputs": [
    {
     "data": {
      "text/html": [
       "<div>\n",
       "<style scoped>\n",
       "    .dataframe tbody tr th:only-of-type {\n",
       "        vertical-align: middle;\n",
       "    }\n",
       "\n",
       "    .dataframe tbody tr th {\n",
       "        vertical-align: top;\n",
       "    }\n",
       "\n",
       "    .dataframe thead th {\n",
       "        text-align: right;\n",
       "    }\n",
       "</style>\n",
       "<table border=\"1\" class=\"dataframe\">\n",
       "  <thead>\n",
       "    <tr style=\"text-align: right;\">\n",
       "      <th></th>\n",
       "      <th>B</th>\n",
       "      <th>C</th>\n",
       "    </tr>\n",
       "  </thead>\n",
       "  <tbody>\n",
       "    <tr>\n",
       "      <th>2013-01-01</th>\n",
       "      <td>1.450398</td>\n",
       "      <td>-1.109476</td>\n",
       "    </tr>\n",
       "    <tr>\n",
       "      <th>2013-01-02</th>\n",
       "      <td>-0.194947</td>\n",
       "      <td>0.724536</td>\n",
       "    </tr>\n",
       "    <tr>\n",
       "      <th>2013-01-03</th>\n",
       "      <td>0.009551</td>\n",
       "      <td>0.857248</td>\n",
       "    </tr>\n",
       "    <tr>\n",
       "      <th>2013-01-04</th>\n",
       "      <td>-2.679477</td>\n",
       "      <td>1.471886</td>\n",
       "    </tr>\n",
       "    <tr>\n",
       "      <th>2013-01-05</th>\n",
       "      <td>0.093353</td>\n",
       "      <td>0.487800</td>\n",
       "    </tr>\n",
       "    <tr>\n",
       "      <th>2013-01-06</th>\n",
       "      <td>0.427928</td>\n",
       "      <td>-2.412935</td>\n",
       "    </tr>\n",
       "  </tbody>\n",
       "</table>\n",
       "</div>"
      ],
      "text/plain": [
       "                   B         C\n",
       "2013-01-01  1.450398 -1.109476\n",
       "2013-01-02 -0.194947  0.724536\n",
       "2013-01-03  0.009551  0.857248\n",
       "2013-01-04 -2.679477  1.471886\n",
       "2013-01-05  0.093353  0.487800\n",
       "2013-01-06  0.427928 -2.412935"
      ]
     },
     "execution_count": 47,
     "metadata": {
      "tags": []
     },
     "output_type": "execute_result"
    }
   ],
   "source": [
    "df.iloc[:, 1:3]"
   ]
  },
  {
   "cell_type": "markdown",
   "metadata": {
    "id": "n1hsFG3-6w-t"
   },
   "source": [
    "Obter um valor:"
   ]
  },
  {
   "cell_type": "code",
   "execution_count": null,
   "metadata": {
    "colab": {
     "base_uri": "https://localhost:8080/"
    },
    "executionInfo": {
     "elapsed": 990,
     "status": "ok",
     "timestamp": 1618936400452,
     "user": {
      "displayName": "Rafael Matos",
      "photoUrl": "https://lh3.googleusercontent.com/a-/AOh14GizvLjQZmGB4-KGWvSOV05hr_lUcZifkDol22tmbQ=s64",
      "userId": "08861151773596892595"
     },
     "user_tz": 180
    },
    "id": "3PGfFkd-6w-u",
    "outputId": "3050cd38-afb1-4699-e307-7c4c5e92567f"
   },
   "outputs": [
    {
     "data": {
      "text/plain": [
       "-0.19494734045675355"
      ]
     },
     "execution_count": 48,
     "metadata": {
      "tags": []
     },
     "output_type": "execute_result"
    }
   ],
   "source": [
    "df.iloc[1, 1]"
   ]
  },
  {
   "cell_type": "markdown",
   "metadata": {
    "id": "vSwaCmBC6w-5"
   },
   "source": [
    "Acesso rápido (equivalente a `.at`):"
   ]
  },
  {
   "cell_type": "code",
   "execution_count": null,
   "metadata": {
    "colab": {
     "base_uri": "https://localhost:8080/"
    },
    "executionInfo": {
     "elapsed": 868,
     "status": "ok",
     "timestamp": 1618936409603,
     "user": {
      "displayName": "Rafael Matos",
      "photoUrl": "https://lh3.googleusercontent.com/a-/AOh14GizvLjQZmGB4-KGWvSOV05hr_lUcZifkDol22tmbQ=s64",
      "userId": "08861151773596892595"
     },
     "user_tz": 180
    },
    "id": "QxRaYH766w-6",
    "outputId": "fba388f6-b831-4117-a24d-0928d0677a81"
   },
   "outputs": [
    {
     "data": {
      "text/plain": [
       "-0.19494734045675355"
      ]
     },
     "execution_count": 49,
     "metadata": {
      "tags": []
     },
     "output_type": "execute_result"
    }
   ],
   "source": [
    "df.iat[1, 1]"
   ]
  },
  {
   "cell_type": "markdown",
   "metadata": {
    "id": "vAlZ_jBC6w_C"
   },
   "source": [
    "### 5 Indexação por Booleano"
   ]
  },
  {
   "cell_type": "markdown",
   "metadata": {
    "id": "raZA3uJU6w_D"
   },
   "source": [
    "Condicional em determinada coluna, utilizando rótulo:"
   ]
  },
  {
   "cell_type": "code",
   "execution_count": null,
   "metadata": {
    "colab": {
     "base_uri": "https://localhost:8080/"
    },
    "executionInfo": {
     "elapsed": 1460,
     "status": "ok",
     "timestamp": 1618936449222,
     "user": {
      "displayName": "Rafael Matos",
      "photoUrl": "https://lh3.googleusercontent.com/a-/AOh14GizvLjQZmGB4-KGWvSOV05hr_lUcZifkDol22tmbQ=s64",
      "userId": "08861151773596892595"
     },
     "user_tz": 180
    },
    "id": "KVoKH5eIHwUv",
    "outputId": "8f00da42-b4d3-4365-dd8f-716ebe65bc37"
   },
   "outputs": [
    {
     "data": {
      "text/plain": [
       "2013-01-01     True\n",
       "2013-01-02    False\n",
       "2013-01-03    False\n",
       "2013-01-04    False\n",
       "2013-01-05    False\n",
       "2013-01-06    False\n",
       "Freq: D, Name: A, dtype: bool"
      ]
     },
     "execution_count": 50,
     "metadata": {
      "tags": []
     },
     "output_type": "execute_result"
    }
   ],
   "source": [
    "df['A'] > 0"
   ]
  },
  {
   "cell_type": "code",
   "execution_count": null,
   "metadata": {
    "colab": {
     "base_uri": "https://localhost:8080/",
     "height": 81
    },
    "executionInfo": {
     "elapsed": 1667,
     "status": "ok",
     "timestamp": 1618936506367,
     "user": {
      "displayName": "Rafael Matos",
      "photoUrl": "https://lh3.googleusercontent.com/a-/AOh14GizvLjQZmGB4-KGWvSOV05hr_lUcZifkDol22tmbQ=s64",
      "userId": "08861151773596892595"
     },
     "user_tz": 180
    },
    "id": "UCwG8MwY6w_E",
    "outputId": "cb91f708-5c49-4057-92b6-066403d0874e"
   },
   "outputs": [
    {
     "data": {
      "text/html": [
       "<div>\n",
       "<style scoped>\n",
       "    .dataframe tbody tr th:only-of-type {\n",
       "        vertical-align: middle;\n",
       "    }\n",
       "\n",
       "    .dataframe tbody tr th {\n",
       "        vertical-align: top;\n",
       "    }\n",
       "\n",
       "    .dataframe thead th {\n",
       "        text-align: right;\n",
       "    }\n",
       "</style>\n",
       "<table border=\"1\" class=\"dataframe\">\n",
       "  <thead>\n",
       "    <tr style=\"text-align: right;\">\n",
       "      <th></th>\n",
       "      <th>A</th>\n",
       "      <th>B</th>\n",
       "      <th>C</th>\n",
       "      <th>D</th>\n",
       "    </tr>\n",
       "  </thead>\n",
       "  <tbody>\n",
       "    <tr>\n",
       "      <th>2013-01-01</th>\n",
       "      <td>0.76242</td>\n",
       "      <td>1.450398</td>\n",
       "      <td>-1.109476</td>\n",
       "      <td>1.265186</td>\n",
       "    </tr>\n",
       "  </tbody>\n",
       "</table>\n",
       "</div>"
      ],
      "text/plain": [
       "                  A         B         C         D\n",
       "2013-01-01  0.76242  1.450398 -1.109476  1.265186"
      ]
     },
     "execution_count": 52,
     "metadata": {
      "tags": []
     },
     "output_type": "execute_result"
    }
   ],
   "source": [
    "df.loc[df['A'] > 0]"
   ]
  },
  {
   "cell_type": "markdown",
   "metadata": {
    "id": "lJ4bGk5r6w_J"
   },
   "source": [
    "Condicional de `DataFrame` inteiro:"
   ]
  },
  {
   "cell_type": "code",
   "execution_count": null,
   "metadata": {
    "colab": {
     "base_uri": "https://localhost:8080/",
     "height": 238
    },
    "executionInfo": {
     "elapsed": 1684,
     "status": "ok",
     "timestamp": 1618936522955,
     "user": {
      "displayName": "Rafael Matos",
      "photoUrl": "https://lh3.googleusercontent.com/a-/AOh14GizvLjQZmGB4-KGWvSOV05hr_lUcZifkDol22tmbQ=s64",
      "userId": "08861151773596892595"
     },
     "user_tz": 180
    },
    "id": "8U7fCwq76w_K",
    "outputId": "60bc2729-3155-4c46-9c1a-0a205dcd200b"
   },
   "outputs": [
    {
     "data": {
      "text/html": [
       "<div>\n",
       "<style scoped>\n",
       "    .dataframe tbody tr th:only-of-type {\n",
       "        vertical-align: middle;\n",
       "    }\n",
       "\n",
       "    .dataframe tbody tr th {\n",
       "        vertical-align: top;\n",
       "    }\n",
       "\n",
       "    .dataframe thead th {\n",
       "        text-align: right;\n",
       "    }\n",
       "</style>\n",
       "<table border=\"1\" class=\"dataframe\">\n",
       "  <thead>\n",
       "    <tr style=\"text-align: right;\">\n",
       "      <th></th>\n",
       "      <th>A</th>\n",
       "      <th>B</th>\n",
       "      <th>C</th>\n",
       "      <th>D</th>\n",
       "    </tr>\n",
       "  </thead>\n",
       "  <tbody>\n",
       "    <tr>\n",
       "      <th>2013-01-01</th>\n",
       "      <td>0.76242</td>\n",
       "      <td>1.450398</td>\n",
       "      <td>NaN</td>\n",
       "      <td>1.265186</td>\n",
       "    </tr>\n",
       "    <tr>\n",
       "      <th>2013-01-02</th>\n",
       "      <td>NaN</td>\n",
       "      <td>NaN</td>\n",
       "      <td>0.724536</td>\n",
       "      <td>NaN</td>\n",
       "    </tr>\n",
       "    <tr>\n",
       "      <th>2013-01-03</th>\n",
       "      <td>NaN</td>\n",
       "      <td>0.009551</td>\n",
       "      <td>0.857248</td>\n",
       "      <td>0.733360</td>\n",
       "    </tr>\n",
       "    <tr>\n",
       "      <th>2013-01-04</th>\n",
       "      <td>NaN</td>\n",
       "      <td>NaN</td>\n",
       "      <td>1.471886</td>\n",
       "      <td>NaN</td>\n",
       "    </tr>\n",
       "    <tr>\n",
       "      <th>2013-01-05</th>\n",
       "      <td>NaN</td>\n",
       "      <td>0.093353</td>\n",
       "      <td>0.487800</td>\n",
       "      <td>0.904304</td>\n",
       "    </tr>\n",
       "    <tr>\n",
       "      <th>2013-01-06</th>\n",
       "      <td>NaN</td>\n",
       "      <td>0.427928</td>\n",
       "      <td>NaN</td>\n",
       "      <td>NaN</td>\n",
       "    </tr>\n",
       "  </tbody>\n",
       "</table>\n",
       "</div>"
      ],
      "text/plain": [
       "                  A         B         C         D\n",
       "2013-01-01  0.76242  1.450398       NaN  1.265186\n",
       "2013-01-02      NaN       NaN  0.724536       NaN\n",
       "2013-01-03      NaN  0.009551  0.857248  0.733360\n",
       "2013-01-04      NaN       NaN  1.471886       NaN\n",
       "2013-01-05      NaN  0.093353  0.487800  0.904304\n",
       "2013-01-06      NaN  0.427928       NaN       NaN"
      ]
     },
     "execution_count": 53,
     "metadata": {
      "tags": []
     },
     "output_type": "execute_result"
    }
   ],
   "source": [
    "df[df > 0]"
   ]
  },
  {
   "cell_type": "markdown",
   "metadata": {
    "id": "bJPNlSQI6w_O"
   },
   "source": [
    "Usando o método [isin()](https://pandas.pydata.org/pandas-docs/stable/reference/api/pandas.Series.isin.html#pandas.Series.isin) para filtrar:"
   ]
  },
  {
   "cell_type": "code",
   "execution_count": null,
   "metadata": {
    "colab": {
     "base_uri": "https://localhost:8080/",
     "height": 238
    },
    "executionInfo": {
     "elapsed": 1209,
     "status": "ok",
     "timestamp": 1618936598890,
     "user": {
      "displayName": "Rafael Matos",
      "photoUrl": "https://lh3.googleusercontent.com/a-/AOh14GizvLjQZmGB4-KGWvSOV05hr_lUcZifkDol22tmbQ=s64",
      "userId": "08861151773596892595"
     },
     "user_tz": 180
    },
    "id": "Mn2Loc9S6w_P",
    "outputId": "1d341c04-1489-465c-b37b-f78ebededebc"
   },
   "outputs": [
    {
     "data": {
      "text/html": [
       "<div>\n",
       "<style scoped>\n",
       "    .dataframe tbody tr th:only-of-type {\n",
       "        vertical-align: middle;\n",
       "    }\n",
       "\n",
       "    .dataframe tbody tr th {\n",
       "        vertical-align: top;\n",
       "    }\n",
       "\n",
       "    .dataframe thead th {\n",
       "        text-align: right;\n",
       "    }\n",
       "</style>\n",
       "<table border=\"1\" class=\"dataframe\">\n",
       "  <thead>\n",
       "    <tr style=\"text-align: right;\">\n",
       "      <th></th>\n",
       "      <th>A</th>\n",
       "      <th>B</th>\n",
       "      <th>C</th>\n",
       "      <th>D</th>\n",
       "      <th>E</th>\n",
       "    </tr>\n",
       "  </thead>\n",
       "  <tbody>\n",
       "    <tr>\n",
       "      <th>2013-01-01</th>\n",
       "      <td>0.762420</td>\n",
       "      <td>1.450398</td>\n",
       "      <td>-1.109476</td>\n",
       "      <td>1.265186</td>\n",
       "      <td>one</td>\n",
       "    </tr>\n",
       "    <tr>\n",
       "      <th>2013-01-02</th>\n",
       "      <td>-0.499884</td>\n",
       "      <td>-0.194947</td>\n",
       "      <td>0.724536</td>\n",
       "      <td>-1.161091</td>\n",
       "      <td>one</td>\n",
       "    </tr>\n",
       "    <tr>\n",
       "      <th>2013-01-03</th>\n",
       "      <td>-0.529498</td>\n",
       "      <td>0.009551</td>\n",
       "      <td>0.857248</td>\n",
       "      <td>0.733360</td>\n",
       "      <td>two</td>\n",
       "    </tr>\n",
       "    <tr>\n",
       "      <th>2013-01-04</th>\n",
       "      <td>-0.988143</td>\n",
       "      <td>-2.679477</td>\n",
       "      <td>1.471886</td>\n",
       "      <td>-1.807367</td>\n",
       "      <td>three</td>\n",
       "    </tr>\n",
       "    <tr>\n",
       "      <th>2013-01-05</th>\n",
       "      <td>-0.615046</td>\n",
       "      <td>0.093353</td>\n",
       "      <td>0.487800</td>\n",
       "      <td>0.904304</td>\n",
       "      <td>four</td>\n",
       "    </tr>\n",
       "    <tr>\n",
       "      <th>2013-01-06</th>\n",
       "      <td>-0.667708</td>\n",
       "      <td>0.427928</td>\n",
       "      <td>-2.412935</td>\n",
       "      <td>-0.553455</td>\n",
       "      <td>three</td>\n",
       "    </tr>\n",
       "  </tbody>\n",
       "</table>\n",
       "</div>"
      ],
      "text/plain": [
       "                   A         B         C         D      E\n",
       "2013-01-01  0.762420  1.450398 -1.109476  1.265186    one\n",
       "2013-01-02 -0.499884 -0.194947  0.724536 -1.161091    one\n",
       "2013-01-03 -0.529498  0.009551  0.857248  0.733360    two\n",
       "2013-01-04 -0.988143 -2.679477  1.471886 -1.807367  three\n",
       "2013-01-05 -0.615046  0.093353  0.487800  0.904304   four\n",
       "2013-01-06 -0.667708  0.427928 -2.412935 -0.553455  three"
      ]
     },
     "execution_count": 54,
     "metadata": {
      "tags": []
     },
     "output_type": "execute_result"
    }
   ],
   "source": [
    "df2 = df.copy()\n",
    "df2['E'] = ['one', 'one', 'two', 'three', 'four', 'three']\n",
    "df2"
   ]
  },
  {
   "cell_type": "code",
   "execution_count": null,
   "metadata": {
    "colab": {
     "base_uri": "https://localhost:8080/",
     "height": 143
    },
    "executionInfo": {
     "elapsed": 1711,
     "status": "ok",
     "timestamp": 1618936631355,
     "user": {
      "displayName": "Rafael Matos",
      "photoUrl": "https://lh3.googleusercontent.com/a-/AOh14GizvLjQZmGB4-KGWvSOV05hr_lUcZifkDol22tmbQ=s64",
      "userId": "08861151773596892595"
     },
     "user_tz": 180
    },
    "id": "SloHZ2sl6w_c",
    "outputId": "8ed9975c-e3cc-4c8f-9225-a96393e7bf03"
   },
   "outputs": [
    {
     "data": {
      "text/html": [
       "<div>\n",
       "<style scoped>\n",
       "    .dataframe tbody tr th:only-of-type {\n",
       "        vertical-align: middle;\n",
       "    }\n",
       "\n",
       "    .dataframe tbody tr th {\n",
       "        vertical-align: top;\n",
       "    }\n",
       "\n",
       "    .dataframe thead th {\n",
       "        text-align: right;\n",
       "    }\n",
       "</style>\n",
       "<table border=\"1\" class=\"dataframe\">\n",
       "  <thead>\n",
       "    <tr style=\"text-align: right;\">\n",
       "      <th></th>\n",
       "      <th>A</th>\n",
       "      <th>B</th>\n",
       "      <th>C</th>\n",
       "      <th>D</th>\n",
       "      <th>E</th>\n",
       "    </tr>\n",
       "  </thead>\n",
       "  <tbody>\n",
       "    <tr>\n",
       "      <th>2013-01-01</th>\n",
       "      <td>0.762420</td>\n",
       "      <td>1.450398</td>\n",
       "      <td>-1.109476</td>\n",
       "      <td>1.265186</td>\n",
       "      <td>one</td>\n",
       "    </tr>\n",
       "    <tr>\n",
       "      <th>2013-01-02</th>\n",
       "      <td>-0.499884</td>\n",
       "      <td>-0.194947</td>\n",
       "      <td>0.724536</td>\n",
       "      <td>-1.161091</td>\n",
       "      <td>one</td>\n",
       "    </tr>\n",
       "    <tr>\n",
       "      <th>2013-01-05</th>\n",
       "      <td>-0.615046</td>\n",
       "      <td>0.093353</td>\n",
       "      <td>0.487800</td>\n",
       "      <td>0.904304</td>\n",
       "      <td>four</td>\n",
       "    </tr>\n",
       "  </tbody>\n",
       "</table>\n",
       "</div>"
      ],
      "text/plain": [
       "                   A         B         C         D     E\n",
       "2013-01-01  0.762420  1.450398 -1.109476  1.265186   one\n",
       "2013-01-02 -0.499884 -0.194947  0.724536 -1.161091   one\n",
       "2013-01-05 -0.615046  0.093353  0.487800  0.904304  four"
      ]
     },
     "execution_count": 55,
     "metadata": {
      "tags": []
     },
     "output_type": "execute_result"
    }
   ],
   "source": [
    "df2[df2['E'].isin(['one', 'four'])]"
   ]
  },
  {
   "cell_type": "markdown",
   "metadata": {
    "id": "7zb6BS8w6w_h"
   },
   "source": [
    "### 6 Configurando\n",
    "**Vídeo:** https://youtu.be/8r4AHIhiC-I\n",
    "\n",
    "Configurando uma nova coluna alinhando automaticamente aos índices das linhas."
   ]
  },
  {
   "cell_type": "code",
   "execution_count": null,
   "metadata": {
    "colab": {
     "base_uri": "https://localhost:8080/"
    },
    "executionInfo": {
     "elapsed": 1073,
     "status": "ok",
     "timestamp": 1618936671241,
     "user": {
      "displayName": "Rafael Matos",
      "photoUrl": "https://lh3.googleusercontent.com/a-/AOh14GizvLjQZmGB4-KGWvSOV05hr_lUcZifkDol22tmbQ=s64",
      "userId": "08861151773596892595"
     },
     "user_tz": 180
    },
    "id": "ZXHfoS1b6w_j",
    "outputId": "fd4f7d2a-5b55-42e2-f463-81bc888c54cf"
   },
   "outputs": [
    {
     "data": {
      "text/plain": [
       "DatetimeIndex(['2013-01-02', '2013-01-03', '2013-01-04', '2013-01-05',\n",
       "               '2013-01-06'],\n",
       "              dtype='datetime64[ns]', freq='D')"
      ]
     },
     "execution_count": 56,
     "metadata": {
      "tags": []
     },
     "output_type": "execute_result"
    }
   ],
   "source": [
    "# Criando o índice de datas\n",
    "dates = pd.date_range('20130102', periods=5)\n",
    "dates"
   ]
  },
  {
   "cell_type": "code",
   "execution_count": null,
   "metadata": {
    "colab": {
     "base_uri": "https://localhost:8080/"
    },
    "executionInfo": {
     "elapsed": 1095,
     "status": "ok",
     "timestamp": 1618936698829,
     "user": {
      "displayName": "Rafael Matos",
      "photoUrl": "https://lh3.googleusercontent.com/a-/AOh14GizvLjQZmGB4-KGWvSOV05hr_lUcZifkDol22tmbQ=s64",
      "userId": "08861151773596892595"
     },
     "user_tz": 180
    },
    "id": "sgr7PvV-6w_y",
    "outputId": "cd42a452-ed55-4e6f-d70a-367d7186ad80"
   },
   "outputs": [
    {
     "data": {
      "text/plain": [
       "2013-01-02    1\n",
       "2013-01-03    2\n",
       "2013-01-04    3\n",
       "2013-01-05    4\n",
       "2013-01-06    5\n",
       "Freq: D, dtype: int64"
      ]
     },
     "execution_count": 57,
     "metadata": {
      "tags": []
     },
     "output_type": "execute_result"
    }
   ],
   "source": [
    "# Criando o objeto do tipo Series\n",
    "s1 = pd.Series([1, 2, 3, 4, 5], index=dates)\n",
    "s1"
   ]
  },
  {
   "cell_type": "code",
   "execution_count": null,
   "metadata": {
    "colab": {
     "base_uri": "https://localhost:8080/",
     "height": 238
    },
    "executionInfo": {
     "elapsed": 1472,
     "status": "ok",
     "timestamp": 1618936721024,
     "user": {
      "displayName": "Rafael Matos",
      "photoUrl": "https://lh3.googleusercontent.com/a-/AOh14GizvLjQZmGB4-KGWvSOV05hr_lUcZifkDol22tmbQ=s64",
      "userId": "08861151773596892595"
     },
     "user_tz": 180
    },
    "id": "nTSg6LWK6w_3",
    "outputId": "795f576a-37aa-460e-b9d3-1cc7fff58330"
   },
   "outputs": [
    {
     "data": {
      "text/html": [
       "<div>\n",
       "<style scoped>\n",
       "    .dataframe tbody tr th:only-of-type {\n",
       "        vertical-align: middle;\n",
       "    }\n",
       "\n",
       "    .dataframe tbody tr th {\n",
       "        vertical-align: top;\n",
       "    }\n",
       "\n",
       "    .dataframe thead th {\n",
       "        text-align: right;\n",
       "    }\n",
       "</style>\n",
       "<table border=\"1\" class=\"dataframe\">\n",
       "  <thead>\n",
       "    <tr style=\"text-align: right;\">\n",
       "      <th></th>\n",
       "      <th>A</th>\n",
       "      <th>B</th>\n",
       "      <th>C</th>\n",
       "      <th>D</th>\n",
       "      <th>F</th>\n",
       "    </tr>\n",
       "  </thead>\n",
       "  <tbody>\n",
       "    <tr>\n",
       "      <th>2013-01-01</th>\n",
       "      <td>0.762420</td>\n",
       "      <td>1.450398</td>\n",
       "      <td>-1.109476</td>\n",
       "      <td>1.265186</td>\n",
       "      <td>NaN</td>\n",
       "    </tr>\n",
       "    <tr>\n",
       "      <th>2013-01-02</th>\n",
       "      <td>-0.499884</td>\n",
       "      <td>-0.194947</td>\n",
       "      <td>0.724536</td>\n",
       "      <td>-1.161091</td>\n",
       "      <td>1.0</td>\n",
       "    </tr>\n",
       "    <tr>\n",
       "      <th>2013-01-03</th>\n",
       "      <td>-0.529498</td>\n",
       "      <td>0.009551</td>\n",
       "      <td>0.857248</td>\n",
       "      <td>0.733360</td>\n",
       "      <td>2.0</td>\n",
       "    </tr>\n",
       "    <tr>\n",
       "      <th>2013-01-04</th>\n",
       "      <td>-0.988143</td>\n",
       "      <td>-2.679477</td>\n",
       "      <td>1.471886</td>\n",
       "      <td>-1.807367</td>\n",
       "      <td>3.0</td>\n",
       "    </tr>\n",
       "    <tr>\n",
       "      <th>2013-01-05</th>\n",
       "      <td>-0.615046</td>\n",
       "      <td>0.093353</td>\n",
       "      <td>0.487800</td>\n",
       "      <td>0.904304</td>\n",
       "      <td>4.0</td>\n",
       "    </tr>\n",
       "    <tr>\n",
       "      <th>2013-01-06</th>\n",
       "      <td>-0.667708</td>\n",
       "      <td>0.427928</td>\n",
       "      <td>-2.412935</td>\n",
       "      <td>-0.553455</td>\n",
       "      <td>5.0</td>\n",
       "    </tr>\n",
       "  </tbody>\n",
       "</table>\n",
       "</div>"
      ],
      "text/plain": [
       "                   A         B         C         D    F\n",
       "2013-01-01  0.762420  1.450398 -1.109476  1.265186  NaN\n",
       "2013-01-02 -0.499884 -0.194947  0.724536 -1.161091  1.0\n",
       "2013-01-03 -0.529498  0.009551  0.857248  0.733360  2.0\n",
       "2013-01-04 -0.988143 -2.679477  1.471886 -1.807367  3.0\n",
       "2013-01-05 -0.615046  0.093353  0.487800  0.904304  4.0\n",
       "2013-01-06 -0.667708  0.427928 -2.412935 -0.553455  5.0"
      ]
     },
     "execution_count": 58,
     "metadata": {
      "tags": []
     },
     "output_type": "execute_result"
    }
   ],
   "source": [
    "# Alinhando o Series s1 ao df através de uma nova coluna 'F'\n",
    "df['F'] = s1\n",
    "df"
   ]
  },
  {
   "cell_type": "code",
   "execution_count": null,
   "metadata": {
    "colab": {
     "base_uri": "https://localhost:8080/",
     "height": 238
    },
    "executionInfo": {
     "elapsed": 1393,
     "status": "ok",
     "timestamp": 1618936753406,
     "user": {
      "displayName": "Rafael Matos",
      "photoUrl": "https://lh3.googleusercontent.com/a-/AOh14GizvLjQZmGB4-KGWvSOV05hr_lUcZifkDol22tmbQ=s64",
      "userId": "08861151773596892595"
     },
     "user_tz": 180
    },
    "id": "mTWAGuzB6w_8",
    "outputId": "fe391e8a-d075-4ebf-9853-7f58b23066ea"
   },
   "outputs": [
    {
     "data": {
      "text/html": [
       "<div>\n",
       "<style scoped>\n",
       "    .dataframe tbody tr th:only-of-type {\n",
       "        vertical-align: middle;\n",
       "    }\n",
       "\n",
       "    .dataframe tbody tr th {\n",
       "        vertical-align: top;\n",
       "    }\n",
       "\n",
       "    .dataframe thead th {\n",
       "        text-align: right;\n",
       "    }\n",
       "</style>\n",
       "<table border=\"1\" class=\"dataframe\">\n",
       "  <thead>\n",
       "    <tr style=\"text-align: right;\">\n",
       "      <th></th>\n",
       "      <th>A</th>\n",
       "      <th>B</th>\n",
       "      <th>C</th>\n",
       "      <th>D</th>\n",
       "      <th>F</th>\n",
       "    </tr>\n",
       "  </thead>\n",
       "  <tbody>\n",
       "    <tr>\n",
       "      <th>2013-01-01</th>\n",
       "      <td>0.762420</td>\n",
       "      <td>1.450398</td>\n",
       "      <td>-1.109476</td>\n",
       "      <td>1.265186</td>\n",
       "      <td>NaN</td>\n",
       "    </tr>\n",
       "    <tr>\n",
       "      <th>2013-01-02</th>\n",
       "      <td>0.000000</td>\n",
       "      <td>-0.194947</td>\n",
       "      <td>0.724536</td>\n",
       "      <td>-1.161091</td>\n",
       "      <td>1.0</td>\n",
       "    </tr>\n",
       "    <tr>\n",
       "      <th>2013-01-03</th>\n",
       "      <td>-0.529498</td>\n",
       "      <td>0.009551</td>\n",
       "      <td>0.857248</td>\n",
       "      <td>0.733360</td>\n",
       "      <td>2.0</td>\n",
       "    </tr>\n",
       "    <tr>\n",
       "      <th>2013-01-04</th>\n",
       "      <td>-0.988143</td>\n",
       "      <td>-2.679477</td>\n",
       "      <td>1.471886</td>\n",
       "      <td>-1.807367</td>\n",
       "      <td>3.0</td>\n",
       "    </tr>\n",
       "    <tr>\n",
       "      <th>2013-01-05</th>\n",
       "      <td>-0.615046</td>\n",
       "      <td>0.093353</td>\n",
       "      <td>0.487800</td>\n",
       "      <td>0.904304</td>\n",
       "      <td>4.0</td>\n",
       "    </tr>\n",
       "    <tr>\n",
       "      <th>2013-01-06</th>\n",
       "      <td>-0.667708</td>\n",
       "      <td>0.427928</td>\n",
       "      <td>-2.412935</td>\n",
       "      <td>-0.553455</td>\n",
       "      <td>5.0</td>\n",
       "    </tr>\n",
       "  </tbody>\n",
       "</table>\n",
       "</div>"
      ],
      "text/plain": [
       "                   A         B         C         D    F\n",
       "2013-01-01  0.762420  1.450398 -1.109476  1.265186  NaN\n",
       "2013-01-02  0.000000 -0.194947  0.724536 -1.161091  1.0\n",
       "2013-01-03 -0.529498  0.009551  0.857248  0.733360  2.0\n",
       "2013-01-04 -0.988143 -2.679477  1.471886 -1.807367  3.0\n",
       "2013-01-05 -0.615046  0.093353  0.487800  0.904304  4.0\n",
       "2013-01-06 -0.667708  0.427928 -2.412935 -0.553455  5.0"
      ]
     },
     "execution_count": 59,
     "metadata": {
      "tags": []
     },
     "output_type": "execute_result"
    }
   ],
   "source": [
    "# Configurando valores por rótulo\n",
    "df.at['20130102', 'A'] = 0\n",
    "df"
   ]
  },
  {
   "cell_type": "code",
   "execution_count": null,
   "metadata": {
    "colab": {
     "base_uri": "https://localhost:8080/",
     "height": 238
    },
    "executionInfo": {
     "elapsed": 1319,
     "status": "ok",
     "timestamp": 1618936833081,
     "user": {
      "displayName": "Rafael Matos",
      "photoUrl": "https://lh3.googleusercontent.com/a-/AOh14GizvLjQZmGB4-KGWvSOV05hr_lUcZifkDol22tmbQ=s64",
      "userId": "08861151773596892595"
     },
     "user_tz": 180
    },
    "id": "NMkqzHO66xAE",
    "outputId": "3d4c5a8a-8f85-45cf-bbf2-72ae9985b185"
   },
   "outputs": [
    {
     "data": {
      "text/html": [
       "<div>\n",
       "<style scoped>\n",
       "    .dataframe tbody tr th:only-of-type {\n",
       "        vertical-align: middle;\n",
       "    }\n",
       "\n",
       "    .dataframe tbody tr th {\n",
       "        vertical-align: top;\n",
       "    }\n",
       "\n",
       "    .dataframe thead th {\n",
       "        text-align: right;\n",
       "    }\n",
       "</style>\n",
       "<table border=\"1\" class=\"dataframe\">\n",
       "  <thead>\n",
       "    <tr style=\"text-align: right;\">\n",
       "      <th></th>\n",
       "      <th>A</th>\n",
       "      <th>B</th>\n",
       "      <th>C</th>\n",
       "      <th>D</th>\n",
       "      <th>F</th>\n",
       "    </tr>\n",
       "  </thead>\n",
       "  <tbody>\n",
       "    <tr>\n",
       "      <th>2013-01-01</th>\n",
       "      <td>0.762420</td>\n",
       "      <td>0.000000</td>\n",
       "      <td>-1.109476</td>\n",
       "      <td>1.265186</td>\n",
       "      <td>NaN</td>\n",
       "    </tr>\n",
       "    <tr>\n",
       "      <th>2013-01-02</th>\n",
       "      <td>0.000000</td>\n",
       "      <td>-0.194947</td>\n",
       "      <td>0.724536</td>\n",
       "      <td>-1.161091</td>\n",
       "      <td>1.0</td>\n",
       "    </tr>\n",
       "    <tr>\n",
       "      <th>2013-01-03</th>\n",
       "      <td>-0.529498</td>\n",
       "      <td>0.009551</td>\n",
       "      <td>0.857248</td>\n",
       "      <td>0.733360</td>\n",
       "      <td>2.0</td>\n",
       "    </tr>\n",
       "    <tr>\n",
       "      <th>2013-01-04</th>\n",
       "      <td>-0.988143</td>\n",
       "      <td>-2.679477</td>\n",
       "      <td>1.471886</td>\n",
       "      <td>-1.807367</td>\n",
       "      <td>3.0</td>\n",
       "    </tr>\n",
       "    <tr>\n",
       "      <th>2013-01-05</th>\n",
       "      <td>-0.615046</td>\n",
       "      <td>0.093353</td>\n",
       "      <td>0.487800</td>\n",
       "      <td>0.904304</td>\n",
       "      <td>4.0</td>\n",
       "    </tr>\n",
       "    <tr>\n",
       "      <th>2013-01-06</th>\n",
       "      <td>-0.667708</td>\n",
       "      <td>0.427928</td>\n",
       "      <td>-2.412935</td>\n",
       "      <td>-0.553455</td>\n",
       "      <td>5.0</td>\n",
       "    </tr>\n",
       "  </tbody>\n",
       "</table>\n",
       "</div>"
      ],
      "text/plain": [
       "                   A         B         C         D    F\n",
       "2013-01-01  0.762420  0.000000 -1.109476  1.265186  NaN\n",
       "2013-01-02  0.000000 -0.194947  0.724536 -1.161091  1.0\n",
       "2013-01-03 -0.529498  0.009551  0.857248  0.733360  2.0\n",
       "2013-01-04 -0.988143 -2.679477  1.471886 -1.807367  3.0\n",
       "2013-01-05 -0.615046  0.093353  0.487800  0.904304  4.0\n",
       "2013-01-06 -0.667708  0.427928 -2.412935 -0.553455  5.0"
      ]
     },
     "execution_count": 60,
     "metadata": {
      "tags": []
     },
     "output_type": "execute_result"
    }
   ],
   "source": [
    "# Configurando valores por posição\n",
    "df.iat[0, 1] = 0\n",
    "df"
   ]
  },
  {
   "cell_type": "code",
   "execution_count": null,
   "metadata": {
    "colab": {
     "base_uri": "https://localhost:8080/",
     "height": 238
    },
    "executionInfo": {
     "elapsed": 1141,
     "status": "ok",
     "timestamp": 1618936917618,
     "user": {
      "displayName": "Rafael Matos",
      "photoUrl": "https://lh3.googleusercontent.com/a-/AOh14GizvLjQZmGB4-KGWvSOV05hr_lUcZifkDol22tmbQ=s64",
      "userId": "08861151773596892595"
     },
     "user_tz": 180
    },
    "id": "5Z6H6jq06xAc",
    "outputId": "dc527285-7e62-4d71-ab29-b2755a5f4e60"
   },
   "outputs": [
    {
     "data": {
      "text/html": [
       "<div>\n",
       "<style scoped>\n",
       "    .dataframe tbody tr th:only-of-type {\n",
       "        vertical-align: middle;\n",
       "    }\n",
       "\n",
       "    .dataframe tbody tr th {\n",
       "        vertical-align: top;\n",
       "    }\n",
       "\n",
       "    .dataframe thead th {\n",
       "        text-align: right;\n",
       "    }\n",
       "</style>\n",
       "<table border=\"1\" class=\"dataframe\">\n",
       "  <thead>\n",
       "    <tr style=\"text-align: right;\">\n",
       "      <th></th>\n",
       "      <th>A</th>\n",
       "      <th>B</th>\n",
       "      <th>C</th>\n",
       "      <th>D</th>\n",
       "      <th>F</th>\n",
       "    </tr>\n",
       "  </thead>\n",
       "  <tbody>\n",
       "    <tr>\n",
       "      <th>2013-01-01</th>\n",
       "      <td>0.762420</td>\n",
       "      <td>0.000000</td>\n",
       "      <td>-1.109476</td>\n",
       "      <td>5</td>\n",
       "      <td>NaN</td>\n",
       "    </tr>\n",
       "    <tr>\n",
       "      <th>2013-01-02</th>\n",
       "      <td>0.000000</td>\n",
       "      <td>-0.194947</td>\n",
       "      <td>0.724536</td>\n",
       "      <td>5</td>\n",
       "      <td>1.0</td>\n",
       "    </tr>\n",
       "    <tr>\n",
       "      <th>2013-01-03</th>\n",
       "      <td>-0.529498</td>\n",
       "      <td>0.009551</td>\n",
       "      <td>0.857248</td>\n",
       "      <td>5</td>\n",
       "      <td>2.0</td>\n",
       "    </tr>\n",
       "    <tr>\n",
       "      <th>2013-01-04</th>\n",
       "      <td>-0.988143</td>\n",
       "      <td>-2.679477</td>\n",
       "      <td>1.471886</td>\n",
       "      <td>5</td>\n",
       "      <td>3.0</td>\n",
       "    </tr>\n",
       "    <tr>\n",
       "      <th>2013-01-05</th>\n",
       "      <td>-0.615046</td>\n",
       "      <td>0.093353</td>\n",
       "      <td>0.487800</td>\n",
       "      <td>5</td>\n",
       "      <td>4.0</td>\n",
       "    </tr>\n",
       "    <tr>\n",
       "      <th>2013-01-06</th>\n",
       "      <td>-0.667708</td>\n",
       "      <td>0.427928</td>\n",
       "      <td>-2.412935</td>\n",
       "      <td>5</td>\n",
       "      <td>5.0</td>\n",
       "    </tr>\n",
       "  </tbody>\n",
       "</table>\n",
       "</div>"
      ],
      "text/plain": [
       "                   A         B         C  D    F\n",
       "2013-01-01  0.762420  0.000000 -1.109476  5  NaN\n",
       "2013-01-02  0.000000 -0.194947  0.724536  5  1.0\n",
       "2013-01-03 -0.529498  0.009551  0.857248  5  2.0\n",
       "2013-01-04 -0.988143 -2.679477  1.471886  5  3.0\n",
       "2013-01-05 -0.615046  0.093353  0.487800  5  4.0\n",
       "2013-01-06 -0.667708  0.427928 -2.412935  5  5.0"
      ]
     },
     "execution_count": 61,
     "metadata": {
      "tags": []
     },
     "output_type": "execute_result"
    }
   ],
   "source": [
    "# Configurando com um array Numpy\n",
    "df.loc[:, 'D'] = np.array([5] * len(df))\n",
    "df"
   ]
  },
  {
   "cell_type": "markdown",
   "metadata": {
    "id": "VlevIbKa6xAi"
   },
   "source": [
    "Operação de seleção com configuração."
   ]
  },
  {
   "cell_type": "code",
   "execution_count": null,
   "metadata": {
    "colab": {
     "base_uri": "https://localhost:8080/",
     "height": 238
    },
    "executionInfo": {
     "elapsed": 1092,
     "status": "ok",
     "timestamp": 1618936958783,
     "user": {
      "displayName": "Rafael Matos",
      "photoUrl": "https://lh3.googleusercontent.com/a-/AOh14GizvLjQZmGB4-KGWvSOV05hr_lUcZifkDol22tmbQ=s64",
      "userId": "08861151773596892595"
     },
     "user_tz": 180
    },
    "id": "Sxgz-bq06xAi",
    "outputId": "7431097c-97bf-461e-a5c2-69f66350f9d7"
   },
   "outputs": [
    {
     "data": {
      "text/html": [
       "<div>\n",
       "<style scoped>\n",
       "    .dataframe tbody tr th:only-of-type {\n",
       "        vertical-align: middle;\n",
       "    }\n",
       "\n",
       "    .dataframe tbody tr th {\n",
       "        vertical-align: top;\n",
       "    }\n",
       "\n",
       "    .dataframe thead th {\n",
       "        text-align: right;\n",
       "    }\n",
       "</style>\n",
       "<table border=\"1\" class=\"dataframe\">\n",
       "  <thead>\n",
       "    <tr style=\"text-align: right;\">\n",
       "      <th></th>\n",
       "      <th>A</th>\n",
       "      <th>B</th>\n",
       "      <th>C</th>\n",
       "      <th>D</th>\n",
       "      <th>F</th>\n",
       "    </tr>\n",
       "  </thead>\n",
       "  <tbody>\n",
       "    <tr>\n",
       "      <th>2013-01-01</th>\n",
       "      <td>-0.762420</td>\n",
       "      <td>0.000000</td>\n",
       "      <td>-1.109476</td>\n",
       "      <td>-5</td>\n",
       "      <td>NaN</td>\n",
       "    </tr>\n",
       "    <tr>\n",
       "      <th>2013-01-02</th>\n",
       "      <td>0.000000</td>\n",
       "      <td>-0.194947</td>\n",
       "      <td>-0.724536</td>\n",
       "      <td>-5</td>\n",
       "      <td>-1.0</td>\n",
       "    </tr>\n",
       "    <tr>\n",
       "      <th>2013-01-03</th>\n",
       "      <td>-0.529498</td>\n",
       "      <td>-0.009551</td>\n",
       "      <td>-0.857248</td>\n",
       "      <td>-5</td>\n",
       "      <td>-2.0</td>\n",
       "    </tr>\n",
       "    <tr>\n",
       "      <th>2013-01-04</th>\n",
       "      <td>-0.988143</td>\n",
       "      <td>-2.679477</td>\n",
       "      <td>-1.471886</td>\n",
       "      <td>-5</td>\n",
       "      <td>-3.0</td>\n",
       "    </tr>\n",
       "    <tr>\n",
       "      <th>2013-01-05</th>\n",
       "      <td>-0.615046</td>\n",
       "      <td>-0.093353</td>\n",
       "      <td>-0.487800</td>\n",
       "      <td>-5</td>\n",
       "      <td>-4.0</td>\n",
       "    </tr>\n",
       "    <tr>\n",
       "      <th>2013-01-06</th>\n",
       "      <td>-0.667708</td>\n",
       "      <td>-0.427928</td>\n",
       "      <td>-2.412935</td>\n",
       "      <td>-5</td>\n",
       "      <td>-5.0</td>\n",
       "    </tr>\n",
       "  </tbody>\n",
       "</table>\n",
       "</div>"
      ],
      "text/plain": [
       "                   A         B         C  D    F\n",
       "2013-01-01 -0.762420  0.000000 -1.109476 -5  NaN\n",
       "2013-01-02  0.000000 -0.194947 -0.724536 -5 -1.0\n",
       "2013-01-03 -0.529498 -0.009551 -0.857248 -5 -2.0\n",
       "2013-01-04 -0.988143 -2.679477 -1.471886 -5 -3.0\n",
       "2013-01-05 -0.615046 -0.093353 -0.487800 -5 -4.0\n",
       "2013-01-06 -0.667708 -0.427928 -2.412935 -5 -5.0"
      ]
     },
     "execution_count": 62,
     "metadata": {
      "tags": []
     },
     "output_type": "execute_result"
    }
   ],
   "source": [
    "df2 = df.copy()\n",
    "\n",
    "# Invertendo o sinal de todos os valores de df2 para negativo\n",
    "df2[df2 > 0] = -df2\n",
    "\n",
    "df2"
   ]
  },
  {
   "cell_type": "markdown",
   "metadata": {
    "id": "DR8CxHUm6xA9"
   },
   "source": [
    "### 7 Reindexar\n",
    "Permite trocar/adicionar/deletar o índice em um eixo específico.\n",
    "\n",
    "Retorna uma cópia dos dados"
   ]
  },
  {
   "cell_type": "code",
   "execution_count": null,
   "metadata": {
    "colab": {
     "base_uri": "https://localhost:8080/",
     "height": 238
    },
    "executionInfo": {
     "elapsed": 1765,
     "status": "ok",
     "timestamp": 1618937045120,
     "user": {
      "displayName": "Rafael Matos",
      "photoUrl": "https://lh3.googleusercontent.com/a-/AOh14GizvLjQZmGB4-KGWvSOV05hr_lUcZifkDol22tmbQ=s64",
      "userId": "08861151773596892595"
     },
     "user_tz": 180
    },
    "id": "3M8DZqoJJXRj",
    "outputId": "f741d4e3-93a3-46d3-e6c2-7b5e7e2e9ce5"
   },
   "outputs": [
    {
     "data": {
      "text/html": [
       "<div>\n",
       "<style scoped>\n",
       "    .dataframe tbody tr th:only-of-type {\n",
       "        vertical-align: middle;\n",
       "    }\n",
       "\n",
       "    .dataframe tbody tr th {\n",
       "        vertical-align: top;\n",
       "    }\n",
       "\n",
       "    .dataframe thead th {\n",
       "        text-align: right;\n",
       "    }\n",
       "</style>\n",
       "<table border=\"1\" class=\"dataframe\">\n",
       "  <thead>\n",
       "    <tr style=\"text-align: right;\">\n",
       "      <th></th>\n",
       "      <th>A</th>\n",
       "      <th>B</th>\n",
       "      <th>C</th>\n",
       "      <th>D</th>\n",
       "      <th>F</th>\n",
       "    </tr>\n",
       "  </thead>\n",
       "  <tbody>\n",
       "    <tr>\n",
       "      <th>2013-01-01</th>\n",
       "      <td>0.762420</td>\n",
       "      <td>0.000000</td>\n",
       "      <td>-1.109476</td>\n",
       "      <td>5</td>\n",
       "      <td>NaN</td>\n",
       "    </tr>\n",
       "    <tr>\n",
       "      <th>2013-01-02</th>\n",
       "      <td>0.000000</td>\n",
       "      <td>-0.194947</td>\n",
       "      <td>0.724536</td>\n",
       "      <td>5</td>\n",
       "      <td>1.0</td>\n",
       "    </tr>\n",
       "    <tr>\n",
       "      <th>2013-01-03</th>\n",
       "      <td>-0.529498</td>\n",
       "      <td>0.009551</td>\n",
       "      <td>0.857248</td>\n",
       "      <td>5</td>\n",
       "      <td>2.0</td>\n",
       "    </tr>\n",
       "    <tr>\n",
       "      <th>2013-01-04</th>\n",
       "      <td>-0.988143</td>\n",
       "      <td>-2.679477</td>\n",
       "      <td>1.471886</td>\n",
       "      <td>5</td>\n",
       "      <td>3.0</td>\n",
       "    </tr>\n",
       "    <tr>\n",
       "      <th>2013-01-05</th>\n",
       "      <td>-0.615046</td>\n",
       "      <td>0.093353</td>\n",
       "      <td>0.487800</td>\n",
       "      <td>5</td>\n",
       "      <td>4.0</td>\n",
       "    </tr>\n",
       "    <tr>\n",
       "      <th>2013-01-06</th>\n",
       "      <td>-0.667708</td>\n",
       "      <td>0.427928</td>\n",
       "      <td>-2.412935</td>\n",
       "      <td>5</td>\n",
       "      <td>5.0</td>\n",
       "    </tr>\n",
       "  </tbody>\n",
       "</table>\n",
       "</div>"
      ],
      "text/plain": [
       "                   A         B         C  D    F\n",
       "2013-01-01  0.762420  0.000000 -1.109476  5  NaN\n",
       "2013-01-02  0.000000 -0.194947  0.724536  5  1.0\n",
       "2013-01-03 -0.529498  0.009551  0.857248  5  2.0\n",
       "2013-01-04 -0.988143 -2.679477  1.471886  5  3.0\n",
       "2013-01-05 -0.615046  0.093353  0.487800  5  4.0\n",
       "2013-01-06 -0.667708  0.427928 -2.412935  5  5.0"
      ]
     },
     "execution_count": 63,
     "metadata": {
      "tags": []
     },
     "output_type": "execute_result"
    }
   ],
   "source": [
    "df"
   ]
  },
  {
   "cell_type": "code",
   "execution_count": null,
   "metadata": {
    "colab": {
     "base_uri": "https://localhost:8080/",
     "height": 175
    },
    "executionInfo": {
     "elapsed": 5632,
     "status": "ok",
     "timestamp": 1618937086277,
     "user": {
      "displayName": "Rafael Matos",
      "photoUrl": "https://lh3.googleusercontent.com/a-/AOh14GizvLjQZmGB4-KGWvSOV05hr_lUcZifkDol22tmbQ=s64",
      "userId": "08861151773596892595"
     },
     "user_tz": 180
    },
    "id": "CdZMRwh86xA_",
    "outputId": "4ff8f2af-54a6-4b48-f5d4-ce44dcf30c1b"
   },
   "outputs": [
    {
     "data": {
      "text/html": [
       "<div>\n",
       "<style scoped>\n",
       "    .dataframe tbody tr th:only-of-type {\n",
       "        vertical-align: middle;\n",
       "    }\n",
       "\n",
       "    .dataframe tbody tr th {\n",
       "        vertical-align: top;\n",
       "    }\n",
       "\n",
       "    .dataframe thead th {\n",
       "        text-align: right;\n",
       "    }\n",
       "</style>\n",
       "<table border=\"1\" class=\"dataframe\">\n",
       "  <thead>\n",
       "    <tr style=\"text-align: right;\">\n",
       "      <th></th>\n",
       "      <th>A</th>\n",
       "      <th>B</th>\n",
       "      <th>C</th>\n",
       "      <th>D</th>\n",
       "      <th>F</th>\n",
       "      <th>E</th>\n",
       "    </tr>\n",
       "  </thead>\n",
       "  <tbody>\n",
       "    <tr>\n",
       "      <th>2013-01-02</th>\n",
       "      <td>0.000000</td>\n",
       "      <td>-0.194947</td>\n",
       "      <td>0.724536</td>\n",
       "      <td>5</td>\n",
       "      <td>1.0</td>\n",
       "      <td>NaN</td>\n",
       "    </tr>\n",
       "    <tr>\n",
       "      <th>2013-01-03</th>\n",
       "      <td>-0.529498</td>\n",
       "      <td>0.009551</td>\n",
       "      <td>0.857248</td>\n",
       "      <td>5</td>\n",
       "      <td>2.0</td>\n",
       "      <td>NaN</td>\n",
       "    </tr>\n",
       "    <tr>\n",
       "      <th>2013-01-04</th>\n",
       "      <td>-0.988143</td>\n",
       "      <td>-2.679477</td>\n",
       "      <td>1.471886</td>\n",
       "      <td>5</td>\n",
       "      <td>3.0</td>\n",
       "      <td>NaN</td>\n",
       "    </tr>\n",
       "    <tr>\n",
       "      <th>2013-01-05</th>\n",
       "      <td>-0.615046</td>\n",
       "      <td>0.093353</td>\n",
       "      <td>0.487800</td>\n",
       "      <td>5</td>\n",
       "      <td>4.0</td>\n",
       "      <td>NaN</td>\n",
       "    </tr>\n",
       "  </tbody>\n",
       "</table>\n",
       "</div>"
      ],
      "text/plain": [
       "                   A         B         C  D    F   E\n",
       "2013-01-02  0.000000 -0.194947  0.724536  5  1.0 NaN\n",
       "2013-01-03 -0.529498  0.009551  0.857248  5  2.0 NaN\n",
       "2013-01-04 -0.988143 -2.679477  1.471886  5  3.0 NaN\n",
       "2013-01-05 -0.615046  0.093353  0.487800  5  4.0 NaN"
      ]
     },
     "execution_count": 64,
     "metadata": {
      "tags": []
     },
     "output_type": "execute_result"
    }
   ],
   "source": [
    "# Adiciona uma nova coluna com os índices já existentes\n",
    "df1 = df.reindex(index=dates[0:4], columns=list(df.columns) + ['E'])\n",
    "df1"
   ]
  },
  {
   "cell_type": "code",
   "execution_count": null,
   "metadata": {
    "colab": {
     "base_uri": "https://localhost:8080/",
     "height": 175
    },
    "executionInfo": {
     "elapsed": 960,
     "status": "ok",
     "timestamp": 1618937157703,
     "user": {
      "displayName": "Rafael Matos",
      "photoUrl": "https://lh3.googleusercontent.com/a-/AOh14GizvLjQZmGB4-KGWvSOV05hr_lUcZifkDol22tmbQ=s64",
      "userId": "08861151773596892595"
     },
     "user_tz": 180
    },
    "id": "Xr6neEio6xBE",
    "outputId": "a50dffc7-da34-4489-88b8-682a3ac84349"
   },
   "outputs": [
    {
     "data": {
      "text/html": [
       "<div>\n",
       "<style scoped>\n",
       "    .dataframe tbody tr th:only-of-type {\n",
       "        vertical-align: middle;\n",
       "    }\n",
       "\n",
       "    .dataframe tbody tr th {\n",
       "        vertical-align: top;\n",
       "    }\n",
       "\n",
       "    .dataframe thead th {\n",
       "        text-align: right;\n",
       "    }\n",
       "</style>\n",
       "<table border=\"1\" class=\"dataframe\">\n",
       "  <thead>\n",
       "    <tr style=\"text-align: right;\">\n",
       "      <th></th>\n",
       "      <th>A</th>\n",
       "      <th>B</th>\n",
       "      <th>C</th>\n",
       "      <th>D</th>\n",
       "      <th>F</th>\n",
       "      <th>E</th>\n",
       "    </tr>\n",
       "  </thead>\n",
       "  <tbody>\n",
       "    <tr>\n",
       "      <th>2013-01-02</th>\n",
       "      <td>0.000000</td>\n",
       "      <td>-0.194947</td>\n",
       "      <td>0.724536</td>\n",
       "      <td>5</td>\n",
       "      <td>1.0</td>\n",
       "      <td>1.0</td>\n",
       "    </tr>\n",
       "    <tr>\n",
       "      <th>2013-01-03</th>\n",
       "      <td>-0.529498</td>\n",
       "      <td>0.009551</td>\n",
       "      <td>0.857248</td>\n",
       "      <td>5</td>\n",
       "      <td>2.0</td>\n",
       "      <td>1.0</td>\n",
       "    </tr>\n",
       "    <tr>\n",
       "      <th>2013-01-04</th>\n",
       "      <td>-0.988143</td>\n",
       "      <td>-2.679477</td>\n",
       "      <td>1.471886</td>\n",
       "      <td>5</td>\n",
       "      <td>3.0</td>\n",
       "      <td>NaN</td>\n",
       "    </tr>\n",
       "    <tr>\n",
       "      <th>2013-01-05</th>\n",
       "      <td>-0.615046</td>\n",
       "      <td>0.093353</td>\n",
       "      <td>0.487800</td>\n",
       "      <td>5</td>\n",
       "      <td>4.0</td>\n",
       "      <td>NaN</td>\n",
       "    </tr>\n",
       "  </tbody>\n",
       "</table>\n",
       "</div>"
      ],
      "text/plain": [
       "                   A         B         C  D    F    E\n",
       "2013-01-02  0.000000 -0.194947  0.724536  5  1.0  1.0\n",
       "2013-01-03 -0.529498  0.009551  0.857248  5  2.0  1.0\n",
       "2013-01-04 -0.988143 -2.679477  1.471886  5  3.0  NaN\n",
       "2013-01-05 -0.615046  0.093353  0.487800  5  4.0  NaN"
      ]
     },
     "execution_count": 65,
     "metadata": {
      "tags": []
     },
     "output_type": "execute_result"
    }
   ],
   "source": [
    "# Insere o valor 1 nas duas primeiras linhas de 'E'\n",
    "df1.loc[dates[0]:dates[1], 'E'] = 1\n",
    "df1"
   ]
  },
  {
   "cell_type": "markdown",
   "metadata": {
    "id": "PYdtQIbA6xBt"
   },
   "source": [
    "## IV. Operações\n",
    "---\n",
    "**Vídeo:** https://youtu.be/nhcP3oY9ry8\n",
    "\n",
    "**Índice:**\n",
    "1. [Estatística](#1-Estatística)\n",
    "2. [Broadcasting](#2-Broadcasting)\n",
    "3. [Aplicação de funções](#3-Aplicação-de-funções)\n",
    "4. [Histogramas](#4-Histogramas)\n",
    "5. [Métodos de String](#5-Métodos-de-String)\n",
    "6. [Dados Faltantes](#6-Dados-Faltantes)\n",
    "7. [Janela Móvel](#7-Janela-Móvel)\n",
    "\n",
    "Obviamente desejamos realizar operações com os dados que possuímos, portanto veremos como operar com os dados com auxílio dos métodos do Pandas.\n",
    "\n",
    "**Fontes:**\n",
    "* [Basic section on Binary Ops](https://pandas.pydata.org/docs/user_guide/basics.html#basics-binop)."
   ]
  },
  {
   "cell_type": "markdown",
   "metadata": {
    "id": "0_AILDFN6xBx"
   },
   "source": [
    "### 1 Estatística\n",
    "No geral, excluem os dados faltantes (NaN)."
   ]
  },
  {
   "cell_type": "markdown",
   "metadata": {
    "id": "ZvCOBHtL6xBz"
   },
   "source": [
    "Estatística descritiva:"
   ]
  },
  {
   "cell_type": "code",
   "execution_count": null,
   "metadata": {
    "colab": {
     "base_uri": "https://localhost:8080/"
    },
    "executionInfo": {
     "elapsed": 1725,
     "status": "ok",
     "timestamp": 1618937214580,
     "user": {
      "displayName": "Rafael Matos",
      "photoUrl": "https://lh3.googleusercontent.com/a-/AOh14GizvLjQZmGB4-KGWvSOV05hr_lUcZifkDol22tmbQ=s64",
      "userId": "08861151773596892595"
     },
     "user_tz": 180
    },
    "id": "Ov7Q0oDV6xB0",
    "outputId": "8f3f5291-9aed-4001-ee85-66051ccffefd"
   },
   "outputs": [
    {
     "data": {
      "text/plain": [
       "A   -0.339663\n",
       "B   -0.390599\n",
       "C    0.003177\n",
       "D    5.000000\n",
       "F    3.000000\n",
       "dtype: float64"
      ]
     },
     "execution_count": 66,
     "metadata": {
      "tags": []
     },
     "output_type": "execute_result"
    }
   ],
   "source": [
    "df.mean()"
   ]
  },
  {
   "cell_type": "markdown",
   "metadata": {
    "id": "BP6boghh6xB5"
   },
   "source": [
    "Agora no eixo das linhas:"
   ]
  },
  {
   "cell_type": "code",
   "execution_count": null,
   "metadata": {
    "colab": {
     "base_uri": "https://localhost:8080/"
    },
    "executionInfo": {
     "elapsed": 883,
     "status": "ok",
     "timestamp": 1618937241344,
     "user": {
      "displayName": "Rafael Matos",
      "photoUrl": "https://lh3.googleusercontent.com/a-/AOh14GizvLjQZmGB4-KGWvSOV05hr_lUcZifkDol22tmbQ=s64",
      "userId": "08861151773596892595"
     },
     "user_tz": 180
    },
    "id": "iLPHhkNG6xB5",
    "outputId": "8aeecd08-7106-43c9-af25-d1a54fb02a51"
   },
   "outputs": [
    {
     "data": {
      "text/plain": [
       "2013-01-01    1.163236\n",
       "2013-01-02    1.305918\n",
       "2013-01-03    1.467460\n",
       "2013-01-04    1.160853\n",
       "2013-01-05    1.793221\n",
       "2013-01-06    1.469457\n",
       "Freq: D, dtype: float64"
      ]
     },
     "execution_count": 67,
     "metadata": {
      "tags": []
     },
     "output_type": "execute_result"
    }
   ],
   "source": [
    "df.mean(axis=1)"
   ]
  },
  {
   "cell_type": "markdown",
   "metadata": {
    "id": "20cC4EqQNV0u"
   },
   "source": [
    "Criando um `DataFrame` com as estatísticas."
   ]
  },
  {
   "cell_type": "code",
   "execution_count": null,
   "metadata": {
    "colab": {
     "base_uri": "https://localhost:8080/",
     "height": 206
    },
    "executionInfo": {
     "elapsed": 1562,
     "status": "ok",
     "timestamp": 1618937299468,
     "user": {
      "displayName": "Rafael Matos",
      "photoUrl": "https://lh3.googleusercontent.com/a-/AOh14GizvLjQZmGB4-KGWvSOV05hr_lUcZifkDol22tmbQ=s64",
      "userId": "08861151773596892595"
     },
     "user_tz": 180
    },
    "id": "DzCIvzqQMyB0",
    "outputId": "cd975db0-a6c0-4116-b76c-94e1c4588f94"
   },
   "outputs": [
    {
     "data": {
      "text/html": [
       "<div>\n",
       "<style scoped>\n",
       "    .dataframe tbody tr th:only-of-type {\n",
       "        vertical-align: middle;\n",
       "    }\n",
       "\n",
       "    .dataframe tbody tr th {\n",
       "        vertical-align: top;\n",
       "    }\n",
       "\n",
       "    .dataframe thead th {\n",
       "        text-align: right;\n",
       "    }\n",
       "</style>\n",
       "<table border=\"1\" class=\"dataframe\">\n",
       "  <thead>\n",
       "    <tr style=\"text-align: right;\">\n",
       "      <th></th>\n",
       "      <th>A</th>\n",
       "      <th>B</th>\n",
       "      <th>C</th>\n",
       "      <th>D</th>\n",
       "      <th>F</th>\n",
       "    </tr>\n",
       "  </thead>\n",
       "  <tbody>\n",
       "    <tr>\n",
       "      <th>mean</th>\n",
       "      <td>-0.339663</td>\n",
       "      <td>-0.390599</td>\n",
       "      <td>0.003177</td>\n",
       "      <td>5.0</td>\n",
       "      <td>3.000000</td>\n",
       "    </tr>\n",
       "    <tr>\n",
       "      <th>std</th>\n",
       "      <td>0.627690</td>\n",
       "      <td>1.139660</td>\n",
       "      <td>1.464060</td>\n",
       "      <td>0.0</td>\n",
       "      <td>1.581139</td>\n",
       "    </tr>\n",
       "    <tr>\n",
       "      <th>var</th>\n",
       "      <td>0.393994</td>\n",
       "      <td>1.298825</td>\n",
       "      <td>2.143471</td>\n",
       "      <td>0.0</td>\n",
       "      <td>2.500000</td>\n",
       "    </tr>\n",
       "    <tr>\n",
       "      <th>min</th>\n",
       "      <td>-0.988143</td>\n",
       "      <td>-2.679477</td>\n",
       "      <td>-2.412935</td>\n",
       "      <td>5.0</td>\n",
       "      <td>1.000000</td>\n",
       "    </tr>\n",
       "    <tr>\n",
       "      <th>max</th>\n",
       "      <td>0.762420</td>\n",
       "      <td>0.427928</td>\n",
       "      <td>1.471886</td>\n",
       "      <td>5.0</td>\n",
       "      <td>5.000000</td>\n",
       "    </tr>\n",
       "  </tbody>\n",
       "</table>\n",
       "</div>"
      ],
      "text/plain": [
       "             A         B         C    D         F\n",
       "mean -0.339663 -0.390599  0.003177  5.0  3.000000\n",
       "std   0.627690  1.139660  1.464060  0.0  1.581139\n",
       "var   0.393994  1.298825  2.143471  0.0  2.500000\n",
       "min  -0.988143 -2.679477 -2.412935  5.0  1.000000\n",
       "max   0.762420  0.427928  1.471886  5.0  5.000000"
      ]
     },
     "execution_count": 69,
     "metadata": {
      "tags": []
     },
     "output_type": "execute_result"
    }
   ],
   "source": [
    "pd.DataFrame([df.mean(), df.std(), df.var(), df.min(), df.max()],\n",
    "             index=['mean', 'std', 'var', 'min', 'max'])"
   ]
  },
  {
   "cell_type": "code",
   "execution_count": null,
   "metadata": {
    "colab": {
     "base_uri": "https://localhost:8080/",
     "height": 206
    },
    "executionInfo": {
     "elapsed": 1193,
     "status": "ok",
     "timestamp": 1618937323698,
     "user": {
      "displayName": "Rafael Matos",
      "photoUrl": "https://lh3.googleusercontent.com/a-/AOh14GizvLjQZmGB4-KGWvSOV05hr_lUcZifkDol22tmbQ=s64",
      "userId": "08861151773596892595"
     },
     "user_tz": 180
    },
    "id": "efYr2imdM4Yx",
    "outputId": "edc1ecd1-1d3a-407c-d605-5ecfe1d6b3c6"
   },
   "outputs": [
    {
     "data": {
      "text/html": [
       "<div>\n",
       "<style scoped>\n",
       "    .dataframe tbody tr th:only-of-type {\n",
       "        vertical-align: middle;\n",
       "    }\n",
       "\n",
       "    .dataframe tbody tr th {\n",
       "        vertical-align: top;\n",
       "    }\n",
       "\n",
       "    .dataframe thead th {\n",
       "        text-align: right;\n",
       "    }\n",
       "</style>\n",
       "<table border=\"1\" class=\"dataframe\">\n",
       "  <thead>\n",
       "    <tr style=\"text-align: right;\">\n",
       "      <th></th>\n",
       "      <th>A</th>\n",
       "      <th>B</th>\n",
       "      <th>C</th>\n",
       "      <th>D</th>\n",
       "      <th>F</th>\n",
       "    </tr>\n",
       "  </thead>\n",
       "  <tbody>\n",
       "    <tr>\n",
       "      <th>A</th>\n",
       "      <td>1.000000</td>\n",
       "      <td>0.420344</td>\n",
       "      <td>-0.312662</td>\n",
       "      <td>NaN</td>\n",
       "      <td>-0.627696</td>\n",
       "    </tr>\n",
       "    <tr>\n",
       "      <th>B</th>\n",
       "      <td>0.420344</td>\n",
       "      <td>1.000000</td>\n",
       "      <td>-0.606105</td>\n",
       "      <td>NaN</td>\n",
       "      <td>0.167361</td>\n",
       "    </tr>\n",
       "    <tr>\n",
       "      <th>C</th>\n",
       "      <td>-0.312662</td>\n",
       "      <td>-0.606105</td>\n",
       "      <td>1.000000</td>\n",
       "      <td>NaN</td>\n",
       "      <td>-0.691533</td>\n",
       "    </tr>\n",
       "    <tr>\n",
       "      <th>D</th>\n",
       "      <td>NaN</td>\n",
       "      <td>NaN</td>\n",
       "      <td>NaN</td>\n",
       "      <td>NaN</td>\n",
       "      <td>NaN</td>\n",
       "    </tr>\n",
       "    <tr>\n",
       "      <th>F</th>\n",
       "      <td>-0.627696</td>\n",
       "      <td>0.167361</td>\n",
       "      <td>-0.691533</td>\n",
       "      <td>NaN</td>\n",
       "      <td>1.000000</td>\n",
       "    </tr>\n",
       "  </tbody>\n",
       "</table>\n",
       "</div>"
      ],
      "text/plain": [
       "          A         B         C   D         F\n",
       "A  1.000000  0.420344 -0.312662 NaN -0.627696\n",
       "B  0.420344  1.000000 -0.606105 NaN  0.167361\n",
       "C -0.312662 -0.606105  1.000000 NaN -0.691533\n",
       "D       NaN       NaN       NaN NaN       NaN\n",
       "F -0.627696  0.167361 -0.691533 NaN  1.000000"
      ]
     },
     "execution_count": 70,
     "metadata": {
      "tags": []
     },
     "output_type": "execute_result"
    }
   ],
   "source": [
    "df.corr()"
   ]
  },
  {
   "cell_type": "code",
   "execution_count": null,
   "metadata": {
    "colab": {
     "base_uri": "https://localhost:8080/",
     "height": 206
    },
    "executionInfo": {
     "elapsed": 2073,
     "status": "ok",
     "timestamp": 1618937349331,
     "user": {
      "displayName": "Rafael Matos",
      "photoUrl": "https://lh3.googleusercontent.com/a-/AOh14GizvLjQZmGB4-KGWvSOV05hr_lUcZifkDol22tmbQ=s64",
      "userId": "08861151773596892595"
     },
     "user_tz": 180
    },
    "id": "9G3PDsTHM7yg",
    "outputId": "b107aebe-6d6f-417f-c04a-bb8097a575a4"
   },
   "outputs": [
    {
     "data": {
      "text/html": [
       "<div>\n",
       "<style scoped>\n",
       "    .dataframe tbody tr th:only-of-type {\n",
       "        vertical-align: middle;\n",
       "    }\n",
       "\n",
       "    .dataframe tbody tr th {\n",
       "        vertical-align: top;\n",
       "    }\n",
       "\n",
       "    .dataframe thead th {\n",
       "        text-align: right;\n",
       "    }\n",
       "</style>\n",
       "<table border=\"1\" class=\"dataframe\">\n",
       "  <thead>\n",
       "    <tr style=\"text-align: right;\">\n",
       "      <th></th>\n",
       "      <th>A</th>\n",
       "      <th>B</th>\n",
       "      <th>C</th>\n",
       "      <th>D</th>\n",
       "      <th>F</th>\n",
       "    </tr>\n",
       "  </thead>\n",
       "  <tbody>\n",
       "    <tr>\n",
       "      <th>A</th>\n",
       "      <td>0.393994</td>\n",
       "      <td>0.300694</td>\n",
       "      <td>-0.287329</td>\n",
       "      <td>0.0</td>\n",
       "      <td>-0.355241</td>\n",
       "    </tr>\n",
       "    <tr>\n",
       "      <th>B</th>\n",
       "      <td>0.300694</td>\n",
       "      <td>1.298825</td>\n",
       "      <td>-1.011305</td>\n",
       "      <td>0.0</td>\n",
       "      <td>0.332388</td>\n",
       "    </tr>\n",
       "    <tr>\n",
       "      <th>C</th>\n",
       "      <td>-0.287329</td>\n",
       "      <td>-1.011305</td>\n",
       "      <td>2.143471</td>\n",
       "      <td>0.0</td>\n",
       "      <td>-1.661097</td>\n",
       "    </tr>\n",
       "    <tr>\n",
       "      <th>D</th>\n",
       "      <td>0.000000</td>\n",
       "      <td>0.000000</td>\n",
       "      <td>0.000000</td>\n",
       "      <td>0.0</td>\n",
       "      <td>0.000000</td>\n",
       "    </tr>\n",
       "    <tr>\n",
       "      <th>F</th>\n",
       "      <td>-0.355241</td>\n",
       "      <td>0.332388</td>\n",
       "      <td>-1.661097</td>\n",
       "      <td>0.0</td>\n",
       "      <td>2.500000</td>\n",
       "    </tr>\n",
       "  </tbody>\n",
       "</table>\n",
       "</div>"
      ],
      "text/plain": [
       "          A         B         C    D         F\n",
       "A  0.393994  0.300694 -0.287329  0.0 -0.355241\n",
       "B  0.300694  1.298825 -1.011305  0.0  0.332388\n",
       "C -0.287329 -1.011305  2.143471  0.0 -1.661097\n",
       "D  0.000000  0.000000  0.000000  0.0  0.000000\n",
       "F -0.355241  0.332388 -1.661097  0.0  2.500000"
      ]
     },
     "execution_count": 71,
     "metadata": {
      "tags": []
     },
     "output_type": "execute_result"
    }
   ],
   "source": [
    "df.cov()"
   ]
  },
  {
   "cell_type": "markdown",
   "metadata": {
    "id": "HPJePxKx6xCC"
   },
   "source": [
    "### 2 Broadcasting"
   ]
  },
  {
   "cell_type": "markdown",
   "metadata": {
    "id": "C0l4TI9R6xCD"
   },
   "source": [
    "Operando com objetos de dimensões diferentes, o Pandas automaticamente realiza o Broadcasting na dimensão que necessita de alinhamento."
   ]
  },
  {
   "cell_type": "code",
   "execution_count": null,
   "metadata": {
    "colab": {
     "base_uri": "https://localhost:8080/"
    },
    "executionInfo": {
     "elapsed": 1205,
     "status": "ok",
     "timestamp": 1618937426312,
     "user": {
      "displayName": "Rafael Matos",
      "photoUrl": "https://lh3.googleusercontent.com/a-/AOh14GizvLjQZmGB4-KGWvSOV05hr_lUcZifkDol22tmbQ=s64",
      "userId": "08861151773596892595"
     },
     "user_tz": 180
    },
    "id": "NWeB3Rv16xCE",
    "outputId": "6c9ac73e-0b79-4c06-8836-324b21a7f931"
   },
   "outputs": [
    {
     "data": {
      "text/plain": [
       "2013-01-01    NaN\n",
       "2013-01-02    NaN\n",
       "2013-01-03    1.0\n",
       "2013-01-04    3.0\n",
       "2013-01-05    5.0\n",
       "2013-01-06    NaN\n",
       "Freq: D, dtype: float64"
      ]
     },
     "execution_count": 72,
     "metadata": {
      "tags": []
     },
     "output_type": "execute_result"
    }
   ],
   "source": [
    "# Cria uma série em Pandas com os valores inseridos.\n",
    "# Desloca os dados em duas linhas para baixo\n",
    "dates = pd.date_range('20130101', periods=6)\n",
    "s = pd.Series([1, 3, 5, np.nan, 6, 8], index=dates).shift(2)\n",
    "s"
   ]
  },
  {
   "cell_type": "code",
   "execution_count": null,
   "metadata": {
    "colab": {
     "base_uri": "https://localhost:8080/",
     "height": 238
    },
    "executionInfo": {
     "elapsed": 1082,
     "status": "ok",
     "timestamp": 1618937499680,
     "user": {
      "displayName": "Rafael Matos",
      "photoUrl": "https://lh3.googleusercontent.com/a-/AOh14GizvLjQZmGB4-KGWvSOV05hr_lUcZifkDol22tmbQ=s64",
      "userId": "08861151773596892595"
     },
     "user_tz": 180
    },
    "id": "CupIzffq6xCO",
    "outputId": "69b37e8b-981d-4ac7-9b9f-ad3042afce5e",
    "scrolled": true
   },
   "outputs": [
    {
     "data": {
      "text/html": [
       "<div>\n",
       "<style scoped>\n",
       "    .dataframe tbody tr th:only-of-type {\n",
       "        vertical-align: middle;\n",
       "    }\n",
       "\n",
       "    .dataframe tbody tr th {\n",
       "        vertical-align: top;\n",
       "    }\n",
       "\n",
       "    .dataframe thead th {\n",
       "        text-align: right;\n",
       "    }\n",
       "</style>\n",
       "<table border=\"1\" class=\"dataframe\">\n",
       "  <thead>\n",
       "    <tr style=\"text-align: right;\">\n",
       "      <th></th>\n",
       "      <th>A</th>\n",
       "      <th>B</th>\n",
       "      <th>C</th>\n",
       "      <th>D</th>\n",
       "      <th>F</th>\n",
       "    </tr>\n",
       "  </thead>\n",
       "  <tbody>\n",
       "    <tr>\n",
       "      <th>2013-01-01</th>\n",
       "      <td>NaN</td>\n",
       "      <td>NaN</td>\n",
       "      <td>NaN</td>\n",
       "      <td>NaN</td>\n",
       "      <td>NaN</td>\n",
       "    </tr>\n",
       "    <tr>\n",
       "      <th>2013-01-02</th>\n",
       "      <td>NaN</td>\n",
       "      <td>NaN</td>\n",
       "      <td>NaN</td>\n",
       "      <td>NaN</td>\n",
       "      <td>NaN</td>\n",
       "    </tr>\n",
       "    <tr>\n",
       "      <th>2013-01-03</th>\n",
       "      <td>-1.529498</td>\n",
       "      <td>-0.990449</td>\n",
       "      <td>-0.142752</td>\n",
       "      <td>4.0</td>\n",
       "      <td>1.0</td>\n",
       "    </tr>\n",
       "    <tr>\n",
       "      <th>2013-01-04</th>\n",
       "      <td>-3.988143</td>\n",
       "      <td>-5.679477</td>\n",
       "      <td>-1.528114</td>\n",
       "      <td>2.0</td>\n",
       "      <td>0.0</td>\n",
       "    </tr>\n",
       "    <tr>\n",
       "      <th>2013-01-05</th>\n",
       "      <td>-5.615046</td>\n",
       "      <td>-4.906647</td>\n",
       "      <td>-4.512200</td>\n",
       "      <td>0.0</td>\n",
       "      <td>-1.0</td>\n",
       "    </tr>\n",
       "    <tr>\n",
       "      <th>2013-01-06</th>\n",
       "      <td>NaN</td>\n",
       "      <td>NaN</td>\n",
       "      <td>NaN</td>\n",
       "      <td>NaN</td>\n",
       "      <td>NaN</td>\n",
       "    </tr>\n",
       "  </tbody>\n",
       "</table>\n",
       "</div>"
      ],
      "text/plain": [
       "                   A         B         C    D    F\n",
       "2013-01-01       NaN       NaN       NaN  NaN  NaN\n",
       "2013-01-02       NaN       NaN       NaN  NaN  NaN\n",
       "2013-01-03 -1.529498 -0.990449 -0.142752  4.0  1.0\n",
       "2013-01-04 -3.988143 -5.679477 -1.528114  2.0  0.0\n",
       "2013-01-05 -5.615046 -4.906647 -4.512200  0.0 -1.0\n",
       "2013-01-06       NaN       NaN       NaN  NaN  NaN"
      ]
     },
     "execution_count": 73,
     "metadata": {
      "tags": []
     },
     "output_type": "execute_result"
    }
   ],
   "source": [
    "# Subtrai df de s através da direção index (linha)\n",
    "# Mesmo efeito de `DataFrame` - other, porém é possível especificar o eixo da operação e como preencher os NaN's\n",
    "df.sub(s, axis='index')"
   ]
  },
  {
   "cell_type": "markdown",
   "metadata": {
    "id": "qLAJc_tq6xCS"
   },
   "source": [
    "De forma equivalente:\n",
    "\n",
    "|Função|Operação|\n",
    "|-|-|\n",
    "|`add`|`+`|\n",
    "|`sub`|`-`|\n",
    "|`mul`|`*`|\n",
    "|`div`|`/`,`//`|\n",
    "|`mod`|`%`|\n",
    "|`pow`|`**`|"
   ]
  },
  {
   "cell_type": "markdown",
   "metadata": {
    "id": "dUMdI5b06xCT"
   },
   "source": [
    "### 3 Aplicação de funções\n",
    "Aplicar funções aos dados:"
   ]
  },
  {
   "cell_type": "code",
   "execution_count": null,
   "metadata": {
    "colab": {
     "base_uri": "https://localhost:8080/",
     "height": 238
    },
    "executionInfo": {
     "elapsed": 1444,
     "status": "ok",
     "timestamp": 1618937615063,
     "user": {
      "displayName": "Rafael Matos",
      "photoUrl": "https://lh3.googleusercontent.com/a-/AOh14GizvLjQZmGB4-KGWvSOV05hr_lUcZifkDol22tmbQ=s64",
      "userId": "08861151773596892595"
     },
     "user_tz": 180
    },
    "id": "bkZBT2ztM3oe",
    "outputId": "4109ddf9-1fb4-48d7-cbd3-e8ee252add62"
   },
   "outputs": [
    {
     "data": {
      "text/html": [
       "<div>\n",
       "<style scoped>\n",
       "    .dataframe tbody tr th:only-of-type {\n",
       "        vertical-align: middle;\n",
       "    }\n",
       "\n",
       "    .dataframe tbody tr th {\n",
       "        vertical-align: top;\n",
       "    }\n",
       "\n",
       "    .dataframe thead th {\n",
       "        text-align: right;\n",
       "    }\n",
       "</style>\n",
       "<table border=\"1\" class=\"dataframe\">\n",
       "  <thead>\n",
       "    <tr style=\"text-align: right;\">\n",
       "      <th></th>\n",
       "      <th>A</th>\n",
       "      <th>B</th>\n",
       "      <th>C</th>\n",
       "      <th>D</th>\n",
       "      <th>F</th>\n",
       "    </tr>\n",
       "  </thead>\n",
       "  <tbody>\n",
       "    <tr>\n",
       "      <th>2013-01-01</th>\n",
       "      <td>0.762420</td>\n",
       "      <td>0.000000</td>\n",
       "      <td>-1.109476</td>\n",
       "      <td>5</td>\n",
       "      <td>NaN</td>\n",
       "    </tr>\n",
       "    <tr>\n",
       "      <th>2013-01-02</th>\n",
       "      <td>0.000000</td>\n",
       "      <td>-0.194947</td>\n",
       "      <td>0.724536</td>\n",
       "      <td>5</td>\n",
       "      <td>1.0</td>\n",
       "    </tr>\n",
       "    <tr>\n",
       "      <th>2013-01-03</th>\n",
       "      <td>-0.529498</td>\n",
       "      <td>0.009551</td>\n",
       "      <td>0.857248</td>\n",
       "      <td>5</td>\n",
       "      <td>2.0</td>\n",
       "    </tr>\n",
       "    <tr>\n",
       "      <th>2013-01-04</th>\n",
       "      <td>-0.988143</td>\n",
       "      <td>-2.679477</td>\n",
       "      <td>1.471886</td>\n",
       "      <td>5</td>\n",
       "      <td>3.0</td>\n",
       "    </tr>\n",
       "    <tr>\n",
       "      <th>2013-01-05</th>\n",
       "      <td>-0.615046</td>\n",
       "      <td>0.093353</td>\n",
       "      <td>0.487800</td>\n",
       "      <td>5</td>\n",
       "      <td>4.0</td>\n",
       "    </tr>\n",
       "    <tr>\n",
       "      <th>2013-01-06</th>\n",
       "      <td>-0.667708</td>\n",
       "      <td>0.427928</td>\n",
       "      <td>-2.412935</td>\n",
       "      <td>5</td>\n",
       "      <td>5.0</td>\n",
       "    </tr>\n",
       "  </tbody>\n",
       "</table>\n",
       "</div>"
      ],
      "text/plain": [
       "                   A         B         C  D    F\n",
       "2013-01-01  0.762420  0.000000 -1.109476  5  NaN\n",
       "2013-01-02  0.000000 -0.194947  0.724536  5  1.0\n",
       "2013-01-03 -0.529498  0.009551  0.857248  5  2.0\n",
       "2013-01-04 -0.988143 -2.679477  1.471886  5  3.0\n",
       "2013-01-05 -0.615046  0.093353  0.487800  5  4.0\n",
       "2013-01-06 -0.667708  0.427928 -2.412935  5  5.0"
      ]
     },
     "execution_count": 75,
     "metadata": {
      "tags": []
     },
     "output_type": "execute_result"
    }
   ],
   "source": [
    "df"
   ]
  },
  {
   "cell_type": "code",
   "execution_count": null,
   "metadata": {
    "colab": {
     "base_uri": "https://localhost:8080/",
     "height": 238
    },
    "executionInfo": {
     "elapsed": 1887,
     "status": "ok",
     "timestamp": 1618937598092,
     "user": {
      "displayName": "Rafael Matos",
      "photoUrl": "https://lh3.googleusercontent.com/a-/AOh14GizvLjQZmGB4-KGWvSOV05hr_lUcZifkDol22tmbQ=s64",
      "userId": "08861151773596892595"
     },
     "user_tz": 180
    },
    "id": "v2taWoHP6xCU",
    "outputId": "65293900-8bfd-47d3-eb76-38866b290c17"
   },
   "outputs": [
    {
     "data": {
      "text/html": [
       "<div>\n",
       "<style scoped>\n",
       "    .dataframe tbody tr th:only-of-type {\n",
       "        vertical-align: middle;\n",
       "    }\n",
       "\n",
       "    .dataframe tbody tr th {\n",
       "        vertical-align: top;\n",
       "    }\n",
       "\n",
       "    .dataframe thead th {\n",
       "        text-align: right;\n",
       "    }\n",
       "</style>\n",
       "<table border=\"1\" class=\"dataframe\">\n",
       "  <thead>\n",
       "    <tr style=\"text-align: right;\">\n",
       "      <th></th>\n",
       "      <th>A</th>\n",
       "      <th>B</th>\n",
       "      <th>C</th>\n",
       "      <th>D</th>\n",
       "      <th>F</th>\n",
       "    </tr>\n",
       "  </thead>\n",
       "  <tbody>\n",
       "    <tr>\n",
       "      <th>2013-01-01</th>\n",
       "      <td>0.762420</td>\n",
       "      <td>0.000000</td>\n",
       "      <td>-1.109476</td>\n",
       "      <td>5</td>\n",
       "      <td>NaN</td>\n",
       "    </tr>\n",
       "    <tr>\n",
       "      <th>2013-01-02</th>\n",
       "      <td>0.762420</td>\n",
       "      <td>-0.194947</td>\n",
       "      <td>-0.384940</td>\n",
       "      <td>10</td>\n",
       "      <td>1.0</td>\n",
       "    </tr>\n",
       "    <tr>\n",
       "      <th>2013-01-03</th>\n",
       "      <td>0.232922</td>\n",
       "      <td>-0.185396</td>\n",
       "      <td>0.472308</td>\n",
       "      <td>15</td>\n",
       "      <td>3.0</td>\n",
       "    </tr>\n",
       "    <tr>\n",
       "      <th>2013-01-04</th>\n",
       "      <td>-0.755222</td>\n",
       "      <td>-2.864873</td>\n",
       "      <td>1.944194</td>\n",
       "      <td>20</td>\n",
       "      <td>6.0</td>\n",
       "    </tr>\n",
       "    <tr>\n",
       "      <th>2013-01-05</th>\n",
       "      <td>-1.370268</td>\n",
       "      <td>-2.771520</td>\n",
       "      <td>2.431994</td>\n",
       "      <td>25</td>\n",
       "      <td>10.0</td>\n",
       "    </tr>\n",
       "    <tr>\n",
       "      <th>2013-01-06</th>\n",
       "      <td>-2.037975</td>\n",
       "      <td>-2.343592</td>\n",
       "      <td>0.019059</td>\n",
       "      <td>30</td>\n",
       "      <td>15.0</td>\n",
       "    </tr>\n",
       "  </tbody>\n",
       "</table>\n",
       "</div>"
      ],
      "text/plain": [
       "                   A         B         C   D     F\n",
       "2013-01-01  0.762420  0.000000 -1.109476   5   NaN\n",
       "2013-01-02  0.762420 -0.194947 -0.384940  10   1.0\n",
       "2013-01-03  0.232922 -0.185396  0.472308  15   3.0\n",
       "2013-01-04 -0.755222 -2.864873  1.944194  20   6.0\n",
       "2013-01-05 -1.370268 -2.771520  2.431994  25  10.0\n",
       "2013-01-06 -2.037975 -2.343592  0.019059  30  15.0"
      ]
     },
     "execution_count": 74,
     "metadata": {
      "tags": []
     },
     "output_type": "execute_result"
    }
   ],
   "source": [
    "df.apply(np.cumsum)"
   ]
  },
  {
   "cell_type": "code",
   "execution_count": null,
   "metadata": {
    "colab": {
     "base_uri": "https://localhost:8080/"
    },
    "executionInfo": {
     "elapsed": 1823,
     "status": "ok",
     "timestamp": 1618937755616,
     "user": {
      "displayName": "Rafael Matos",
      "photoUrl": "https://lh3.googleusercontent.com/a-/AOh14GizvLjQZmGB4-KGWvSOV05hr_lUcZifkDol22tmbQ=s64",
      "userId": "08861151773596892595"
     },
     "user_tz": 180
    },
    "id": "DbG8u0pG6xCm",
    "outputId": "c420694e-018d-4b5b-fa97-6b99f52e4a18"
   },
   "outputs": [
    {
     "data": {
      "text/plain": [
       "2013-01-01    6.109476\n",
       "2013-01-02    5.194947\n",
       "2013-01-03    5.529498\n",
       "2013-01-04    7.679477\n",
       "2013-01-05    5.615046\n",
       "2013-01-06    7.412935\n",
       "Freq: D, dtype: float64"
      ]
     },
     "execution_count": 76,
     "metadata": {
      "tags": []
     },
     "output_type": "execute_result"
    }
   ],
   "source": [
    "# Criar uma função lambda, função rápida\n",
    "foo = lambda x: x.max() - x.min()\n",
    "# def foo(x):\n",
    "#     return x.max() - x.min()\n",
    "df.apply(foo, axis=1)"
   ]
  },
  {
   "cell_type": "markdown",
   "metadata": {
    "id": "9Ljxfi3F6xCp"
   },
   "source": [
    "#### Lambdas\n",
    "Expressões/Fórmulas são usadas para friar funções anônimas\n",
    "```python\n",
    "def <lambda>(parameters):\n",
    "    return expression\n",
    "\n",
    "# lambda equivalente\n",
    "lambda parameters: expression\n",
    "```"
   ]
  },
  {
   "cell_type": "markdown",
   "metadata": {
    "id": "kvCqSEuB6xCq"
   },
   "source": [
    "### 4 Histogramas\n",
    "**Fontes:**\n",
    "* [Histogramming and Discretization](https://pandas.pydata.org/docs/user_guide/basics.html#basics-discretization)."
   ]
  },
  {
   "cell_type": "markdown",
   "metadata": {
    "id": "qOjaxkXw5zQh"
   },
   "source": [
    "Contagem de valores."
   ]
  },
  {
   "cell_type": "code",
   "execution_count": null,
   "metadata": {
    "colab": {
     "base_uri": "https://localhost:8080/"
    },
    "executionInfo": {
     "elapsed": 1213,
     "status": "ok",
     "timestamp": 1618937822101,
     "user": {
      "displayName": "Rafael Matos",
      "photoUrl": "https://lh3.googleusercontent.com/a-/AOh14GizvLjQZmGB4-KGWvSOV05hr_lUcZifkDol22tmbQ=s64",
      "userId": "08861151773596892595"
     },
     "user_tz": 180
    },
    "id": "2H1rUW7M6xCr",
    "outputId": "4c0f9300-e408-4b5c-e316-4a0b4d4efe27"
   },
   "outputs": [
    {
     "data": {
      "text/plain": [
       "0    6\n",
       "1    5\n",
       "2    2\n",
       "3    2\n",
       "4    3\n",
       "5    3\n",
       "6    2\n",
       "7    2\n",
       "8    0\n",
       "9    0\n",
       "dtype: int64"
      ]
     },
     "execution_count": 77,
     "metadata": {
      "tags": []
     },
     "output_type": "execute_result"
    }
   ],
   "source": [
    "s = pd.Series(np.random.randint(0, 7, size=10))\n",
    "s"
   ]
  },
  {
   "cell_type": "code",
   "execution_count": null,
   "metadata": {
    "colab": {
     "base_uri": "https://localhost:8080/"
    },
    "executionInfo": {
     "elapsed": 858,
     "status": "ok",
     "timestamp": 1618937834278,
     "user": {
      "displayName": "Rafael Matos",
      "photoUrl": "https://lh3.googleusercontent.com/a-/AOh14GizvLjQZmGB4-KGWvSOV05hr_lUcZifkDol22tmbQ=s64",
      "userId": "08861151773596892595"
     },
     "user_tz": 180
    },
    "id": "Kh9srBJt6xC_",
    "outputId": "1bd69b4f-78bf-4c09-abe9-1450f9995c98"
   },
   "outputs": [
    {
     "data": {
      "text/plain": [
       "2    4\n",
       "3    2\n",
       "0    2\n",
       "6    1\n",
       "5    1\n",
       "dtype: int64"
      ]
     },
     "execution_count": 78,
     "metadata": {
      "tags": []
     },
     "output_type": "execute_result"
    }
   ],
   "source": [
    "s.value_counts()"
   ]
  },
  {
   "cell_type": "code",
   "execution_count": null,
   "metadata": {
    "colab": {
     "base_uri": "https://localhost:8080/"
    },
    "executionInfo": {
     "elapsed": 1548,
     "status": "ok",
     "timestamp": 1618937903990,
     "user": {
      "displayName": "Rafael Matos",
      "photoUrl": "https://lh3.googleusercontent.com/a-/AOh14GizvLjQZmGB4-KGWvSOV05hr_lUcZifkDol22tmbQ=s64",
      "userId": "08861151773596892595"
     },
     "user_tz": 180
    },
    "id": "5UsfK-Em6OGW",
    "outputId": "19627253-2786-48c0-ea1b-1cee3a695c07"
   },
   "outputs": [
    {
     "data": {
      "text/plain": [
       "(-3.109, -2.453]     2\n",
       "(-2.453, -1.805]     5\n",
       "(-1.805, -1.157]    15\n",
       "(-1.157, -0.508]    39\n",
       "(-0.508, 0.14]      53\n",
       "(0.14, 0.788]       40\n",
       "(0.788, 1.437]      27\n",
       "(1.437, 2.085]      15\n",
       "(2.085, 2.733]       3\n",
       "(2.733, 3.382]       1\n",
       "dtype: int64"
      ]
     },
     "execution_count": 79,
     "metadata": {
      "tags": []
     },
     "output_type": "execute_result"
    }
   ],
   "source": [
    "hist = pd.Series(np.random.randn(200)).value_counts(bins=10, sort=False)\n",
    "hist"
   ]
  },
  {
   "cell_type": "markdown",
   "metadata": {
    "id": "VNLidkSY_uFI"
   },
   "source": [
    "Calculando as probabilidades de cada intervalo."
   ]
  },
  {
   "cell_type": "code",
   "execution_count": null,
   "metadata": {
    "colab": {
     "base_uri": "https://localhost:8080/"
    },
    "executionInfo": {
     "elapsed": 1311,
     "status": "ok",
     "timestamp": 1618937949403,
     "user": {
      "displayName": "Rafael Matos",
      "photoUrl": "https://lh3.googleusercontent.com/a-/AOh14GizvLjQZmGB4-KGWvSOV05hr_lUcZifkDol22tmbQ=s64",
      "userId": "08861151773596892595"
     },
     "user_tz": 180
    },
    "id": "i7AfAwHL9tjO",
    "outputId": "0bd62118-c8c8-45b4-85dd-6180a875404a"
   },
   "outputs": [
    {
     "data": {
      "text/plain": [
       "(-3.109, -2.453]    0.010\n",
       "(-2.453, -1.805]    0.025\n",
       "(-1.805, -1.157]    0.075\n",
       "(-1.157, -0.508]    0.195\n",
       "(-0.508, 0.14]      0.265\n",
       "(0.14, 0.788]       0.200\n",
       "(0.788, 1.437]      0.135\n",
       "(1.437, 2.085]      0.075\n",
       "(2.085, 2.733]      0.015\n",
       "(2.733, 3.382]      0.005\n",
       "dtype: float64"
      ]
     },
     "execution_count": 80,
     "metadata": {
      "tags": []
     },
     "output_type": "execute_result"
    }
   ],
   "source": [
    "P = hist/hist.sum()\n",
    "P"
   ]
  },
  {
   "cell_type": "markdown",
   "metadata": {
    "id": "tcVohsOgA6uX"
   },
   "source": [
    "Plotando."
   ]
  },
  {
   "cell_type": "code",
   "execution_count": null,
   "metadata": {
    "colab": {
     "base_uri": "https://localhost:8080/",
     "height": 388
    },
    "executionInfo": {
     "elapsed": 1709,
     "status": "ok",
     "timestamp": 1618937966720,
     "user": {
      "displayName": "Rafael Matos",
      "photoUrl": "https://lh3.googleusercontent.com/a-/AOh14GizvLjQZmGB4-KGWvSOV05hr_lUcZifkDol22tmbQ=s64",
      "userId": "08861151773596892595"
     },
     "user_tz": 180
    },
    "id": "IDTaVjLV9g8G",
    "outputId": "b83fd275-3824-4765-f882-c51ff8d30578"
   },
   "outputs": [
    {
     "data": {
      "image/png": "[encoded data removed]",
      "text/plain": [
       "<Figure size 1080x360 with 2 Axes>"
      ]
     },
     "metadata": {
      "needs_background": "light",
      "tags": []
     },
     "output_type": "display_data"
    }
   ],
   "source": [
    "# Criando figura e eixos\n",
    "fig, ax = plt.subplots(figsize=(15,5))\n",
    "ax2 = ax.twinx()\n",
    "# Gráfico de barras\n",
    "ax.bar(range(hist.shape[0]), hist, facecolor='k')\n",
    "ax.legend(['Frequência'], loc=1)\n",
    "# Gráficos de linhas\n",
    "ax2.plot(range(hist.shape[0]), P, 'r',\n",
    "         range(hist.shape[0]), P.cumsum(), 'g')\n",
    "ax2.legend(['Probabilidade', 'Probabilidade Acumulada'], loc=2)\n",
    "# Ajustes finais\n",
    "ax.set_xticks(range(hist.shape[0]))\n",
    "ax.set_xticklabels(labels=hist.index, rotation=90)\n",
    "plt.show()"
   ]
  },
  {
   "cell_type": "markdown",
   "metadata": {
    "id": "8rgREsw2B18K"
   },
   "source": [
    "#### Exercício 5\n",
    "Transforme o código acima em uma função `plot_hist(s, bins=20)` que possua como entrada somente o objeto `Series` e o número de `bins`, plote o histograma e retorne uma `Series` com as frequências dos dados nos intervalos dos bins, conforme exemplificado na variável `hist` acima.\n",
    "Faça também:\n",
    "* entenda como foi gerado o gráfico do plot acima recorrendo às documentações das bibliotecas;\n",
    "* busque uma forma de juntar as legendas dos gráficos de linhas e de barras;\n",
    "    * **dica:** pesquise no google com a busca em inglês;\n",
    "* aplique a função às `Series` `s1_ex01` e `s2_ex01` do [Exercício 1](#Exercício-1), variando o `bins`;\n",
    "* utilizando o exemplo que gerou a variável `hist`, crie um objeto `Series` de *50* números aleatórios com distribuição normal, média *5* e variância *25*;\n",
    "* aplique a função criada para gerar o gráfico."
   ]
  },
  {
   "cell_type": "code",
   "execution_count": null,
   "metadata": {
    "id": "RbQ_V0JkD70j"
   },
   "outputs": [],
   "source": []
  },
  {
   "cell_type": "markdown",
   "metadata": {
    "id": "A9-SZphw6xDD"
   },
   "source": [
    "### 5 Métodos de String\n",
    "\n",
    "É possível utilizar métodos de processamento de `str` para tratar `Series`.\n",
    "\n",
    "**Fontes:**\n",
    "* Regular Expressions\n",
    "    * [Teste e aprenda](https://regexr.com/)\n",
    "    * [Python - RE](https://docs.python.org/3/library/re.html)\n",
    "* [Vectorized String Methods](https://pandas.pydata.org/pandas-docs/stable/user_guide/text.html#text-string-methods)."
   ]
  },
  {
   "cell_type": "code",
   "execution_count": null,
   "metadata": {
    "colab": {
     "base_uri": "https://localhost:8080/"
    },
    "executionInfo": {
     "elapsed": 875,
     "status": "ok",
     "timestamp": 1618938317776,
     "user": {
      "displayName": "Rafael Matos",
      "photoUrl": "https://lh3.googleusercontent.com/a-/AOh14GizvLjQZmGB4-KGWvSOV05hr_lUcZifkDol22tmbQ=s64",
      "userId": "08861151773596892595"
     },
     "user_tz": 180
    },
    "id": "BO5IUNhe6xDJ",
    "outputId": "2bee16af-332b-44fa-b475-3fd084dda88a"
   },
   "outputs": [
    {
     "data": {
      "text/plain": [
       "0        a\n",
       "1        b\n",
       "2        c\n",
       "3     aaba\n",
       "4     baca\n",
       "5      NaN\n",
       "6     caba\n",
       "7    tdog0\n",
       "8      cat\n",
       "dtype: object"
      ]
     },
     "execution_count": 82,
     "metadata": {
      "tags": []
     },
     "output_type": "execute_result"
    }
   ],
   "source": [
    "s = pd.Series(['A', 'B', 'C', 'Aaba', 'Baca', np.nan, 'CABA', 'tdog0', 'cat'])\n",
    "s.str.lower()"
   ]
  },
  {
   "cell_type": "markdown",
   "metadata": {
    "id": "0FGa_BlR6xDM"
   },
   "source": [
    "Exemplo de `replace` utilizando RE.\n",
    "Substituir a `str` (iniciada por 1 caractere qualquer + `a`) OU possuir `dog`) por `XX- `\n",
    "* `^` -> começado por\n",
    "* `.` -> qualquer caractere\n",
    "* `a|dog`"
   ]
  },
  {
   "cell_type": "code",
   "execution_count": null,
   "metadata": {
    "colab": {
     "base_uri": "https://localhost:8080/"
    },
    "executionInfo": {
     "elapsed": 1363,
     "status": "ok",
     "timestamp": 1618938399117,
     "user": {
      "displayName": "Rafael Matos",
      "photoUrl": "https://lh3.googleusercontent.com/a-/AOh14GizvLjQZmGB4-KGWvSOV05hr_lUcZifkDol22tmbQ=s64",
      "userId": "08861151773596892595"
     },
     "user_tz": 180
    },
    "id": "nScPs-IPOHuB",
    "outputId": "9814b1b8-8f9e-49ba-cce7-b36e5e5a28ec"
   },
   "outputs": [
    {
     "data": {
      "text/plain": [
       "0         A\n",
       "1         B\n",
       "2         C\n",
       "3    XX- ba\n",
       "4    XX- ca\n",
       "5       NaN\n",
       "6    XX- BA\n",
       "7    tXX- 0\n",
       "8     XX- t\n",
       "dtype: object"
      ]
     },
     "execution_count": 83,
     "metadata": {
      "tags": []
     },
     "output_type": "execute_result"
    }
   ],
   "source": [
    "s.str.replace('^.a|dog', 'XX- ', case=False)"
   ]
  },
  {
   "cell_type": "markdown",
   "metadata": {
    "id": "T6PadpsQ6xAo"
   },
   "source": [
    "### 6 Dados Faltantes\n",
    "\n",
    "Pandas usa por padrão `np.nan` para representação de dados faltantes.\n",
    "\n",
    "Esses dados não são incluídos em cálculos.\n",
    "\n",
    "**Fonte:**\n",
    "* [Missing Data section](https://pandas.pydata.org/pandas-docs/stable/user_guide/missing_data.html#missing-data)."
   ]
  },
  {
   "cell_type": "markdown",
   "metadata": {
    "id": "uiiPojMj6xBT"
   },
   "source": [
    "Remover as linhas que possuem dados faltantes (NaN):"
   ]
  },
  {
   "cell_type": "code",
   "execution_count": null,
   "metadata": {
    "colab": {
     "base_uri": "https://localhost:8080/",
     "height": 175
    },
    "executionInfo": {
     "elapsed": 1566,
     "status": "ok",
     "timestamp": 1618938495389,
     "user": {
      "displayName": "Rafael Matos",
      "photoUrl": "https://lh3.googleusercontent.com/a-/AOh14GizvLjQZmGB4-KGWvSOV05hr_lUcZifkDol22tmbQ=s64",
      "userId": "08861151773596892595"
     },
     "user_tz": 180
    },
    "id": "g8PiEWwGW7Gm",
    "outputId": "c55a124f-875a-4cbd-cebd-7391890b9ad7"
   },
   "outputs": [
    {
     "data": {
      "text/html": [
       "<div>\n",
       "<style scoped>\n",
       "    .dataframe tbody tr th:only-of-type {\n",
       "        vertical-align: middle;\n",
       "    }\n",
       "\n",
       "    .dataframe tbody tr th {\n",
       "        vertical-align: top;\n",
       "    }\n",
       "\n",
       "    .dataframe thead th {\n",
       "        text-align: right;\n",
       "    }\n",
       "</style>\n",
       "<table border=\"1\" class=\"dataframe\">\n",
       "  <thead>\n",
       "    <tr style=\"text-align: right;\">\n",
       "      <th></th>\n",
       "      <th>A</th>\n",
       "      <th>B</th>\n",
       "      <th>C</th>\n",
       "      <th>D</th>\n",
       "      <th>F</th>\n",
       "      <th>E</th>\n",
       "    </tr>\n",
       "  </thead>\n",
       "  <tbody>\n",
       "    <tr>\n",
       "      <th>2013-01-02</th>\n",
       "      <td>0.000000</td>\n",
       "      <td>-0.194947</td>\n",
       "      <td>0.724536</td>\n",
       "      <td>5</td>\n",
       "      <td>1.0</td>\n",
       "      <td>1.0</td>\n",
       "    </tr>\n",
       "    <tr>\n",
       "      <th>2013-01-03</th>\n",
       "      <td>-0.529498</td>\n",
       "      <td>0.009551</td>\n",
       "      <td>0.857248</td>\n",
       "      <td>5</td>\n",
       "      <td>2.0</td>\n",
       "      <td>1.0</td>\n",
       "    </tr>\n",
       "    <tr>\n",
       "      <th>2013-01-04</th>\n",
       "      <td>-0.988143</td>\n",
       "      <td>-2.679477</td>\n",
       "      <td>1.471886</td>\n",
       "      <td>5</td>\n",
       "      <td>3.0</td>\n",
       "      <td>NaN</td>\n",
       "    </tr>\n",
       "    <tr>\n",
       "      <th>2013-01-05</th>\n",
       "      <td>-0.615046</td>\n",
       "      <td>0.093353</td>\n",
       "      <td>0.487800</td>\n",
       "      <td>5</td>\n",
       "      <td>4.0</td>\n",
       "      <td>NaN</td>\n",
       "    </tr>\n",
       "  </tbody>\n",
       "</table>\n",
       "</div>"
      ],
      "text/plain": [
       "                   A         B         C  D    F    E\n",
       "2013-01-02  0.000000 -0.194947  0.724536  5  1.0  1.0\n",
       "2013-01-03 -0.529498  0.009551  0.857248  5  2.0  1.0\n",
       "2013-01-04 -0.988143 -2.679477  1.471886  5  3.0  NaN\n",
       "2013-01-05 -0.615046  0.093353  0.487800  5  4.0  NaN"
      ]
     },
     "execution_count": 84,
     "metadata": {
      "tags": []
     },
     "output_type": "execute_result"
    }
   ],
   "source": [
    "df1"
   ]
  },
  {
   "cell_type": "code",
   "execution_count": null,
   "metadata": {
    "colab": {
     "base_uri": "https://localhost:8080/",
     "height": 112
    },
    "executionInfo": {
     "elapsed": 1717,
     "status": "ok",
     "timestamp": 1618938532595,
     "user": {
      "displayName": "Rafael Matos",
      "photoUrl": "https://lh3.googleusercontent.com/a-/AOh14GizvLjQZmGB4-KGWvSOV05hr_lUcZifkDol22tmbQ=s64",
      "userId": "08861151773596892595"
     },
     "user_tz": 180
    },
    "id": "l-B2t-Gi6xBU",
    "outputId": "1780fdfc-6c11-4048-89eb-5502d0ec0f51"
   },
   "outputs": [
    {
     "data": {
      "text/html": [
       "<div>\n",
       "<style scoped>\n",
       "    .dataframe tbody tr th:only-of-type {\n",
       "        vertical-align: middle;\n",
       "    }\n",
       "\n",
       "    .dataframe tbody tr th {\n",
       "        vertical-align: top;\n",
       "    }\n",
       "\n",
       "    .dataframe thead th {\n",
       "        text-align: right;\n",
       "    }\n",
       "</style>\n",
       "<table border=\"1\" class=\"dataframe\">\n",
       "  <thead>\n",
       "    <tr style=\"text-align: right;\">\n",
       "      <th></th>\n",
       "      <th>A</th>\n",
       "      <th>B</th>\n",
       "      <th>C</th>\n",
       "      <th>D</th>\n",
       "      <th>F</th>\n",
       "      <th>E</th>\n",
       "    </tr>\n",
       "  </thead>\n",
       "  <tbody>\n",
       "    <tr>\n",
       "      <th>2013-01-02</th>\n",
       "      <td>0.000000</td>\n",
       "      <td>-0.194947</td>\n",
       "      <td>0.724536</td>\n",
       "      <td>5</td>\n",
       "      <td>1.0</td>\n",
       "      <td>1.0</td>\n",
       "    </tr>\n",
       "    <tr>\n",
       "      <th>2013-01-03</th>\n",
       "      <td>-0.529498</td>\n",
       "      <td>0.009551</td>\n",
       "      <td>0.857248</td>\n",
       "      <td>5</td>\n",
       "      <td>2.0</td>\n",
       "      <td>1.0</td>\n",
       "    </tr>\n",
       "  </tbody>\n",
       "</table>\n",
       "</div>"
      ],
      "text/plain": [
       "                   A         B         C  D    F    E\n",
       "2013-01-02  0.000000 -0.194947  0.724536  5  1.0  1.0\n",
       "2013-01-03 -0.529498  0.009551  0.857248  5  2.0  1.0"
      ]
     },
     "execution_count": 85,
     "metadata": {
      "tags": []
     },
     "output_type": "execute_result"
    }
   ],
   "source": [
    "df1.dropna(how='any') # axis=0"
   ]
  },
  {
   "cell_type": "markdown",
   "metadata": {
    "id": "qzT_9CaX6xBY"
   },
   "source": [
    "Populando dados faltantes (NaN):"
   ]
  },
  {
   "cell_type": "code",
   "execution_count": null,
   "metadata": {
    "colab": {
     "base_uri": "https://localhost:8080/",
     "height": 175
    },
    "executionInfo": {
     "elapsed": 2438,
     "status": "ok",
     "timestamp": 1618938551873,
     "user": {
      "displayName": "Rafael Matos",
      "photoUrl": "https://lh3.googleusercontent.com/a-/AOh14GizvLjQZmGB4-KGWvSOV05hr_lUcZifkDol22tmbQ=s64",
      "userId": "08861151773596892595"
     },
     "user_tz": 180
    },
    "id": "nHh19V776xBb",
    "outputId": "28295950-43e8-45f7-9f4c-20cabcfb3a7f"
   },
   "outputs": [
    {
     "data": {
      "text/html": [
       "<div>\n",
       "<style scoped>\n",
       "    .dataframe tbody tr th:only-of-type {\n",
       "        vertical-align: middle;\n",
       "    }\n",
       "\n",
       "    .dataframe tbody tr th {\n",
       "        vertical-align: top;\n",
       "    }\n",
       "\n",
       "    .dataframe thead th {\n",
       "        text-align: right;\n",
       "    }\n",
       "</style>\n",
       "<table border=\"1\" class=\"dataframe\">\n",
       "  <thead>\n",
       "    <tr style=\"text-align: right;\">\n",
       "      <th></th>\n",
       "      <th>A</th>\n",
       "      <th>B</th>\n",
       "      <th>C</th>\n",
       "      <th>D</th>\n",
       "      <th>F</th>\n",
       "      <th>E</th>\n",
       "    </tr>\n",
       "  </thead>\n",
       "  <tbody>\n",
       "    <tr>\n",
       "      <th>2013-01-02</th>\n",
       "      <td>0.000000</td>\n",
       "      <td>-0.194947</td>\n",
       "      <td>0.724536</td>\n",
       "      <td>5</td>\n",
       "      <td>1.0</td>\n",
       "      <td>1.0</td>\n",
       "    </tr>\n",
       "    <tr>\n",
       "      <th>2013-01-03</th>\n",
       "      <td>-0.529498</td>\n",
       "      <td>0.009551</td>\n",
       "      <td>0.857248</td>\n",
       "      <td>5</td>\n",
       "      <td>2.0</td>\n",
       "      <td>1.0</td>\n",
       "    </tr>\n",
       "    <tr>\n",
       "      <th>2013-01-04</th>\n",
       "      <td>-0.988143</td>\n",
       "      <td>-2.679477</td>\n",
       "      <td>1.471886</td>\n",
       "      <td>5</td>\n",
       "      <td>3.0</td>\n",
       "      <td>5.0</td>\n",
       "    </tr>\n",
       "    <tr>\n",
       "      <th>2013-01-05</th>\n",
       "      <td>-0.615046</td>\n",
       "      <td>0.093353</td>\n",
       "      <td>0.487800</td>\n",
       "      <td>5</td>\n",
       "      <td>4.0</td>\n",
       "      <td>5.0</td>\n",
       "    </tr>\n",
       "  </tbody>\n",
       "</table>\n",
       "</div>"
      ],
      "text/plain": [
       "                   A         B         C  D    F    E\n",
       "2013-01-02  0.000000 -0.194947  0.724536  5  1.0  1.0\n",
       "2013-01-03 -0.529498  0.009551  0.857248  5  2.0  1.0\n",
       "2013-01-04 -0.988143 -2.679477  1.471886  5  3.0  5.0\n",
       "2013-01-05 -0.615046  0.093353  0.487800  5  4.0  5.0"
      ]
     },
     "execution_count": 86,
     "metadata": {
      "tags": []
     },
     "output_type": "execute_result"
    }
   ],
   "source": [
    "df1.fillna(value=5)"
   ]
  },
  {
   "cell_type": "markdown",
   "metadata": {
    "id": "iZHwk6sxVO_p"
   },
   "source": [
    "Preencher `nan` com os métodos `df.bfill()`, `df.ffill()`."
   ]
  },
  {
   "cell_type": "code",
   "execution_count": null,
   "metadata": {
    "colab": {
     "base_uri": "https://localhost:8080/",
     "height": 238
    },
    "executionInfo": {
     "elapsed": 1494,
     "status": "ok",
     "timestamp": 1618938570955,
     "user": {
      "displayName": "Rafael Matos",
      "photoUrl": "https://lh3.googleusercontent.com/a-/AOh14GizvLjQZmGB4-KGWvSOV05hr_lUcZifkDol22tmbQ=s64",
      "userId": "08861151773596892595"
     },
     "user_tz": 180
    },
    "id": "LKVT19qzWDf0",
    "outputId": "4b9885e2-6ea5-41d8-df25-d588ea53fe1e"
   },
   "outputs": [
    {
     "data": {
      "text/html": [
       "<div>\n",
       "<style scoped>\n",
       "    .dataframe tbody tr th:only-of-type {\n",
       "        vertical-align: middle;\n",
       "    }\n",
       "\n",
       "    .dataframe tbody tr th {\n",
       "        vertical-align: top;\n",
       "    }\n",
       "\n",
       "    .dataframe thead th {\n",
       "        text-align: right;\n",
       "    }\n",
       "</style>\n",
       "<table border=\"1\" class=\"dataframe\">\n",
       "  <thead>\n",
       "    <tr style=\"text-align: right;\">\n",
       "      <th></th>\n",
       "      <th>A</th>\n",
       "      <th>B</th>\n",
       "      <th>C</th>\n",
       "      <th>D</th>\n",
       "      <th>F</th>\n",
       "    </tr>\n",
       "  </thead>\n",
       "  <tbody>\n",
       "    <tr>\n",
       "      <th>2013-01-01</th>\n",
       "      <td>0.762420</td>\n",
       "      <td>0.000000</td>\n",
       "      <td>-1.109476</td>\n",
       "      <td>5</td>\n",
       "      <td>NaN</td>\n",
       "    </tr>\n",
       "    <tr>\n",
       "      <th>2013-01-02</th>\n",
       "      <td>0.000000</td>\n",
       "      <td>-0.194947</td>\n",
       "      <td>0.724536</td>\n",
       "      <td>5</td>\n",
       "      <td>1.0</td>\n",
       "    </tr>\n",
       "    <tr>\n",
       "      <th>2013-01-03</th>\n",
       "      <td>-0.529498</td>\n",
       "      <td>0.009551</td>\n",
       "      <td>0.857248</td>\n",
       "      <td>5</td>\n",
       "      <td>2.0</td>\n",
       "    </tr>\n",
       "    <tr>\n",
       "      <th>2013-01-04</th>\n",
       "      <td>-0.988143</td>\n",
       "      <td>-2.679477</td>\n",
       "      <td>1.471886</td>\n",
       "      <td>5</td>\n",
       "      <td>3.0</td>\n",
       "    </tr>\n",
       "    <tr>\n",
       "      <th>2013-01-05</th>\n",
       "      <td>-0.615046</td>\n",
       "      <td>0.093353</td>\n",
       "      <td>0.487800</td>\n",
       "      <td>5</td>\n",
       "      <td>4.0</td>\n",
       "    </tr>\n",
       "    <tr>\n",
       "      <th>2013-01-06</th>\n",
       "      <td>-0.667708</td>\n",
       "      <td>0.427928</td>\n",
       "      <td>-2.412935</td>\n",
       "      <td>5</td>\n",
       "      <td>5.0</td>\n",
       "    </tr>\n",
       "  </tbody>\n",
       "</table>\n",
       "</div>"
      ],
      "text/plain": [
       "                   A         B         C  D    F\n",
       "2013-01-01  0.762420  0.000000 -1.109476  5  NaN\n",
       "2013-01-02  0.000000 -0.194947  0.724536  5  1.0\n",
       "2013-01-03 -0.529498  0.009551  0.857248  5  2.0\n",
       "2013-01-04 -0.988143 -2.679477  1.471886  5  3.0\n",
       "2013-01-05 -0.615046  0.093353  0.487800  5  4.0\n",
       "2013-01-06 -0.667708  0.427928 -2.412935  5  5.0"
      ]
     },
     "execution_count": 87,
     "metadata": {
      "tags": []
     },
     "output_type": "execute_result"
    }
   ],
   "source": [
    "df"
   ]
  },
  {
   "cell_type": "code",
   "execution_count": null,
   "metadata": {
    "colab": {
     "base_uri": "https://localhost:8080/",
     "height": 238
    },
    "executionInfo": {
     "elapsed": 1523,
     "status": "ok",
     "timestamp": 1618938585757,
     "user": {
      "displayName": "Rafael Matos",
      "photoUrl": "https://lh3.googleusercontent.com/a-/AOh14GizvLjQZmGB4-KGWvSOV05hr_lUcZifkDol22tmbQ=s64",
      "userId": "08861151773596892595"
     },
     "user_tz": 180
    },
    "id": "cyt69Zu1VUJL",
    "outputId": "0787b9af-be00-4c37-9d44-c2a007663adf"
   },
   "outputs": [
    {
     "data": {
      "text/html": [
       "<div>\n",
       "<style scoped>\n",
       "    .dataframe tbody tr th:only-of-type {\n",
       "        vertical-align: middle;\n",
       "    }\n",
       "\n",
       "    .dataframe tbody tr th {\n",
       "        vertical-align: top;\n",
       "    }\n",
       "\n",
       "    .dataframe thead th {\n",
       "        text-align: right;\n",
       "    }\n",
       "</style>\n",
       "<table border=\"1\" class=\"dataframe\">\n",
       "  <thead>\n",
       "    <tr style=\"text-align: right;\">\n",
       "      <th></th>\n",
       "      <th>A</th>\n",
       "      <th>B</th>\n",
       "      <th>C</th>\n",
       "      <th>D</th>\n",
       "      <th>F</th>\n",
       "    </tr>\n",
       "  </thead>\n",
       "  <tbody>\n",
       "    <tr>\n",
       "      <th>2013-01-01</th>\n",
       "      <td>0.762420</td>\n",
       "      <td>0.000000</td>\n",
       "      <td>-1.109476</td>\n",
       "      <td>5</td>\n",
       "      <td>1.0</td>\n",
       "    </tr>\n",
       "    <tr>\n",
       "      <th>2013-01-02</th>\n",
       "      <td>0.000000</td>\n",
       "      <td>-0.194947</td>\n",
       "      <td>0.724536</td>\n",
       "      <td>5</td>\n",
       "      <td>1.0</td>\n",
       "    </tr>\n",
       "    <tr>\n",
       "      <th>2013-01-03</th>\n",
       "      <td>-0.529498</td>\n",
       "      <td>0.009551</td>\n",
       "      <td>0.857248</td>\n",
       "      <td>5</td>\n",
       "      <td>2.0</td>\n",
       "    </tr>\n",
       "    <tr>\n",
       "      <th>2013-01-04</th>\n",
       "      <td>-0.988143</td>\n",
       "      <td>-2.679477</td>\n",
       "      <td>1.471886</td>\n",
       "      <td>5</td>\n",
       "      <td>3.0</td>\n",
       "    </tr>\n",
       "    <tr>\n",
       "      <th>2013-01-05</th>\n",
       "      <td>-0.615046</td>\n",
       "      <td>0.093353</td>\n",
       "      <td>0.487800</td>\n",
       "      <td>5</td>\n",
       "      <td>4.0</td>\n",
       "    </tr>\n",
       "    <tr>\n",
       "      <th>2013-01-06</th>\n",
       "      <td>-0.667708</td>\n",
       "      <td>0.427928</td>\n",
       "      <td>-2.412935</td>\n",
       "      <td>5</td>\n",
       "      <td>5.0</td>\n",
       "    </tr>\n",
       "  </tbody>\n",
       "</table>\n",
       "</div>"
      ],
      "text/plain": [
       "                   A         B         C  D    F\n",
       "2013-01-01  0.762420  0.000000 -1.109476  5  1.0\n",
       "2013-01-02  0.000000 -0.194947  0.724536  5  1.0\n",
       "2013-01-03 -0.529498  0.009551  0.857248  5  2.0\n",
       "2013-01-04 -0.988143 -2.679477  1.471886  5  3.0\n",
       "2013-01-05 -0.615046  0.093353  0.487800  5  4.0\n",
       "2013-01-06 -0.667708  0.427928 -2.412935  5  5.0"
      ]
     },
     "execution_count": 88,
     "metadata": {
      "tags": []
     },
     "output_type": "execute_result"
    }
   ],
   "source": [
    "df.bfill()"
   ]
  },
  {
   "cell_type": "code",
   "execution_count": null,
   "metadata": {
    "colab": {
     "base_uri": "https://localhost:8080/",
     "height": 238
    },
    "executionInfo": {
     "elapsed": 1500,
     "status": "ok",
     "timestamp": 1618938605235,
     "user": {
      "displayName": "Rafael Matos",
      "photoUrl": "https://lh3.googleusercontent.com/a-/AOh14GizvLjQZmGB4-KGWvSOV05hr_lUcZifkDol22tmbQ=s64",
      "userId": "08861151773596892595"
     },
     "user_tz": 180
    },
    "id": "FjHykOoIV4V5",
    "outputId": "462ffa73-d7e1-48d7-c6e8-889853c1d4cd"
   },
   "outputs": [
    {
     "data": {
      "text/html": [
       "<div>\n",
       "<style scoped>\n",
       "    .dataframe tbody tr th:only-of-type {\n",
       "        vertical-align: middle;\n",
       "    }\n",
       "\n",
       "    .dataframe tbody tr th {\n",
       "        vertical-align: top;\n",
       "    }\n",
       "\n",
       "    .dataframe thead th {\n",
       "        text-align: right;\n",
       "    }\n",
       "</style>\n",
       "<table border=\"1\" class=\"dataframe\">\n",
       "  <thead>\n",
       "    <tr style=\"text-align: right;\">\n",
       "      <th></th>\n",
       "      <th>A</th>\n",
       "      <th>B</th>\n",
       "      <th>C</th>\n",
       "      <th>D</th>\n",
       "      <th>F</th>\n",
       "    </tr>\n",
       "  </thead>\n",
       "  <tbody>\n",
       "    <tr>\n",
       "      <th>2013-01-01</th>\n",
       "      <td>0.762420</td>\n",
       "      <td>0.000000</td>\n",
       "      <td>-1.109476</td>\n",
       "      <td>5.0</td>\n",
       "      <td>5.0</td>\n",
       "    </tr>\n",
       "    <tr>\n",
       "      <th>2013-01-02</th>\n",
       "      <td>0.000000</td>\n",
       "      <td>-0.194947</td>\n",
       "      <td>0.724536</td>\n",
       "      <td>5.0</td>\n",
       "      <td>1.0</td>\n",
       "    </tr>\n",
       "    <tr>\n",
       "      <th>2013-01-03</th>\n",
       "      <td>-0.529498</td>\n",
       "      <td>0.009551</td>\n",
       "      <td>0.857248</td>\n",
       "      <td>5.0</td>\n",
       "      <td>2.0</td>\n",
       "    </tr>\n",
       "    <tr>\n",
       "      <th>2013-01-04</th>\n",
       "      <td>-0.988143</td>\n",
       "      <td>-2.679477</td>\n",
       "      <td>1.471886</td>\n",
       "      <td>5.0</td>\n",
       "      <td>3.0</td>\n",
       "    </tr>\n",
       "    <tr>\n",
       "      <th>2013-01-05</th>\n",
       "      <td>-0.615046</td>\n",
       "      <td>0.093353</td>\n",
       "      <td>0.487800</td>\n",
       "      <td>5.0</td>\n",
       "      <td>4.0</td>\n",
       "    </tr>\n",
       "    <tr>\n",
       "      <th>2013-01-06</th>\n",
       "      <td>-0.667708</td>\n",
       "      <td>0.427928</td>\n",
       "      <td>-2.412935</td>\n",
       "      <td>5.0</td>\n",
       "      <td>5.0</td>\n",
       "    </tr>\n",
       "  </tbody>\n",
       "</table>\n",
       "</div>"
      ],
      "text/plain": [
       "                   A         B         C    D    F\n",
       "2013-01-01  0.762420  0.000000 -1.109476  5.0  5.0\n",
       "2013-01-02  0.000000 -0.194947  0.724536  5.0  1.0\n",
       "2013-01-03 -0.529498  0.009551  0.857248  5.0  2.0\n",
       "2013-01-04 -0.988143 -2.679477  1.471886  5.0  3.0\n",
       "2013-01-05 -0.615046  0.093353  0.487800  5.0  4.0\n",
       "2013-01-06 -0.667708  0.427928 -2.412935  5.0  5.0"
      ]
     },
     "execution_count": 89,
     "metadata": {
      "tags": []
     },
     "output_type": "execute_result"
    }
   ],
   "source": [
    "df.ffill(axis=1)"
   ]
  },
  {
   "cell_type": "markdown",
   "metadata": {
    "id": "r7WNhzsF6xBj"
   },
   "source": [
    "Obter a boolean-mask das posições dos NaN's."
   ]
  },
  {
   "cell_type": "code",
   "execution_count": null,
   "metadata": {
    "colab": {
     "base_uri": "https://localhost:8080/",
     "height": 238
    },
    "executionInfo": {
     "elapsed": 1096,
     "status": "ok",
     "timestamp": 1618938637034,
     "user": {
      "displayName": "Rafael Matos",
      "photoUrl": "https://lh3.googleusercontent.com/a-/AOh14GizvLjQZmGB4-KGWvSOV05hr_lUcZifkDol22tmbQ=s64",
      "userId": "08861151773596892595"
     },
     "user_tz": 180
    },
    "id": "RHmDeucx6xBk",
    "outputId": "f4a27029-f2f5-494e-a096-6d489ab3f508"
   },
   "outputs": [
    {
     "data": {
      "text/html": [
       "<div>\n",
       "<style scoped>\n",
       "    .dataframe tbody tr th:only-of-type {\n",
       "        vertical-align: middle;\n",
       "    }\n",
       "\n",
       "    .dataframe tbody tr th {\n",
       "        vertical-align: top;\n",
       "    }\n",
       "\n",
       "    .dataframe thead th {\n",
       "        text-align: right;\n",
       "    }\n",
       "</style>\n",
       "<table border=\"1\" class=\"dataframe\">\n",
       "  <thead>\n",
       "    <tr style=\"text-align: right;\">\n",
       "      <th></th>\n",
       "      <th>A</th>\n",
       "      <th>B</th>\n",
       "      <th>C</th>\n",
       "      <th>D</th>\n",
       "      <th>F</th>\n",
       "    </tr>\n",
       "  </thead>\n",
       "  <tbody>\n",
       "    <tr>\n",
       "      <th>2013-01-01</th>\n",
       "      <td>False</td>\n",
       "      <td>False</td>\n",
       "      <td>False</td>\n",
       "      <td>False</td>\n",
       "      <td>True</td>\n",
       "    </tr>\n",
       "    <tr>\n",
       "      <th>2013-01-02</th>\n",
       "      <td>False</td>\n",
       "      <td>False</td>\n",
       "      <td>False</td>\n",
       "      <td>False</td>\n",
       "      <td>False</td>\n",
       "    </tr>\n",
       "    <tr>\n",
       "      <th>2013-01-03</th>\n",
       "      <td>False</td>\n",
       "      <td>False</td>\n",
       "      <td>False</td>\n",
       "      <td>False</td>\n",
       "      <td>False</td>\n",
       "    </tr>\n",
       "    <tr>\n",
       "      <th>2013-01-04</th>\n",
       "      <td>False</td>\n",
       "      <td>False</td>\n",
       "      <td>False</td>\n",
       "      <td>False</td>\n",
       "      <td>False</td>\n",
       "    </tr>\n",
       "    <tr>\n",
       "      <th>2013-01-05</th>\n",
       "      <td>False</td>\n",
       "      <td>False</td>\n",
       "      <td>False</td>\n",
       "      <td>False</td>\n",
       "      <td>False</td>\n",
       "    </tr>\n",
       "    <tr>\n",
       "      <th>2013-01-06</th>\n",
       "      <td>False</td>\n",
       "      <td>False</td>\n",
       "      <td>False</td>\n",
       "      <td>False</td>\n",
       "      <td>False</td>\n",
       "    </tr>\n",
       "  </tbody>\n",
       "</table>\n",
       "</div>"
      ],
      "text/plain": [
       "                A      B      C      D      F\n",
       "2013-01-01  False  False  False  False   True\n",
       "2013-01-02  False  False  False  False  False\n",
       "2013-01-03  False  False  False  False  False\n",
       "2013-01-04  False  False  False  False  False\n",
       "2013-01-05  False  False  False  False  False\n",
       "2013-01-06  False  False  False  False  False"
      ]
     },
     "execution_count": 91,
     "metadata": {
      "tags": []
     },
     "output_type": "execute_result"
    }
   ],
   "source": [
    "pd.isna(df)"
   ]
  },
  {
   "cell_type": "markdown",
   "metadata": {
    "id": "B5BW22FyVihI"
   },
   "source": [
    "#### Exercício 6\n",
    "Simulando a coleta de dados no PI ou em algum outro banco de dados, vamos criar um `Dataframe` com *10000* pontos e dados de *3* sensores. É pedido que:\n",
    "* crie um `Dataframe` com os dados de *3* sensores:\n",
    "    * nome da variável: `df1_ex06`\n",
    "    * colunas: `['PT_01', 'PT_02', 'PT_03']`\n",
    "    * índice: `DatetimeIndex`\n",
    "        * start: *01/01/2021*\n",
    "        * freq: *1 min*\n",
    "    * sensores:\n",
    "\n",
    "|PT|`bias`<br>`[bar]`|`erro`<br>`[%]`|\n",
    "|-|-|-|\n",
    "|`PT-01`|*2*|*6*|\n",
    "|`PT-02`|*0*|*5*|\n",
    "|`PT-03`|*-3*|*3*|\n",
    "\n",
    "Os valores obedecem a equação $PT = 300 + 10\\bigg(1-e^{-t/1440}\\bigg)$\n",
    "\n",
    ">Onde:\n",
    "1. $PT$ : pressão em *bar* que o sensor está medindo,\n",
    "2. $t$ : tempo em *min*;\n",
    "\n",
    "* aplique o `nan_generator` ao `DataFrame` criado,\n",
    "    * esta função retornará alguns pontos como `np.nan` e outros como uma `str` `'nan'`.\n",
    "    * utilize o método `df1_ex06.apply()` com a função `to_numeric` para transformar as *strings* em valores numéricos;\n",
    "* utilize o método `df1_ex06.plot(figsize=(15, 5), alpha=.6, grid=True, xlabel='t [dias]', ylabel='P [bar]')` para plotar os dados gerados e visualise seus resultados;\n",
    "* teste também uma das funções para lidar com dados faltantes `fillna` ou `dropna`.\n",
    "\n",
    "**Notas:**\n",
    "* a distribuição Normal $N(\\mu, \\sigma)$ indica que:\n",
    "    * os dados estão centrados em $\\mu$,\n",
    "    * *99,8 %* dos dados está concentrado entre $[\\mu - 3\\sigma, \\mu + 3\\sigma]$;\n",
    "* a média ($\\mu$) dos dados é o `bias`;\n",
    "* $3\\sigma$ é o `erro` $(\\varepsilon)$;\n",
    "    * o erro está relacionado à faixa de medição, portanto, por conveniência, pode-se considerar uma porcentagem do valor inicial *300 bar*:\n",
    "\n",
    "$$[PT - \\varepsilon, PT + \\varepsilon] = PT + N(\\mu = bias, \\sigma = 300 \\times \\varepsilon/3) $$"
   ]
  },
  {
   "cell_type": "code",
   "execution_count": null,
   "metadata": {
    "id": "qWt_kOidnoGW"
   },
   "outputs": [],
   "source": [
    "def nan_generator(df):\n",
    "    df1 = df.copy()\n",
    "    for column in df.columns:\n",
    "        n_data = df.shape[0]\n",
    "        \n",
    "        nans = [.3, .5] # % de np.nan\n",
    "        errors = [.1, .2] # % de 'nan'\n",
    "\n",
    "        n_nan = np.random.randint(int(nans[0]*n_data),\n",
    "                                  int(nans[1]*n_data))\n",
    "        n_errors = np.random.randint(int(errors[0]*n_data),\n",
    "                                     int(errors[1]*n_data))\n",
    "\n",
    "        pos = np.random.choice(df.index, size=n_nan, replace=False)\n",
    "        df1.at[pos, column] = np.nan\n",
    "        \n",
    "        pos = np.random.choice(df.index, size=n_errors, replace=False)\n",
    "        df1.at[pos, column] = 'nan'\n",
    "    return df1"
   ]
  },
  {
   "cell_type": "code",
   "execution_count": null,
   "metadata": {
    "id": "UU4XYGunvraa"
   },
   "outputs": [],
   "source": []
  },
  {
   "cell_type": "markdown",
   "metadata": {
    "id": "0Z098bP7ysxB"
   },
   "source": [
    "### 7 Janela Móvel\n",
    "Utilizando-se o método `rolling` podemos analisar uma janela móvel dos dados.\n",
    "```python\n",
    "df.rolling(\n",
    "    window,           # Tamanho da janela: int, offset\n",
    "    min_periods=None, # Número mínimo de observações em uma janela, c.c. retorna NA: int\n",
    "    center=False,     # Configura o índice da resposta para o centro da janela: bool\n",
    "    axis=0,           # Eixo para aplicar a janela: int\n",
    "    closed=None       # Onde o intervalo é fechado: {'right', 'left', 'both', 'neither'}\n",
    "                      # Default janelas de offset: 'right'.\n",
    "                      # Default janelas fixas: 'both'.\n",
    ")\n",
    "```"
   ]
  },
  {
   "cell_type": "code",
   "execution_count": null,
   "metadata": {
    "colab": {
     "base_uri": "https://localhost:8080/",
     "height": 238
    },
    "executionInfo": {
     "elapsed": 1184,
     "status": "ok",
     "timestamp": 1618939060584,
     "user": {
      "displayName": "Rafael Matos",
      "photoUrl": "https://lh3.googleusercontent.com/a-/AOh14GizvLjQZmGB4-KGWvSOV05hr_lUcZifkDol22tmbQ=s64",
      "userId": "08861151773596892595"
     },
     "user_tz": 180
    },
    "id": "r6OdyAgB4JvC",
    "outputId": "de3bb279-3c07-46f4-971f-4cf117420501"
   },
   "outputs": [
    {
     "data": {
      "text/html": [
       "<div>\n",
       "<style scoped>\n",
       "    .dataframe tbody tr th:only-of-type {\n",
       "        vertical-align: middle;\n",
       "    }\n",
       "\n",
       "    .dataframe tbody tr th {\n",
       "        vertical-align: top;\n",
       "    }\n",
       "\n",
       "    .dataframe thead th {\n",
       "        text-align: right;\n",
       "    }\n",
       "</style>\n",
       "<table border=\"1\" class=\"dataframe\">\n",
       "  <thead>\n",
       "    <tr style=\"text-align: right;\">\n",
       "      <th></th>\n",
       "      <th>A</th>\n",
       "      <th>B</th>\n",
       "      <th>C</th>\n",
       "      <th>D</th>\n",
       "      <th>F</th>\n",
       "    </tr>\n",
       "  </thead>\n",
       "  <tbody>\n",
       "    <tr>\n",
       "      <th>2013-01-01</th>\n",
       "      <td>0.762420</td>\n",
       "      <td>0.000000</td>\n",
       "      <td>-1.109476</td>\n",
       "      <td>5</td>\n",
       "      <td>NaN</td>\n",
       "    </tr>\n",
       "    <tr>\n",
       "      <th>2013-01-02</th>\n",
       "      <td>0.000000</td>\n",
       "      <td>-0.194947</td>\n",
       "      <td>0.724536</td>\n",
       "      <td>5</td>\n",
       "      <td>1.0</td>\n",
       "    </tr>\n",
       "    <tr>\n",
       "      <th>2013-01-03</th>\n",
       "      <td>-0.529498</td>\n",
       "      <td>0.009551</td>\n",
       "      <td>0.857248</td>\n",
       "      <td>5</td>\n",
       "      <td>2.0</td>\n",
       "    </tr>\n",
       "    <tr>\n",
       "      <th>2013-01-04</th>\n",
       "      <td>-0.988143</td>\n",
       "      <td>-2.679477</td>\n",
       "      <td>1.471886</td>\n",
       "      <td>5</td>\n",
       "      <td>3.0</td>\n",
       "    </tr>\n",
       "    <tr>\n",
       "      <th>2013-01-05</th>\n",
       "      <td>-0.615046</td>\n",
       "      <td>0.093353</td>\n",
       "      <td>0.487800</td>\n",
       "      <td>5</td>\n",
       "      <td>4.0</td>\n",
       "    </tr>\n",
       "    <tr>\n",
       "      <th>2013-01-06</th>\n",
       "      <td>-0.667708</td>\n",
       "      <td>0.427928</td>\n",
       "      <td>-2.412935</td>\n",
       "      <td>5</td>\n",
       "      <td>5.0</td>\n",
       "    </tr>\n",
       "  </tbody>\n",
       "</table>\n",
       "</div>"
      ],
      "text/plain": [
       "                   A         B         C  D    F\n",
       "2013-01-01  0.762420  0.000000 -1.109476  5  NaN\n",
       "2013-01-02  0.000000 -0.194947  0.724536  5  1.0\n",
       "2013-01-03 -0.529498  0.009551  0.857248  5  2.0\n",
       "2013-01-04 -0.988143 -2.679477  1.471886  5  3.0\n",
       "2013-01-05 -0.615046  0.093353  0.487800  5  4.0\n",
       "2013-01-06 -0.667708  0.427928 -2.412935  5  5.0"
      ]
     },
     "execution_count": 92,
     "metadata": {
      "tags": []
     },
     "output_type": "execute_result"
    }
   ],
   "source": [
    "df"
   ]
  },
  {
   "cell_type": "code",
   "execution_count": null,
   "metadata": {
    "colab": {
     "base_uri": "https://localhost:8080/"
    },
    "executionInfo": {
     "elapsed": 1506,
     "status": "ok",
     "timestamp": 1618939074529,
     "user": {
      "displayName": "Rafael Matos",
      "photoUrl": "https://lh3.googleusercontent.com/a-/AOh14GizvLjQZmGB4-KGWvSOV05hr_lUcZifkDol22tmbQ=s64",
      "userId": "08861151773596892595"
     },
     "user_tz": 180
    },
    "id": "uTqeRSqJy6eH",
    "outputId": "3222eb00-d565-4d09-e2c6-39b4c51bd531"
   },
   "outputs": [
    {
     "data": {
      "text/plain": [
       "Rolling [window=3,center=False,axis=0]"
      ]
     },
     "execution_count": 93,
     "metadata": {
      "tags": []
     },
     "output_type": "execute_result"
    }
   ],
   "source": [
    "dfr = df.rolling(3)\n",
    "dfr"
   ]
  },
  {
   "cell_type": "code",
   "execution_count": null,
   "metadata": {
    "colab": {
     "base_uri": "https://localhost:8080/",
     "height": 238
    },
    "executionInfo": {
     "elapsed": 1374,
     "status": "ok",
     "timestamp": 1618939098685,
     "user": {
      "displayName": "Rafael Matos",
      "photoUrl": "https://lh3.googleusercontent.com/a-/AOh14GizvLjQZmGB4-KGWvSOV05hr_lUcZifkDol22tmbQ=s64",
      "userId": "08861151773596892595"
     },
     "user_tz": 180
    },
    "id": "KecZxLTl4OcJ",
    "outputId": "db086c19-3e66-4a41-9e68-8b8056169483"
   },
   "outputs": [
    {
     "data": {
      "text/html": [
       "<div>\n",
       "<style scoped>\n",
       "    .dataframe tbody tr th:only-of-type {\n",
       "        vertical-align: middle;\n",
       "    }\n",
       "\n",
       "    .dataframe tbody tr th {\n",
       "        vertical-align: top;\n",
       "    }\n",
       "\n",
       "    .dataframe thead th {\n",
       "        text-align: right;\n",
       "    }\n",
       "</style>\n",
       "<table border=\"1\" class=\"dataframe\">\n",
       "  <thead>\n",
       "    <tr style=\"text-align: right;\">\n",
       "      <th></th>\n",
       "      <th>A</th>\n",
       "      <th>B</th>\n",
       "      <th>C</th>\n",
       "      <th>D</th>\n",
       "      <th>F</th>\n",
       "    </tr>\n",
       "  </thead>\n",
       "  <tbody>\n",
       "    <tr>\n",
       "      <th>2013-01-01</th>\n",
       "      <td>NaN</td>\n",
       "      <td>NaN</td>\n",
       "      <td>NaN</td>\n",
       "      <td>NaN</td>\n",
       "      <td>NaN</td>\n",
       "    </tr>\n",
       "    <tr>\n",
       "      <th>2013-01-02</th>\n",
       "      <td>NaN</td>\n",
       "      <td>NaN</td>\n",
       "      <td>NaN</td>\n",
       "      <td>NaN</td>\n",
       "      <td>NaN</td>\n",
       "    </tr>\n",
       "    <tr>\n",
       "      <th>2013-01-03</th>\n",
       "      <td>0.232922</td>\n",
       "      <td>-0.185396</td>\n",
       "      <td>0.472308</td>\n",
       "      <td>15.0</td>\n",
       "      <td>NaN</td>\n",
       "    </tr>\n",
       "    <tr>\n",
       "      <th>2013-01-04</th>\n",
       "      <td>-1.517642</td>\n",
       "      <td>-2.864873</td>\n",
       "      <td>3.053670</td>\n",
       "      <td>15.0</td>\n",
       "      <td>6.0</td>\n",
       "    </tr>\n",
       "    <tr>\n",
       "      <th>2013-01-05</th>\n",
       "      <td>-2.132688</td>\n",
       "      <td>-2.576572</td>\n",
       "      <td>2.816934</td>\n",
       "      <td>15.0</td>\n",
       "      <td>9.0</td>\n",
       "    </tr>\n",
       "    <tr>\n",
       "      <th>2013-01-06</th>\n",
       "      <td>-2.270897</td>\n",
       "      <td>-2.158196</td>\n",
       "      <td>-0.453248</td>\n",
       "      <td>15.0</td>\n",
       "      <td>12.0</td>\n",
       "    </tr>\n",
       "  </tbody>\n",
       "</table>\n",
       "</div>"
      ],
      "text/plain": [
       "                   A         B         C     D     F\n",
       "2013-01-01       NaN       NaN       NaN   NaN   NaN\n",
       "2013-01-02       NaN       NaN       NaN   NaN   NaN\n",
       "2013-01-03  0.232922 -0.185396  0.472308  15.0   NaN\n",
       "2013-01-04 -1.517642 -2.864873  3.053670  15.0   6.0\n",
       "2013-01-05 -2.132688 -2.576572  2.816934  15.0   9.0\n",
       "2013-01-06 -2.270897 -2.158196 -0.453248  15.0  12.0"
      ]
     },
     "execution_count": 94,
     "metadata": {
      "tags": []
     },
     "output_type": "execute_result"
    }
   ],
   "source": [
    "dfr.sum() # default: closed='right'"
   ]
  },
  {
   "cell_type": "markdown",
   "metadata": {
    "id": "iTzcYMaX5R6q"
   },
   "source": [
    "A janela por [`offset`](https://pandas.pydata.org/pandas-docs/stable/user_guide/timeseries.html#offset-aliases) rolará uma janela variável de acordo com o tempo especificado."
   ]
  },
  {
   "cell_type": "code",
   "execution_count": null,
   "metadata": {
    "colab": {
     "base_uri": "https://localhost:8080/",
     "height": 206
    },
    "executionInfo": {
     "elapsed": 1687,
     "status": "ok",
     "timestamp": 1618939167448,
     "user": {
      "displayName": "Rafael Matos",
      "photoUrl": "https://lh3.googleusercontent.com/a-/AOh14GizvLjQZmGB4-KGWvSOV05hr_lUcZifkDol22tmbQ=s64",
      "userId": "08861151773596892595"
     },
     "user_tz": 180
    },
    "id": "m6IgfI_t6maU",
    "outputId": "320267ab-e6c8-4d19-eaee-3b6f10bcbae7"
   },
   "outputs": [
    {
     "data": {
      "text/html": [
       "<div>\n",
       "<style scoped>\n",
       "    .dataframe tbody tr th:only-of-type {\n",
       "        vertical-align: middle;\n",
       "    }\n",
       "\n",
       "    .dataframe tbody tr th {\n",
       "        vertical-align: top;\n",
       "    }\n",
       "\n",
       "    .dataframe thead th {\n",
       "        text-align: right;\n",
       "    }\n",
       "</style>\n",
       "<table border=\"1\" class=\"dataframe\">\n",
       "  <thead>\n",
       "    <tr style=\"text-align: right;\">\n",
       "      <th></th>\n",
       "      <th>B</th>\n",
       "    </tr>\n",
       "  </thead>\n",
       "  <tbody>\n",
       "    <tr>\n",
       "      <th>2013-01-01 09:00:00</th>\n",
       "      <td>0.0</td>\n",
       "    </tr>\n",
       "    <tr>\n",
       "      <th>2013-01-01 09:00:02</th>\n",
       "      <td>1.0</td>\n",
       "    </tr>\n",
       "    <tr>\n",
       "      <th>2013-01-01 09:00:03</th>\n",
       "      <td>2.0</td>\n",
       "    </tr>\n",
       "    <tr>\n",
       "      <th>2013-01-01 09:00:05</th>\n",
       "      <td>NaN</td>\n",
       "    </tr>\n",
       "    <tr>\n",
       "      <th>2013-01-01 09:00:06</th>\n",
       "      <td>4.0</td>\n",
       "    </tr>\n",
       "  </tbody>\n",
       "</table>\n",
       "</div>"
      ],
      "text/plain": [
       "                       B\n",
       "2013-01-01 09:00:00  0.0\n",
       "2013-01-01 09:00:02  1.0\n",
       "2013-01-01 09:00:03  2.0\n",
       "2013-01-01 09:00:05  NaN\n",
       "2013-01-01 09:00:06  4.0"
      ]
     },
     "execution_count": 95,
     "metadata": {
      "tags": []
     },
     "output_type": "execute_result"
    }
   ],
   "source": [
    "df0 = pd.DataFrame({'B': [0, 1, 2, np.nan, 4]},\n",
    "                   index = [pd.Timestamp('20130101 09:00:00'),\n",
    "                            pd.Timestamp('20130101 09:00:02'),\n",
    "                            pd.Timestamp('20130101 09:00:03'),\n",
    "                            pd.Timestamp('20130101 09:00:05'),\n",
    "                            pd.Timestamp('20130101 09:00:06')])\n",
    "df0"
   ]
  },
  {
   "cell_type": "code",
   "execution_count": null,
   "metadata": {
    "colab": {
     "base_uri": "https://localhost:8080/",
     "height": 206
    },
    "executionInfo": {
     "elapsed": 1763,
     "status": "ok",
     "timestamp": 1618939189971,
     "user": {
      "displayName": "Rafael Matos",
      "photoUrl": "https://lh3.googleusercontent.com/a-/AOh14GizvLjQZmGB4-KGWvSOV05hr_lUcZifkDol22tmbQ=s64",
      "userId": "08861151773596892595"
     },
     "user_tz": 180
    },
    "id": "hvhNM3om61OR",
    "outputId": "baf3251c-4df8-4b2b-de16-e2681bd82f81"
   },
   "outputs": [
    {
     "data": {
      "text/html": [
       "<div>\n",
       "<style scoped>\n",
       "    .dataframe tbody tr th:only-of-type {\n",
       "        vertical-align: middle;\n",
       "    }\n",
       "\n",
       "    .dataframe tbody tr th {\n",
       "        vertical-align: top;\n",
       "    }\n",
       "\n",
       "    .dataframe thead th {\n",
       "        text-align: right;\n",
       "    }\n",
       "</style>\n",
       "<table border=\"1\" class=\"dataframe\">\n",
       "  <thead>\n",
       "    <tr style=\"text-align: right;\">\n",
       "      <th></th>\n",
       "      <th>B</th>\n",
       "    </tr>\n",
       "  </thead>\n",
       "  <tbody>\n",
       "    <tr>\n",
       "      <th>2013-01-01 09:00:00</th>\n",
       "      <td>0.0</td>\n",
       "    </tr>\n",
       "    <tr>\n",
       "      <th>2013-01-01 09:00:02</th>\n",
       "      <td>1.0</td>\n",
       "    </tr>\n",
       "    <tr>\n",
       "      <th>2013-01-01 09:00:03</th>\n",
       "      <td>3.0</td>\n",
       "    </tr>\n",
       "    <tr>\n",
       "      <th>2013-01-01 09:00:05</th>\n",
       "      <td>NaN</td>\n",
       "    </tr>\n",
       "    <tr>\n",
       "      <th>2013-01-01 09:00:06</th>\n",
       "      <td>4.0</td>\n",
       "    </tr>\n",
       "  </tbody>\n",
       "</table>\n",
       "</div>"
      ],
      "text/plain": [
       "                       B\n",
       "2013-01-01 09:00:00  0.0\n",
       "2013-01-01 09:00:02  1.0\n",
       "2013-01-01 09:00:03  3.0\n",
       "2013-01-01 09:00:05  NaN\n",
       "2013-01-01 09:00:06  4.0"
      ]
     },
     "execution_count": 96,
     "metadata": {
      "tags": []
     },
     "output_type": "execute_result"
    }
   ],
   "source": [
    "df0.rolling('2s').sum() # default: closed='both'"
   ]
  },
  {
   "cell_type": "markdown",
   "metadata": {
    "id": "lPW7lFwP6xDQ"
   },
   "source": [
    "## V. Junção de dados\n",
    "---\n",
    "**Índice:**\n",
    "1. [Concat](#1-Concat)\n",
    "2. [Merge](#2-Merge)\n",
    "\n",
    "Combinação de objetos `Series` e `DataFrame`.\n",
    "\n",
    "Utiliza vários tipos de lógica de conjuntos para indexação e álgebra relacional para operações de inclusão e união.\n",
    "\n",
    "**Fontes:**\n",
    "* [Merging section](https://pandas.pydata.org/pandas-docs/stable/user_guide/merging.html#merging)."
   ]
  },
  {
   "cell_type": "markdown",
   "metadata": {
    "id": "G8yIZG_h6xDR"
   },
   "source": [
    "### 1 Concat\n",
    "```python\n",
    "pd.concat(\n",
    "    objs: Union[Iterable[~FrameOrSeries], Mapping[Union[Hashable, NoneType], ~FrameOrSeries]],\n",
    "    axis=0,\n",
    "    join='outer',\n",
    "    ignore_index: bool = False,\n",
    "    keys=None,\n",
    "    levels=None,\n",
    "    names=None,\n",
    "    verify_integrity: bool = False,\n",
    "    sort: bool = False,\n",
    "    copy: bool = True\n",
    ")\n",
    "```\n",
    "\n",
    "Concatenação de objetos Pandas com [`pd.concat()`](https://pandas.pydata.org/pandas-docs/stable/reference/api/pandas.concat.html#pandas.concat):"
   ]
  },
  {
   "cell_type": "code",
   "execution_count": null,
   "metadata": {
    "id": "I0p5jDIS6xDS"
   },
   "outputs": [],
   "source": [
    "# Cria um `DataFrame` com números aleatórios com distribuição normal\n",
    "df1 = pd.DataFrame(np.random.randn(3, 1))\n",
    "df2 = pd.DataFrame(np.random.randn(4, 1))"
   ]
  },
  {
   "cell_type": "code",
   "execution_count": null,
   "metadata": {
    "id": "Jmn_ky6K6xDr"
   },
   "outputs": [],
   "source": [
    "pd.concat([df1, df2])"
   ]
  },
  {
   "cell_type": "code",
   "execution_count": null,
   "metadata": {
    "id": "LbVQQ5ZJTzIy"
   },
   "outputs": [],
   "source": [
    "pd.concat([df1, df2], ignore_index=True)"
   ]
  },
  {
   "cell_type": "code",
   "execution_count": null,
   "metadata": {
    "id": "jdCIRjkJT8Jw"
   },
   "outputs": [],
   "source": [
    "pd.concat([df1, df2], axis=1)"
   ]
  },
  {
   "cell_type": "markdown",
   "metadata": {
    "id": "QWvP0HAv6xDw"
   },
   "source": [
    "**Nota**\n",
    "1. Adicionar uma coluna a um `DataFrame` é rápido.\n",
    "2. Adicionar uma linha requer cópias e é mais demorado.\n",
    "3. É recomendável passar a lista de dados na hora de construir o `DataFrame` ao invés de incrementá-lo de forma iterativa.\n",
    "**Fonte:**\n",
    "* [Appending to `DataFrame`](https://pandas.pydata.org/pandas-docs/stable/user_guide/merging.html#merging-concatenation)."
   ]
  },
  {
   "cell_type": "markdown",
   "metadata": {
    "id": "u10r1vfX6xDx"
   },
   "source": [
    "### 2 Merge\n",
    "Merge no estilo SQL.\n",
    "\n",
    "**Fontes:**\n",
    "* [Database style joining](https://pandas.pydata.org/pandas-docs/stable/user_guide/merging.html#merging-join)."
   ]
  },
  {
   "cell_type": "code",
   "execution_count": null,
   "metadata": {
    "id": "yiFOGiTs6xDy"
   },
   "outputs": [],
   "source": [
    "left = pd.DataFrame({'key': ['foo', 'foo'], 'lval': [1, 2]})\n",
    "left"
   ]
  },
  {
   "cell_type": "code",
   "execution_count": null,
   "metadata": {
    "id": "qCWTsxP36xD5"
   },
   "outputs": [],
   "source": [
    "right = pd.DataFrame({'key': ['foo', 'foo'], 'rval': [4, 5]})\n",
    "right"
   ]
  },
  {
   "cell_type": "markdown",
   "metadata": {
    "id": "Eol7-J396xD-"
   },
   "source": [
    "Junta os `Dataframes` quando possuírem a chave *key* iguais."
   ]
  },
  {
   "cell_type": "code",
   "execution_count": null,
   "metadata": {
    "id": "-wjL_aqH6xD-"
   },
   "outputs": [],
   "source": [
    "pd.merge(left, right, on='key')"
   ]
  },
  {
   "cell_type": "markdown",
   "metadata": {
    "id": "OvcprSfB6xEE"
   },
   "source": [
    "Outro exemplo"
   ]
  },
  {
   "cell_type": "code",
   "execution_count": null,
   "metadata": {
    "id": "FHLwYj2b6xEG"
   },
   "outputs": [],
   "source": [
    "left = pd.DataFrame({'key': ['foo', 'bar'], 'lval': [1, 2]})\n",
    "left"
   ]
  },
  {
   "cell_type": "code",
   "execution_count": null,
   "metadata": {
    "id": "Fq6NutVY6xEJ"
   },
   "outputs": [],
   "source": [
    "right = pd.DataFrame({'key': ['foo', 'bar'], 'rval': [4, 5]})\n",
    "right"
   ]
  },
  {
   "cell_type": "code",
   "execution_count": null,
   "metadata": {
    "id": "k3dpnQbb6xEL"
   },
   "outputs": [],
   "source": [
    "pd.merge(left, right, on='key')"
   ]
  },
  {
   "cell_type": "markdown",
   "metadata": {
    "id": "7o3E5M5wVYIe"
   },
   "source": [
    "#### Exercício 7\n",
    "Utilizando o `df1_ex06` do [Exercício 6](#Exercício-6), faça duas janelas móveis: uma que verifique o desvio padrão e a outra que verifique a média dos sensores em uma janela de $30$ *minutos*. Essa análise indicará se o sensor está com muito ruído, indicando que pode precisar de manutenção.\n",
    "\n",
    "Crie um novo `DataFrame` com as seguintes características:\n",
    "* nome da variável: `df1_ex07`;\n",
    "* colunas: `['PT_01_AL', 'PT_02_AL', 'PT_03_AL']`\n",
    "* valores:\n",
    "$\\cfrac{std(window=30\\ min)}{mean(window=30\\ min)} > 2 \\% \\rightarrow$ *Alarme ativado*;\n",
    "    * ou seja, se a *divisão* do desvio padrão `std` pela média `mean` da janela for superior a *2%* o alarme deve ser ativado;\n",
    "* analise qual dos três sensores mais teve alarmes de desvio padrão;\n",
    "* Crie um `DataFrame` `df2_ex07` com a união de`df1_ex06` e `df1_ex07`."
   ]
  },
  {
   "cell_type": "code",
   "execution_count": null,
   "metadata": {
    "id": "BQlaj-q69odu"
   },
   "outputs": [],
   "source": []
  },
  {
   "cell_type": "markdown",
   "metadata": {
    "id": "Ai8PZ_wE6xEO"
   },
   "source": [
    "## VI. Agrupamento\n",
    "---\n",
    "O agrupamento se refere a:\n",
    "* **Splitting**: Segregar dados em grupos através de algum critério e/ou\n",
    "* **Applying**: Aplicar uma função à grupos de forma independente e/ou\n",
    "* **Combining**: Combinar os resultados em uma estrutura.\n",
    "\n",
    "**Fonte:**\n",
    "* [Grouping](https://pandas.pydata.org/pandas-docs/stable/user_guide/groupby.html#groupby)."
   ]
  },
  {
   "cell_type": "code",
   "execution_count": null,
   "metadata": {
    "id": "fMtY6FWQ6xEP"
   },
   "outputs": [],
   "source": [
    "df = pd.DataFrame({'A': ['foo', 'bar', 'foo', 'bar',\n",
    "                         'foo', 'bar', 'foo', 'foo'],\n",
    "                   'B': ['one', 'one', 'two', 'three',\n",
    "                         'two', 'two', 'one', 'three'],\n",
    "                   'C': np.random.randn(8),\n",
    "                   'D': np.random.randn(8)})\n",
    "df"
   ]
  },
  {
   "cell_type": "markdown",
   "metadata": {
    "id": "a2_AXnSx6xET"
   },
   "source": [
    "Agrupando e aplicando o método [`DataFrame.sum()`](https://pandas.pydata.org/pandas-docs/stable/reference/api/pandas.DataFrame.sum.html#pandas.DataFrame.sum)."
   ]
  },
  {
   "cell_type": "code",
   "execution_count": null,
   "metadata": {
    "id": "lESQ2OLW6xET"
   },
   "outputs": [],
   "source": [
    "df.groupby('A').sum()"
   ]
  },
  {
   "cell_type": "markdown",
   "metadata": {
    "id": "5XmPl47g6xEX"
   },
   "source": [
    "Indexando de forma hierárquica (agrupando por múltiplas colunas):"
   ]
  },
  {
   "cell_type": "code",
   "execution_count": null,
   "metadata": {
    "id": "6bZ8a9gV6xEY"
   },
   "outputs": [],
   "source": [
    "df.groupby(['A', 'B']).sum()"
   ]
  },
  {
   "cell_type": "markdown",
   "metadata": {
    "id": "FGGWQrzK6xEb"
   },
   "source": [
    "## VII. Reformatando\n",
    "---\n",
    "**Índice:**\n",
    "1. [Tabelas dinâmicas](#7.2-Tabelas-dinâmicas)\n",
    "\n",
    "**Fontes:**\n",
    "* [Hierarchical Indexing](https://pandas.pydata.org/pandas-docs/stable/user_guide/advanced.html#advanced-hierarchical)\n",
    "* [Reshaping](https://pandas.pydata.org/pandas-docs/stable/user_guide/reshaping.html#reshaping-stacking)."
   ]
  },
  {
   "cell_type": "markdown",
   "metadata": {
    "id": "zpLfWJv86xFP"
   },
   "source": [
    "### 1 Tabelas dinâmicas"
   ]
  },
  {
   "cell_type": "markdown",
   "metadata": {
    "id": "gdW-OGBR6xFP"
   },
   "source": [
    "**Fontes:** * [Pivot Tables](https://pandas.pydata.org/pandas-docs/stable/user_guide/reshaping.html#reshaping-pivot)."
   ]
  },
  {
   "cell_type": "code",
   "execution_count": null,
   "metadata": {
    "id": "OBQTJMFD6xFQ"
   },
   "outputs": [],
   "source": [
    "df = pd.DataFrame({'A': ['one', 'one', 'two', 'three'] * 3,\n",
    "                   'B': ['A', 'B', 'C'] * 4,\n",
    "                   'C': ['foo', 'foo', 'foo', 'bar', 'bar', 'bar'] * 2,\n",
    "                   'D': np.random.randn(12),\n",
    "                   'E': np.random.randn(12)})\n",
    "df"
   ]
  },
  {
   "cell_type": "code",
   "execution_count": null,
   "metadata": {
    "id": "OFZUKlMn6xFT"
   },
   "outputs": [],
   "source": [
    "pd.pivot_table(df, values='D', index=['C', 'B'], columns=['A'])"
   ]
  },
  {
   "cell_type": "markdown",
   "metadata": {
    "id": "8wSYj5mE6xFZ"
   },
   "source": [
    "## VIII. Séries temporais\n",
    "---\n",
    "O Pandas trabalha com operações simples de reamostragem durante conversões de frequência (ex: amostragem em segundos para 5 minutos).\n",
    "**Fontes**\n",
    "* [Time Series section](https://pandas.pydata.org/pandas-docs/stable/user_guide/timeseries.html#timeseries)."
   ]
  },
  {
   "cell_type": "markdown",
   "metadata": {
    "id": "0F-eqnHC6xFa"
   },
   "source": [
    "#### Criando uma Time Serie\n",
    "Criando a função $y = A\\sin{(\\omega t)}$ com $n$ pontos de amostragem. Onde:\n",
    "- $\\omega = 2\\pi f$"
   ]
  },
  {
   "cell_type": "code",
   "execution_count": null,
   "metadata": {
    "id": "EaidF29dK0--"
   },
   "outputs": [],
   "source": [
    "sin = lambda A, f, t_max: A*np.sin(2*np.pi*f*(np.linspace(0, t_max, t_max)))\n",
    "n = 10000\n",
    "ts = pd.Series(sin(1, 3, n), index=pd.date_range('20200101', periods=n, freq='1S'))\n",
    "ts.plot();"
   ]
  },
  {
   "cell_type": "markdown",
   "metadata": {
    "id": "fgFFA7yn6DNR"
   },
   "source": [
    "#### Reamostrando"
   ]
  },
  {
   "cell_type": "code",
   "execution_count": null,
   "metadata": {
    "id": "MdyCxugq6xFn"
   },
   "outputs": [],
   "source": [
    "ts.plot()\n",
    "ts.resample('30S').sum().plot()\n",
    "ts.resample('1Min').sum().plot()"
   ]
  },
  {
   "cell_type": "code",
   "execution_count": null,
   "metadata": {
    "id": "vBnprtAm6xFq"
   },
   "outputs": [],
   "source": [
    "pd.DataFrame({'ts': ts,\n",
    "              'ts_1min': ts.resample('5S').mean(),\n",
    "              'ts_5min': ts.resample('10S').mean()}).head(21)"
   ]
  },
  {
   "cell_type": "code",
   "execution_count": null,
   "metadata": {
    "id": "Dy47pyQeQX35"
   },
   "outputs": [],
   "source": [
    "pd.DataFrame(\n",
    "    {'ts': ts,\n",
    "     'ts_1min': ts.resample('1Min').mean()-.5,\n",
    "     'ts_5min': ts.resample('5Min').mean()+.5}\n",
    ").plot(style='o', figsize=(15,5), grid=True)"
   ]
  },
  {
   "cell_type": "markdown",
   "metadata": {
    "id": "qc3UApM1GVPp"
   },
   "source": [
    "#### Exercício 8\n",
    "Utilizando o `DataFrame` `df1_ex06`, reamostre a cada 5 min e a cada 10 min, criando respectivamente os `DataFrames` `df1_ex08` e `df2_ex08`. Visualize o resultado com o código:\n",
    "```python\n",
    "df1_ex06.plot(style='--', alpha=.5)\n",
    "df1_ex08.plot(style='--', alpha=.5)\n",
    "df2_ex08.plot(style='--', alpha=.5)\n",
    "```"
   ]
  },
  {
   "cell_type": "code",
   "execution_count": null,
   "metadata": {
    "id": "AfnAe-RQHXTU"
   },
   "outputs": [],
   "source": []
  },
  {
   "cell_type": "markdown",
   "metadata": {
    "id": "JxyqP8B56xFt"
   },
   "source": [
    "#### Fuso horário\n",
    "Representação de Fuso horário (Time zone):"
   ]
  },
  {
   "cell_type": "code",
   "execution_count": null,
   "metadata": {
    "id": "CdzP67Fs6xFu"
   },
   "outputs": [],
   "source": [
    "rng = pd.date_range('3/6/2012 00:00', periods=5, freq='D')\n",
    "ts = pd.Series(np.random.randn(len(rng)), rng)\n",
    "ts"
   ]
  },
  {
   "cell_type": "code",
   "execution_count": null,
   "metadata": {
    "id": "UiXVuki06xFx"
   },
   "outputs": [],
   "source": [
    "ts_utc = ts.tz_localize('UTC')\n",
    "ts_utc"
   ]
  },
  {
   "cell_type": "markdown",
   "metadata": {
    "id": "LZEHENvB6xF_"
   },
   "source": [
    "Conversão para outro fuso:"
   ]
  },
  {
   "cell_type": "code",
   "execution_count": null,
   "metadata": {
    "id": "1z9Z3Fsu6xF_"
   },
   "outputs": [],
   "source": [
    "ts_utc.tz_convert('US/Eastern')"
   ]
  },
  {
   "cell_type": "markdown",
   "metadata": {
    "id": "ENuTChOd6xGR"
   },
   "source": [
    "#### Conversões\n",
    "Conversão entre períodos de tempo:"
   ]
  },
  {
   "cell_type": "code",
   "execution_count": null,
   "metadata": {
    "id": "VgBiJbHO6xGS"
   },
   "outputs": [],
   "source": [
    "rng = pd.date_range('1/1/2012', periods=5, freq='M')\n",
    "ts = pd.Series(np.random.randn(len(rng)), index=rng)\n",
    "ts"
   ]
  },
  {
   "cell_type": "markdown",
   "metadata": {
    "id": "kSKjp7kF6xGX"
   },
   "source": [
    "Conversão de `DatetimeIndex` para `PeriodIndex`."
   ]
  },
  {
   "cell_type": "code",
   "execution_count": null,
   "metadata": {
    "id": "yPJN2IIf51gv"
   },
   "outputs": [],
   "source": [
    "ps = ts.to_period()\n",
    "ps"
   ]
  },
  {
   "cell_type": "markdown",
   "metadata": {
    "id": "qrTXrRvY6xGa"
   },
   "source": [
    "Retorna para `DatetimeIndex`."
   ]
  },
  {
   "cell_type": "code",
   "execution_count": null,
   "metadata": {
    "id": "qVi2DA-75vUY"
   },
   "outputs": [],
   "source": [
    "ps.to_timestamp()"
   ]
  },
  {
   "cell_type": "markdown",
   "metadata": {
    "id": "HmZrSsjF6xGg"
   },
   "source": [
    "A conversão entre `DatetimeIndex` para `PeriodIndex` permite utilizar funções aritiméticas convenientes à cada tipo de objeto.\n",
    "\n",
    "Exemplo:"
   ]
  },
  {
   "cell_type": "code",
   "execution_count": null,
   "metadata": {
    "id": "kdfBHa0y6xGg"
   },
   "outputs": [],
   "source": [
    "# cria uma Series com DateTimeIndex:\n",
    "  # variando por quadrimestre\n",
    "  # com o final do ano em Novembro\n",
    "prng = pd.period_range('1990Q1', '2000Q4', freq='Q-NOV')\n",
    "ts = pd.Series(np.random.randn(len(prng)), prng)\n",
    "ts.head()"
   ]
  },
  {
   "cell_type": "code",
   "execution_count": null,
   "metadata": {
    "id": "RdYUDQH06xGp"
   },
   "outputs": [],
   "source": [
    "# Acresce 1 Mês e amostra em meses\n",
    "ts.index = prng.asfreq('M', 'e') + 1\n",
    "ts.head()"
   ]
  },
  {
   "cell_type": "code",
   "execution_count": null,
   "metadata": {
    "id": "-axsWs-L6xGs"
   },
   "outputs": [],
   "source": [
    "# Acresce 9h e amostra em horas\n",
    "ts.index = prng.asfreq('H', 's') + 9\n",
    "ts.head()"
   ]
  },
  {
   "cell_type": "markdown",
   "metadata": {
    "id": "z5RvUwq16xGw"
   },
   "source": [
    "## IX. Categorização\n",
    "---\n",
    "Uma categoria é capaz de expressar uma característica qualitativa do dado, o que pode facilitar o entendimento do problema e auxiliar na sua solução.\n",
    "\n",
    "**Índice:**\n",
    "1. [Criando categorias](#1-Criando-categorias)\n",
    "2. [Agrupando dados](#2-Agrupando-dados)\n",
    "\n",
    "**Fontes:**\n",
    "* [categorical introduction](https://pandas.pydata.org/pandas-docs/stable/user_guide/categorical.html#categorical)\n",
    "* [API documentation](https://pandas.pydata.org/pandas-docs/stable/reference/arrays.html#api-arrays-categorical)."
   ]
  },
  {
   "cell_type": "markdown",
   "metadata": {
    "id": "PpmDUB_e6xGz"
   },
   "source": [
    "### 1 Criando categorias\n",
    "Criando um `DataFrame` com notas categóricas:\n",
    "\n",
    "|Nota|Categoria|\n",
    "|:---:|:---:|\n",
    "|**a**|muito bom|\n",
    "|**b**|bom|\n",
    "|**c**|regular|\n",
    "|**d**|ruim|\n",
    "|**e**|muito ruim|"
   ]
  },
  {
   "cell_type": "code",
   "execution_count": null,
   "metadata": {
    "id": "NvybZIO56xG0"
   },
   "outputs": [],
   "source": [
    "df = pd.DataFrame({\"id\": [1, 2, 3, 4, 5, 6],\n",
    "                   \"nota_str\": ['a', 'b', 'b', 'a', 'a', 'e']})\n",
    "df"
   ]
  },
  {
   "cell_type": "markdown",
   "metadata": {
    "id": "DVbgfm7t6xG3"
   },
   "source": [
    "Convertendo em categorias:"
   ]
  },
  {
   "cell_type": "code",
   "execution_count": null,
   "metadata": {
    "id": "76431COw6xG4"
   },
   "outputs": [],
   "source": [
    "df[\"nota\"] = df[\"nota_str\"].astype(\"category\")\n",
    "\n",
    "display(df[\"nota\"])\n",
    "df"
   ]
  },
  {
   "cell_type": "markdown",
   "metadata": {
    "id": "HtL3nJZs6xHA"
   },
   "source": [
    "Renomeando as categorias (diretamente em `Series.cat.categories`)."
   ]
  },
  {
   "cell_type": "code",
   "execution_count": null,
   "metadata": {
    "id": "NDmr0ECh6xHB"
   },
   "outputs": [],
   "source": [
    "df[\"nota\"].cat.categories = [\"muito bom\", \"bom\", \"muito ruim\"]\n",
    "df[\"nota\"]"
   ]
  },
  {
   "cell_type": "markdown",
   "metadata": {
    "id": "_tDi_Kkz6xHE"
   },
   "source": [
    "Reordenar e inserir todas as categorias:"
   ]
  },
  {
   "cell_type": "code",
   "execution_count": null,
   "metadata": {
    "id": "o5skNyzZ6xHE"
   },
   "outputs": [],
   "source": [
    "df[\"nota\"] = df[\"nota\"].cat.set_categories([\"muito ruim\", \"ruim\", \"regular\",\n",
    "                                              \"bom\", \"muito bom\"])\n",
    "df[\"nota\"]"
   ]
  },
  {
   "cell_type": "markdown",
   "metadata": {
    "id": "uix2YyoP6xHL"
   },
   "source": [
    "Ordenando pela categoria, não por ordem alfabética:"
   ]
  },
  {
   "cell_type": "code",
   "execution_count": null,
   "metadata": {
    "id": "VT8TN-qd6xHM"
   },
   "outputs": [],
   "source": [
    "df.sort_values(by=\"nota\")"
   ]
  },
  {
   "cell_type": "markdown",
   "metadata": {
    "id": "MfrJYR76Lhak"
   },
   "source": [
    "### 2 Agrupando dados\n",
    "Mostrando os dados agrupando pela categoria:"
   ]
  },
  {
   "cell_type": "code",
   "execution_count": null,
   "metadata": {
    "id": "ZtXNCkJG6xHT"
   },
   "outputs": [],
   "source": [
    "df.groupby(\"nota\").size()"
   ]
  },
  {
   "cell_type": "markdown",
   "metadata": {
    "id": "TGkbKkIjLORM"
   },
   "source": [
    "#### Exercício 9\n",
    "Crie as categorias dos sensores do [Exercício 8](#Exercício-8), que representam estados **mutuamente exclusivos** conforme segue:\n",
    "* `N`: estado normal do sistema;\n",
    "* `H`: alarme *High* (alto: $std/mean \\ge 1,5\\%$) - estado de atenção naquele ponto;\n",
    "* `HH`: alarme *High High* (muito alto: $std/mean \\ge 2,5\\%$) - estado que indica um problema no sensor.\n",
    "\n",
    "Agrupe os dados e faça a contagem de pontos em cada estado."
   ]
  },
  {
   "cell_type": "code",
   "execution_count": null,
   "metadata": {
    "id": "fFlvabZ2wORa"
   },
   "outputs": [],
   "source": []
  },
  {
   "cell_type": "markdown",
   "metadata": {
    "id": "YNTiOQz46xHW"
   },
   "source": [
    "## XI. Gráficos\n",
    "---\n",
    "O Pandas permite gerar visualizações muito úteis com comandos simples, o que mostra o potencial de se utilizar essa biblioteca.\n",
    "\n",
    "**Índice:**\n",
    "1. [MatplotLib](#1-MatplotLib)\n",
    "2. [Método `plot()`](#2-Método-`plot()`)\n",
    "\n",
    "**Fontes:**\n",
    "* [Plotting](https://pandas.pydata.org/pandas-docs/stable/user_guide/visualization.html#visualization)."
   ]
  },
  {
   "cell_type": "markdown",
   "metadata": {
    "id": "3fO5bQlASFO1"
   },
   "source": [
    "### 1 MatplotLib"
   ]
  },
  {
   "cell_type": "code",
   "execution_count": null,
   "metadata": {
    "id": "9X1Blxib6xHX"
   },
   "outputs": [],
   "source": [
    "import matplotlib.pyplot as plt"
   ]
  },
  {
   "cell_type": "code",
   "execution_count": null,
   "metadata": {
    "id": "OSlmmyJTSVpm"
   },
   "outputs": [],
   "source": [
    "ts = pd.Series(np.random.randn(1000),\n",
    "               index=pd.date_range('1/1/2000', periods=1000))\n",
    "\n",
    "ts_cs = ts.cumsum()"
   ]
  },
  {
   "cell_type": "code",
   "execution_count": null,
   "metadata": {
    "id": "WYX_QcUhVx4Z"
   },
   "outputs": [],
   "source": [
    "fig, ax = plt.subplots()\n",
    "\n",
    "ax.plot(ts, label='Time Serie')\n",
    "ax.plot(ts_cs, label='Acc Time Serie')\n",
    "\n",
    "ax.set_xlabel('Tempo')\n",
    "ax.set_ylabel('Valor')\n",
    "ax.legend()\n",
    "plt.xticks(rotation=30)\n",
    "\n",
    "plt.show()\n"
   ]
  },
  {
   "cell_type": "markdown",
   "metadata": {
    "id": "n04wqWyA6xHb"
   },
   "source": [
    "### 2 Método `plot`\n",
    "**Fontes:**\n",
    "* [`DataFrame.plot()`](https://pandas.pydata.org/pandas-docs/stable/reference/api/pandas.DataFrame.plot.html#pandas.DataFrame.plot)\n",
    "\n",
    "Este método simplifica a geração da visualização."
   ]
  },
  {
   "cell_type": "code",
   "execution_count": null,
   "metadata": {
    "id": "f8K3kkmT6xHb"
   },
   "outputs": [],
   "source": [
    "df = pd.DataFrame({'Time Serie': ts,\n",
    "                   'Acc Time Serie': ts_cs})\n",
    "ax = df.plot(xlabel='Tempo',\n",
    "             ylabel='Valor');"
   ]
  },
  {
   "cell_type": "markdown",
   "metadata": {
    "id": "jX7usC9JaqnQ"
   },
   "source": [
    "Gerando subplots."
   ]
  },
  {
   "cell_type": "code",
   "execution_count": null,
   "metadata": {
    "id": "QCUaxHlOZmvf"
   },
   "outputs": [],
   "source": [
    "ax = df.plot(subplots=True)"
   ]
  },
  {
   "cell_type": "markdown",
   "metadata": {
    "id": "Ars4uHX3cpSu"
   },
   "source": [
    "Explorando alguns parâmetros:"
   ]
  },
  {
   "cell_type": "code",
   "execution_count": null,
   "metadata": {
    "id": "fjLEkUmDcQld"
   },
   "outputs": [],
   "source": [
    "ax = df.plot(\n",
    "    figsize=(15,5),    # tamanho da figura\n",
    "    alpha=.6,          # transparência\n",
    "    title='Gráfico 1', # título\n",
    "    grid=True,         # grade\n",
    "    style='--x',       # estilo da linha\n",
    ")"
   ]
  },
  {
   "cell_type": "markdown",
   "metadata": {
    "id": "pfwM15gaZc1h"
   },
   "source": [
    "### 3 Outras visualizações"
   ]
  },
  {
   "cell_type": "code",
   "execution_count": null,
   "metadata": {
    "id": "EMljN7VhZibY"
   },
   "outputs": [],
   "source": [
    "h = df.hist()"
   ]
  },
  {
   "cell_type": "code",
   "execution_count": null,
   "metadata": {
    "id": "uJWSQ_y2Z0oX"
   },
   "outputs": [],
   "source": [
    "b = df.boxplot()"
   ]
  },
  {
   "cell_type": "markdown",
   "metadata": {
    "id": "ob_3bGQ7Z5Bw"
   },
   "source": [
    "Dentre outras possibilidades!"
   ]
  },
  {
   "cell_type": "markdown",
   "metadata": {
    "id": "ThhYTVHdb_hl"
   },
   "source": [
    "#### Exercício 10\n",
    "Utilize os valores de `df1_ex06` para gerar algumas visualizações. Explore a documentação do método `plot()` para fazer os gráficos.\n",
    "\n",
    "Gere um histograma de $std/mean$ na janela móvel de *30 min* e observe como "
   ]
  },
  {
   "cell_type": "code",
   "execution_count": null,
   "metadata": {
    "id": "cDP8z2fjwQD1"
   },
   "outputs": [],
   "source": []
  },
  {
   "cell_type": "markdown",
   "metadata": {
    "id": "4xGF7Qpu6xHe"
   },
   "source": [
    "## XI. Entrada e saída de dados\n",
    "---\n",
    "**Índice:**\n",
    "1. [CSV](#11.1-CSV)\n",
    "2. [HDF5](#11.2-HDF5)\n",
    "3. [Excel](#11.3-Excel)\n",
    "4. [HTML](#4-HTML)"
   ]
  },
  {
   "cell_type": "markdown",
   "metadata": {
    "id": "B4NE6KjA6xHe"
   },
   "source": [
    "### 1 CSV"
   ]
  },
  {
   "cell_type": "markdown",
   "metadata": {
    "id": "ozXrsmMU6xHo"
   },
   "source": [
    "Escrita ([store in csv](https://pandas.pydata.org/pandas-docs/stable/user_guide/io.html#io-store-in-csv)):"
   ]
  },
  {
   "cell_type": "code",
   "execution_count": null,
   "metadata": {
    "id": "mofADIoO6xHq"
   },
   "outputs": [],
   "source": [
    "df.to_csv('foo.csv')"
   ]
  },
  {
   "cell_type": "markdown",
   "metadata": {
    "id": "h1Hrk8616xHs"
   },
   "source": [
    "Leitura ([read csv table](https://pandas.pydata.org/pandas-docs/stable/user_guide/io.html#io-read-csv-table)):"
   ]
  },
  {
   "cell_type": "code",
   "execution_count": null,
   "metadata": {
    "id": "F7BKV09t6xHs"
   },
   "outputs": [],
   "source": [
    "pd.read_csv('foo.csv')"
   ]
  },
  {
   "cell_type": "markdown",
   "metadata": {
    "id": "IiOrwKOH6xHw"
   },
   "source": [
    "### 2 HDF5\n",
    "`HDF5` é a biblioteca que possui funções de escrita e leitura rápida para trabalhar com um arquivo na memória.\n",
    "\n",
    "`HDFStore` é um objeto estruturado como um `dict` quer realiza leitura e gravação de dados do pandas com o formato de alta eficiência `HDF5` utilizando PyTables.\n",
    "\n",
    "\n",
    "**Fontes:**\n",
    "* [HDFStores](https://pandas.pydata.org/pandas-docs/stable/user_guide/io.html#io-hdf5).\n",
    "* [PyTables](https://www.pytables.org/)\n",
    "* [HDF Cookbook](https://pandas.pydata.org/pandas-docs/stable/user_guide/cookbook.html#cookbook-hdf)."
   ]
  },
  {
   "cell_type": "markdown",
   "metadata": {
    "id": "A1KTrPcD6xHy"
   },
   "source": [
    "Escrita:"
   ]
  },
  {
   "cell_type": "code",
   "execution_count": null,
   "metadata": {
    "id": "s4_f4Im36xHz"
   },
   "outputs": [],
   "source": [
    "df.to_hdf('foo.h5', 'df')"
   ]
  },
  {
   "cell_type": "markdown",
   "metadata": {
    "id": "G2E1qLN16xH5"
   },
   "source": [
    "Leitura:"
   ]
  },
  {
   "cell_type": "code",
   "execution_count": null,
   "metadata": {
    "id": "0kmT8_xd6xH6"
   },
   "outputs": [],
   "source": [
    "pd.read_hdf('foo.h5', 'df')"
   ]
  },
  {
   "cell_type": "markdown",
   "metadata": {
    "id": "e8gW0AfL6xIF"
   },
   "source": [
    "### 3 Excel\n",
    "**Fontes:**\n",
    "* [Pandas IO Excel](https://pandas.pydata.org/pandas-docs/stable/user_guide/io.html#io-excel)."
   ]
  },
  {
   "cell_type": "markdown",
   "metadata": {
    "id": "icbfQV0R6xIG"
   },
   "source": [
    "Escrita:"
   ]
  },
  {
   "cell_type": "code",
   "execution_count": null,
   "metadata": {
    "id": "1XaCPHcf6xIG"
   },
   "outputs": [],
   "source": [
    "df.to_excel('foo.xlsx', sheet_name='Sheet1')"
   ]
  },
  {
   "cell_type": "markdown",
   "metadata": {
    "id": "X2JgEKb16xII"
   },
   "source": [
    "Leitura:"
   ]
  },
  {
   "cell_type": "code",
   "execution_count": null,
   "metadata": {
    "id": "1al0hi5S6xIM"
   },
   "outputs": [],
   "source": [
    "pd.read_excel('foo.xlsx', 'Sheet1', index_col=None, na_values=['NA'])"
   ]
  },
  {
   "cell_type": "markdown",
   "metadata": {
    "id": "VptkhOoRi0h_"
   },
   "source": [
    "### 4 HTML\n",
    "É possível buscar dados na internet com o método `read_html()`. O código em HTML da página é percorrido em busca de tabelas no HTML.\n",
    "\n",
    "**Fontes:**\n",
    "* [W3 HTML tables](https://www.w3schools.com/html/html_tables.asp)\n",
    "* [`read_html`](https://pandas.pydata.org/docs/user_guide/io.html#io-read-html)\n",
    "* [HTML Table Parsing gotchas](https://pandas.pydata.org/docs/user_guide/io.html#io-html-gotchas)"
   ]
  },
  {
   "cell_type": "code",
   "execution_count": null,
   "metadata": {
    "id": "FyMzs3oSi4V6"
   },
   "outputs": [],
   "source": [
    "df2 = pd.read_html(\"https://raw.githubusercontent.com/pandas-dev/pandas/master/pandas/tests/io/data/html/spam.html\")[0]\n",
    "df2"
   ]
  },
  {
   "cell_type": "markdown",
   "metadata": {
    "id": "HJViGDU92T7e"
   },
   "source": [
    "Visualizando a tabela original."
   ]
  },
  {
   "cell_type": "code",
   "execution_count": null,
   "metadata": {
    "id": "1xrkmg8Emibf"
   },
   "outputs": [],
   "source": [
    "from IPython.display import display, Markdown\n",
    "display(Markdown(df2.to_html()))"
   ]
  },
  {
   "cell_type": "markdown",
   "metadata": {
    "id": "qEr-GGtVwU6p"
   },
   "source": [
    "#### Exercício 11\n",
    "Leia os dados do link https://pt.wikipedia.org/wiki/Pressão e obtenha a tabela de conversão de unidades de pressão. Faça as correções:\n",
    "* ajuste nomes de índices e colunas para somente a abreviatura da unidade;\n",
    "* transforme todos os dados em dados numéricos;\n",
    "* salve os dados em um arquivo HDF5;\n",
    "* prepare uma função que receba como entradas $(unidade\\ atual,\\ unidade\\ desejada)$ e retorne o $fator\\ de\\ conversao$ para a unidade desejada a partir da leitura do arquivo HDF5 criado."
   ]
  },
  {
   "cell_type": "code",
   "execution_count": null,
   "metadata": {
    "id": "aPY0Z3fvAKak"
   },
   "outputs": [],
   "source": []
  },
  {
   "cell_type": "markdown",
   "metadata": {
    "id": "ubA4Jdgt6xIP"
   },
   "source": [
    "## XII. Outros problemas\n",
    "---\n",
    "Se tentar realizar uma operação que retornar um erro:\n",
    "```python\n",
    "if pd.Series([False, True, False]):\n",
    "    ...\n",
    "    print(\"I was true\")\n",
    "```\n",
    "```\n",
    "Traceback\n",
    "    ...\n",
    "ValueError: The truth value of an array is ambiguous. Use a.empty, a.any() or a.all().\n",
    "```\n",
    "Veja [Comparisons](https://pandas.pydata.org/docs/user_guide/basics.html#basics-compare) para descobrir o que fazer.\n",
    "\n",
    "**Fontes:**\n",
    "* [Gotchas](https://pandas.pydata.org/pandas-docs/stable/user_guide/gotchas.html#gotchas)."
   ]
  },
  {
   "cell_type": "markdown",
   "metadata": {
    "id": "NW8MDhWNAMCF"
   },
   "source": [
    "**Parabéns** por concluir este módulo, até a próxima!\n",
    "\n",
    "![Panda](https://lh3.googleusercontent.com/proxy/fr9EkHq0VLmOo04CfWr9hbYyM41X9JL7nbDyDTzChJgVi9Y3cFKaujLa66YwCzpRyDFGWRBaQr1lSB2iQ6it6oqPzPZBdMCj)"
   ]
  }
 ],
 "metadata": {
  "colab": {
   "authorship_tag": "ABX9TyMNDgR+OiVGZorYCu/0F3+Q",
   "collapsed_sections": [],
   "name": "3. Pandas.ipynb",
   "provenance": [],
   "toc_visible": true
  },
  "kernelspec": {
   "display_name": "Python 3",
   "language": "python",
   "name": "python3"
  },
  "language_info": {
   "codemirror_mode": {
    "name": "ipython",
    "version": 3
   },
   "file_extension": ".py",
   "mimetype": "text/x-python",
   "name": "python",
   "nbconvert_exporter": "python",
   "pygments_lexer": "ipython3",
   "version": "3.7.9"
  },
  "toc": {
   "base_numbering": 1,
   "nav_menu": {},
   "number_sections": true,
   "sideBar": true,
   "skip_h1_title": false,
   "title_cell": "Table of Contents",
   "title_sidebar": "Contents",
   "toc_cell": false,
   "toc_position": {},
   "toc_section_display": true,
   "toc_window_display": true
  }
 },
 "nbformat": 4,
 "nbformat_minor": 1
}
