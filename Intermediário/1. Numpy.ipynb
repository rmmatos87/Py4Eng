{
  "nbformat": 4,
  "nbformat_minor": 0,
  "metadata": {
    "kernelspec": {
      "display_name": "Python 3",
      "language": "python",
      "name": "python3"
    },
    "language_info": {
      "codemirror_mode": {
        "name": "ipython",
        "version": 3
      },
      "file_extension": ".py",
      "mimetype": "text/x-python",
      "name": "python",
      "nbconvert_exporter": "python",
      "pygments_lexer": "ipython3",
      "version": "3.7.9"
    },
    "colab": {
      "name": "Numpy.ipynb",
      "provenance": [],
      "collapsed_sections": [],
      "toc_visible": true
    }
  },
  "cells": [
    {
      "cell_type": "markdown",
      "metadata": {
        "id": "BWYODzFg6zBC"
      },
      "source": [
        "# NumPy\n",
        "\n",
        "Numpy é uma biblioteca para computação científica em Python\n",
        "\n",
        "* torna mais fácil a criação e operação de arrays multidimensionais.\n",
        "\n",
        "* Python é mais lento que linguagens como C e Fortran.\n",
        "\n",
        "* Numpy fornece uma interface com códigos compilados (e otimizados) em C e Fortran, permitindo que as operações relativas a arrays sejam computadas de maneira mais rápida.\n",
        "\n",
        "Fontes:\n",
        "* [Aula de Python da UFRJ](https://dcc.ufrj.br/~pythonufrj/aulas-python2_37/aula7_teorica.pdf)\n",
        "* [Números aleatórios](https://www.howtogeek.com/183051/htg-explains-how-computers-generate-random-numbers/)\n",
        "* [Manual de referência scypy/numpy](https://docs.scipy.org/doc/numpy/reference/)"
      ]
    },
    {
      "cell_type": "markdown",
      "metadata": {
        "id": "eRD9kQor6zBT"
      },
      "source": [
        "## Importando a biblioteca Numpy e a biblioteca MatplotLib"
      ]
    },
    {
      "cell_type": "code",
      "metadata": {
        "id": "tUwSD0wL6zBU"
      },
      "source": [
        "import numpy as np\n",
        "import matplotlib.pyplot as plt"
      ],
      "execution_count": 1,
      "outputs": []
    },
    {
      "cell_type": "markdown",
      "metadata": {
        "id": "w3QImIBD6zBV"
      },
      "source": [
        "## Criando arrays (`numpy.ndarray`)"
      ]
    },
    {
      "cell_type": "markdown",
      "metadata": {
        "id": "vS-G8wGo6zBW"
      },
      "source": [
        "Arrays do numpy são multidimensionais\n",
        "```python\n",
        "array(object, dtype=None, *, copy=True, order='K', subok=False, ndmin=0)\n",
        "```"
      ]
    },
    {
      "cell_type": "code",
      "metadata": {
        "colab": {
          "base_uri": "https://localhost:8080/"
        },
        "id": "MFwMAQf36zBX",
        "outputId": "2b4312de-0918-4c91-9355-26bbd5766a0b"
      },
      "source": [
        "x = np.array([1, 2, 3])\n",
        "x"
      ],
      "execution_count": 2,
      "outputs": [
        {
          "output_type": "execute_result",
          "data": {
            "text/plain": [
              "array([1, 2, 3])"
            ]
          },
          "metadata": {
            "tags": []
          },
          "execution_count": 2
        }
      ]
    },
    {
      "cell_type": "code",
      "metadata": {
        "colab": {
          "base_uri": "https://localhost:8080/"
        },
        "id": "neZh0QKb5kuD",
        "outputId": "638cc209-892f-4c33-9b7c-7fe63f723ec8"
      },
      "source": [
        "x.dtype"
      ],
      "execution_count": 3,
      "outputs": [
        {
          "output_type": "execute_result",
          "data": {
            "text/plain": [
              "dtype('int64')"
            ]
          },
          "metadata": {
            "tags": []
          },
          "execution_count": 3
        }
      ]
    },
    {
      "cell_type": "code",
      "metadata": {
        "colab": {
          "base_uri": "https://localhost:8080/"
        },
        "id": "ICR8_9y26zBc",
        "outputId": "7ab1f0b8-1ecd-4c9b-9f8d-56049ed0753d"
      },
      "source": [
        "y = np.array([[1., 0., 2.], [0., 1., 2.]])\n",
        "y"
      ],
      "execution_count": 4,
      "outputs": [
        {
          "output_type": "execute_result",
          "data": {
            "text/plain": [
              "array([[1., 0., 2.],\n",
              "       [0., 1., 2.]])"
            ]
          },
          "metadata": {
            "tags": []
          },
          "execution_count": 4
        }
      ]
    },
    {
      "cell_type": "code",
      "metadata": {
        "colab": {
          "base_uri": "https://localhost:8080/"
        },
        "id": "-X32qLSp6zBd",
        "outputId": "89e3c87f-bbe5-45f5-b78b-5d981e788e37"
      },
      "source": [
        "y.dtype"
      ],
      "execution_count": 5,
      "outputs": [
        {
          "output_type": "execute_result",
          "data": {
            "text/plain": [
              "dtype('float64')"
            ]
          },
          "metadata": {
            "tags": []
          },
          "execution_count": 5
        }
      ]
    },
    {
      "cell_type": "code",
      "metadata": {
        "colab": {
          "base_uri": "https://localhost:8080/"
        },
        "id": "OGPBZCIu6Cxk",
        "outputId": "73fb6323-0388-45ea-f222-5f123b0b7977"
      },
      "source": [
        "print(type(y))"
      ],
      "execution_count": 7,
      "outputs": [
        {
          "output_type": "stream",
          "text": [
            "<class 'numpy.ndarray'>\n"
          ],
          "name": "stdout"
        }
      ]
    },
    {
      "cell_type": "markdown",
      "metadata": {
        "id": "aP6DIorb6zBe"
      },
      "source": [
        "* Cada dimensão em Numpy é chamada de eixo(axes).\n",
        "* `x`: [1,2,3] tem dimensão (rank) 1 e seu eixo tem comprimento 3. Pode ser visto como um vetor.\n",
        "* `y`: [[1.,0.,0.],[0.,1.,2.]] tem dimensão (rank) 2. O primeiro eixo tem comprimento 2,e o segundo tem comprimento 3.Pode ser visto como uma matriz 2x3"
      ]
    },
    {
      "cell_type": "markdown",
      "metadata": {
        "id": "Z5FyLk1K-JBP"
      },
      "source": [
        "Criando um array com um tipo específico de dados"
      ]
    },
    {
      "cell_type": "code",
      "metadata": {
        "colab": {
          "base_uri": "https://localhost:8080/"
        },
        "id": "G9kkfmLa_Wdl",
        "outputId": "e270fb4b-88dc-4080-bd2c-0fc5adb9f4b8"
      },
      "source": [
        "np.array(x, dtype='float32')"
      ],
      "execution_count": 8,
      "outputs": [
        {
          "output_type": "execute_result",
          "data": {
            "text/plain": [
              "array([1., 2., 3.], dtype=float32)"
            ]
          },
          "metadata": {
            "tags": []
          },
          "execution_count": 8
        }
      ]
    },
    {
      "cell_type": "markdown",
      "metadata": {
        "id": "nPlCid4Y-Tia"
      },
      "source": [
        "Criando um array com o número de dimensões especificadas"
      ]
    },
    {
      "cell_type": "code",
      "metadata": {
        "colab": {
          "base_uri": "https://localhost:8080/"
        },
        "id": "ueEHnmW-_cSx",
        "outputId": "75eaf9e0-722d-42d9-ffa1-3c41cbcc356f"
      },
      "source": [
        "np.array(x, ndmin=3), np.array(x, ndmin=3).shape"
      ],
      "execution_count": 9,
      "outputs": [
        {
          "output_type": "execute_result",
          "data": {
            "text/plain": [
              "(array([[[1, 2, 3]]]), (1, 1, 3))"
            ]
          },
          "metadata": {
            "tags": []
          },
          "execution_count": 9
        }
      ]
    },
    {
      "cell_type": "markdown",
      "metadata": {
        "id": "j1CxgsO06zBe"
      },
      "source": [
        "## Acessando elementos"
      ]
    },
    {
      "cell_type": "code",
      "metadata": {
        "colab": {
          "base_uri": "https://localhost:8080/"
        },
        "id": "3zPHoFeZ6zBf",
        "outputId": "9f3e18ab-2b54-410b-f364-39e1297731f0"
      },
      "source": [
        "x[1]"
      ],
      "execution_count": 10,
      "outputs": [
        {
          "output_type": "execute_result",
          "data": {
            "text/plain": [
              "2"
            ]
          },
          "metadata": {
            "tags": []
          },
          "execution_count": 10
        }
      ]
    },
    {
      "cell_type": "markdown",
      "metadata": {
        "id": "FCGL34D_6zBf"
      },
      "source": [
        "Acesso a primeira dimensão"
      ]
    },
    {
      "cell_type": "code",
      "metadata": {
        "colab": {
          "base_uri": "https://localhost:8080/"
        },
        "id": "Zd_9Se1Y6zBg",
        "outputId": "bcecb32d-64ef-44f0-fa72-3b7cc944aeb0"
      },
      "source": [
        "y[0]"
      ],
      "execution_count": 11,
      "outputs": [
        {
          "output_type": "execute_result",
          "data": {
            "text/plain": [
              "array([1., 0., 2.])"
            ]
          },
          "metadata": {
            "tags": []
          },
          "execution_count": 11
        }
      ]
    },
    {
      "cell_type": "code",
      "metadata": {
        "colab": {
          "base_uri": "https://localhost:8080/"
        },
        "id": "ivP_1kFa6zBg",
        "outputId": "667332ee-f540-4121-88ce-c676371c0d2f"
      },
      "source": [
        "y[0][1]"
      ],
      "execution_count": 14,
      "outputs": [
        {
          "output_type": "execute_result",
          "data": {
            "text/plain": [
              "0.0"
            ]
          },
          "metadata": {
            "tags": []
          },
          "execution_count": 14
        }
      ]
    },
    {
      "cell_type": "code",
      "metadata": {
        "colab": {
          "base_uri": "https://localhost:8080/"
        },
        "id": "rAuOgfED6zBh",
        "outputId": "4d8b3e68-6bab-41d0-e760-2ba85b7444da"
      },
      "source": [
        "y[0, 1]"
      ],
      "execution_count": 15,
      "outputs": [
        {
          "output_type": "execute_result",
          "data": {
            "text/plain": [
              "0.0"
            ]
          },
          "metadata": {
            "tags": []
          },
          "execution_count": 15
        }
      ]
    },
    {
      "cell_type": "markdown",
      "metadata": {
        "id": "cO7ArtP775Fw"
      },
      "source": [
        "Utilizando o método `numpy.arange`\n",
        "```python\n",
        "np.arange([start,] stop[, step,], dtype=None)\n",
        "```"
      ]
    },
    {
      "cell_type": "code",
      "metadata": {
        "colab": {
          "base_uri": "https://localhost:8080/"
        },
        "id": "Pu3RuyXJAO_Q",
        "outputId": "81d00fc1-fb9a-42d7-fa0f-919a9d5426cb"
      },
      "source": [
        "np.arange(1,11,2, dtype='float64')"
      ],
      "execution_count": 16,
      "outputs": [
        {
          "output_type": "execute_result",
          "data": {
            "text/plain": [
              "array([1., 3., 5., 7., 9.])"
            ]
          },
          "metadata": {
            "tags": []
          },
          "execution_count": 16
        }
      ]
    },
    {
      "cell_type": "markdown",
      "metadata": {
        "id": "xnDGlmqsBEPF"
      },
      "source": [
        "Utilizando o método `numpy.linspace`\n",
        "```python\n",
        "np.linspace(start, stop, num=50, endpoint=True, retstep=False, dtype=None, axis=0)\n",
        "```"
      ]
    },
    {
      "cell_type": "code",
      "metadata": {
        "colab": {
          "base_uri": "https://localhost:8080/"
        },
        "id": "xoT6eDTYCI2T",
        "outputId": "551347dc-553d-461f-f2d4-a1aca6f52cef"
      },
      "source": [
        "np.linspace(0, 9, num=9, retstep=True)"
      ],
      "execution_count": 17,
      "outputs": [
        {
          "output_type": "execute_result",
          "data": {
            "text/plain": [
              "(array([0.   , 1.125, 2.25 , 3.375, 4.5  , 5.625, 6.75 , 7.875, 9.   ]), 1.125)"
            ]
          },
          "metadata": {
            "tags": []
          },
          "execution_count": 17
        }
      ]
    },
    {
      "cell_type": "code",
      "metadata": {
        "colab": {
          "base_uri": "https://localhost:8080/"
        },
        "id": "9wV7kf8qDEOE",
        "outputId": "99f016f8-2c30-4951-db0f-a669f6daff6e"
      },
      "source": [
        "x = np.linspace((0,1), (9,9), axis=0, num=10)\n",
        "x"
      ],
      "execution_count": 18,
      "outputs": [
        {
          "output_type": "execute_result",
          "data": {
            "text/plain": [
              "array([[0.        , 1.        ],\n",
              "       [1.        , 1.88888889],\n",
              "       [2.        , 2.77777778],\n",
              "       [3.        , 3.66666667],\n",
              "       [4.        , 4.55555556],\n",
              "       [5.        , 5.44444444],\n",
              "       [6.        , 6.33333333],\n",
              "       [7.        , 7.22222222],\n",
              "       [8.        , 8.11111111],\n",
              "       [9.        , 9.        ]])"
            ]
          },
          "metadata": {
            "tags": []
          },
          "execution_count": 18
        }
      ]
    },
    {
      "cell_type": "code",
      "metadata": {
        "colab": {
          "base_uri": "https://localhost:8080/"
        },
        "id": "O5zlHIULFmjA",
        "outputId": "9f62b745-6d0b-4f83-9170-0a158770239c"
      },
      "source": [
        "x.shape"
      ],
      "execution_count": 19,
      "outputs": [
        {
          "output_type": "execute_result",
          "data": {
            "text/plain": [
              "(10, 2)"
            ]
          },
          "metadata": {
            "tags": []
          },
          "execution_count": 19
        }
      ]
    },
    {
      "cell_type": "code",
      "metadata": {
        "colab": {
          "base_uri": "https://localhost:8080/"
        },
        "id": "eBVg_uN_E_1p",
        "outputId": "5fd3fd77-8d56-41a1-b27e-b3ccce22e389"
      },
      "source": [
        "y = np.linspace((0,1), (9,9), axis=1, num=10)\n",
        "y"
      ],
      "execution_count": 20,
      "outputs": [
        {
          "output_type": "execute_result",
          "data": {
            "text/plain": [
              "array([[0.        , 1.        , 2.        , 3.        , 4.        ,\n",
              "        5.        , 6.        , 7.        , 8.        , 9.        ],\n",
              "       [1.        , 1.88888889, 2.77777778, 3.66666667, 4.55555556,\n",
              "        5.44444444, 6.33333333, 7.22222222, 8.11111111, 9.        ]])"
            ]
          },
          "metadata": {
            "tags": []
          },
          "execution_count": 20
        }
      ]
    },
    {
      "cell_type": "code",
      "metadata": {
        "colab": {
          "base_uri": "https://localhost:8080/"
        },
        "id": "Y7SIKv9UFjYU",
        "outputId": "6f7c70ae-7652-4d5d-e2e8-a239fe3561b6"
      },
      "source": [
        "y.shape"
      ],
      "execution_count": 21,
      "outputs": [
        {
          "output_type": "execute_result",
          "data": {
            "text/plain": [
              "(2, 10)"
            ]
          },
          "metadata": {
            "tags": []
          },
          "execution_count": 21
        }
      ]
    },
    {
      "cell_type": "markdown",
      "metadata": {
        "id": "kvoeE4tdFpq-"
      },
      "source": [
        "## Arrays  pré-moldados\n",
        "Arrays preenchidos com 0:\n",
        "```python\n",
        "np.zeros(shape, dtype=None, order='C')\n",
        "np.zeros_like(a, dtype=None, order='K', subok=True, shape=None)\n",
        "```\n",
        "Arrays preenchidos com 1:\n",
        "```python\n",
        "np.ones(shape, dtype=None, order='C')\n",
        "np.ones_like(a, dtype=None, order='K', subok=True, shape=None)\n",
        "```\n",
        "Arrays preenchidos com números quaisquer: \n",
        "```python\n",
        "np.empty(shape, dtype=None, order='C')\n",
        "np.empty_like(a, dtype=None, order='K', subok=True, shape=None)\n",
        "```\n",
        "\n",
        "Arrays preenchidos com o número escolhido:\n",
        "```python\n",
        "np.full(shape, fill_value, dtype=None, order='C')\n",
        "np.full_like(a, fill_value, dtype=None, order='K', subok=True, shape=None)\n",
        "```"
      ]
    },
    {
      "cell_type": "code",
      "metadata": {
        "colab": {
          "base_uri": "https://localhost:8080/"
        },
        "id": "wlQ7zsXNHo-n",
        "outputId": "6dd3c581-0c7f-4206-97e1-ea205884dc2b"
      },
      "source": [
        "np.ones((2,3,4))"
      ],
      "execution_count": 22,
      "outputs": [
        {
          "output_type": "execute_result",
          "data": {
            "text/plain": [
              "array([[[1., 1., 1., 1.],\n",
              "        [1., 1., 1., 1.],\n",
              "        [1., 1., 1., 1.]],\n",
              "\n",
              "       [[1., 1., 1., 1.],\n",
              "        [1., 1., 1., 1.],\n",
              "        [1., 1., 1., 1.]]])"
            ]
          },
          "metadata": {
            "tags": []
          },
          "execution_count": 22
        }
      ]
    },
    {
      "cell_type": "code",
      "metadata": {
        "colab": {
          "base_uri": "https://localhost:8080/"
        },
        "id": "ETLw8zj8Ilj8",
        "outputId": "652e2687-7a00-4530-ba1b-b37a92ba3994"
      },
      "source": [
        "np.ones_like(y)"
      ],
      "execution_count": 23,
      "outputs": [
        {
          "output_type": "execute_result",
          "data": {
            "text/plain": [
              "array([[1., 1., 1., 1., 1., 1., 1., 1., 1., 1.],\n",
              "       [1., 1., 1., 1., 1., 1., 1., 1., 1., 1.]])"
            ]
          },
          "metadata": {
            "tags": []
          },
          "execution_count": 23
        }
      ]
    },
    {
      "cell_type": "code",
      "metadata": {
        "colab": {
          "base_uri": "https://localhost:8080/"
        },
        "id": "Lrmrw60b44Ha",
        "outputId": "a6412a0a-3bc0-4b2a-8f54-21838d3ac3d3"
      },
      "source": [
        "np.empty((2,1))"
      ],
      "execution_count": 24,
      "outputs": [
        {
          "output_type": "execute_result",
          "data": {
            "text/plain": [
              "array([[1.        ],\n",
              "       [0.88888889]])"
            ]
          },
          "metadata": {
            "tags": []
          },
          "execution_count": 24
        }
      ]
    },
    {
      "cell_type": "code",
      "metadata": {
        "colab": {
          "base_uri": "https://localhost:8080/"
        },
        "id": "t9ij1NIc576h",
        "outputId": "c70fb09d-b1ce-448f-9c37-d0fbe9ed5c9c"
      },
      "source": [
        "np.full((1,2), 3)"
      ],
      "execution_count": 25,
      "outputs": [
        {
          "output_type": "execute_result",
          "data": {
            "text/plain": [
              "array([[3, 3]])"
            ]
          },
          "metadata": {
            "tags": []
          },
          "execution_count": 25
        }
      ]
    },
    {
      "cell_type": "markdown",
      "metadata": {
        "id": "rGUwsLWG3q_4"
      },
      "source": [
        "## Matrizes pré-moldadas\n"
      ]
    },
    {
      "cell_type": "markdown",
      "metadata": {
        "id": "Oc4_UcvZ8-mj"
      },
      "source": [
        "Matriz com diagonal igual a 1 e 0 fora da diagonal:\n",
        "```python\n",
        "np.eye(N, M=None, k=0, dtype=<class 'float'>, order='C')\n",
        "```"
      ]
    },
    {
      "cell_type": "code",
      "metadata": {
        "colab": {
          "base_uri": "https://localhost:8080/"
        },
        "id": "O3Hc5tpq9Ae_",
        "outputId": "9862d4d6-0c89-4b47-bef0-de33af9091b4"
      },
      "source": [
        "np.eye(3, M=2, k=-1)"
      ],
      "execution_count": 26,
      "outputs": [
        {
          "output_type": "execute_result",
          "data": {
            "text/plain": [
              "array([[0., 0.],\n",
              "       [1., 0.],\n",
              "       [0., 1.]])"
            ]
          },
          "metadata": {
            "tags": []
          },
          "execution_count": 26
        }
      ]
    },
    {
      "cell_type": "markdown",
      "metadata": {
        "id": "SVztJwkZ89Wa"
      },
      "source": [
        "Matriz quadrada identidade:\n",
        "```python\n",
        "np.identity(n, dtype=None)\n",
        "```\n"
      ]
    },
    {
      "cell_type": "code",
      "metadata": {
        "colab": {
          "base_uri": "https://localhost:8080/"
        },
        "id": "yixmpa_a9PqE",
        "outputId": "2f6ae52c-641c-49d6-ef59-babab249dd33"
      },
      "source": [
        "np.identity(3)"
      ],
      "execution_count": 27,
      "outputs": [
        {
          "output_type": "execute_result",
          "data": {
            "text/plain": [
              "array([[1., 0., 0.],\n",
              "       [0., 1., 0.],\n",
              "       [0., 0., 1.]])"
            ]
          },
          "metadata": {
            "tags": []
          },
          "execution_count": 27
        }
      ]
    },
    {
      "cell_type": "markdown",
      "metadata": {
        "id": "_Sb0Xu4p9Osi"
      },
      "source": [
        "Matriz diagonal com valores especificados:\n",
        "```python\n",
        "np.diag(v, k=0)\n",
        "```\n",
        "*Também é possível extrair a diagonal de uma matriz com o método `np.diag`*"
      ]
    },
    {
      "cell_type": "code",
      "metadata": {
        "colab": {
          "base_uri": "https://localhost:8080/"
        },
        "id": "zg8Paa4S9Evq",
        "outputId": "41c36b85-d077-4a55-9c4c-29b7d897b881"
      },
      "source": [
        "np.diag([[1, 2, 3], [4, 5, 6], [7, 8, 9]])"
      ],
      "execution_count": 28,
      "outputs": [
        {
          "output_type": "execute_result",
          "data": {
            "text/plain": [
              "array([1, 5, 9])"
            ]
          },
          "metadata": {
            "tags": []
          },
          "execution_count": 28
        }
      ]
    },
    {
      "cell_type": "code",
      "metadata": {
        "colab": {
          "base_uri": "https://localhost:8080/"
        },
        "id": "AtqgWLHZ4Ry-",
        "outputId": "262cfa24-9fc9-42a3-a0ca-fe7530097186"
      },
      "source": [
        "np.diag([1, 5, 9])"
      ],
      "execution_count": 29,
      "outputs": [
        {
          "output_type": "execute_result",
          "data": {
            "text/plain": [
              "array([[1, 0, 0],\n",
              "       [0, 5, 0],\n",
              "       [0, 0, 9]])"
            ]
          },
          "metadata": {
            "tags": []
          },
          "execution_count": 29
        }
      ]
    },
    {
      "cell_type": "markdown",
      "metadata": {
        "id": "8Cr9vHbPKXx9"
      },
      "source": [
        "## Exercício 1"
      ]
    },
    {
      "cell_type": "markdown",
      "metadata": {
        "id": "MqkARlRjNPbT"
      },
      "source": [
        "Faça uma função que dado um intervalo fechado $[a, b]$ e um número de pontos $n$, retorna o array `x`, formado pelos $n$ pontos obtidos a partir do intervalo $[a, b]$ e `y` é o array onde $y_i = x_i^2 - 9$.\n",
        "\n",
        "**Exemplo**\n",
        "```python\n",
        ">> x, y = f([−10, 10], 10)\n",
        ">>\n",
        ">> print(x)\n",
        "array([−10., −7.77777778, −5.55555556, −3.33333333, −1.11111111, 1.11111111, 3.33333333, 5.55555556, 7.77777778, 10.]\n",
        ">>\n",
        ">> print(y)\n",
        "array([91., 51.49382716, 21.86419753, 2.11111111, −7.7654321, −7.7654321, 2.11111111, 21.86419753, 51.49382716, 91.])\n",
        "```"
      ]
    },
    {
      "cell_type": "code",
      "metadata": {
        "id": "SXFZvxxpODUz"
      },
      "source": [
        ""
      ],
      "execution_count": null,
      "outputs": []
    },
    {
      "cell_type": "markdown",
      "metadata": {
        "id": "VN3JyvMRYNhw"
      },
      "source": [
        "## Exercício 2"
      ]
    },
    {
      "cell_type": "markdown",
      "metadata": {
        "id": "35oVmkzLNOIq"
      },
      "source": [
        "Crie uma função gera_matriz que recebe como parâmetros de entrada (a, b, n, m). Que retorne um array Numpy de formato $m \\times m$, onde os elementos são os $n$ números igualmente espaçados obtidos ao se dividir o intervalo $[a, b]$. Caso não seja possível construir tal array, a função deve retornar a mensagem `\"Não é possível construir\"`.\n",
        "\n",
        "**Exemplo:**\n",
        "```python\n",
        ">> gera_matriz(0 ,10 ,16 ,4)\n",
        "array([[0., 0.66666667, 1.33333333, 2.]\n",
        "      [2.66666667, 3.33333333, 4., 4.66666667],\n",
        "      [5.33333333, 6., 6.66666667, 7.33333333],\n",
        "      [8., 8.66666667, 9.33333333, 10.]])\n",
        ">>\n",
        ">> gera_matriz(0, 10, 10, 4)\n",
        "\"Não é possível construir\"\n",
        "```"
      ]
    },
    {
      "cell_type": "code",
      "metadata": {
        "id": "te2r4RNcL7q_"
      },
      "source": [
        ""
      ],
      "execution_count": null,
      "outputs": []
    },
    {
      "cell_type": "markdown",
      "metadata": {
        "id": "0PL7LmIA847s"
      },
      "source": [
        "## Números aleatórios"
      ]
    },
    {
      "cell_type": "markdown",
      "metadata": {
        "id": "lFPGuNJ-9q3k"
      },
      "source": [
        "Existem dois tipos de números aleatórios, os aleatórios verdadeiros (medida de uma grandeza física externa ao computador) e os pseudo aleatórios.\n",
        "\n",
        "**Números aleatórios verdadeiros:**\n",
        "* Decaimento da radiação de um átomo;\n",
        "    * Pela teoria quântica, não há forma de saber ao certo quando o decaimento da radiação ocorrerá.\n",
        "* Movimento do mouse;\n",
        "* Barulho ambiente;\n",
        "* Instante de tempo;\n",
        "\n",
        "**Números pseudo-aleatórios:**\n",
        "* Algorítmo função de uma semente (*seed*);\n",
        "\n",
        "[Referência](https://www.howtogeek.com/183051/htg-explains-how-computers-generate-random-numbers/)"
      ]
    },
    {
      "cell_type": "code",
      "metadata": {
        "id": "kZFFf9Ky9vgh"
      },
      "source": [
        "np.random.seed(42)"
      ],
      "execution_count": 30,
      "outputs": []
    },
    {
      "cell_type": "markdown",
      "metadata": {
        "id": "8KcoUwv4B3Yu"
      },
      "source": [
        "Arrays com números aleatório entre 0 e 1 com distribuição uniforme:\n",
        "```python\n",
        "rand(d0, d1, ..., dn)\n",
        "```"
      ]
    },
    {
      "cell_type": "code",
      "metadata": {
        "colab": {
          "base_uri": "https://localhost:8080/"
        },
        "id": "GYFkbAAAGSwt",
        "outputId": "99e98369-392e-48aa-8360-f598c1b2d69d"
      },
      "source": [
        "np.random.rand(3,3)"
      ],
      "execution_count": 31,
      "outputs": [
        {
          "output_type": "execute_result",
          "data": {
            "text/plain": [
              "array([[0.37454012, 0.95071431, 0.73199394],\n",
              "       [0.59865848, 0.15601864, 0.15599452],\n",
              "       [0.05808361, 0.86617615, 0.60111501]])"
            ]
          },
          "metadata": {
            "tags": []
          },
          "execution_count": 31
        }
      ]
    },
    {
      "cell_type": "code",
      "metadata": {
        "colab": {
          "base_uri": "https://localhost:8080/",
          "height": 281
        },
        "id": "CDqlzj2O92dL",
        "outputId": "f3bfa795-3382-44c6-8947-ead063f845dd"
      },
      "source": [
        "x = np.random.rand(10000)\n",
        "plt.hist(x);\n",
        "plt.title('Dist. Uniforme com média %.2f e variância %.2f'%(x.mean(), x.var()));"
      ],
      "execution_count": 32,
      "outputs": [
        {
          "output_type": "display_data",
          "data": {
            "image/png": "[encoded data removed]",
            "text/plain": [
              "<Figure size 432x288 with 1 Axes>"
            ]
          },
          "metadata": {
            "tags": [],
            "needs_background": "light"
          }
        }
      ]
    },
    {
      "cell_type": "markdown",
      "metadata": {
        "id": "VLnwTagCHV2g"
      },
      "source": [
        "Número inteiro aleatório com distribuição uniforme:\n",
        "```python\n",
        "np.random.randint(low, high=None, size=None, dtype=int)\n",
        "```"
      ]
    },
    {
      "cell_type": "code",
      "metadata": {
        "colab": {
          "base_uri": "https://localhost:8080/"
        },
        "id": "bpM8SwnqBvLO",
        "outputId": "bbb2b643-fddf-4b63-81d6-c607ff5d1bab"
      },
      "source": [
        "np.random.randint(0, 10, size=(3,3))"
      ],
      "execution_count": 33,
      "outputs": [
        {
          "output_type": "execute_result",
          "data": {
            "text/plain": [
              "array([[8, 5, 3],\n",
              "       [0, 7, 1],\n",
              "       [7, 5, 7]])"
            ]
          },
          "metadata": {
            "tags": []
          },
          "execution_count": 33
        }
      ]
    },
    {
      "cell_type": "code",
      "metadata": {
        "colab": {
          "base_uri": "https://localhost:8080/",
          "height": 281
        },
        "id": "p7zzICpaHs3I",
        "outputId": "952bf56a-47aa-4c0b-bac5-3c85f736cff2"
      },
      "source": [
        "x = np.random.randint(0, 10, size=10000)\n",
        "plt.hist(x);\n",
        "plt.title('Dist. Uniforme com média %.2f e variância %.2f'%(x.mean(), x.var()));"
      ],
      "execution_count": 34,
      "outputs": [
        {
          "output_type": "display_data",
          "data": {
            "image/png": "[encoded data removed]",
            "text/plain": [
              "<Figure size 432x288 with 1 Axes>"
            ]
          },
          "metadata": {
            "tags": [],
            "needs_background": "light"
          }
        }
      ]
    },
    {
      "cell_type": "markdown",
      "metadata": {
        "id": "Ju2bK1IiH0my"
      },
      "source": [
        "Array de números aleatórios entre 0 e 1 com distribuição normal $N(0,1)$:\n",
        "```python\n",
        "np.random.randn(d0, d1, ..., dn)\n",
        "```"
      ]
    },
    {
      "cell_type": "code",
      "metadata": {
        "colab": {
          "base_uri": "https://localhost:8080/"
        },
        "id": "Kq3gTqlrIHrd",
        "outputId": "ecaf1e5d-328d-4016-f36f-0aa7888d2803"
      },
      "source": [
        "np.random.randn(3,3)"
      ],
      "execution_count": 35,
      "outputs": [
        {
          "output_type": "execute_result",
          "data": {
            "text/plain": [
              "array([[ 0.8593905 , -0.29400776, -0.78602827],\n",
              "       [ 1.13504656, -0.02583814, -0.19162592],\n",
              "       [ 0.59212462, -2.13633171,  0.4741348 ]])"
            ]
          },
          "metadata": {
            "tags": []
          },
          "execution_count": 35
        }
      ]
    },
    {
      "cell_type": "code",
      "metadata": {
        "colab": {
          "base_uri": "https://localhost:8080/",
          "height": 281
        },
        "id": "VFymDYPbImIC",
        "outputId": "e23f5981-5858-463f-c9bb-9461a7db3406"
      },
      "source": [
        "x = np.random.randn(10000)\n",
        "plt.hist(x);\n",
        "plt.title('Dist. Normal com média %.2f e variância %.2f'%(x.mean(), x.var()));"
      ],
      "execution_count": 36,
      "outputs": [
        {
          "output_type": "display_data",
          "data": {
            "image/png": "[encoded data removed]",
            "text/plain": [
              "<Figure size 432x288 with 1 Axes>"
            ]
          },
          "metadata": {
            "tags": [],
            "needs_background": "light"
          }
        }
      ]
    },
    {
      "cell_type": "markdown",
      "metadata": {
        "id": "Wmof2F31Jrtq"
      },
      "source": [
        "Amostragem aleatória:\n",
        "```python\n",
        "np.random.choice(a, size=None, replace=True, p=None)\n",
        "```"
      ]
    },
    {
      "cell_type": "code",
      "metadata": {
        "colab": {
          "base_uri": "https://localhost:8080/"
        },
        "id": "OkR5nSkLJIUP",
        "outputId": "f7e855ea-0e27-4a4b-a7c2-85e15f4b11d9"
      },
      "source": [
        "np.random.choice(range(10), size=10, replace=True)"
      ],
      "execution_count": 37,
      "outputs": [
        {
          "output_type": "execute_result",
          "data": {
            "text/plain": [
              "array([5, 7, 7, 6, 6, 7, 4, 2, 1, 2])"
            ]
          },
          "metadata": {
            "tags": []
          },
          "execution_count": 37
        }
      ]
    },
    {
      "cell_type": "markdown",
      "metadata": {
        "id": "ByVcLK74KT_t"
      },
      "source": [
        "Ordenação aleatória:\n",
        "```python\n",
        "np.random.shuffle(x)\n",
        "```"
      ]
    },
    {
      "cell_type": "code",
      "metadata": {
        "colab": {
          "base_uri": "https://localhost:8080/"
        },
        "id": "vABd9Fc5I7b9",
        "outputId": "3901d705-8fa3-495c-fdf1-26f2e8cbac23"
      },
      "source": [
        "x = list('random')\n",
        "np.random.shuffle(x)\n",
        "x"
      ],
      "execution_count": 38,
      "outputs": [
        {
          "output_type": "execute_result",
          "data": {
            "text/plain": [
              "['a', 'r', 'd', 'o', 'm', 'n']"
            ]
          },
          "metadata": {
            "tags": []
          },
          "execution_count": 38
        }
      ]
    },
    {
      "cell_type": "markdown",
      "metadata": {
        "id": "bxyQMRJcOmAo"
      },
      "source": [
        "# Manipulações"
      ]
    },
    {
      "cell_type": "markdown",
      "metadata": {
        "id": "4vxIqyoGPP8f"
      },
      "source": [
        "## Formato\n",
        "```python\n",
        "a.flat                      # Iterador 1-D sobre o array\n",
        "a.flatten(order='C')        # Retorna a cópia do array em 1-D\n",
        "a.ravel(a[, order])         # Retorna o array em 1-D\n",
        "a.reshape(shape, order='C') # Retorna um array remodelado no formato que é passado\n",
        "```"
      ]
    },
    {
      "cell_type": "code",
      "metadata": {
        "colab": {
          "base_uri": "https://localhost:8080/"
        },
        "id": "iZPL8gyyPyEF",
        "outputId": "215f0212-fb33-4f03-ed46-9db6ee37f2d7"
      },
      "source": [
        "a = np.arange(20).reshape(10, 2)\n",
        "print('a = np.arange(20).reshape(10, 2)')\n",
        "print(a)\n",
        "print()\n",
        "print('[i for i in a.flat] =')\n",
        "print([i for i in a.flat])\n",
        "print()\n",
        "print('a.flatten() =')\n",
        "print(a.flatten())\n",
        "print()\n",
        "print('a.ravel() =')\n",
        "print(a.ravel())"
      ],
      "execution_count": 39,
      "outputs": [
        {
          "output_type": "stream",
          "text": [
            "a = np.arange(20).reshape(10, 2)\n",
            "[[ 0  1]\n",
            " [ 2  3]\n",
            " [ 4  5]\n",
            " [ 6  7]\n",
            " [ 8  9]\n",
            " [10 11]\n",
            " [12 13]\n",
            " [14 15]\n",
            " [16 17]\n",
            " [18 19]]\n",
            "\n",
            "[i for i in a.flat] =\n",
            "[0, 1, 2, 3, 4, 5, 6, 7, 8, 9, 10, 11, 12, 13, 14, 15, 16, 17, 18, 19]\n",
            "\n",
            "a.flatten() =\n",
            "[ 0  1  2  3  4  5  6  7  8  9 10 11 12 13 14 15 16 17 18 19]\n",
            "\n",
            "a.ravel() =\n",
            "[ 0  1  2  3  4  5  6  7  8  9 10 11 12 13 14 15 16 17 18 19]\n"
          ],
          "name": "stdout"
        }
      ]
    },
    {
      "cell_type": "markdown",
      "metadata": {
        "id": "xVV4Hdn5QP_C"
      },
      "source": [
        "# Indexação e fatiamento"
      ]
    },
    {
      "cell_type": "markdown",
      "metadata": {
        "id": "4qNHOOGFQVQE"
      },
      "source": [
        "Funciona de forma similar às operações com listas"
      ]
    },
    {
      "cell_type": "code",
      "metadata": {
        "colab": {
          "base_uri": "https://localhost:8080/"
        },
        "id": "QsXtwCShS4tZ",
        "outputId": "3fc68d9c-0d76-4f5f-e5bc-ff636f9f1855"
      },
      "source": [
        "x = list('palavra')\n",
        "x[1:3]"
      ],
      "execution_count": 40,
      "outputs": [
        {
          "output_type": "execute_result",
          "data": {
            "text/plain": [
              "['a', 'l']"
            ]
          },
          "metadata": {
            "tags": []
          },
          "execution_count": 40
        }
      ]
    },
    {
      "cell_type": "code",
      "metadata": {
        "colab": {
          "base_uri": "https://localhost:8080/"
        },
        "id": "YkDznSXqS-Y7",
        "outputId": "c2c287cd-7bfb-4ea4-b313-92874dcde70b"
      },
      "source": [
        "y = np.array(list('palavra'))\n",
        "y[1:3]"
      ],
      "execution_count": 41,
      "outputs": [
        {
          "output_type": "execute_result",
          "data": {
            "text/plain": [
              "array(['a', 'l'], dtype='<U1')"
            ]
          },
          "metadata": {
            "tags": []
          },
          "execution_count": 41
        }
      ]
    },
    {
      "cell_type": "markdown",
      "metadata": {
        "id": "5pOETfy9XCD-"
      },
      "source": [
        "As diferenças começam quando fatiamos a `list` e o array para criar uma visualização, na `list` é realizada uma cópia do pedaço da `list` original:"
      ]
    },
    {
      "cell_type": "code",
      "metadata": {
        "colab": {
          "base_uri": "https://localhost:8080/"
        },
        "id": "HRdeLR_8Uutc",
        "outputId": "506a32ba-15bb-45fd-df5a-073bfe2ca194"
      },
      "source": [
        "x = list('palavra')\n",
        "\n",
        "x0 = x[0:2]\n",
        "x0[0] = 5\n",
        "x, x0"
      ],
      "execution_count": 42,
      "outputs": [
        {
          "output_type": "execute_result",
          "data": {
            "text/plain": [
              "(['p', 'a', 'l', 'a', 'v', 'r', 'a'], [5, 'a'])"
            ]
          },
          "metadata": {
            "tags": []
          },
          "execution_count": 42
        }
      ]
    },
    {
      "cell_type": "markdown",
      "metadata": {
        "id": "9pcZ3LylXYXb"
      },
      "source": [
        "Ao realizaro o mesmo procedimento em um array, apontamos para o mesmo trecho de memória:"
      ]
    },
    {
      "cell_type": "code",
      "metadata": {
        "colab": {
          "base_uri": "https://localhost:8080/"
        },
        "id": "9JCZzn5MVHqq",
        "outputId": "19125dde-1200-4cb3-9aa7-f7bf21a2a0ca"
      },
      "source": [
        "y = np.array(list('palavra'))\n",
        "\n",
        "y0 = y[0:2]\n",
        "y0[0] = 5\n",
        "y, y0"
      ],
      "execution_count": 43,
      "outputs": [
        {
          "output_type": "execute_result",
          "data": {
            "text/plain": [
              "(array(['5', 'a', 'l', 'a', 'v', 'r', 'a'], dtype='<U1'),\n",
              " array(['5', 'a'], dtype='<U1'))"
            ]
          },
          "metadata": {
            "tags": []
          },
          "execution_count": 43
        }
      ]
    },
    {
      "cell_type": "markdown",
      "metadata": {
        "id": "I5ucOOjYYJR6"
      },
      "source": [
        "**Atenção**\n",
        "\n",
        "Para não afetar o array original, podemos utilizar o método `np.ndarray.copy()`."
      ]
    },
    {
      "cell_type": "code",
      "metadata": {
        "id": "A05-e6ceXkOm",
        "colab": {
          "base_uri": "https://localhost:8080/"
        },
        "outputId": "b52ceb03-d904-4115-ab24-02838c887776"
      },
      "source": [
        "y = np.array(list('palavra'))\n",
        "\n",
        "y0 = y[0:2].copy()\n",
        "y0[0] = 5\n",
        "y"
      ],
      "execution_count": 44,
      "outputs": [
        {
          "output_type": "execute_result",
          "data": {
            "text/plain": [
              "array(['p', 'a', 'l', 'a', 'v', 'r', 'a'], dtype='<U1')"
            ]
          },
          "metadata": {
            "tags": []
          },
          "execution_count": 44
        }
      ]
    },
    {
      "cell_type": "markdown",
      "metadata": {
        "id": "WJBnzjzuYmAl"
      },
      "source": [
        "## Exercício 3"
      ]
    },
    {
      "cell_type": "markdown",
      "metadata": {
        "id": "JiY6HZfGaFmy"
      },
      "source": [
        "Faça duas funções, linha e coluna, cada uma recebendo como parâmetro de entrada um array `M` e um número inteiro $i$. O formato $(n, m)$ do array `M` não é passado como parâmetro de entrada. As funções devem retornar, respectivamente, a linha e a coluna $i$ de `M`. Se `M` não possui linha (coluna) $i$, a mensagem `\"Não existe esta linha (coluna)\"` deve ser retornada.\n",
        "Caso `M` não tenha o formato $(n, m)$, a mensagem `\"Isto nao e uma matriz.\"` deve ser retornada.\n",
        "\n",
        "**Exemplo**\n",
        "```python\n",
        ">> z\n",
        "array([[0.,1.11111111,2.22222222,3.33333333,4.44444444],\n",
        "       [5.55555556,6.66666667,7.77777778,8.88888889,10.]])\n",
        ">>\n",
        ">> w\n",
        "array([[[0., 1.03846154, 2.07692308],\n",
        "        [3.11538462, 4.15384615, 5.19230769],\n",
        "        [6.23076923, 7.26923077, 8.30769231]],\n",
        "       [[9.34615385, 10.38461538, 11.42307692],\n",
        "        [12.46153846, 13.5, 14.53846154],\n",
        "        [15.57692308, 16.61538462, 17.65384615]],\n",
        "       [[18.69230769, 19.73076923, 20.76923077],\n",
        "        [21.80769231, 22.84615385, 23.88461538],\n",
        "        [24.92307692, 25.96153846, 27.]]])\n",
        ">>\n",
        ">> coluna(z, 4)\n",
        "array([4.44444444, 10.])\n",
        ">>\n",
        ">> linha(z, 5)\n",
        "\"Não existe esta linha\"\n",
        ">>\n",
        ">> linha(w, 3)\n",
        "\"Isto não é uma matriz\"\n",
        "```"
      ]
    },
    {
      "cell_type": "code",
      "metadata": {
        "id": "Rod5jihGbv1R"
      },
      "source": [
        ""
      ],
      "execution_count": null,
      "outputs": []
    },
    {
      "cell_type": "markdown",
      "metadata": {
        "id": "HVcvD3MZH2zU"
      },
      "source": [
        "## Indexação por Máscara\n",
        "É possível indexar e fatiar os `numpy.ndarrays` utilizando booleanos."
      ]
    },
    {
      "cell_type": "code",
      "metadata": {
        "colab": {
          "base_uri": "https://localhost:8080/",
          "height": 265
        },
        "id": "rZhFCKN_H9Jd",
        "outputId": "5b591636-13e1-4fc3-f4c7-62b0269e6921"
      },
      "source": [
        "t = np.linspace(0, 10, 1000)\n",
        "x = t**2\n",
        "plt.plot(t, x)\n",
        "plt.show()"
      ],
      "execution_count": 45,
      "outputs": [
        {
          "output_type": "display_data",
          "data": {
            "image/png": "[encoded data removed]",
            "text/plain": [
              "<Figure size 432x288 with 1 Axes>"
            ]
          },
          "metadata": {
            "tags": [],
            "needs_background": "light"
          }
        }
      ]
    },
    {
      "cell_type": "code",
      "metadata": {
        "colab": {
          "base_uri": "https://localhost:8080/",
          "height": 265
        },
        "id": "24imjWUdIJuw",
        "outputId": "41bb6527-b1da-403e-e06f-566f0ddd163c"
      },
      "source": [
        "mask1 = (t >= 2.5) & (t < 5.0)\n",
        "mask2 = t >= 5.0\n",
        "\n",
        "x[mask1] = t[mask1][0]**2\n",
        "x[mask2] = t[mask2]**2 - (t[mask2][0]**2 - t[mask1][0]**2)\n",
        "\n",
        "plt.plot(t, x, t[mask1], x[mask1], t[mask2], x[mask2])\n",
        "plt.show()"
      ],
      "execution_count": 46,
      "outputs": [
        {
          "output_type": "display_data",
          "data": {
            "image/png": "[encoded data removed]",
            "text/plain": [
              "<Figure size 432x288 with 1 Axes>"
            ]
          },
          "metadata": {
            "tags": [],
            "needs_background": "light"
          }
        }
      ]
    },
    {
      "cell_type": "markdown",
      "metadata": {
        "id": "zvB3GJqsKLhY"
      },
      "source": [
        "# Operações"
      ]
    },
    {
      "cell_type": "markdown",
      "metadata": {
        "id": "qfTWpUgXcorj"
      },
      "source": [
        "Operações de array com uma constante\n",
        "* Aritiméticas: `+, -, *, /, //, %`\n",
        "* Comparação: `==, !=, >, >=, <, <=`\n",
        "* Booleanas: `[&](and), [|](or), [^](xor), [~](not)`\n"
      ]
    },
    {
      "cell_type": "code",
      "metadata": {
        "id": "J5P1DTfnbW_r"
      },
      "source": [
        "x = np.arange(6)"
      ],
      "execution_count": 47,
      "outputs": []
    },
    {
      "cell_type": "code",
      "metadata": {
        "colab": {
          "base_uri": "https://localhost:8080/"
        },
        "id": "yzHsmeEZbc0u",
        "outputId": "c18d605f-a33f-4608-9c0c-7f5cdad26d77"
      },
      "source": [
        "print('x:            ', x)\n",
        "print('Operações com o número 2.')\n",
        "print('Soma:         ', x+2)\n",
        "print('Subtração:    ', x-2)\n",
        "print('Multiplicação:', x*2)\n",
        "print('Divisão:      ', x/2)\n",
        "print('Exponenciação:', x**2)\n",
        "print('Quociente:    ', x//2)\n",
        "print('Resto:        ', x%2)"
      ],
      "execution_count": 48,
      "outputs": [
        {
          "output_type": "stream",
          "text": [
            "x:             [0 1 2 3 4 5]\n",
            "Operações com o número 2.\n",
            "Soma:          [2 3 4 5 6 7]\n",
            "Subtração:     [-2 -1  0  1  2  3]\n",
            "Multiplicação: [ 0  2  4  6  8 10]\n",
            "Divisão:       [0.  0.5 1.  1.5 2.  2.5]\n",
            "Exponenciação: [ 0  1  4  9 16 25]\n",
            "Quociente:     [0 0 1 1 2 2]\n",
            "Resto:         [0 1 0 1 0 1]\n"
          ],
          "name": "stdout"
        }
      ]
    },
    {
      "cell_type": "code",
      "metadata": {
        "colab": {
          "base_uri": "https://localhost:8080/"
        },
        "id": "SEFST9npnEg4",
        "outputId": "9c600185-5474-4426-a200-326a73493606"
      },
      "source": [
        "print('x:             ', x)\n",
        "print('Comparação com o número 3.')\n",
        "print('Igual:         ', x==3)\n",
        "print('Diferente:     ', x!=3)\n",
        "print('Maior:         ', x>3)\n",
        "print('Maior ou igual:', x>=3)\n",
        "print('Menor:         ', x<3)\n",
        "print('Menor ou igual:', x<=3)"
      ],
      "execution_count": 49,
      "outputs": [
        {
          "output_type": "stream",
          "text": [
            "x:              [0 1 2 3 4 5]\n",
            "Comparação com o número 3.\n",
            "Igual:          [False False False  True False False]\n",
            "Diferente:      [ True  True  True False  True  True]\n",
            "Maior:          [False False False False  True  True]\n",
            "Maior ou igual: [False False False  True  True  True]\n",
            "Menor:          [ True  True  True False False False]\n",
            "Menor ou igual: [ True  True  True  True False False]\n"
          ],
          "name": "stdout"
        }
      ]
    },
    {
      "cell_type": "code",
      "metadata": {
        "id": "e0j4zRB2icqH"
      },
      "source": [
        "x = np.array([i%2 == 0 for i in range(4)])"
      ],
      "execution_count": 50,
      "outputs": []
    },
    {
      "cell_type": "code",
      "metadata": {
        "colab": {
          "base_uri": "https://localhost:8080/"
        },
        "id": "scLo0oIZb7vt",
        "outputId": "15f0e2f6-a660-4019-fc68-6b567bf4c184"
      },
      "source": [
        "print('x:  ', x)\n",
        "print('Comparação com True')\n",
        "print('And:', x & True)\n",
        "print('Or: ', x | True)\n",
        "print('Xor:', x ^ True)\n",
        "print('Not:', ~x)"
      ],
      "execution_count": 51,
      "outputs": [
        {
          "output_type": "stream",
          "text": [
            "x:   [ True False  True False]\n",
            "Comparação com True\n",
            "And: [ True False  True False]\n",
            "Or:  [ True  True  True  True]\n",
            "Xor: [False  True False  True]\n",
            "Not: [False  True False  True]\n"
          ],
          "name": "stdout"
        }
      ]
    },
    {
      "cell_type": "markdown",
      "metadata": {
        "id": "SkKueXJyoabd"
      },
      "source": [
        "## Operações vetoriais e matriciais"
      ]
    },
    {
      "cell_type": "code",
      "metadata": {
        "colab": {
          "base_uri": "https://localhost:8080/"
        },
        "id": "V_THBvgLpAFY",
        "outputId": "944e7fef-7915-4a25-8bdc-89d269496405"
      },
      "source": [
        "x = np.random.randint(0, 10, size=(3,2))\n",
        "y = np.random.randint(0, 10, size=(3,2))\n",
        "z = np.random.randint(0, 10, size=(2,3))\n",
        "print(x, y, z, sep='\\n\\n')"
      ],
      "execution_count": 52,
      "outputs": [
        {
          "output_type": "stream",
          "text": [
            "[[6 5]\n",
            " [9 1]\n",
            " [9 0]]\n",
            "\n",
            "[[8 1]\n",
            " [3 8]\n",
            " [8 0]]\n",
            "\n",
            "[[1 1 1]\n",
            " [7 7 9]]\n"
          ],
          "name": "stdout"
        }
      ]
    },
    {
      "cell_type": "markdown",
      "metadata": {
        "id": "eiL78j_UrMyq"
      },
      "source": [
        "Operações termo a termo."
      ]
    },
    {
      "cell_type": "code",
      "metadata": {
        "colab": {
          "base_uri": "https://localhost:8080/"
        },
        "id": "Mnw58VIQpuI0",
        "outputId": "377e66b3-3623-4c41-cf12-17124b744ee0"
      },
      "source": [
        "x + y"
      ],
      "execution_count": 53,
      "outputs": [
        {
          "output_type": "execute_result",
          "data": {
            "text/plain": [
              "array([[14,  6],\n",
              "       [12,  9],\n",
              "       [17,  0]])"
            ]
          },
          "metadata": {
            "tags": []
          },
          "execution_count": 53
        }
      ]
    },
    {
      "cell_type": "code",
      "metadata": {
        "colab": {
          "base_uri": "https://localhost:8080/"
        },
        "id": "eTZa4wEjqfSn",
        "outputId": "08290285-7359-442d-ec44-4a7c1ff5a0d3"
      },
      "source": [
        "x - y"
      ],
      "execution_count": 54,
      "outputs": [
        {
          "output_type": "execute_result",
          "data": {
            "text/plain": [
              "array([[-2,  4],\n",
              "       [ 6, -7],\n",
              "       [ 1,  0]])"
            ]
          },
          "metadata": {
            "tags": []
          },
          "execution_count": 54
        }
      ]
    },
    {
      "cell_type": "code",
      "metadata": {
        "colab": {
          "base_uri": "https://localhost:8080/"
        },
        "id": "Wh_tlvIzrHax",
        "outputId": "a484acaf-25c7-4fd0-b7bc-497284f725e3"
      },
      "source": [
        "x * y"
      ],
      "execution_count": 55,
      "outputs": [
        {
          "output_type": "execute_result",
          "data": {
            "text/plain": [
              "array([[48,  5],\n",
              "       [27,  8],\n",
              "       [72,  0]])"
            ]
          },
          "metadata": {
            "tags": []
          },
          "execution_count": 55
        }
      ]
    },
    {
      "cell_type": "code",
      "metadata": {
        "colab": {
          "base_uri": "https://localhost:8080/"
        },
        "id": "zm4C-MpyrI-k",
        "outputId": "4029553b-32d8-4f52-c1da-bb03b3a710a3"
      },
      "source": [
        "x / y"
      ],
      "execution_count": 56,
      "outputs": [
        {
          "output_type": "stream",
          "text": [
            "/usr/local/lib/python3.7/dist-packages/ipykernel_launcher.py:1: RuntimeWarning: invalid value encountered in true_divide\n",
            "  \"\"\"Entry point for launching an IPython kernel.\n"
          ],
          "name": "stderr"
        },
        {
          "output_type": "execute_result",
          "data": {
            "text/plain": [
              "array([[0.75 , 5.   ],\n",
              "       [3.   , 0.125],\n",
              "       [1.125,   nan]])"
            ]
          },
          "metadata": {
            "tags": []
          },
          "execution_count": 56
        }
      ]
    },
    {
      "cell_type": "markdown",
      "metadata": {
        "id": "pBBn3Db9rKGb"
      },
      "source": [
        "Multiplicação matricial\n",
        "\n",
        "Para que a multiplicação ocorra, é necessário que o número de colunas da matriz à esquerda seja igual ao número de linhas da matriz à direita:\n",
        "\n",
        "$$\n",
        "\\left[\n",
        "    \\begin{matrix}\n",
        "    a & b & c \\\\\n",
        "    e & f & g\n",
        "    \\end{matrix}\n",
        "\\right] \\cdot\n",
        "\\left[\n",
        "    \\begin{matrix}\n",
        "    A & B \\\\\n",
        "    C & D \\\\\n",
        "    E & F\n",
        "    \\end{matrix}\n",
        "\\right] = \n",
        "\\left[\n",
        "    \\begin{matrix}\n",
        "    Aa + Cb + Ec & Ba + Db + Fc \\\\\n",
        "    Ae + Cf + Eg & Be + Df + Fg\n",
        "    \\end{matrix}\n",
        "\\right]\n",
        "$$"
      ]
    },
    {
      "cell_type": "code",
      "metadata": {
        "colab": {
          "base_uri": "https://localhost:8080/"
        },
        "id": "qCC7ykSzrVn1",
        "outputId": "44ed55ed-cdb3-40de-fef4-73c38e08bda4"
      },
      "source": [
        "print(x, z, sep='\\n\\n')\n",
        "print('\\nx @ z =')\n",
        "x @ z"
      ],
      "execution_count": 58,
      "outputs": [
        {
          "output_type": "stream",
          "text": [
            "[[6 5]\n",
            " [9 1]\n",
            " [9 0]]\n",
            "\n",
            "[[1 1 1]\n",
            " [7 7 9]]\n",
            "\n",
            "x @ z =\n"
          ],
          "name": "stdout"
        },
        {
          "output_type": "execute_result",
          "data": {
            "text/plain": [
              "array([[41, 41, 51],\n",
              "       [16, 16, 18],\n",
              "       [ 9,  9,  9]])"
            ]
          },
          "metadata": {
            "tags": []
          },
          "execution_count": 58
        }
      ]
    },
    {
      "cell_type": "code",
      "metadata": {
        "colab": {
          "base_uri": "https://localhost:8080/"
        },
        "id": "MtZhkd6ArX6e",
        "outputId": "8831a2d5-2ada-45a6-8eea-e71097871215"
      },
      "source": [
        "x.dot(z)"
      ],
      "execution_count": 59,
      "outputs": [
        {
          "output_type": "execute_result",
          "data": {
            "text/plain": [
              "array([[41, 41, 51],\n",
              "       [16, 16, 18],\n",
              "       [ 9,  9,  9]])"
            ]
          },
          "metadata": {
            "tags": []
          },
          "execution_count": 59
        }
      ]
    },
    {
      "cell_type": "markdown",
      "metadata": {
        "id": "13eypWJS0Zyb"
      },
      "source": [
        "## Broadcasting\n",
        "\n",
        "O NumPy possui a capacidade de aumentar o tamanho de um array automaticamente para realizar uma operação, isto se chama broadcasting:\n",
        "\n",
        "$$\n",
        "\\left[\n",
        "    \\begin{matrix}\n",
        "    a & b & c \\\\\n",
        "    e & f & g\n",
        "    \\end{matrix}\n",
        "\\right] +\n",
        "\\left[\n",
        "    \\begin{matrix}\n",
        "    A & B & C\n",
        "    \\end{matrix}\n",
        "\\right] \\Rightarrow\n",
        "\\left[\n",
        "    \\begin{matrix}\n",
        "    a & b & c \\\\\n",
        "    e & f & g\n",
        "    \\end{matrix}\n",
        "\\right] +\n",
        "\\left[\n",
        "    \\begin{matrix}\n",
        "    A & B & C \\\\\n",
        "    A & B & C\n",
        "    \\end{matrix}\n",
        "\\right]\n",
        "$$"
      ]
    },
    {
      "cell_type": "code",
      "metadata": {
        "id": "RS5yU07k3EKG"
      },
      "source": [
        "x = np.ones((2, 3))*3\n",
        "y = np.ones((1, 3))*2"
      ],
      "execution_count": 60,
      "outputs": []
    },
    {
      "cell_type": "code",
      "metadata": {
        "colab": {
          "base_uri": "https://localhost:8080/"
        },
        "id": "80bL1RgI4UUT",
        "outputId": "fa716129-1ca8-4c38-8383-f3e16659348f"
      },
      "source": [
        "print('x:\\n', x)\n",
        "print('y:\\n', y)\n",
        "print()\n",
        "print('x + y:\\n', x + y)\n",
        "print('x * y:\\n', x * y)"
      ],
      "execution_count": 61,
      "outputs": [
        {
          "output_type": "stream",
          "text": [
            "x:\n",
            " [[3. 3. 3.]\n",
            " [3. 3. 3.]]\n",
            "y:\n",
            " [[2. 2. 2.]]\n",
            "\n",
            "x + y:\n",
            " [[5. 5. 5.]\n",
            " [5. 5. 5.]]\n",
            "x * y:\n",
            " [[6. 6. 6.]\n",
            " [6. 6. 6.]]\n"
          ],
          "name": "stdout"
        }
      ]
    },
    {
      "cell_type": "markdown",
      "metadata": {
        "id": "FM7yHc7l4vd_"
      },
      "source": [
        "## Métodos para arrays\n",
        "\n",
        "```python\n",
        "np.sum(a, axis=None, dtype=None, out=None, keepdims=False, initial=0, where=True)\n",
        "np.prod(a, axis=None, dtype=None, , out=None, keepdims=False, initial=0, where=True)\n",
        "np.cumsum(a, axis=None, dtype=None, out=None)\n",
        "np.cumprod(a, axis=None, dtype=None, out=None)\n",
        "```"
      ]
    },
    {
      "cell_type": "code",
      "metadata": {
        "colab": {
          "base_uri": "https://localhost:8080/"
        },
        "id": "d9uRIjyo5Djz",
        "outputId": "e638efbd-3a28-422b-ec89-358c9a947523"
      },
      "source": [
        "print('Somatório:')\n",
        "print(x.sum())\n",
        "print('Produtório:')\n",
        "print(x.prod(axis=1))\n",
        "print('Soma acumulada:')\n",
        "print(x.cumsum())\n",
        "print('Produto acumulado:')\n",
        "print(x.cumprod(axis=0))"
      ],
      "execution_count": 62,
      "outputs": [
        {
          "output_type": "stream",
          "text": [
            "Somatório:\n",
            "18.0\n",
            "Produtório:\n",
            "[27. 27.]\n",
            "Soma acumulada:\n",
            "[ 3.  6.  9. 12. 15. 18.]\n",
            "Produto acumulado:\n",
            "[[3. 3. 3.]\n",
            " [9. 9. 9.]]\n"
          ],
          "name": "stdout"
        }
      ]
    },
    {
      "cell_type": "markdown",
      "metadata": {
        "id": "uPnk8SvL7wUD"
      },
      "source": [
        "## Estatística\n",
        "Mínimos (min), Máximos (max), Percentis (percentile) e Quartis (quantile):\n",
        "```python\n",
        "np.min(a, axis=None, out=None, keepdims=False, initial=<no value>, where=True)\n",
        "np.percentilenp.percentile(a, q, axis=None, out=None, overwrite_input=False, interpolation='linear', keepdims=False)\n",
        "np.max(a, axis=None, out=None, keepdims=False, initial=<no value>, where=True)\n",
        "np.quantile(a, q, axis=None, out=None, overwrite_input=False, interpolation='linear', keepdims=False)\n",
        "```\n",
        "Média (mean), Mediana (median), Desvio Padrão (std) e Variância (var):\n",
        "```python\n",
        "np.mean(a, axis=None, dtype=None, out=None, keepdims=numpy._globals._NoValueType instance)\n",
        "np.median(a, axis=None, out=None, overwrite_input=False, keepdims=False)\n",
        "np.std(a, axis=None, dtype=None, out=None, ddof=0, keepdims=numpy._globals._NoValueType instance)\n",
        "np.var(a, axis=None, dtype=None, out=None, ddof=0, keepdims=numpy._globals._NoValueType instance)\n",
        "```"
      ]
    },
    {
      "cell_type": "code",
      "metadata": {
        "id": "VTVmgbnk3IQk"
      },
      "source": [
        "x = np.random.randint(0, 10, size=(10))"
      ],
      "execution_count": 63,
      "outputs": []
    },
    {
      "cell_type": "code",
      "metadata": {
        "colab": {
          "base_uri": "https://localhost:8080/"
        },
        "id": "MKZ_zZw98Gt0",
        "outputId": "2d5f15df-8627-42ce-8ba5-18c9116535e5"
      },
      "source": [
        "print('x:             ', sorted(x))\n",
        "print('Máximo:        ', x.max())\n",
        "for i in range(90,0,-10):\n",
        "    if i == 70:\n",
        "        print('Percentil 75 % = 3º Quartil:', np.quantile(x, .75))\n",
        "    if i == 20:\n",
        "        print('Percentil 25 % = 1º Quartil:', np.quantile(x, .25))\n",
        "    if i == 50:\n",
        "        print('Percentil 50 % = 2º Quartil = Mediana:', np.percentile(x, i))\n",
        "    else:\n",
        "        print('Percentil %d %%:'%i, np.percentile(x, i))\n",
        "print('Mínimo:        ', x.min())"
      ],
      "execution_count": 64,
      "outputs": [
        {
          "output_type": "stream",
          "text": [
            "x:              [0, 0, 2, 3, 5, 6, 7, 7, 7, 9]\n",
            "Máximo:         9\n",
            "Percentil 90 %: 7.199999999999999\n",
            "Percentil 80 %: 7.0\n",
            "Percentil 75 % = 3º Quartil: 7.0\n",
            "Percentil 70 %: 7.0\n",
            "Percentil 60 %: 6.3999999999999995\n",
            "Percentil 50 % = 2º Quartil = Mediana: 5.5\n",
            "Percentil 40 %: 4.2\n",
            "Percentil 30 %: 2.6999999999999997\n",
            "Percentil 25 % = 1º Quartil: 2.25\n",
            "Percentil 20 %: 1.6\n",
            "Percentil 10 %: 0.0\n",
            "Mínimo:         0\n"
          ],
          "name": "stdout"
        }
      ]
    },
    {
      "cell_type": "code",
      "metadata": {
        "colab": {
          "base_uri": "https://localhost:8080/"
        },
        "id": "I2YFoLUABcxP",
        "outputId": "2c63d4a6-fada-4153-e6b5-2e6124084bf0"
      },
      "source": [
        "print('Desvio Padrão:', x.std())\n",
        "print('Variância:    ', x.var())"
      ],
      "execution_count": 65,
      "outputs": [
        {
          "output_type": "stream",
          "text": [
            "Desvio Padrão: 3.0066592756745814\n",
            "Variância:     9.04\n"
          ],
          "name": "stdout"
        }
      ]
    },
    {
      "cell_type": "code",
      "metadata": {
        "colab": {
          "base_uri": "https://localhost:8080/",
          "height": 265
        },
        "id": "LzO6_Nu080Br",
        "outputId": "2693a9cd-5f3d-4c43-acd1-4e2a5d33d1a3"
      },
      "source": [
        "plt.boxplot(x);\n",
        "plt.grid(axis='y')"
      ],
      "execution_count": 66,
      "outputs": [
        {
          "output_type": "display_data",
          "data": {
            "image/png": "[encoded data removed]",
            "text/plain": [
              "<Figure size 432x288 with 1 Axes>"
            ]
          },
          "metadata": {
            "tags": [],
            "needs_background": "light"
          }
        }
      ]
    },
    {
      "cell_type": "markdown",
      "metadata": {
        "id": "nXoMO0Yw9dsU"
      },
      "source": [
        "## Métodos universais\n",
        "Métodos do NumPy para cálculo elemento a elemento de operação\n",
        "```python\n",
        "np.exp()\n",
        "np.sqrt()\n",
        "np.power()\n",
        "np.log()\n",
        "np.log10()\n",
        "np.log2()\n",
        "\n",
        "np.sin()\n",
        "np.cos()\n",
        "np.tan()\n",
        "np.arc...()\n",
        "\n",
        "np.sinh()\n",
        "np.cosh()\n",
        "np.tanh()\n",
        "np.arc...()\n",
        "```"
      ]
    },
    {
      "cell_type": "code",
      "metadata": {
        "id": "9CBmw4TMDLFs",
        "colab": {
          "base_uri": "https://localhost:8080/"
        },
        "outputId": "39891fbb-4ac6-4fc1-99ae-531c1b71f21f"
      },
      "source": [
        "x = np.sort(np.random.rand(1000))\n",
        "y = np.array([np.exp(x), np.log(x), np.cos(x*2*np.pi)])\n",
        "print('x:', x.shape)\n",
        "print('y:', y.shape)"
      ],
      "execution_count": 67,
      "outputs": [
        {
          "output_type": "stream",
          "text": [
            "x: (1000,)\n",
            "y: (3, 1000)\n"
          ],
          "name": "stdout"
        }
      ]
    },
    {
      "cell_type": "markdown",
      "metadata": {
        "id": "r10vHMUn1a-9"
      },
      "source": [
        "É necessário transpor o y pois o Matplotlib entende que as ordenadas possuem  1000 pontos, logo as abscissas devem possuir 1000 linhas!\n",
        "\n",
        "Assim, cada uma das três colunas é identificada como um conjunto de dados diferentes.\n"
      ]
    },
    {
      "cell_type": "code",
      "metadata": {
        "colab": {
          "base_uri": "https://localhost:8080/",
          "height": 265
        },
        "id": "pM0EEnmG9KbK",
        "outputId": "de32be55-e62f-4dd2-f368-ad3b3319e09f"
      },
      "source": [
        "plt.plot(x, y.T)\n",
        "\n",
        "# ao utilizar o $, o matplotlib invoca o LaTeX para imprimir uma equação\n",
        "plt.legend(['$e^x$', '$\\log(x)$', '$\\cos(2\\pi x)$']);"
      ],
      "execution_count": 68,
      "outputs": [
        {
          "output_type": "display_data",
          "data": {
            "image/png": "[encoded data removed]",
            "text/plain": [
              "<Figure size 432x288 with 1 Axes>"
            ]
          },
          "metadata": {
            "tags": [],
            "needs_background": "light"
          }
        }
      ]
    },
    {
      "cell_type": "markdown",
      "metadata": {
        "id": "G8efcp2n9clP"
      },
      "source": [
        "## Vetorizando funções"
      ]
    },
    {
      "cell_type": "code",
      "metadata": {
        "colab": {
          "base_uri": "https://localhost:8080/"
        },
        "id": "dambPUODbfoT",
        "outputId": "2cd5da41-b97a-4f7a-e3b8-adcd3628f209"
      },
      "source": [
        "x = np.random.randn(10)\n",
        "x"
      ],
      "execution_count": 69,
      "outputs": [
        {
          "output_type": "execute_result",
          "data": {
            "text/plain": [
              "array([ 1.83471822,  0.386369  , -0.79625571, -1.23379962,  2.5225367 ,\n",
              "       -0.70161191, -0.49759446,  0.59919278, -0.83088031,  0.37628784])"
            ]
          },
          "metadata": {
            "tags": []
          },
          "execution_count": 69
        }
      ]
    },
    {
      "cell_type": "code",
      "metadata": {
        "colab": {
          "base_uri": "https://localhost:8080/",
          "height": 338
        },
        "id": "W6hPFYTIaemc",
        "outputId": "8ecedf81-b720-4d08-8fc4-394574048e2f"
      },
      "source": [
        "def f(x):\n",
        "    if x > 0:\n",
        "        return 1\n",
        "    else:\n",
        "        return 0\n",
        "\n",
        "f(x)"
      ],
      "execution_count": 70,
      "outputs": [
        {
          "output_type": "error",
          "ename": "ValueError",
          "evalue": "ignored",
          "traceback": [
            "\u001b[0;31m---------------------------------------------------------------------------\u001b[0m",
            "\u001b[0;31mValueError\u001b[0m                                Traceback (most recent call last)",
            "\u001b[0;32m<ipython-input-70-2aaee0cbb99a>\u001b[0m in \u001b[0;36m<module>\u001b[0;34m()\u001b[0m\n\u001b[1;32m      5\u001b[0m         \u001b[0;32mreturn\u001b[0m \u001b[0;36m0\u001b[0m\u001b[0;34m\u001b[0m\u001b[0;34m\u001b[0m\u001b[0m\n\u001b[1;32m      6\u001b[0m \u001b[0;34m\u001b[0m\u001b[0m\n\u001b[0;32m----> 7\u001b[0;31m \u001b[0mf\u001b[0m\u001b[0;34m(\u001b[0m\u001b[0mx\u001b[0m\u001b[0;34m)\u001b[0m\u001b[0;34m\u001b[0m\u001b[0;34m\u001b[0m\u001b[0m\n\u001b[0m",
            "\u001b[0;32m<ipython-input-70-2aaee0cbb99a>\u001b[0m in \u001b[0;36mf\u001b[0;34m(x)\u001b[0m\n\u001b[1;32m      1\u001b[0m \u001b[0;32mdef\u001b[0m \u001b[0mf\u001b[0m\u001b[0;34m(\u001b[0m\u001b[0mx\u001b[0m\u001b[0;34m)\u001b[0m\u001b[0;34m:\u001b[0m\u001b[0;34m\u001b[0m\u001b[0;34m\u001b[0m\u001b[0m\n\u001b[0;32m----> 2\u001b[0;31m     \u001b[0;32mif\u001b[0m \u001b[0mx\u001b[0m \u001b[0;34m>\u001b[0m \u001b[0;36m0\u001b[0m\u001b[0;34m:\u001b[0m\u001b[0;34m\u001b[0m\u001b[0;34m\u001b[0m\u001b[0m\n\u001b[0m\u001b[1;32m      3\u001b[0m         \u001b[0;32mreturn\u001b[0m \u001b[0;36m1\u001b[0m\u001b[0;34m\u001b[0m\u001b[0;34m\u001b[0m\u001b[0m\n\u001b[1;32m      4\u001b[0m     \u001b[0;32melse\u001b[0m\u001b[0;34m:\u001b[0m\u001b[0;34m\u001b[0m\u001b[0;34m\u001b[0m\u001b[0m\n\u001b[1;32m      5\u001b[0m         \u001b[0;32mreturn\u001b[0m \u001b[0;36m0\u001b[0m\u001b[0;34m\u001b[0m\u001b[0;34m\u001b[0m\u001b[0m\n",
            "\u001b[0;31mValueError\u001b[0m: The truth value of an array with more than one element is ambiguous. Use a.any() or a.all()"
          ]
        }
      ]
    },
    {
      "cell_type": "markdown",
      "metadata": {
        "id": "25bmom-iaaSh"
      },
      "source": [
        "Funções definidas pelo usuário normalmente não são vetorizadas, ou seja, aplicáveis termo a termo em vetores.\n",
        "\n",
        "É possível vetorizar funções com o numpy."
      ]
    },
    {
      "cell_type": "code",
      "metadata": {
        "colab": {
          "base_uri": "https://localhost:8080/"
        },
        "id": "eW4C1e8TbRvH",
        "outputId": "a3c4589e-f664-4fe3-8373-8589bd4221f6"
      },
      "source": [
        "f_vect = np.vectorize(f)\n",
        "f_vect(x)"
      ],
      "execution_count": 71,
      "outputs": [
        {
          "output_type": "execute_result",
          "data": {
            "text/plain": [
              "array([1, 1, 0, 0, 1, 0, 0, 1, 0, 1])"
            ]
          },
          "metadata": {
            "tags": []
          },
          "execution_count": 71
        }
      ]
    },
    {
      "cell_type": "markdown",
      "metadata": {
        "id": "g8I7bE__cZh1"
      },
      "source": [
        "## Exercício 4"
      ]
    },
    {
      "cell_type": "markdown",
      "metadata": {
        "id": "AAbtJlLiceNL"
      },
      "source": [
        "Considere a expressão polinomial:\n",
        "$$p(x) = a_0 + a_1x + a_2x^2 +\\ ...\\ + a_Nx^N = \\sum^N_{n=0}{a_nx^n}$$\n",
        "\n",
        "Escreva uma função que utilize arrays e operações em arrays NumPy para calcular tal polinômio, sem usar `for` ou `while`.\n",
        "\n",
        "Dica: use `np.cumprod()` ou `np.vectorize()`."
      ]
    },
    {
      "cell_type": "code",
      "metadata": {
        "id": "8E3pGifNi9gG"
      },
      "source": [
        ""
      ],
      "execution_count": null,
      "outputs": []
    },
    {
      "cell_type": "markdown",
      "metadata": {
        "id": "y-S0Fv9Ni10A"
      },
      "source": [
        "## Exercício 5"
      ]
    },
    {
      "cell_type": "markdown",
      "metadata": {
        "id": "a5nTVVS_eRRX"
      },
      "source": [
        "Seja $q$ um array NumPy de comprimento $n$ com $\\sum{q} = 1$.\n",
        "\n",
        "Suponha que $q$ representa uma [função densidade de probabilidade](https://en.wikipedia.org/wiki/Probability_mass_function). Queremos gerar uma variável aleatória discreta $X$ tal que $P\\{X=i\\} = q_i$. Em outras palavras, $X$ toma valores em $range(len(q))$ e $x = i$ com probabilidade $q[i]$.\n",
        "\n",
        "O algoritmo (transformação inversa) padrão é como segue:\n",
        "* Divida o intervalo $[0,1]$ em $n$ subintervalos $I_0, I_1,\\ ..., I_{n1}$ tal que o comprimento de $I_i$ é $q_i$\n",
        "* Sorteie uma variável aleatória uniforme $U \\in [0,1]$ e retorne $i$ tal que $U \\in I_i$\n",
        "\n",
        "A probabilidade de sortear $i$ é o comprimento de $I_i$, que é igual a $q_i$. Podemos implementar o algoritmoda seguinte forma:\n",
        "\n",
        "```python\n",
        "from random import uniform\n",
        "def sample(q):\n",
        "    a = 0.0\n",
        "    U = uniform(0, 1)\n",
        "    for i in range(len(q)):\n",
        "        if a < U <= a + q[i]:\n",
        "            return i\n",
        "        a = a + q[i]\n",
        "```\n",
        "\n",
        "Se você não entendeu como isso funciona, tente pensar usando um exemplo simple, tal como $q = [0.25,0.75]$. Ajuda se você esboçar os intervalos no papel. Seu exercício é aumentar a velocidade usando Numpy, evitando laços explícitos.\n",
        "\n",
        "Dica: use `np.searchsorted` e `np.cumsum`.\n",
        "Exemplificando de maneira gráfica.\n",
        "\n",
        "Existem 4 cores de bolas em um saco com 100 bolas.\n",
        "\n",
        "|Cor|Quantidade|Probabilidade|Probabilidade Acumulada|\n",
        "|-|-:|-:|-:|\n",
        "|Azul|25|0.25|0.25|\n",
        "|Verde|25|0.25|0.50|\n",
        "|Vermelha|35|0.35|0.85|\n",
        "|Preta|15|0.15|1.00|\n",
        "\n",
        "Realizamos uma amostragem aleatória das bolas:"
      ]
    },
    {
      "cell_type": "code",
      "metadata": {
        "id": "f9HKMDspeSi7",
        "colab": {
          "base_uri": "https://localhost:8080/",
          "height": 195
        },
        "outputId": "e3c205cd-05e7-43fb-9589-62b913de1749"
      },
      "source": [
        "from random import uniform\n",
        "def sample(q):\n",
        "    if np.sum(q) != 1:\n",
        "        raise ValueError('Não é função densidade de probabilidade.')\n",
        "    a = 0.0\n",
        "    U = uniform(0, 1)\n",
        "\n",
        "    # Gerando o gráfico explicativo\n",
        "    cs = list('bgrk')\n",
        "    plt.figure(figsize=(15,1))\n",
        "    plt.scatter(np.array(q).cumsum(), np.zeros_like(q), c=cs)\n",
        "    plt.xlim((0,1.1))\n",
        "    plt.box(False)\n",
        "    plt.grid(True)\n",
        "    plt.yticks([])\n",
        "    cores = ['Azul', 'Verde', 'Vermelha', 'Preta']\n",
        "    intervalos = np.array([0] + q).cumsum()\n",
        "    for i, cor in enumerate(cores):\n",
        "        plt.annotate(cor, (np.array(q).cumsum()[i], 0.01), c=cs[i])\n",
        "        plt.annotate('Intervalo %d'%i,\n",
        "                     ((intervalos[i]+intervalos[i+1])/2, 0.04),\n",
        "                     c=cs[i],\n",
        "                     ha='center')\n",
        "    for i in range(len(intervalos)-1):\n",
        "        plt.hlines(0, intervalos[i], intervalos[i+1], cs[i])\n",
        "    plt.plot(U, 0, marker='x', c='m')\n",
        "    plt.annotate('Var. Aleat.', (U, -0.025), c='m')\n",
        "    \n",
        "    print('Variável aleatória uniforme U =', U)\n",
        "    for i in range(len(q)):\n",
        "        if a < U <= a + q[i]:\n",
        "            print('Bola sorteada:', cores[i])\n",
        "            return i\n",
        "        a = a + q[i]\n",
        "\n",
        "d = [.25, .25, .35, .15]\n",
        "%time i = sample(d)\n",
        "print('Amostrado o intervalo',i)"
      ],
      "execution_count": 74,
      "outputs": [
        {
          "output_type": "stream",
          "text": [
            "Variável aleatória uniforme U = 0.8009352627834917\n",
            "Bola sorteada: Vermelha\n",
            "CPU times: user 98.7 ms, sys: 0 ns, total: 98.7 ms\n",
            "Wall time: 97.9 ms\n",
            "Amostrado o intervalo 2\n"
          ],
          "name": "stdout"
        },
        {
          "output_type": "display_data",
          "data": {
            "image/png": "[encoded data removed]",
            "text/plain": [
              "<Figure size 1080x72 with 1 Axes>"
            ]
          },
          "metadata": {
            "tags": [],
            "needs_background": "light"
          }
        }
      ]
    },
    {
      "cell_type": "code",
      "metadata": {
        "id": "JJTv5-dcjw0-"
      },
      "source": [
        ""
      ],
      "execution_count": null,
      "outputs": []
    },
    {
      "cell_type": "markdown",
      "metadata": {
        "id": "H12opD_F6vtk"
      },
      "source": [
        "# Algebra linear"
      ]
    },
    {
      "cell_type": "markdown",
      "metadata": {
        "id": "IYmkMj_E62Df"
      },
      "source": [
        "```python\n",
        "np.linalg.norm(x, ord=None, axis=None, keepdims=False) # Norma\n",
        "np.linalg.inv(A)                                       # Inversão de A\n",
        "np.linalg.solve(A, b)                                  # Resolve o sistema linear de \"Ax = b\"\n",
        "np.linalg.det(A)                                       # Determinante de A\n",
        "np.linalg.lstsq(a, b, rcond='warn')                    # Mínimos quadrados\n",
        "np.linalg.matrix_power(A, n)                           # Eleva \"A\" a potência \"n\"\n",
        "np.linalg;matrix_rank(M, tol=None, hermitian=False)    # Retorna o posto da matriz\n",
        "np.linalg.eig(A)                                       # Autovalores e autovetores de A\n",
        "np.linalg.qr(a, mode='reduced')                        # Decomposição QR\n",
        "np.linalg.cholesky(A)                                  # Decomposição Cholesky\n",
        "```"
      ]
    },
    {
      "cell_type": "markdown",
      "metadata": {
        "id": "in4CPbma7M30"
      },
      "source": [
        "## Exercício 6\n",
        "Simulando um sensor com erros de medida.\n",
        "Sabendo-se que um sensor está medindo a temperatura ($T$) de um tanque, conforme dados abaixo, calcule a taxa de variação da temperatura. O tempo é representado por $t$, expresso em minutos.\n",
        "\n",
        "O sensor possui um erro de 3%.\n",
        "\n",
        "Dica: Utilize o método [lstsq](https://numpy.org/doc/stable/reference/generated/numpy.linalg.lstsq.html)."
      ]
    },
    {
      "cell_type": "code",
      "metadata": {
        "id": "rNKyIfLIAFL7"
      },
      "source": [
        "Temp = lambda t: (30 + t/10)+(np.random.randn(len(t))*(30 + t/10)*.03)"
      ],
      "execution_count": 75,
      "outputs": []
    },
    {
      "cell_type": "code",
      "metadata": {
        "colab": {
          "base_uri": "https://localhost:8080/",
          "height": 299
        },
        "id": "SGXQtd-ZBHep",
        "outputId": "561f80a9-9166-4cca-a94e-bd99236f487a"
      },
      "source": [
        "t = np.linspace(0, 100, 1000)\n",
        "T = Temp(t)\n",
        "\n",
        "plt.scatter(t, T, marker='.')\n",
        "plt.xlabel('$t$ [min]')\n",
        "plt.ylabel('$T$ [ºC]')\n",
        "plt.title('TT-1210003A')\n",
        "plt.grid()\n",
        "plt.show()"
      ],
      "execution_count": 76,
      "outputs": [
        {
          "output_type": "display_data",
          "data": {
            "image/png": "[encoded data removed]",
            "text/plain": [
              "<Figure size 432x288 with 1 Axes>"
            ]
          },
          "metadata": {
            "tags": [],
            "needs_background": "light"
          }
        }
      ]
    },
    {
      "cell_type": "code",
      "metadata": {
        "id": "H16atC46mhy5"
      },
      "source": [
        ""
      ],
      "execution_count": null,
      "outputs": []
    }
  ]
}