{
 "cells": [
  {
   "cell_type": "markdown",
   "metadata": {
    "id": "BWYODzFg6zBC"
   },
   "source": [
    "<img src='https://camo.githubusercontent.com/175fa296ff3ddb5a764a788aee45420ba6189ff2dfa28076122797af89599599/68747470733a2f2f64726976652e676f6f676c652e636f6d2f75633f6578706f72743d766965772669643d3153415142706f71477a42354354396c77786a3154306830715655357036736457' width=200 style=\"float:center\">\n",
    "\n",
    "# NumPy - Solução dos exercícios\n",
    "---\n",
    "\n",
    "**Índice:**\n",
    "1. [Exercício 1](#Exercício-1)\n",
    "2. [Exercício 2](#Exercício-2)\n",
    "3. [Exercício 3](#Exercício-3)\n",
    "4. [Exercício 4](#Exercício-4)\n",
    "5. [Exercício 5](#Exercício-5)\n",
    "6. [Exercício 6](#Exercício-6)\n",
    "\n",
    "As soluções apresentadas não são únicas!\n",
    "\n",
    "Se você encontrou o resultado através de um método diferente, não significa que está errado."
   ]
  },
  {
   "cell_type": "code",
   "execution_count": 4,
   "metadata": {
    "executionInfo": {
     "elapsed": 618,
     "status": "ok",
     "timestamp": 1619693368699,
     "user": {
      "displayName": "Rafael Matos",
      "photoUrl": "https://lh3.googleusercontent.com/a-/AOh14GizvLjQZmGB4-KGWvSOV05hr_lUcZifkDol22tmbQ=s64",
      "userId": "08861151773596892595"
     },
     "user_tz": 180
    },
    "id": "vrL86c9fPzYF"
   },
   "outputs": [],
   "source": [
    "import numpy as np\n",
    "import matplotlib.pyplot as plt"
   ]
  },
  {
   "cell_type": "markdown",
   "metadata": {
    "id": "8Cr9vHbPKXx9"
   },
   "source": [
    "## Exercício 1\n",
    "Faça uma função que dado um intervalo fechado $[a, b]$ e um número de pontos $n$, retorna o array `x`, formado pelos $n$ pontos obtidos a partir do intervalo $[a, b]$ e `y` é o array onde $y_i = x_i^2 - 9$.\n",
    "\n",
    "**Exemplo**\n",
    "```python\n",
    ">> x, y = f([−10, 10], 10)\n",
    ">>\n",
    ">> print(x)\n",
    "array([−10., −7.77777778, −5.55555556, −3.33333333, −1.11111111, 1.11111111, 3.33333333, 5.55555556, 7.77777778, 10.]\n",
    ">>\n",
    ">> print(y)\n",
    "array([91., 51.49382716, 21.86419753, 2.11111111, −7.7654321, −7.7654321, 2.11111111, 21.86419753, 51.49382716, 91.])\n",
    "```"
   ]
  },
  {
   "cell_type": "code",
   "execution_count": 7,
   "metadata": {
    "colab": {
     "base_uri": "https://localhost:8080/"
    },
    "executionInfo": {
     "elapsed": 650,
     "status": "ok",
     "timestamp": 1619693535337,
     "user": {
      "displayName": "Rafael Matos",
      "photoUrl": "https://lh3.googleusercontent.com/a-/AOh14GizvLjQZmGB4-KGWvSOV05hr_lUcZifkDol22tmbQ=s64",
      "userId": "08861151773596892595"
     },
     "user_tz": 180
    },
    "id": "SXFZvxxpODUz",
    "outputId": "8d969c1a-104b-4a45-f49b-dee3aef62305"
   },
   "outputs": [
    {
     "name": "stdout",
     "output_type": "stream",
     "text": [
      "[-10.          -7.77777778  -5.55555556  -3.33333333  -1.11111111\n",
      "   1.11111111   3.33333333   5.55555556   7.77777778  10.        ]\n",
      "[91.         51.49382716 21.86419753  2.11111111 -7.7654321  -7.7654321\n",
      "  2.11111111 21.86419753 51.49382716 91.        ]\n"
     ]
    }
   ],
   "source": [
    "def f(v: list,\n",
    "      n: int):\n",
    "    # Criando o array linearmente espaçado\n",
    "    x = np.linspace(v[0], v[1], n)\n",
    "    # Aplicando a equação ao array\n",
    "    y = x**2 - 9\n",
    "    return x, y\n",
    "\n",
    "x, y = f([-10, 10], 10)\n",
    "print(x)\n",
    "print(y)"
   ]
  },
  {
   "cell_type": "markdown",
   "metadata": {
    "id": "VN3JyvMRYNhw"
   },
   "source": [
    "## Exercício 2\n",
    "Crie uma função gera_matriz que recebe como parâmetros de entrada (a, b, n, m). Que retorne um array Numpy de formato $m \\times m$, onde os elementos são os $n$ números igualmente espaçados obtidos ao se dividir o intervalo $[a, b]$. Caso não seja possível construir tal array, a função deve retornar a mensagem `\"Não é possível construir\"`.\n",
    "\n",
    "**Exemplo:**\n",
    "```python\n",
    ">> gera_matriz(0 ,10 ,16 ,4)\n",
    "array([[0., 0.66666667, 1.33333333, 2.]\n",
    "      [2.66666667, 3.33333333, 4., 4.66666667],\n",
    "      [5.33333333, 6., 6.66666667, 7.33333333],\n",
    "      [8., 8.66666667, 9.33333333, 10.]])\n",
    ">>\n",
    ">> gera_matriz(0, 10, 10, 4)\n",
    "\"Não é possível construir\"\n",
    "```"
   ]
  },
  {
   "cell_type": "code",
   "execution_count": 11,
   "metadata": {
    "colab": {
     "base_uri": "https://localhost:8080/"
    },
    "executionInfo": {
     "elapsed": 1280,
     "status": "ok",
     "timestamp": 1619694118219,
     "user": {
      "displayName": "Rafael Matos",
      "photoUrl": "https://lh3.googleusercontent.com/a-/AOh14GizvLjQZmGB4-KGWvSOV05hr_lUcZifkDol22tmbQ=s64",
      "userId": "08861151773596892595"
     },
     "user_tz": 180
    },
    "id": "te2r4RNcL7q_",
    "outputId": "9dbf761a-7fce-4c4c-ca46-79c2802a3ddd"
   },
   "outputs": [
    {
     "data": {
      "text/plain": [
       "array([[ 0.        ,  0.66666667,  1.33333333,  2.        ],\n",
       "       [ 2.66666667,  3.33333333,  4.        ,  4.66666667],\n",
       "       [ 5.33333333,  6.        ,  6.66666667,  7.33333333],\n",
       "       [ 8.        ,  8.66666667,  9.33333333, 10.        ]])"
      ]
     },
     "execution_count": 11,
     "metadata": {
      "tags": []
     },
     "output_type": "execute_result"
    }
   ],
   "source": [
    "def gera_matriz(a, b, n, m):\n",
    "    # Verificação de viabilidade de construção da matriz\n",
    "    if m**2 != n:\n",
    "        print(\"Não é possível construir\")\n",
    "        return None\n",
    "    x = np.linspace(a, b, n)\n",
    "    \n",
    "    # primeiro método:\n",
    "    y = np.zeros((m, m))\n",
    "    for linha in range(m):\n",
    "        for coluna in range(m):\n",
    "            y[linha, coluna] = x[linha*m+coluna]\n",
    "    return y\n",
    "\n",
    "    # segundo método\n",
    "    return x.reshape((m, m))\n",
    "\n",
    "gera_matriz(0 ,10 ,16 ,4)"
   ]
  },
  {
   "cell_type": "code",
   "execution_count": 12,
   "metadata": {
    "colab": {
     "base_uri": "https://localhost:8080/"
    },
    "executionInfo": {
     "elapsed": 988,
     "status": "ok",
     "timestamp": 1619694118473,
     "user": {
      "displayName": "Rafael Matos",
      "photoUrl": "https://lh3.googleusercontent.com/a-/AOh14GizvLjQZmGB4-KGWvSOV05hr_lUcZifkDol22tmbQ=s64",
      "userId": "08861151773596892595"
     },
     "user_tz": 180
    },
    "id": "2kQ0YA18Sst5",
    "outputId": "fc063253-a3c5-451f-ecd3-3cc5b4fe3a26"
   },
   "outputs": [
    {
     "name": "stdout",
     "output_type": "stream",
     "text": [
      "Não é possível construir\n"
     ]
    }
   ],
   "source": [
    "gera_matriz(0, 10, 10, 4)"
   ]
  },
  {
   "cell_type": "markdown",
   "metadata": {
    "id": "WJBnzjzuYmAl"
   },
   "source": [
    "## Exercício 3\n",
    "Faça duas funções, linha e coluna, cada uma recebendo como parâmetro de entrada um array `M` e um número inteiro $i$. O formato $(n, m)$ do array `M` não é passado como parâmetro de entrada. As funções devem retornar, respectivamente, a linha e a coluna $i$ de `M`. Se `M` não possui linha (coluna) $i$, a mensagem `\"Não existe esta linha (coluna)\"` deve ser retornada.\n",
    "Caso `M` não tenha o formato $(n, m)$, a mensagem `\"Isto nao e uma matriz.\"` deve ser retornada.\n",
    "\n",
    "**Exemplo**\n",
    "```python\n",
    ">> z\n",
    "array([[0.,1.11111111,2.22222222,3.33333333,4.44444444],\n",
    "       [5.55555556,6.66666667,7.77777778,8.88888889,10.]])\n",
    ">>\n",
    ">> w\n",
    "array([[[0., 1.03846154, 2.07692308],\n",
    "        [3.11538462, 4.15384615, 5.19230769],\n",
    "        [6.23076923, 7.26923077, 8.30769231]],\n",
    "       [[9.34615385, 10.38461538, 11.42307692],\n",
    "        [12.46153846, 13.5, 14.53846154],\n",
    "        [15.57692308, 16.61538462, 17.65384615]],\n",
    "       [[18.69230769, 19.73076923, 20.76923077],\n",
    "        [21.80769231, 22.84615385, 23.88461538],\n",
    "        [24.92307692, 25.96153846, 27.]]])\n",
    ">>\n",
    ">> coluna(z, 4)\n",
    "array([4.44444444, 10.])\n",
    ">>\n",
    ">> linha(z, 5)\n",
    "\"Não existe esta linha\"\n",
    ">>\n",
    ">> linha(w, 3)\n",
    "\"Isto não é uma matriz\"\n",
    "```"
   ]
  },
  {
   "cell_type": "code",
   "execution_count": 13,
   "metadata": {
    "colab": {
     "base_uri": "https://localhost:8080/"
    },
    "executionInfo": {
     "elapsed": 656,
     "status": "ok",
     "timestamp": 1619695742107,
     "user": {
      "displayName": "Rafael Matos",
      "photoUrl": "https://lh3.googleusercontent.com/a-/AOh14GizvLjQZmGB4-KGWvSOV05hr_lUcZifkDol22tmbQ=s64",
      "userId": "08861151773596892595"
     },
     "user_tz": 180
    },
    "id": "Rod5jihGbv1R",
    "outputId": "8dc7d0ac-320b-4843-ab3d-94e66e3e68d0"
   },
   "outputs": [
    {
     "data": {
      "text/plain": [
       "array([ 4.44444444, 10.        ])"
      ]
     },
     "execution_count": 13,
     "metadata": {
      "tags": []
     },
     "output_type": "execute_result"
    }
   ],
   "source": [
    "def linha(A, n):\n",
    "    if len(A.shape) != 2:\n",
    "        print(\"Isto não é uma matriz\")\n",
    "        return None\n",
    "    ####### Correção #######\n",
    "    # Errado:\n",
    "    # if A.shape[0] < n:\n",
    "    # Correto\n",
    "    if A.shape[0] <= n:\n",
    "        print(\"Não existe esta linha\")\n",
    "        return None\n",
    "    return A[n, :]\n",
    "\n",
    "def coluna(A, n):\n",
    "    if len(A.shape) != 2:\n",
    "        print(\"Isto não é uma matriz\")\n",
    "        return None\n",
    "    ####### Correção #######\n",
    "    # Errado:\n",
    "    # if A.shape[1] < n:\n",
    "    # Correto\n",
    "    if A.shape[1] <= n:\n",
    "        print(\"Não existe esta coluna\")\n",
    "        return None\n",
    "    return A[:, n]\n",
    "\n",
    "\n",
    "\n",
    "z = np.array([[0.,1.11111111,2.22222222,3.33333333,4.44444444],\n",
    "              [5.55555556,6.66666667,7.77777778,8.88888889,10.]])\n",
    "\n",
    "w = np.array([[[0., 1.03846154, 2.07692308],\n",
    "               [3.11538462, 4.15384615, 5.19230769],\n",
    "               [6.23076923, 7.26923077, 8.30769231]],\n",
    "              [[9.34615385, 10.38461538, 11.42307692],\n",
    "               [12.46153846, 13.5, 14.53846154],\n",
    "               [15.57692308, 16.61538462, 17.65384615]],\n",
    "              [[18.69230769, 19.73076923, 20.76923077],\n",
    "               [21.80769231, 22.84615385, 23.88461538],\n",
    "               [24.92307692, 25.96153846, 27.]]])\n",
    "\n",
    "coluna(z, 4)"
   ]
  },
  {
   "cell_type": "code",
   "execution_count": 14,
   "metadata": {
    "colab": {
     "base_uri": "https://localhost:8080/"
    },
    "executionInfo": {
     "elapsed": 1199,
     "status": "ok",
     "timestamp": 1619695743460,
     "user": {
      "displayName": "Rafael Matos",
      "photoUrl": "https://lh3.googleusercontent.com/a-/AOh14GizvLjQZmGB4-KGWvSOV05hr_lUcZifkDol22tmbQ=s64",
      "userId": "08861151773596892595"
     },
     "user_tz": 180
    },
    "id": "VPgucbnxY0EA",
    "outputId": "a261d0e8-b4aa-4e52-945e-a4b74e970afb"
   },
   "outputs": [
    {
     "name": "stdout",
     "output_type": "stream",
     "text": [
      "Não existe esta linha\n"
     ]
    }
   ],
   "source": [
    "linha(z, 5)"
   ]
  },
  {
   "cell_type": "code",
   "execution_count": 15,
   "metadata": {
    "colab": {
     "base_uri": "https://localhost:8080/"
    },
    "executionInfo": {
     "elapsed": 871,
     "status": "ok",
     "timestamp": 1619695743469,
     "user": {
      "displayName": "Rafael Matos",
      "photoUrl": "https://lh3.googleusercontent.com/a-/AOh14GizvLjQZmGB4-KGWvSOV05hr_lUcZifkDol22tmbQ=s64",
      "userId": "08861151773596892595"
     },
     "user_tz": 180
    },
    "id": "8kUGjWHZY2RX",
    "outputId": "716d7102-761c-4e18-d026-743e69c6bca1"
   },
   "outputs": [
    {
     "name": "stdout",
     "output_type": "stream",
     "text": [
      "Isto não é uma matriz\n"
     ]
    }
   ],
   "source": [
    "linha(w, 3)"
   ]
  },
  {
   "cell_type": "markdown",
   "metadata": {
    "id": "KiFfh9fzY-qp"
   },
   "source": [
    "Se repararmos, as duas funções são muito parecidas, então vamos otimizar o código com um pouco de criatividade."
   ]
  },
  {
   "cell_type": "code",
   "execution_count": 20,
   "metadata": {
    "colab": {
     "base_uri": "https://localhost:8080/"
    },
    "executionInfo": {
     "elapsed": 638,
     "status": "ok",
     "timestamp": 1619696330735,
     "user": {
      "displayName": "Rafael Matos",
      "photoUrl": "https://lh3.googleusercontent.com/a-/AOh14GizvLjQZmGB4-KGWvSOV05hr_lUcZifkDol22tmbQ=s64",
      "userId": "08861151773596892595"
     },
     "user_tz": 180
    },
    "id": "VS5zMTPfZL9O",
    "outputId": "92d7cc6b-821d-47a5-f3b7-28aa590a0f94"
   },
   "outputs": [
    {
     "name": "stdout",
     "output_type": "stream",
     "text": [
      "[[ 0.          5.55555556]\n",
      " [ 1.11111111  6.66666667]\n",
      " [ 2.22222222  7.77777778]\n",
      " [ 3.33333333  8.88888889]\n",
      " [ 4.44444444 10.        ]]\n"
     ]
    },
    {
     "data": {
      "text/plain": [
       "array([ 4.44444444, 10.        ])"
      ]
     },
     "execution_count": 20,
     "metadata": {
      "tags": []
     },
     "output_type": "execute_result"
    }
   ],
   "source": [
    "def linha(A, n):\n",
    "    # Inserindo um condicional para definir o texto do erro!!\n",
    "    tag = 'linha' if n > 0 else 'coluna'\n",
    "    # Removendo o sinal negativo de n\n",
    "    n = abs(n)\n",
    "\n",
    "    if len(A.shape) != 2:\n",
    "        print(\"Isto não é uma matriz\")\n",
    "        return None\n",
    "    if A.shape[0] < n:\n",
    "        print(\"Não existe esta \" + tag)\n",
    "        return None\n",
    "    return A[n, :]\n",
    "\n",
    "def coluna(A, n):\n",
    "    # Passando a transposta de A para a função linha\n",
    "    print(A.T)\n",
    "    return linha(A.T, -n)\n",
    "\n",
    "coluna(z, 4)"
   ]
  },
  {
   "cell_type": "code",
   "execution_count": 21,
   "metadata": {
    "colab": {
     "base_uri": "https://localhost:8080/"
    },
    "executionInfo": {
     "elapsed": 503,
     "status": "ok",
     "timestamp": 1619696331111,
     "user": {
      "displayName": "Rafael Matos",
      "photoUrl": "https://lh3.googleusercontent.com/a-/AOh14GizvLjQZmGB4-KGWvSOV05hr_lUcZifkDol22tmbQ=s64",
      "userId": "08861151773596892595"
     },
     "user_tz": 180
    },
    "id": "X2e8J2zSaVxi",
    "outputId": "9106acda-6f93-41bf-e994-1074bd3e6ce2"
   },
   "outputs": [
    {
     "name": "stdout",
     "output_type": "stream",
     "text": [
      "Não existe esta linha\n"
     ]
    }
   ],
   "source": [
    "linha(z, 5)"
   ]
  },
  {
   "cell_type": "code",
   "execution_count": 22,
   "metadata": {
    "colab": {
     "base_uri": "https://localhost:8080/"
    },
    "executionInfo": {
     "elapsed": 641,
     "status": "ok",
     "timestamp": 1619696333201,
     "user": {
      "displayName": "Rafael Matos",
      "photoUrl": "https://lh3.googleusercontent.com/a-/AOh14GizvLjQZmGB4-KGWvSOV05hr_lUcZifkDol22tmbQ=s64",
      "userId": "08861151773596892595"
     },
     "user_tz": 180
    },
    "id": "Mbw3GqtNaVxx",
    "outputId": "912e9fda-a366-4049-8322-2071a11ff52e"
   },
   "outputs": [
    {
     "name": "stdout",
     "output_type": "stream",
     "text": [
      "Isto não é uma matriz\n"
     ]
    }
   ],
   "source": [
    "linha(w, 3)"
   ]
  },
  {
   "cell_type": "markdown",
   "metadata": {
    "id": "g8I7bE__cZh1"
   },
   "source": [
    "## Exercício 4\n",
    "Considere a expressão polinomial:\n",
    "$$p(x) = a_0 + a_1x + a_2x^2 +\\ ...\\ + a_Nx^N = \\sum^N_{n=0}{a_nx^n}$$\n",
    "\n",
    "Escreva uma função que utilize arrays e operações em arrays NumPy para calcular tal polinômio, sem usar `for` ou `while`.\n",
    "\n",
    "Dica: use `np.cumprod()` ou `np.vectorize()`."
   ]
  },
  {
   "cell_type": "code",
   "execution_count": 143,
   "metadata": {
    "colab": {
     "base_uri": "https://localhost:8080/"
    },
    "executionInfo": {
     "elapsed": 642,
     "status": "ok",
     "timestamp": 1619702048141,
     "user": {
      "displayName": "Rafael Matos",
      "photoUrl": "https://lh3.googleusercontent.com/a-/AOh14GizvLjQZmGB4-KGWvSOV05hr_lUcZifkDol22tmbQ=s64",
      "userId": "08861151773596892595"
     },
     "user_tz": 180
    },
    "id": "8E3pGifNi9gG",
    "outputId": "410995d9-054f-44b6-8d5c-4054eeace57f"
   },
   "outputs": [
    {
     "name": "stdout",
     "output_type": "stream",
     "text": [
      "x = 2\n",
      "y = 7 + 2x + 5x**2 + 6x**3\n",
      "\n",
      "y = 7 + 4 + 20 + 48 = 79\n"
     ]
    }
   ],
   "source": [
    "def p(a, x, n):\n",
    "    return a*x**n\n",
    "\n",
    "# Criando um array com valores aleatórios entre 0 e 9,\n",
    "# com tamanho aleatório entre 1 e 9\n",
    "a = np.random.randint(0, 10, np.random.randint(1, 10))\n",
    "x = np.random.randint(0, 5)\n",
    "\n",
    "# Vetorizando a função\n",
    "p_vec = np.vectorize(p)\n",
    "y = p_vec(a, x, np.arange(a.shape[0]))\n",
    "\n",
    "# Imprimindo resultados\n",
    "s = ['%d'%(a[0])] if a[0] > 0 else [] # termo independente\n",
    "if a.shape[0] > 1:\n",
    "    s += ['%dx'%(a[1])] if a[1] > 0 else [] # termo x**1\n",
    "s += ['%dx**%d'%(a[i], i) for i in range(2, a.shape[0]) if a[i] !=0]\n",
    "print('x =', x)\n",
    "print('y =', ' + '.join(s))\n",
    "print()\n",
    "print('y =', ' + '.join(y.astype(str)),'=', y.sum())"
   ]
  },
  {
   "cell_type": "markdown",
   "metadata": {
    "id": "y-S0Fv9Ni10A"
   },
   "source": [
    "## Exercício 5\n",
    "Seja $q$ um array NumPy de comprimento $n$ com $\\sum{q} = 1$.\n",
    "\n",
    "Suponha que $q$ representa uma [função densidade de probabilidade](https://en.wikipedia.org/wiki/Probability_mass_function). Queremos gerar uma variável aleatória discreta $X$ tal que $P\\{X=i\\} = q_i$. Em outras palavras, $X$ toma valores em $range(len(q))$ e $x = i$ com probabilidade $q[i]$.\n",
    "\n",
    "O algoritmo (transformação inversa) padrão é como segue:\n",
    "* Divida o intervalo $[0,1]$ em $n$ subintervalos $I_0, I_1,\\ ..., I_{n1}$ tal que o comprimento de $I_i$ é $q_i$\n",
    "* Sorteie uma variável aleatória uniforme $U \\in [0,1]$ e retorne $i$ tal que $U \\in I_i$\n",
    "\n",
    "A probabilidade de sortear $i$ é o comprimento de $I_i$, que é igual a $q_i$. Podemos implementar o algoritmo da seguinte forma:\n",
    "\n",
    "```python\n",
    "from random import uniform\n",
    "def sample(q):\n",
    "    a = 0.0\n",
    "    U = uniform(0, 1)\n",
    "    for i in range(len(q)):\n",
    "        if a < U <= a + q[i]:\n",
    "            return i\n",
    "        a = a + q[i]\n",
    "```\n",
    "\n",
    "Se você não entendeu como isso funciona, tente pensar usando um exemplo simple, tal como $q = [0.25,0.75]$. Ajuda se você esboçar os intervalos no papel.\n",
    "\n",
    "Seu exercício é aumentar a velocidade usando Numpy, evitando laços explícitos.\n",
    "\n",
    "Dica: use `np.searchsorted` e `np.cumsum`.\n",
    "Exemplificando de maneira gráfica.\n",
    "\n",
    "Existem 4 cores de bolas em um saco com 100 bolas.\n",
    "\n",
    "|Cor|Quantidade|Probabilidade|Probabilidade Acumulada|\n",
    "|-|-:|-:|-:|\n",
    "|Azul|25|0.25|0.25|\n",
    "|Verde|25|0.25|0.50|\n",
    "|Vermelha|35|0.35|0.85|\n",
    "|Preta|15|0.15|1.00|\n",
    "\n",
    "Realizamos uma amostragem aleatória das bolas:"
   ]
  },
  {
   "cell_type": "code",
   "execution_count": 151,
   "metadata": {
    "colab": {
     "base_uri": "https://localhost:8080/",
     "height": 195
    },
    "executionInfo": {
     "elapsed": 1148,
     "status": "ok",
     "timestamp": 1619702828379,
     "user": {
      "displayName": "Rafael Matos",
      "photoUrl": "https://lh3.googleusercontent.com/a-/AOh14GizvLjQZmGB4-KGWvSOV05hr_lUcZifkDol22tmbQ=s64",
      "userId": "08861151773596892595"
     },
     "user_tz": 180
    },
    "id": "f9HKMDspeSi7",
    "outputId": "6e0d6890-01ea-4574-db91-912905753e62"
   },
   "outputs": [
    {
     "name": "stdout",
     "output_type": "stream",
     "text": [
      "Variável aleatória uniforme U = 0.28329821037314684\n",
      "Bola sorteada: Verde\n",
      "CPU times: user 19.8 ms, sys: 1.98 ms, total: 21.8 ms\n",
      "Wall time: 21.4 ms\n",
      "Amostrado o intervalo 1\n"
     ]
    },
    {
     "data": {
      "image/png": "[encoded data removed]",
      "text/plain": [
       "<Figure size 1080x72 with 1 Axes>"
      ]
     },
     "metadata": {
      "needs_background": "light",
      "tags": []
     },
     "output_type": "display_data"
    }
   ],
   "source": [
    "from random import uniform\n",
    "def sample(q):\n",
    "    if np.sum(q) != 1:\n",
    "        raise ValueError('Não é função densidade de probabilidade.')\n",
    "    a = 0.0\n",
    "    U = uniform(0, 1)\n",
    "\n",
    "    # Gerando o gráfico explicativo\n",
    "    cs = list('bgrk')\n",
    "    plt.figure(figsize=(15,1))\n",
    "    plt.scatter(np.array(q).cumsum(), np.zeros_like(q), c=cs)\n",
    "    plt.xlim((0,1.1))\n",
    "    plt.box(False)\n",
    "    plt.grid(True)\n",
    "    plt.yticks([])\n",
    "    cores = ['Azul', 'Verde', 'Vermelha', 'Preta']\n",
    "    intervalos = np.array([0] + q).cumsum()\n",
    "    for i, cor in enumerate(cores):\n",
    "        plt.annotate(cor, (np.array(q).cumsum()[i], 0.01), c=cs[i])\n",
    "        plt.annotate('Intervalo %d'%i,\n",
    "                     ((intervalos[i]+intervalos[i+1])/2, 0.04),\n",
    "                     c=cs[i],\n",
    "                     ha='center')\n",
    "    for i in range(len(intervalos)-1):\n",
    "        plt.hlines(0, intervalos[i], intervalos[i+1], cs[i])\n",
    "    plt.plot(U, 0, marker='x', c='m')\n",
    "    plt.annotate('Var. Aleat.', (U, -0.025), c='m')\n",
    "    \n",
    "    print('Variável aleatória uniforme U =', U)\n",
    "    for i in range(len(q)):\n",
    "        if a < U <= a + q[i]:\n",
    "            print('Bola sorteada:', cores[i])\n",
    "            return i\n",
    "        a = a + q[i]\n",
    "\n",
    "d = [.25, .25, .35, .15]\n",
    "%time i = sample(d)\n",
    "print('Amostrado o intervalo',i)"
   ]
  },
  {
   "cell_type": "code",
   "execution_count": 152,
   "metadata": {
    "colab": {
     "base_uri": "https://localhost:8080/"
    },
    "executionInfo": {
     "elapsed": 1074,
     "status": "ok",
     "timestamp": 1619702838232,
     "user": {
      "displayName": "Rafael Matos",
      "photoUrl": "https://lh3.googleusercontent.com/a-/AOh14GizvLjQZmGB4-KGWvSOV05hr_lUcZifkDol22tmbQ=s64",
      "userId": "08861151773596892595"
     },
     "user_tz": 180
    },
    "id": "JJTv5-dcjw0-",
    "outputId": "72a61ef0-d506-4ff2-d847-d92d33c9f542"
   },
   "outputs": [
    {
     "name": "stdout",
     "output_type": "stream",
     "text": [
      "0.6707697616250938\n",
      "CPU times: user 947 µs, sys: 754 µs, total: 1.7 ms\n",
      "Wall time: 7.21 ms\n"
     ]
    },
    {
     "data": {
      "text/plain": [
       "2"
      ]
     },
     "execution_count": 152,
     "metadata": {
      "tags": []
     },
     "output_type": "execute_result"
    }
   ],
   "source": [
    "from random import uniform\n",
    "def sample(q):\n",
    "    a = 0.0\n",
    "    U = uniform(0, 1)\n",
    "    print(U)\n",
    "    return np.searchsorted(np.cumsum(d), U)\n",
    "    \n",
    "    # Parte do código eliminada\n",
    "    # for i in range(len(q)):\n",
    "    #     if a < U <= a + q[i]:\n",
    "    #         return i\n",
    "    #     a = a + q[i]\n",
    "\n",
    "d = [.25, .25, .35, .15]\n",
    "%time sample(d)"
   ]
  },
  {
   "cell_type": "markdown",
   "metadata": {
    "id": "in4CPbma7M30"
   },
   "source": [
    "## Exercício 6\n",
    "Simulando um sensor com erros de medida.\n",
    "Sabendo-se que um sensor está medindo a temperatura ($T$) de um tanque, conforme dados abaixo, calcule a taxa de variação da temperatura. O tempo é representado por $t$, expresso em minutos.\n",
    "\n",
    "O sensor possui um erro de 3%.\n",
    "\n",
    "Dica: Utilize o método [`lstsq`](https://numpy.org/doc/stable/reference/generated/numpy.linalg.lstsq.html)."
   ]
  },
  {
   "cell_type": "code",
   "execution_count": 153,
   "metadata": {
    "executionInfo": {
     "elapsed": 823,
     "status": "ok",
     "timestamp": 1619703001830,
     "user": {
      "displayName": "Rafael Matos",
      "photoUrl": "https://lh3.googleusercontent.com/a-/AOh14GizvLjQZmGB4-KGWvSOV05hr_lUcZifkDol22tmbQ=s64",
      "userId": "08861151773596892595"
     },
     "user_tz": 180
    },
    "id": "rNKyIfLIAFL7"
   },
   "outputs": [],
   "source": [
    "Temp = lambda t: (30 + t/10)+(np.random.randn(len(t))*(30 + t/10)*.03)"
   ]
  },
  {
   "cell_type": "code",
   "execution_count": 154,
   "metadata": {
    "colab": {
     "base_uri": "https://localhost:8080/",
     "height": 299
    },
    "executionInfo": {
     "elapsed": 1574,
     "status": "ok",
     "timestamp": 1619703002959,
     "user": {
      "displayName": "Rafael Matos",
      "photoUrl": "https://lh3.googleusercontent.com/a-/AOh14GizvLjQZmGB4-KGWvSOV05hr_lUcZifkDol22tmbQ=s64",
      "userId": "08861151773596892595"
     },
     "user_tz": 180
    },
    "id": "SGXQtd-ZBHep",
    "outputId": "760ae05d-8b0c-454e-db85-602203f23e2e"
   },
   "outputs": [
    {
     "data": {
      "image/png": "[encoded data removed]",
      "text/plain": [
       "<Figure size 432x288 with 1 Axes>"
      ]
     },
     "metadata": {
      "needs_background": "light",
      "tags": []
     },
     "output_type": "display_data"
    }
   ],
   "source": [
    "t = np.linspace(0, 100, 1000)\n",
    "T = Temp(t)\n",
    "\n",
    "plt.scatter(t, T, marker='.')\n",
    "plt.xlabel('$t$ [min]')\n",
    "plt.ylabel('$T$ [ºC]')\n",
    "plt.title('TT-1210003A')\n",
    "plt.grid()\n",
    "plt.show()"
   ]
  },
  {
   "cell_type": "code",
   "execution_count": 171,
   "metadata": {
    "colab": {
     "base_uri": "https://localhost:8080/",
     "height": 283
    },
    "executionInfo": {
     "elapsed": 1255,
     "status": "ok",
     "timestamp": 1619704052453,
     "user": {
      "displayName": "Rafael Matos",
      "photoUrl": "https://lh3.googleusercontent.com/a-/AOh14GizvLjQZmGB4-KGWvSOV05hr_lUcZifkDol22tmbQ=s64",
      "userId": "08861151773596892595"
     },
     "user_tz": 180
    },
    "id": "H16atC46mhy5",
    "outputId": "165ef42a-74cd-4a72-b5fa-471bfde910eb"
   },
   "outputs": [
    {
     "data": {
      "image/png": "[encoded data removed]",
      "text/plain": [
       "<Figure size 432x288 with 1 Axes>"
      ]
     },
     "metadata": {
      "needs_background": "light",
      "tags": []
     },
     "output_type": "display_data"
    }
   ],
   "source": [
    "A = np.vstack([t, np.ones(t.shape[0])]).T\n",
    "a, b = np.linalg.lstsq(A, T, rcond=None)[0]\n",
    "\n",
    "plt.scatter(t, T, marker='.')\n",
    "plt.plot([t[0], t[-1]], [a*t[0]+b, a*t[-1]+b], 'r')\n",
    "plt.xlabel('$t$ [min]')\n",
    "plt.ylabel('$T$ [C]')\n",
    "plt.legend(['TT-1210003A', '$T = %.2ft + %.2f$' % (a, b)])\n",
    "plt.grid()\n",
    "plt.show()"
   ]
  }
 ],
 "metadata": {
  "colab": {
   "collapsed_sections": [],
   "name": "1. Numpy_resolvido.ipynb",
   "provenance": [],
   "toc_visible": true
  },
  "kernelspec": {
   "display_name": "Python 3",
   "language": "python",
   "name": "python3"
  },
  "language_info": {
   "codemirror_mode": {
    "name": "ipython",
    "version": 3
   },
   "file_extension": ".py",
   "mimetype": "text/x-python",
   "name": "python",
   "nbconvert_exporter": "python",
   "pygments_lexer": "ipython3",
   "version": "3.7.9"
  },
  "toc": {
   "base_numbering": 1,
   "nav_menu": {},
   "number_sections": true,
   "sideBar": true,
   "skip_h1_title": false,
   "title_cell": "Table of Contents",
   "title_sidebar": "Contents",
   "toc_cell": false,
   "toc_position": {},
   "toc_section_display": true,
   "toc_window_display": false
  }
 },
 "nbformat": 4,
 "nbformat_minor": 1
}
